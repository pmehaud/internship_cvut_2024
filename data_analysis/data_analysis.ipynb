{
 "cells": [
  {
   "cell_type": "markdown",
   "metadata": {},
   "source": [
    "# Data Analysis"
   ]
  },
  {
   "cell_type": "code",
   "execution_count": null,
   "metadata": {},
   "outputs": [],
   "source": [
    "# Importation of libraries\n",
    "import numpy as np\n",
    "import pandas as pd\n",
    "import seaborn as sns\n",
    "import matplotlib.pyplot as plt\n",
    "from itertools import combinations"
   ]
  },
  {
   "cell_type": "code",
   "execution_count": null,
   "metadata": {},
   "outputs": [],
   "source": [
    "# Importing database\n",
    "df = pd.read_csv(\"../database/data.csv\", sep=\";\")\n",
    "df.head()"
   ]
  },
  {
   "cell_type": "markdown",
   "metadata": {},
   "source": [
    "## Important facts about database"
   ]
  },
  {
   "cell_type": "code",
   "execution_count": null,
   "metadata": {},
   "outputs": [],
   "source": [
    "sites = list(df[\"num_site\"])\n",
    "nb_sit = len(sites)\n",
    "\n",
    "regions = list(np.unique(df[\"nom_reg\"]))\n",
    "nb_reg = len(regions)\n",
    "\n",
    "departments = list(np.unique(df[\"nom_dep\"]))\n",
    "nb_dep = len(departments)\n",
    "\n",
    "cities = list(np.unique(df[\"nom_com\"]))\n",
    "nb_cit = len(cities)\n",
    "\n",
    "providers = list(np.unique(df[\"nom_op\"]))\n",
    "nb_pro = len(providers)\n",
    "\n",
    "# print(nb_sit) # number of sites\n",
    "\n",
    "# print(nb_sit/nb_reg) # mean number of sites per region\n",
    "\n",
    "# print(nb_sit/nb_dep) # mean number of sites per department\n",
    "\n",
    "# print(nb_sit/nb_cit) # mean number of sites per city\n",
    "\n",
    "# for reg in regions: # number of sites per region\n",
    "    # print(reg + \" : \" + str(list(df[\"nom_reg\"]).count(reg)))\n",
    "\n",
    "# for dep in departments: # number of sites per department\n",
    "#     print(dep + \" : \" + str(list(df[\"nom_dep\"]).count(dep)))\n",
    "\n",
    "# for pro in providers: # number of sites per provider\n",
    "#     print(pro + \" : \" + str(list(df[\"nom_op\"]).count(pro)))\n",
    "\n",
    "# for cit in cities: # number of sites per cities (for cities with a number >= 20)\n",
    "    # count = list(df[\"nom_com\"]).count(cit)\n",
    "#     if (count >= 20):\n",
    "#         nb_cit += 1\n",
    "#         print(cit + \" : \" + str(count))\n",
    "\n",
    "df_proPerReg = pd.DataFrame({\n",
    "    \"nom_reg\" : regions,\n",
    "    \"Free Mobile\" : [None for i in range(nb_reg)],\n",
    "    \"SFR\" : [None for i in range(nb_reg)],\n",
    "    \"Orange\" : [None for i in range(nb_reg)],\n",
    "    \"Bouygues Telecom\" : [None for i in range(nb_reg)],\n",
    "    \"Total\" : [None for i in range(nb_reg)]\n",
    "})\n",
    "\n",
    "for reg in regions: # number of sites per region per provider\n",
    "    for pro in providers:\n",
    "        count = list(df.loc[df[\"nom_reg\"]==reg, \"nom_op\"]).count(pro)\n",
    "        df_proPerReg.loc[df_proPerReg[\"nom_reg\"]==reg, pro] = count\n",
    "        # print(reg + \", \" + pro + \" : \" + str(count))\n",
    "    df_proPerReg.loc[df_proPerReg[\"nom_reg\"]==reg, \"Total\"] = list(df[\"nom_reg\"]).count(reg)\n",
    "\n",
    "df_proPerDep = pd.DataFrame({\n",
    "    \"nom_dep\" : departments,\n",
    "    \"Free Mobile\" : [None for i in range(nb_dep)],\n",
    "    \"SFR\" : [None for i in range(nb_dep)],\n",
    "    \"Orange\" : [None for i in range(nb_dep)],\n",
    "    \"Bouygues Telecom\" : [None for i in range(nb_dep)],\n",
    "    \"Total\" : [None for i in range(nb_dep)]\n",
    "})\n",
    "\n",
    "for dep in departments: # number of sites per department per provider\n",
    "    for pro in providers:\n",
    "        count = list(df.loc[df[\"nom_dep\"]==dep, \"nom_op\"]).count(pro)\n",
    "        df_proPerDep.loc[df_proPerDep[\"nom_dep\"]==dep, pro] = count\n",
    "    df_proPerDep.loc[df_proPerDep[\"nom_dep\"]==dep, \"Total\"] = list(df[\"nom_dep\"]).count(dep)"
   ]
  },
  {
   "cell_type": "code",
   "execution_count": null,
   "metadata": {},
   "outputs": [],
   "source": [
    "df_proPerReg"
   ]
  },
  {
   "cell_type": "code",
   "execution_count": null,
   "metadata": {},
   "outputs": [],
   "source": [
    "nb_sit_2g = sum(df[\"site_2g\"])\n",
    "print(nb_sit_2g)\n",
    "\n",
    "nb_sit_3g = sum(df[\"site_3g\"])\n",
    "print(nb_sit_3g)\n",
    "\n",
    "nb_sit_4g = sum(df[\"site_4g\"])\n",
    "print(nb_sit_4g)\n",
    "\n",
    "nb_sit_5g = sum(df[\"site_5g\"])\n",
    "print(nb_sit_5g)"
   ]
  },
  {
   "cell_type": "code",
   "execution_count": null,
   "metadata": {},
   "outputs": [],
   "source": [
    "total_bold = \"__Total__\""
   ]
  },
  {
   "cell_type": "code",
   "execution_count": null,
   "metadata": {},
   "outputs": [],
   "source": [
    "df_proAndTechno = pd.DataFrame({\n",
    "    \"Opérateur\" : [pro for pro in providers]\n",
    "})"
   ]
  },
  {
   "cell_type": "code",
   "execution_count": null,
   "metadata": {},
   "outputs": [],
   "source": [
    "# for pro in providers:\n",
    "#     df_proAndTechno = pd.concat([df_proAndTechno,pd.DataFrame({'Opérateur' : pro})])\n",
    "df_proAndTechno = pd.concat([df_proAndTechno,pd.DataFrame({'Opérateur' : total_bold},index=[4])])"
   ]
  },
  {
   "cell_type": "code",
   "execution_count": null,
   "metadata": {},
   "outputs": [],
   "source": [
    "df_proAndTechno"
   ]
  },
  {
   "cell_type": "code",
   "execution_count": null,
   "metadata": {},
   "outputs": [],
   "source": [
    "for i in range(2, 6): # techno 2, 3, 4, 5G\n",
    "    tmp = list(range(2, 6))\n",
    "    tmp.remove(i)\n",
    "    for pro in providers:\n",
    "        df_proAndTechno.loc[df_proAndTechno['Opérateur']==pro, f\"{i}G\"] = sum(df.loc[(df[f\"site_{tmp[0]}g\"]==0) & (df[f\"site_{tmp[1]}g\"]==0) & (df[f\"site_{tmp[2]}g\"]==0) & (df['nom_op']==pro), f\"site_{i}g\"])\n",
    "    df_proAndTechno.loc[df_proAndTechno['Opérateur']==total_bold, f\"{i}G\"] = sum(df_proAndTechno[f\"{i}G\"][:-1])"
   ]
  },
  {
   "cell_type": "code",
   "execution_count": null,
   "metadata": {},
   "outputs": [],
   "source": [
    "def create_tmp(cmb: combinations):\n",
    "    tmp = list(range(2, 6))\n",
    "    for rm_tmp in cmb:\n",
    "        tmp.remove(rm_tmp)\n",
    "    \n",
    "    return tmp"
   ]
  },
  {
   "cell_type": "code",
   "execution_count": null,
   "metadata": {},
   "outputs": [],
   "source": [
    "# for nb_comb in range(2, 5):\n",
    "for cmb in combinations(range(2, 6), 2):\n",
    "    tmp = create_tmp(cmb)\n",
    "    for pro in providers:\n",
    "        df_proAndTechno.loc[df_proAndTechno['Opérateur']==pro, f\"{cmb[0]}-{cmb[1]}G\"] = sum(df.loc[(df[f\"site_{tmp[0]}g\"]==0) & (df[f\"site_{tmp[1]}g\"]==0) & (df[f\"site_{cmb[0]}g\"]==1) & (df[f\"site_{cmb[1]}g\"]==1) & (df['nom_op']==pro), f\"site_{cmb[0]}g\"])\n",
    "    df_proAndTechno.loc[df_proAndTechno['Opérateur']==total_bold, f\"{cmb[0]}-{cmb[1]}G\"] = sum(df_proAndTechno[f\"{cmb[0]}-{cmb[1]}G\"][:-1])\n",
    "\n",
    "for cmb in combinations(range(2, 6), 3):\n",
    "    tmp = create_tmp(cmb)\n",
    "    for pro in providers:\n",
    "        df_proAndTechno.loc[df_proAndTechno['Opérateur']==pro, f\"{cmb[0]}-{cmb[1]}-{cmb[2]}G\"] = sum(df.loc[(df[f\"site_{tmp[0]}g\"]==0) & (df[f\"site_{cmb[0]}g\"]==1) & (df[f\"site_{cmb[1]}g\"]==1) & (df[f\"site_{cmb[2]}g\"]==1) & (df['nom_op']==pro), f\"site_{cmb[0]}g\"])\n",
    "    df_proAndTechno.loc[df_proAndTechno['Opérateur']==total_bold, f\"{cmb[0]}-{cmb[1]}-{cmb[2]}G\"] = sum(df_proAndTechno[f\"{cmb[0]}-{cmb[1]}-{cmb[2]}G\"][:-1])\n",
    "\n",
    "for cmb in combinations(range(2, 6), 4):\n",
    "    tmp = create_tmp(cmb)\n",
    "    for pro in providers:\n",
    "        df_proAndTechno.loc[df_proAndTechno['Opérateur']==pro, f\"{cmb[0]}-{cmb[1]}-{cmb[2]}-{cmb[3]}G\"] = sum(df.loc[(df[f\"site_{cmb[0]}g\"]==1) & (df[f\"site_{cmb[1]}g\"]==1) & (df[f\"site_{cmb[2]}g\"]==1) & (df[f\"site_{cmb[3]}g\"]==1) & (df['nom_op']==pro), f\"site_{cmb[0]}g\"])\n",
    "    df_proAndTechno.loc[df_proAndTechno['Opérateur']==total_bold, f\"{cmb[0]}-{cmb[1]}-{cmb[2]}-{cmb[3]}G\"] = sum(df_proAndTechno[f\"{cmb[0]}-{cmb[1]}-{cmb[2]}-{cmb[3]}G\"][:-1])"
   ]
  },
  {
   "cell_type": "code",
   "execution_count": null,
   "metadata": {},
   "outputs": [],
   "source": [
    "for i in df_proAndTechno.columns[1:]:\n",
    "    df_proAndTechno[i] = df_proAndTechno[i].astype(int)"
   ]
  },
  {
   "cell_type": "code",
   "execution_count": null,
   "metadata": {},
   "outputs": [],
   "source": [
    "df_proAndTechno[\"Total\"] = df_proAndTechno[df_proAndTechno.columns[1:]].sum(axis=1)"
   ]
  },
  {
   "cell_type": "code",
   "execution_count": null,
   "metadata": {},
   "outputs": [],
   "source": [
    "df_proAndTechno"
   ]
  },
  {
   "cell_type": "code",
   "execution_count": null,
   "metadata": {},
   "outputs": [],
   "source": [
    "df_techno = pd.DataFrame({\n",
    "    \"Opérateur\" : [pro for pro in providers]\n",
    "})\n",
    "df_techno = pd.concat([df_techno,pd.DataFrame({'Opérateur' : total_bold},index=[4])])\n",
    "for i in range(2, 6):\n",
    "    for pro in providers:\n",
    "        df_techno.loc[df_techno['Opérateur']==pro, f\"avec_{i}G\"] = sum(df.loc[df['nom_op']==pro, f\"site_{i}g\"])\n",
    "    df_techno.loc[df_techno['Opérateur']==total_bold, f\"avec_{i}G\"] = sum(df_techno[f\"avec_{i}G\"][:-1])\n",
    "df_techno[\"Total\"] = df_techno[df_techno.columns[1:]].sum(axis=1)\n",
    "for i in df_techno.columns[1:]:\n",
    "    df_techno[i] = df_techno[i].astype(int)\n",
    "df_techno"
   ]
  },
  {
   "cell_type": "markdown",
   "metadata": {},
   "source": [
    "## Barplots"
   ]
  },
  {
   "cell_type": "markdown",
   "metadata": {},
   "source": [
    "### Color palettes"
   ]
  },
  {
   "cell_type": "code",
   "execution_count": null,
   "metadata": {},
   "outputs": [],
   "source": [
    "color_pal_pro = {'Orange':'#fc5603','SFR':'#169e26','Bouygues Telecom':'#035afc', 'Free Mobile':'#dbd640'}\n",
    "# color_pal_tec = {\"2G\":' #4285F4',\"3G\":'#34A853',\"4G\":'#FBBC05', \"5G\":' #EA4335'}"
   ]
  },
  {
   "cell_type": "markdown",
   "metadata": {},
   "source": [
    "### DataFrame creation for easier plots"
   ]
  },
  {
   "cell_type": "code",
   "execution_count": null,
   "metadata": {},
   "outputs": [],
   "source": [
    "def easyPlotting_df(df):\n",
    "    array_index = [list(df['Opérateur'][:-1]), list(df.columns[1:])]\n",
    "    index=pd.MultiIndex.from_product(array_index, names=[\"nom_op\", \"techno\"])\n",
    "\n",
    "    df_easy = pd.DataFrame(index=index)\n",
    "    for pro in providers:\n",
    "        for techno in list(df.columns[1:]):\n",
    "            df_easy.loc[(pro,techno), 'number'] = df.loc[df['Opérateur']==pro, techno].iloc[0]\n",
    "    df_easy['number'] = df_easy['number'].astype(int)\n",
    "\n",
    "    return df_easy"
   ]
  },
  {
   "cell_type": "markdown",
   "metadata": {},
   "source": [
    "### Definition of a helpful fonction for plotting the dataFrames above"
   ]
  },
  {
   "cell_type": "code",
   "execution_count": null,
   "metadata": {},
   "outputs": [],
   "source": [
    "def pretty_barPlot(df, **kwargs):\n",
    "    plot_title = kwargs.get('save_as', None)\n",
    "    \n",
    "    sns.set_context('paper') # size of ticks labels\n",
    "    sns.set_theme(style=\"whitegrid\") # style of the backgroung\n",
    "    g = sns.catplot(\n",
    "        data=easyPlotting_df(df),\n",
    "        kind='bar',\n",
    "        x='nom_op',\n",
    "        y='number',\n",
    "        col='techno',\n",
    "        hue='nom_op',\n",
    "        palette=color_pal_pro\n",
    "    )\n",
    "    g.tick_params(axis='x', rotation=15)\n",
    "    \n",
    "    if(plot_title):\n",
    "        plt.savefig(\"../plot_saving/\" + plot_title + \".png\", dpi=100)"
   ]
  },
  {
   "cell_type": "markdown",
   "metadata": {},
   "source": [
    "### Number of sites with at least the $x$ G technology ($x\\in\\{2,\\dots,5\\}$)"
   ]
  },
  {
   "cell_type": "code",
   "execution_count": null,
   "metadata": {},
   "outputs": [],
   "source": [
    "resolution = 100"
   ]
  },
  {
   "cell_type": "code",
   "execution_count": null,
   "metadata": {},
   "outputs": [],
   "source": [
    "pretty_barPlot(df_techno.loc[:, :'avec_5G'], save_as='avec_techno')"
   ]
  },
  {
   "cell_type": "code",
   "execution_count": null,
   "metadata": {},
   "outputs": [],
   "source": [
    "pretty_barPlot(df_proAndTechno.iloc[:, [0,1,2,3,4]])\n",
    "plt.savefig(\"../local/avancement/images_pr_diapo/xG.png\", dpi=resolution)\n",
    "pretty_barPlot(df_proAndTechno.iloc[:, [0,5,6,7]])\n",
    "plt.savefig(\"../local/avancement/images_pr_diapo/2-xG.png\", dpi=resolution)\n",
    "pretty_barPlot(df_proAndTechno.iloc[:, [0,8,9]])\n",
    "plt.savefig(\"../local/avancement/images_pr_diapo/3-xG.png\", dpi=resolution)\n",
    "pretty_barPlot(df_proAndTechno.iloc[:, [0,10]])\n",
    "plt.savefig(\"../local/avancement/images_pr_diapo/4-5G.png\", dpi=resolution)\n",
    "pretty_barPlot(df_proAndTechno.iloc[:, [0,11,12,13]])\n",
    "plt.savefig(\"../local/avancement/images_pr_diapo/2-x-yG.png\", dpi=resolution)\n",
    "pretty_barPlot(df_proAndTechno.iloc[:, [0,14]])\n",
    "plt.savefig(\"../local/avancement/images_pr_diapo/3-4-5G.png\", dpi=resolution)\n",
    "pretty_barPlot(df_proAndTechno.iloc[:, [0,15,16]])\n",
    "plt.savefig(\"../local/avancement/images_pr_diapo/all-tot.png\", dpi=resolution)"
   ]
  },
  {
   "cell_type": "markdown",
   "metadata": {},
   "source": [
    "## File exportation"
   ]
  },
  {
   "cell_type": "code",
   "execution_count": null,
   "metadata": {},
   "outputs": [],
   "source": [
    "results = open(\"data_numbers.md\", \"w\")\n",
    "\n",
    "results.write(\"# Analyse des données\\n\")\n",
    "\n",
    "results.write(\"## Description des champs :\\n cf. https://data.arcep.fr/mobile/sites/\\n\")\n",
    "\n",
    "results.write(\"## A quoi ressemble la base ?\\n\")\n",
    "results.write(df.head().iloc[:,:10].to_markdown(index=False) + \"\\n\")\n",
    "results.write(\"\\n\" + df.head().iloc[:,10:20].to_markdown(index=False) + \"\\n\")\n",
    "results.write(\"\\n\" + df.head().iloc[:,20:26].to_markdown(index=False) + \"\\n\")\n",
    "results.write(\"\\n\" + df.head().iloc[:,26:].to_markdown(index=False) + \"\\n\")\n",
    "\n",
    "results.write(\"## Chiffres sur les stations de base :\\n\")\n",
    "\n",
    "results.write(\"### Chiffres généraux :\\n\")\n",
    "results.write(\"|||\\n|---|---:|\\n\")\n",
    "results.write(\"| Stations de base | \" + str(nb_sit) + \" | \\n\")\n",
    "results.write(\"| Stations de base/région (moyenne) | \" + str(round(nb_sit/nb_reg)) + \" |\\n\")\n",
    "results.write(\"| Stations de base/département (moyenne) | \" + str(round(nb_sit/nb_dep)) + \" |\\n\")\n",
    "results.write(\"| Stations de base/ville (moyenne) | \" + str(round(nb_sit/nb_cit)) + \" |\\n\")\n",
    "\n",
    "results.write(\"### Stations par opérateurs :\\n\")\n",
    "results.write(\"|Opérateur|Nb de stations|\\n|---|---:|\\n\")\n",
    "for pro in np.unique(providers):\n",
    "    results.write(\"| \" + pro + \" | \" + str(list(df[\"nom_op\"]).count(pro)) + \" | \\n\")\n",
    "\n",
    "results.write(\"### Stations par régions, par opérateurs :\\n\")\n",
    "results.write(df_proPerReg.to_markdown(index=False) + \"\\n\")\n",
    "\n",
    "results.write(\"### Stations par départements, par opérateurs :\\n\")\n",
    "results.write(df_proPerDep.to_markdown(index=False) + \"\\n\")\n",
    "\n",
    "results.write(\"### Type de réseau :\\n\")\n",
    "results.write(df_techno.to_markdown(index=False) + \"\\n\")\n",
    "\n",
    "results.write(\"### Stations par technologies, par opérateurs :\\n\")\n",
    "results.write(df_proAndTechno.to_markdown(index=False) + \"\\n\")\n",
    "\n",
    "results.close()"
   ]
  },
  {
   "cell_type": "markdown",
   "metadata": {},
   "source": [
    "# Contents of the database"
   ]
  },
  {
   "cell_type": "code",
   "execution_count": null,
   "metadata": {},
   "outputs": [],
   "source": [
    "# print(df.dtypes)"
   ]
  },
  {
   "cell_type": "code",
   "execution_count": null,
   "metadata": {},
   "outputs": [],
   "source": [
    "# for col_name in df.columns:\n",
    "#     print(col_name + \" : \" + str(df[col_name].dtype) + \" (\" + str(df[col_name].notnull().count()) + \")\")"
   ]
  }
 ],
 "metadata": {
  "kernelspec": {
   "display_name": "Python 3",
   "language": "python",
   "name": "python3"
  },
  "language_info": {
   "codemirror_mode": {
    "name": "ipython",
    "version": 3
   },
   "file_extension": ".py",
   "mimetype": "text/x-python",
   "name": "python",
   "nbconvert_exporter": "python",
   "pygments_lexer": "ipython3",
   "version": "3.10.12"
  }
 },
 "nbformat": 4,
 "nbformat_minor": 2
}
