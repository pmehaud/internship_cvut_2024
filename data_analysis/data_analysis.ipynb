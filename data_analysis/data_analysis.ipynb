{
 "cells": [
  {
   "cell_type": "markdown",
   "metadata": {},
   "source": [
    "# Data Analysis"
   ]
  },
  {
   "cell_type": "code",
   "execution_count": null,
   "metadata": {},
   "outputs": [],
   "source": [
    "# Importation of libraries\n",
    "import numpy as np\n",
    "import pandas as pd\n",
    "import tabulate"
   ]
  },
  {
   "cell_type": "code",
   "execution_count": null,
   "metadata": {},
   "outputs": [],
   "source": [
    "# Importing database\n",
    "df = pd.read_csv(\"../database/data.csv\", sep=\";\")\n",
    "df.head()"
   ]
  },
  {
   "cell_type": "markdown",
   "metadata": {},
   "source": [
    "## Important facts about database"
   ]
  },
  {
   "cell_type": "code",
   "execution_count": null,
   "metadata": {},
   "outputs": [],
   "source": [
    "sites = list(df[\"num_site\"])\n",
    "nb_sit = len(sites)\n",
    "\n",
    "regions = list(df[\"nom_reg\"])\n",
    "nb_reg = len(np.unique(regions))\n",
    "\n",
    "departments = list(df[\"nom_dep\"])\n",
    "nb_dep = len(np.unique(departments))\n",
    "\n",
    "cities = list(df[\"nom_com\"])\n",
    "nb_cit = len(np.unique(cities))\n",
    "\n",
    "providers = list(df[\"nom_op\"])\n",
    "nb_pro = len(np.unique(providers))\n",
    "\n",
    "# print(nb_sit) # number of sites\n",
    "\n",
    "# print(nb_sit/nb_reg) # mean number of sites per region\n",
    "\n",
    "# print(nb_sit/nb_dep) # mean number of sites per department\n",
    "\n",
    "# print(nb_sit/nb_cit) # mean number of sites per city\n",
    "\n",
    "# for reg in np.unique(regions): # number of sites per region\n",
    "#     print(reg + \" : \" + str(regions.count(reg)))\n",
    "\n",
    "# for dep in np.unique(departments): # number of sites per department\n",
    "#     print(dep + \" : \" + str(departments.count(dep)))\n",
    "\n",
    "# for pro in np.unique(providers): # number of sites per provider\n",
    "#     print(pro + \" : \" + str(providers.count(pro)))\n",
    "\n",
    "# for cit in np.unique(cities): # number of sites per cities (for cities with a number >= 20)\n",
    "#     count = cities.count(cit)\n",
    "#     if (count >= 20):\n",
    "#         nb_cit += 1\n",
    "#         print(cit + \" : \" + str(count))\n",
    "\n",
    "df_proPerReg = pd.DataFrame({\n",
    "    \"nom_reg\" : np.unique(regions),\n",
    "    \"Free Mobile\"   : [None for i in range(nb_reg)],\n",
    "    \"SFR\"   : [None for i in range(nb_reg)],\n",
    "    \"Orange\"   : [None for i in range(nb_reg)],\n",
    "    \"Bouygues Telecom\"   : [None for i in range(nb_reg)],\n",
    "    \"Total\"   : [None for i in range(nb_reg)]\n",
    "})\n",
    "\n",
    "for reg in np.unique(regions): # number of sites per region per provider\n",
    "    for pro in np.unique(providers):\n",
    "        count = list(df.loc[df[\"nom_reg\"]==reg, \"nom_op\"]).count(pro)\n",
    "        df_proPerReg.loc[df_proPerReg[\"nom_reg\"]==reg, pro] = count\n",
    "        # print(reg + \", \" + pro + \" : \" + str(count))\n",
    "    df_proPerReg.loc[df_proPerReg[\"nom_reg\"]==reg, \"Total\"] = regions.count(reg)\n",
    "\n",
    "df_proPerDep = pd.DataFrame({\n",
    "    \"nom_dep\" : np.unique(departments),\n",
    "    \"Free Mobile\"   : [None for i in range(nb_dep)],\n",
    "    \"SFR\"   : [None for i in range(nb_dep)],\n",
    "    \"Orange\"   : [None for i in range(nb_dep)],\n",
    "    \"Bouygues Telecom\"   : [None for i in range(nb_dep)],\n",
    "    \"Total\"   : [None for i in range(nb_dep)]\n",
    "})\n",
    "\n",
    "for dep in np.unique(departments): # number of sites per department per provider\n",
    "    for pro in np.unique(providers):\n",
    "        count = list(df.loc[df[\"nom_dep\"]==dep, \"nom_op\"]).count(pro)\n",
    "        df_proPerDep.loc[df_proPerDep[\"nom_dep\"]==dep, pro] = count\n",
    "    df_proPerDep.loc[df_proPerDep[\"nom_dep\"]==dep, \"Total\"] = departments.count(dep)"
   ]
  },
  {
   "cell_type": "code",
   "execution_count": null,
   "metadata": {},
   "outputs": [],
   "source": [
    "df_proPerReg"
   ]
  },
  {
   "cell_type": "code",
   "execution_count": null,
   "metadata": {},
   "outputs": [],
   "source": [
    "nb_sit_2g = sum(df[\"site_2g\"])\n",
    "print(nb_sit_2g)\n",
    "\n",
    "nb_sit_3g = sum(df[\"site_3g\"])\n",
    "print(nb_sit_3g)\n",
    "\n",
    "nb_sit_4g = sum(df[\"site_4g\"])\n",
    "print(nb_sit_4g)\n",
    "\n",
    "nb_sit_5g = sum(df[\"site_5g\"])\n",
    "print(nb_sit_5g)"
   ]
  },
  {
   "cell_type": "code",
   "execution_count": null,
   "metadata": {},
   "outputs": [],
   "source": [
    "results = open(\"data_numbers.md\", \"w\")\n",
    "\n",
    "results.write(\"# Analyse des données\\n\")\n",
    "\n",
    "results.write(\"## Description des champs :\\n cf. https://data.arcep.fr/mobile/sites/\\n\")\n",
    "\n",
    "results.write(\"## Chiffres sur les stations de base :\\n\")\n",
    "\n",
    "results.write(\"### Chiffres généraux :\\n\")\n",
    "results.write(\"|||\\n|---|---:|\\n\")\n",
    "results.write(\"| Stations de base | \" + str(nb_sit) + \" | \\n\")\n",
    "results.write(\"| Stations de base/région (moyenne) | \" + str(round(nb_sit/nb_reg)) + \" |\\n\")\n",
    "results.write(\"| Stations de base/département (moyenne) | \" + str(round(nb_sit/nb_dep)) + \" |\\n\")\n",
    "results.write(\"| Stations de base/ville (moyenne) | \" + str(round(nb_sit/nb_cit)) + \" |\\n\")\n",
    "\n",
    "results.write(\"### Stations par opérateurs :\\n\")\n",
    "results.write(\"|Opérateur|Nb de stations|\\n|---|---:|\\n\")\n",
    "for pro in np.unique(providers):\n",
    "    results.write(\"| \" + pro + \" | \" + str(providers.count(pro)) + \" | \\n\")\n",
    "\n",
    "results.write(\"### Stations par régions, par opérateurs :\\n\")\n",
    "results.write(df_proPerReg.to_markdown(index=False) + \"\\n\")\n",
    "\n",
    "results.write(\"### Stations par départements, par opérateurs :\\n\")\n",
    "results.write(df_proPerDep.to_markdown(index=False) + \"\\n\")\n",
    "\n",
    "results.write(\"### Type de réseau :\\n\")\n",
    "results.write(\"|Type de réseau|Nb de stations|\\n|---|---:|\\n\")\n",
    "results.write(\"| 2g | \" + str(nb_sit_2g) + \" | \\n\")\n",
    "results.write(\"| 3g | \" + str(nb_sit_3g) + \" | \\n\")\n",
    "results.write(\"| 4g | \" + str(nb_sit_4g) + \" | \\n\")\n",
    "results.write(\"| 5g | \" + str(nb_sit_5g) + \" | \\n\")\n",
    "\n",
    "results.close()"
   ]
  },
  {
   "cell_type": "markdown",
   "metadata": {},
   "source": [
    "# Contents of the database"
   ]
  },
  {
   "cell_type": "code",
   "execution_count": null,
   "metadata": {},
   "outputs": [],
   "source": [
    "# print(df.dtypes)"
   ]
  },
  {
   "cell_type": "code",
   "execution_count": null,
   "metadata": {},
   "outputs": [],
   "source": [
    "# for col_name in df.columns:\n",
    "#     print(col_name + \" : \" + str(df[col_name].dtype) + \" (\" + str(df[col_name].notnull().count()) + \")\")"
   ]
  }
 ],
 "metadata": {
  "kernelspec": {
   "display_name": "Python 3",
   "language": "python",
   "name": "python3"
  },
  "language_info": {
   "codemirror_mode": {
    "name": "ipython",
    "version": 3
   },
   "file_extension": ".py",
   "mimetype": "text/x-python",
   "name": "python",
   "nbconvert_exporter": "python",
   "pygments_lexer": "ipython3",
   "version": "3.10.12"
  }
 },
 "nbformat": 4,
 "nbformat_minor": 2
}
