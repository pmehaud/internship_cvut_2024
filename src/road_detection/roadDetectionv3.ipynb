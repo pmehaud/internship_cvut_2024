{
 "cells": [
  {
   "cell_type": "code",
   "execution_count": null,
   "metadata": {},
   "outputs": [],
   "source": [
    "import os\n",
    "import sys\n",
    "\n",
    "# Get the current working directory\n",
    "current_dir = os.getcwd()\n",
    "\n",
    "# Get the parent directory of `maps` (which is `src`)\n",
    "parent_dir = os.path.abspath(os.path.join(current_dir, os.pardir))\n",
    "\n",
    "# Add `src` to the module search path\n",
    "if parent_dir not in sys.path:\n",
    "    sys.path.append(parent_dir)"
   ]
  },
  {
   "cell_type": "code",
   "execution_count": null,
   "metadata": {},
   "outputs": [],
   "source": [
    "import pandas as pd\n",
    "import numpy as np\n",
    "import folium.features\n",
    "from sklearn.cluster import DBSCAN\n",
    "from sklearn.cluster import HDBSCAN\n",
    "from sklearn.cluster import OPTICS\n",
    "from sklearn.linear_model import LinearRegression \n",
    "from sklearn.preprocessing import PolynomialFeatures\n",
    "from pyproj import Transformer\n",
    "import seaborn as sns\n",
    "import networkx as nx\n",
    "from scipy.spatial import Delaunay\n",
    "from itertools import combinations\n",
    "import matplotlib.pyplot as plt\n",
    "from sklearn.neighbors import NearestNeighbors\n",
    "import pyproj\n",
    "\n",
    "\n",
    "from python_scripts.road_detection.road_utils import *\n",
    "from python_scripts.miscellaneaous.data_processing import extract_data\n",
    "from python_scripts.graphs.graphs_creation import delaunay_graph\n",
    "from python_scripts.city.city_utils import plotMapWithColors, mean_distance_choice, mean_distance_to_NN\n",
    "from python_scripts.ihm.maps.mapUtils import *\n",
    "from python_scripts.neighbours_criteria.enhanced_criteria import km_distance\n",
    "from python_scripts.neighbours_criteria.simple_criteria import distance_criterion, angle_criterion\n"
   ]
  },
  {
   "cell_type": "code",
   "execution_count": null,
   "metadata": {},
   "outputs": [],
   "source": [
    "df = pd.read_csv(\"../../database/data.csv\", sep=\";\", decimal=',')"
   ]
  },
  {
   "cell_type": "code",
   "execution_count": null,
   "metadata": {},
   "outputs": [],
   "source": [
    "df_extracted = extract_data(df, provider='Orange', techno='4g')#, region='Normandie') #Occitanie, Île-de-France\n",
    "G, pos = delaunay_graph(df_extracted)"
   ]
  },
  {
   "cell_type": "code",
   "execution_count": null,
   "metadata": {},
   "outputs": [],
   "source": [
    "mean_distances = mean_distance_to_NN(df_extracted[['x', 'y']], n_neighbours=3) # 3 to have more neighbours"
   ]
  },
  {
   "cell_type": "code",
   "execution_count": null,
   "metadata": {},
   "outputs": [],
   "source": [
    "cityStationsLabels = []\n",
    "\n",
    "for station in mean_distances.index:\n",
    "    if(mean_distances[station]<=0.5):\n",
    "        cityStationsLabels.append(station)"
   ]
  },
  {
   "cell_type": "code",
   "execution_count": null,
   "metadata": {},
   "outputs": [],
   "source": [
    "cityLabels = pd.Series(DBSCAN(eps=3000, min_samples=1).fit(df_extracted[['x','y']].loc[cityStationsLabels]).labels_, index = cityStationsLabels)\n",
    "clusters = cityLabels.unique()\n",
    "num_clusters = len(clusters) - (1 if -1 in clusters else 0)"
   ]
  },
  {
   "cell_type": "code",
   "execution_count": null,
   "metadata": {},
   "outputs": [],
   "source": [
    "cityBsStationCount = cityLabels.value_counts()\n",
    "\n",
    "# bigCitiesClusters = cityBsStationCount[cityBsStationCount >= 27].index\n",
    "# littleCitiesClusters = cityBsStationCount[cityBsStationCount < 27].index\n"
   ]
  },
  {
   "cell_type": "code",
   "execution_count": null,
   "metadata": {},
   "outputs": [],
   "source": [
    "cityCenters = {cityLabel : (0,0) for cityLabel in cityLabels.unique()}\n",
    "for bs_id, x, y in df_extracted[['x', 'y']].loc[cityStationsLabels].itertuples():\n",
    "    coords = cityCenters.get(cityLabels[bs_id])\n",
    "    cityCenters[cityLabels[bs_id]] = (x + coords[0], y + coords[1])\n",
    "\n",
    "for cluster in clusters:\n",
    "    cityCenters[cluster] = cityCenters.get(cluster) / cityBsStationCount[cluster]"
   ]
  },
  {
   "cell_type": "code",
   "execution_count": null,
   "metadata": {},
   "outputs": [],
   "source": [
    "array1 = np.array(list(cityCenters.values())).reshape(-1,2)\n",
    "array2 = np.array(df_extracted[['x', 'y']].values)\n",
    "\n",
    "# Initialize the NearestNeighbors model and fit it to list2\n",
    "nbrs = NearestNeighbors(n_neighbors=1, algorithm='auto').fit(array2)\n",
    "\n",
    "# Find the nearest neighbors for each point in list1\n",
    "distances, indices = nbrs.kneighbors(array1)\n",
    "\n",
    "cityNames = {cityId : df_extracted['nom_com'].loc[df_extracted.index[indice][0]] for (cityId, indice) in zip(cityCenters.keys(), indices)}\n",
    "\n"
   ]
  },
  {
   "cell_type": "code",
   "execution_count": null,
   "metadata": {},
   "outputs": [],
   "source": [
    "def rgb_to_hex(rgb):\n",
    "        return '#{:02x}{:02x}{:02x}'.format(int(rgb[0]*255), int(rgb[1]*255), int(rgb[2]*255))\n",
    "\n",
    "def labelToColor(clustId, clusters, palette):   \n",
    "    if (clustId == -1):\n",
    "        return 'gray'\n",
    "    else:\n",
    "        return rgb_to_hex(palette[list(clusters).index(clustId)- (1 if -1 in clusters else 0)])"
   ]
  },
  {
   "cell_type": "code",
   "execution_count": null,
   "metadata": {},
   "outputs": [],
   "source": [
    "palette = sns.color_palette(\"hsv\", num_clusters)\n",
    "colors = cityLabels.apply(lambda clustId : labelToColor(clustId, clusters, palette))"
   ]
  },
  {
   "cell_type": "code",
   "execution_count": null,
   "metadata": {},
   "outputs": [],
   "source": [
    "map = folium.Map(location=np.mean(df_extracted[['latitude','longitude']].loc[cityStationsLabels], axis=0), zoom_start=7, tiles=\"Cartodb Positron\")\n",
    "citiesLayer = folium.FeatureGroup(f\"Cities\").add_to(map)\n",
    "cityCenterLayer = folium.FeatureGroup(f\"Cities centers\").add_to(map)\n",
    "cityNameLayer = folium.FeatureGroup(f\"Cities names\").add_to(map)\n",
    "\n",
    "for bs_id, x, y in df_extracted[['latitude', 'longitude']].loc[cityStationsLabels].itertuples():\n",
    "    color = colors[bs_id]\n",
    "    dot = folium.CircleMarker(location=[x, y], color=color, radius=1, popup=cityNames.get(cityLabels.get(bs_id)))\n",
    "    citiesLayer.add_child(dot)\n",
    "\n",
    "\n",
    "for cluster in clusters:\n",
    "    centerXY = cityCenters[cluster]\n",
    "\n",
    "    lambert93 = pyproj.CRS(\"EPSG:2154\")  # Lambert 93\n",
    "    wgs84 = pyproj.CRS(\"EPSG:4326\")       # WGS84\n",
    "    transformer = pyproj.Transformer.from_crs(lambert93, wgs84, always_xy=True)\n",
    "\n",
    "    centerLl = transformer.transform(centerXY[0], centerXY[1])[::-1]\n",
    "\n",
    "    dot = folium.CircleMarker(location=centerLl, color='black', fill_opacity = 1, fill=True, radius=4, popup=cityNames.get(cluster))\n",
    "    cityCenterLayer.add_child(dot)\n",
    "\n",
    "\n",
    "    offset = np.array([0, 0.08])\n",
    "    folium.map.Marker(centerLl + offset, icon=folium.features.DivIcon(icon_size=(250,36), icon_anchor=(0,0),html=f'<div style=\"font-size: 12pt\">{cityNames.get(cluster)}</div>')\n",
    "    ).add_to(cityNameLayer)\n",
    "\n",
    "folium.LayerControl().add_to(map)\n",
    "\n",
    "map.save(f\"../../out/maps/DetectCitiesWithName.html\")"
   ]
  },
  {
   "cell_type": "code",
   "execution_count": null,
   "metadata": {},
   "outputs": [],
   "source": [
    "seuil = 100\n",
    "\n",
    "G = nx.Graph()\n",
    "\n",
    "for cluster in clusters:\n",
    "    G.add_node(cluster, pos=cityCenters.get(cluster))\n",
    "\n",
    "pos = nx.get_node_attributes(G, 'pos')  \n",
    "for node1 in clusters:\n",
    "    for node2 in clusters:\n",
    "        if(node1 > node2):\n",
    "            loc1 = np.array(cityCenters.get(node1))\n",
    "            loc2 = np.array(cityCenters.get(node2))\n",
    "            dist = np.linalg.norm(loc2-loc1)/1000\n",
    "            weight = (np.min([cityBsStationCount.get(node1), cityBsStationCount.get(node2)]))/(dist)\n",
    "            if(weight>=0.1):\n",
    "                G.add_edge(node1, node2, weight=weight)\n",
    "\n",
    "node_sizes = [cityBsStationCount.loc[node] for node in G.nodes]\n",
    "\n",
    "G = angle_criterion(G, pos={cluster : transformer.transform(centerXY[0], centerXY[1])[::-1] for (cluster, centerXY) in zip(list(cityCenters.keys()), list(cityCenters.values()))}, min_angle=15)\n",
    "\n",
    "\n",
    "print(G.edges)\n",
    "nx.draw(G, pos, node_size = node_sizes)\n",
    "plt.savefig(\"../../../weekly_slides/images/road_detection/edges_weight_angle_filtration.png\")"
   ]
  },
  {
   "cell_type": "code",
   "execution_count": null,
   "metadata": {},
   "outputs": [],
   "source": [
    "list(cityCenters.values())"
   ]
  },
  {
   "cell_type": "code",
   "execution_count": null,
   "metadata": {},
   "outputs": [],
   "source": [
    "nodes_weights = np.reshape([(cityNames.get(u), w) for u, w in G.nodes(data='weight')], (-1,2))\n",
    "nodes_weights"
   ]
  },
  {
   "cell_type": "code",
   "execution_count": null,
   "metadata": {},
   "outputs": [],
   "source": [
    "list(cityNames.keys())[list(cityNames.values()).index('Lyon')]"
   ]
  },
  {
   "cell_type": "code",
   "execution_count": null,
   "metadata": {},
   "outputs": [],
   "source": [
    "cityNames.get(6)\n",
    "cityNames.get(9)"
   ]
  },
  {
   "cell_type": "code",
   "execution_count": null,
   "metadata": {},
   "outputs": [],
   "source": [
    "node1 = list(cityNames.keys())[list(cityNames.values()).index('Toulouse')]\n",
    "node2 = list(cityNames.keys())[list(cityNames.values()).index('Bordeaux')]\n",
    "loc1, loc2 = df_extracted[['x','y']].loc[[node1, node2]].values\n",
    "loc1 = np.array(loc1)\n",
    "loc2 = np.array(loc2)\n",
    "\n",
    "dist = np.linalg.norm(loc2-loc1)/1000\n",
    "print(dist)\n",
    "\n",
    "print(np.min([cityBsStationCount.get(node1), cityBsStationCount.get(node2)]))\n",
    "weight = (np.min([cityBsStationCount.get(node1), cityBsStationCount.get(node2)])**4)/(dist**3)\n",
    "print(weight)"
   ]
  }
 ],
 "metadata": {
  "language_info": {
   "name": "python"
  }
 },
 "nbformat": 4,
 "nbformat_minor": 2
}
