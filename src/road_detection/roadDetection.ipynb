{
 "cells": [
  {
   "cell_type": "code",
   "execution_count": null,
   "metadata": {},
   "outputs": [],
   "source": [
    "import os\n",
    "import sys\n",
    "\n",
    "# Obtenir le répertoire de travail courant\n",
    "current_dir = os.getcwd()\n",
    "\n",
    "# Obtenir le répertoire parent de `maps` (qui est `src`)\n",
    "parent_dir = os.path.abspath(os.path.join(current_dir, os.pardir))\n",
    "\n",
    "# Ajouter `src` au chemin de recherche des modules\n",
    "if parent_dir not in sys.path:\n",
    "    sys.path.append(parent_dir)"
   ]
  },
  {
   "cell_type": "code",
   "execution_count": null,
   "metadata": {},
   "outputs": [],
   "source": [
    "import pandas as pd\n",
    "import numpy as np\n",
    "import folium.features\n",
    "from sklearn.cluster import DBSCAN\n",
    "from sklearn.cluster import HDBSCAN\n",
    "from sklearn.cluster import OPTICS\n",
    "from sklearn.linear_model import LinearRegression \n",
    "from sklearn.preprocessing import PolynomialFeatures\n",
    "from pyproj import Transformer\n",
    "import seaborn as sns\n",
    "\n",
    "from python_scripts.road_detection.road_utils import *\n",
    "from python_scripts.miscellaneaous.data_processing import extract_data\n",
    "from python_scripts.graphs.graphs_creation import delaunay_graph\n",
    "from python_scripts.city.city_utils import plotMapWithColors, mean_distance_choice, mean_distance_to_NN\n",
    "from python_scripts.ihm.maps.mapUtils import *"
   ]
  },
  {
   "cell_type": "code",
   "execution_count": null,
   "metadata": {},
   "outputs": [],
   "source": [
    "pwdMap=\"../../out/maps/\""
   ]
  },
  {
   "cell_type": "code",
   "execution_count": null,
   "metadata": {},
   "outputs": [],
   "source": [
    "df = pd.read_csv(\"../../database/data.csv\", sep=\";\", decimal=',')"
   ]
  },
  {
   "cell_type": "code",
   "execution_count": null,
   "metadata": {},
   "outputs": [],
   "source": [
    "df_extracted = extract_data(df, provider='Orange', techno='4g')#, region='Normandie') #Occitanie, Île-de-France\n",
    "G, pos = delaunay_graph(df_extracted)"
   ]
  },
  {
   "cell_type": "code",
   "execution_count": null,
   "metadata": {},
   "outputs": [],
   "source": [
    "mean_distances = mean_distance_to_NN(df_extracted[['x', 'y']], n_neighbours=3) # 3 to have more neighbours"
   ]
  },
  {
   "cell_type": "code",
   "execution_count": null,
   "metadata": {},
   "outputs": [],
   "source": [
    "mean_distance_params = {\n",
    "    ']0, 1] km': {'colour': '#030464', 'angle': 40, 'distance': 2},\n",
    "    ']1, 2] km': {'colour': '#069AF3', 'angle': 30, 'distance': 5},\n",
    "    ']2, 4] km': {'colour': '#02D4BB', 'angle': 25, 'distance': 10},\n",
    "    ']4, inf] km': {'colour': '#0DBF75', 'angle': 15, 'distance': 15},\n",
    "}"
   ]
  },
  {
   "cell_type": "code",
   "execution_count": null,
   "metadata": {},
   "outputs": [],
   "source": [
    "countryside = []\n",
    "for station in mean_distances.index:\n",
    "    if(mean_distances[station]>2):\n",
    "        countryside.append(station)"
   ]
  },
  {
   "cell_type": "code",
   "execution_count": null,
   "metadata": {},
   "outputs": [],
   "source": [
    "clust_dbscan = road_get_clust_dbscan(df_extracted, countryside)\n",
    "clust_hdbscan = road_get_clust_hdbscan(df_extracted, countryside)\n",
    "clust_optics = road_get_clust_optics(df_extracted, countryside)\n"
   ]
  },
  {
   "cell_type": "code",
   "execution_count": null,
   "metadata": {},
   "outputs": [],
   "source": [
    "def rgb_to_hex(rgb):\n",
    "        return '#{:02x}{:02x}{:02x}'.format(int(rgb[0]*255), int(rgb[1]*255), int(rgb[2]*255))\n",
    "\n",
    "def labelToColor(clustId, clusters, palette):   \n",
    "    if (clustId == -1):\n",
    "        return 'gray'\n",
    "    else:\n",
    "        return rgb_to_hex(palette[list(clusters).index(clustId)- (1 if -1 in clusters else 0)])"
   ]
  },
  {
   "cell_type": "code",
   "execution_count": null,
   "metadata": {},
   "outputs": [],
   "source": [
    "def applyPolynomialRegressionAndPlotMap(clust, df_extracted, countryside):\n",
    "    clusters = clust.unique()\n",
    "    num_clusters = len(clusters) - (1 if -1 in clusters else 0)\n",
    "\n",
    "    excluded_clusters, not_exluded_clusters, linearModels, xBounds = detect_roads_based_on_clusters(clust, df_extracted)\n",
    "\n",
    "    palette = sns.color_palette(\"hsv\", num_clusters)\n",
    "    colors = clust.apply(lambda clustId : labelToColor(clustId, clusters, palette))\n",
    "    map = plotMapWithColorsAndLayers(df_extracted, countryside, colors, linearModels, xBounds, clust, [not_exluded_clusters, excluded_clusters, [-1]], layersLabel=[\"roads\", \"non-roads\", \"noise\"], mapName=\"OpenStreetMap\")\n",
    "    return (excluded_clusters, not_exluded_clusters, map)"
   ]
  },
  {
   "cell_type": "code",
   "execution_count": null,
   "metadata": {},
   "outputs": [],
   "source": [
    "map1=applyPolynomialRegressionAndPlotMap(clust_dbscan, df_extracted, countryside)[2]\n",
    "map2=applyPolynomialRegressionAndPlotMap(clust_hdbscan, df_extracted, countryside)[2]\n",
    "map3=applyPolynomialRegressionAndPlotMap(clust_optics, df_extracted, countryside)[2]"
   ]
  },
  {
   "cell_type": "code",
   "execution_count": null,
   "metadata": {},
   "outputs": [],
   "source": [
    "map1.save(pwdMap + \"road_regression_dbscan\")\n",
    "map2.save(pwdMap + \"road_regression_hdbscan\")\n",
    "map3.save(pwdMap + \"road_regression_optics\")"
   ]
  },
  {
   "cell_type": "code",
   "execution_count": null,
   "metadata": {},
   "outputs": [],
   "source": [
    "for clustering in [clust_dbscan, clust_hdbscan, clust_optics]:\n",
    "    for cluster in clustering.loc[clustering!=-1].unique():\n",
    "        nb_elem = list(clustering).count(cluster)\n",
    "        if(nb_elem <= 10):\n",
    "            clustering.loc[clustering==cluster] = -1"
   ]
  },
  {
   "cell_type": "code",
   "execution_count": null,
   "metadata": {},
   "outputs": [],
   "source": [
    "possible_points = []\n",
    "for bsId in countryside:\n",
    "    if((clust_dbscan[bsId]!=-1) or (clust_dbscan[bsId]!=-1) or (clust_dbscan[bsId]!=-1)):\n",
    "        possible_points.append(bsId)"
   ]
  },
  {
   "cell_type": "code",
   "execution_count": null,
   "metadata": {},
   "outputs": [],
   "source": [
    "clust_dbscan = road_get_clust_dbscan(df_extracted, possible_points)\n",
    "clust_hdbscan = road_get_clust_hdbscan(df_extracted, possible_points)\n",
    "clust_optics = road_get_clust_optics(df_extracted, possible_points)"
   ]
  },
  {
   "cell_type": "code",
   "execution_count": null,
   "metadata": {},
   "outputs": [],
   "source": [
    "map1=applyPolynomialRegressionAndPlotMap(clust_dbscan, df_extracted, possible_points)[2]\n",
    "map2=applyPolynomialRegressionAndPlotMap(clust_hdbscan, df_extracted, possible_points)[2]\n",
    "map3=applyPolynomialRegressionAndPlotMap(clust_optics, df_extracted, possible_points)[2]"
   ]
  },
  {
   "cell_type": "code",
   "execution_count": null,
   "metadata": {},
   "outputs": [],
   "source": [
    "map1.save(pwdMap + \"2steps_road_regression_dbscan\")\n",
    "map2.save(pwdMap + \"2steps_road_regression_hdbscan\")\n",
    "map3.save(pwdMap + \"2steps_road_regression_optics\")"
   ]
  }
 ],
 "metadata": {
  "language_info": {
   "name": "python"
  }
 },
 "nbformat": 4,
 "nbformat_minor": 2
}
