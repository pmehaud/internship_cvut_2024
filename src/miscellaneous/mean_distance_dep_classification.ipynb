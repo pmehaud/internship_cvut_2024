{
 "cells": [
  {
   "cell_type": "markdown",
   "metadata": {},
   "source": [
    "## Libraries importation"
   ]
  },
  {
   "cell_type": "code",
   "execution_count": null,
   "metadata": {},
   "outputs": [],
   "source": [
    "import os\n",
    "import sys\n",
    "\n",
    "# Obtenir le répertoire de travail courant\n",
    "current_dir = os.getcwd()\n",
    "\n",
    "# Obtenir le répertoire parent de `maps` (qui est `src`)\n",
    "parent_dir = os.path.abspath(os.path.join(current_dir, os.pardir))\n",
    "\n",
    "# Ajouter `src` au chemin de recherche des modules\n",
    "if parent_dir not in sys.path:\n",
    "    sys.path.append(parent_dir)"
   ]
  },
  {
   "cell_type": "code",
   "execution_count": null,
   "metadata": {},
   "outputs": [],
   "source": [
    "import pandas as pd\n",
    "import numpy as np\n",
    "from sklearn.neighbors import NearestNeighbors\n",
    "import seaborn as sns\n",
    "import matplotlib.pyplot as plt\n",
    "\n",
    "from python_scripts.ihm.plots import plot_graph\n",
    "from python_scripts.neighbours_criteria.simple_criteria import distance_criterion, quadrant_criterion, angle_criterion\n",
    "from python_scripts.neighbours_criteria.enhanced_criteria import distance_criterion_enhanced, quadrant_criterion_enhanced, angle_criterion_enhanced\n",
    "from python_scripts.graphs.graphs_creation import delaunay_graph\n",
    "from python_scripts.miscellaneaous.data_processing import extract_data\n",
    "from python_scripts.city.city_utils import city_detection_enhanced, mean_distance_to_NN"
   ]
  },
  {
   "cell_type": "code",
   "execution_count": null,
   "metadata": {},
   "outputs": [],
   "source": [
    "# Path to where you want the outputs to be saved\n",
    "out_directory = \"../../out/\""
   ]
  },
  {
   "cell_type": "code",
   "execution_count": null,
   "metadata": {},
   "outputs": [],
   "source": [
    "mean_distance_params = {\n",
    "    ']0, 1] km': {'colour': '#030464', 'angle': 40, 'distance': 2},\n",
    "    ']1, 2] km': {'colour': '#069AF3', 'angle': 30, 'distance': 5},\n",
    "    ']2, 4] km': {'colour': '#02D4BB', 'angle': 25, 'distance': 10},\n",
    "    ']4, inf] km': {'colour': '#0DBF75', 'angle': 15, 'distance': 15},\n",
    "}"
   ]
  },
  {
   "cell_type": "markdown",
   "metadata": {},
   "source": [
    "## Database import and data extraction\n",
    "\n",
    "We will focus only on the Normandie region, using Orange 4G base stations."
   ]
  },
  {
   "cell_type": "code",
   "execution_count": null,
   "metadata": {},
   "outputs": [],
   "source": [
    "df = pd.read_csv(\"../../database/data.csv\", sep=\";\", decimal=\",\")\n",
    "df_dep = pd.read_csv(\"../../database/data_popArea.csv\", sep=\";\", decimal=\",\")"
   ]
  },
  {
   "cell_type": "code",
   "execution_count": null,
   "metadata": {},
   "outputs": [],
   "source": [
    "df_extracted = extract_data(df, provider='Orange', min_info=True)\n",
    "df_extracted.head()"
   ]
  },
  {
   "cell_type": "code",
   "execution_count": null,
   "metadata": {},
   "outputs": [],
   "source": [
    "mean_distances = mean_distance_to_NN(df_extracted[['x', 'y']], n_neighbours=3) # 3 to have more neighbours"
   ]
  },
  {
   "cell_type": "code",
   "execution_count": null,
   "metadata": {},
   "outputs": [],
   "source": [
    "for index in df_extracted.index:\n",
    "    df_extracted.loc[index, 'mean_dist'] = mean_distances[index]"
   ]
  },
  {
   "cell_type": "code",
   "execution_count": null,
   "metadata": {},
   "outputs": [],
   "source": [
    "for bs_id in mean_distances.index:\n",
    "    df_extracted.loc[bs_id, 'countryside'] = 1 if(mean_distances[bs_id]>3) else 0\n",
    "\n",
    "df_extracted['countryside'] = df_extracted['countryside'].astype(int)"
   ]
  },
  {
   "cell_type": "code",
   "execution_count": null,
   "metadata": {},
   "outputs": [],
   "source": [
    "df_extracted.head()"
   ]
  },
  {
   "cell_type": "code",
   "execution_count": null,
   "metadata": {},
   "outputs": [],
   "source": [
    "df_meanDistance_dep = pd.DataFrame(columns=['nom_dep', 'city', 'countryside', 'total'])\n",
    "# df_meanDistance_dep = pd.DataFrame(columns=['nom_dep', 'total'])"
   ]
  },
  {
   "cell_type": "code",
   "execution_count": null,
   "metadata": {},
   "outputs": [],
   "source": [
    "df_meanDistance_dep['nom_dep']=df_dep['nom_dep']"
   ]
  },
  {
   "cell_type": "code",
   "execution_count": null,
   "metadata": {},
   "outputs": [],
   "source": [
    "def distance_to_NN(coordsXY: list, n_neighbours: int = 4) -> pd.Series:\n",
    "    nbrs = NearestNeighbors(n_neighbors=n_neighbours+1, metric='euclidean').fit(coordsXY)  # n_neighbors+1 because considering himself\n",
    "    distances, _ = nbrs.kneighbors(coordsXY)\n",
    "    \n",
    "    mean_distances = np.mean(distances[:, 1:]/1000, axis=1)  # we exclude the first element (distance to ourself is 0)\n",
    "\n",
    "    return pd.Series(data=mean_distances, index=coordsXY.index)"
   ]
  },
  {
   "cell_type": "code",
   "execution_count": null,
   "metadata": {},
   "outputs": [],
   "source": [
    "for dep in df_dep['nom_dep']:\n",
    "    n = 10\n",
    "    df_tmp_city = df_extracted.loc[((df_extracted['nom_dep']==dep) & (df_extracted['countryside']==0))]\n",
    "    # tmp_dist_city = distance_to_NN(df_tmp_city[['x', 'y']], n_neighbours=len(df_tmp_city)-1) if(len(df_tmp_city) > 1) else np.array([-1])\n",
    "    tmp_dist_city = distance_to_NN(df_tmp_city[['x', 'y']], n_neighbours=n) if(len(df_tmp_city) >= n) else np.array([-1])\n",
    "\n",
    "    df_tmp_coun = df_extracted.loc[((df_extracted['nom_dep']==dep) & (df_extracted['countryside']==1))]\n",
    "    # tmp_dist_coun = distance_to_NN(df_tmp_coun[['x', 'y']], n_neighbours=len(df_tmp_coun)-1) if(len(df_tmp_coun) > 1) else np.array([-1])\n",
    "    tmp_dist_coun = distance_to_NN(df_tmp_coun[['x', 'y']], n_neighbours=n) if(len(df_tmp_coun) >= n) else np.array([-1])\n",
    "\n",
    "    df_tmp_tota = df_extracted.loc[(df_extracted['nom_dep']==dep)]\n",
    "    # tmp_dist_tota = distance_to_NN(df_tmp_tota[['x', 'y']], n_neighbours=len(df_tmp_tota)-1)\n",
    "    tmp_dist_tota = distance_to_NN(df_tmp_tota[['x', 'y']], n_neighbours=4)\n",
    "\n",
    "    df_meanDistance_dep.loc[df_meanDistance_dep['nom_dep']==dep, 'city'] = np.round(tmp_dist_city.mean(), decimals=5)\n",
    "    df_meanDistance_dep.loc[df_meanDistance_dep['nom_dep']==dep, 'countryside'] = np.round(tmp_dist_coun.mean(), decimals=5)\n",
    "    df_meanDistance_dep.loc[df_meanDistance_dep['nom_dep']==dep, 'total'] = np.round(tmp_dist_tota.mean(), decimals=5)\n",
    "df_meanDistance_dep[['city','countryside','total']] = df_meanDistance_dep[['city','countryside','total']].astype(float)\n",
    "# df_meanDistance_dep['total'] = df_meanDistance_dep['total'].astype(float)"
   ]
  },
  {
   "cell_type": "code",
   "execution_count": null,
   "metadata": {},
   "outputs": [],
   "source": [
    "# for dep in df_extracted['nom_dep'].unique():\n",
    "#     dep_distance_city = np.round(df_extracted.loc[((df_extracted['nom_dep']==dep) & (df_extracted['countryside']==0)), 'mean_dist'].mean(), decimals=5)\n",
    "#     dep_distance_coun = np.round(df_extracted.loc[((df_extracted['nom_dep']==dep) & (df_extracted['countryside']==1)), 'mean_dist'].mean(), decimals=5)\n",
    "#     dep_distance = np.round(df_extracted.loc[(df_extracted['nom_dep']==dep), 'mean_dist'].mean(), decimals=5)\n",
    "\n",
    "#     df_new_row = pd.DataFrame(data=np.array([[dep,dep_distance_city,dep_distance_coun,dep_distance]]), columns=['nom_dep','city','countryside','total'])\n",
    "#     df_meanDistance_dep = pd.concat([df_meanDistance_dep, df_new_row], ignore_index=True)\n",
    "# df_meanDistance_dep[['city','countryside','total']] = df_meanDistance_dep[['city','countryside','total']].astype(float)"
   ]
  },
  {
   "cell_type": "code",
   "execution_count": null,
   "metadata": {},
   "outputs": [],
   "source": [
    "# for dep in df_dep['nom_dep']:\n",
    "#     df_meanDistance_dep.loc[df_meanDistance_dep['nom_dep']==dep, 'Population'] = df_dep.loc[df_dep['nom_dep']==dep, 'Population'].iloc[0]\n",
    "#     df_meanDistance_dep.loc[df_meanDistance_dep['nom_dep']==dep, 'Superficie [en km²]'] = df_dep.loc[df_dep['nom_dep']==dep, 'Superficie [en km²]'].iloc[0]\n",
    "#     df_meanDistance_dep.loc[df_meanDistance_dep['nom_dep']==dep, 'Densite [hab. /km²]'] = df_dep.loc[df_dep['nom_dep']==dep, 'Densite [hab. /km²]'].iloc[0]\n",
    "df_meanDistance_dep.insert(1, 'Densite [hab. /km²]', df_dep['Densite [hab. /km²]'])\n",
    "df_meanDistance_dep.insert(1, 'Superficie [en km²]', df_dep['Superficie [en km²]'])\n",
    "df_meanDistance_dep.insert(1, 'Population', df_dep['Population'])\n",
    "\n",
    "df_meanDistance_dep[['Population', 'Superficie [en km²]', 'Densite [hab. /km²]']] = df_meanDistance_dep[['Population', 'Superficie [en km²]', 'Densite [hab. /km²]']].astype(int)"
   ]
  },
  {
   "cell_type": "code",
   "execution_count": null,
   "metadata": {},
   "outputs": [],
   "source": [
    "df_meanDistance_dep.head()"
   ]
  },
  {
   "cell_type": "code",
   "execution_count": null,
   "metadata": {},
   "outputs": [],
   "source": [
    "departments = list(np.unique(df_extracted[\"nom_dep\"]))\n",
    "nb_dep = len(departments)\n",
    "\n",
    "df_proPerDep = pd.DataFrame({\n",
    "    \"nom_dep\" : departments,\n",
    "    \"Total\" : [int for i in range(nb_dep)]\n",
    "})\n",
    "\n",
    "for dep in departments: # number of sites per department per provider\n",
    "    df_proPerDep.loc[df_proPerDep[\"nom_dep\"]==dep, \"Total\"] = list(df_extracted[\"nom_dep\"]).count(dep)"
   ]
  },
  {
   "cell_type": "markdown",
   "metadata": {},
   "source": [
    "### ... Bidouillage"
   ]
  },
  {
   "cell_type": "code",
   "execution_count": null,
   "metadata": {},
   "outputs": [],
   "source": [
    "for dep in df_meanDistance_dep['nom_dep']:\n",
    "    tmp = df_meanDistance_dep.loc[df_meanDistance_dep['nom_dep']==dep, 'total'].astype(float).values / (df_dep.loc[df_dep['nom_dep']==dep, 'Superficie [en km²]'].astype(int).values) #(df_proPerDep.loc[df_proPerDep[\"nom_dep\"]==dep, \"Total\"].astype(int).values * df_dep.loc[df_dep['nom_dep']==dep, 'Superficie [en km²]'].astype(int).values)\n",
    "    df_meanDistance_dep.loc[df_meanDistance_dep['nom_dep']==dep, 'normalized'] = np.round(tmp[0] * 100, decimals=5)"
   ]
  },
  {
   "cell_type": "code",
   "execution_count": null,
   "metadata": {},
   "outputs": [],
   "source": [
    "df_meanDistance_dep.sort_values(by=['total'])"
   ]
  },
  {
   "cell_type": "code",
   "execution_count": null,
   "metadata": {},
   "outputs": [],
   "source": [
    "results = open(out_directory + \"meanDistDeptClas.md\", \"w\")\n",
    "\n",
    "results.write(df_meanDistance_dep.sort_values(by=['normalized']).to_markdown(index=False))\n",
    "\n",
    "results.close()"
   ]
  },
  {
   "cell_type": "code",
   "execution_count": null,
   "metadata": {},
   "outputs": [],
   "source": [
    "print(\"Superficie : \" + str(np.corrcoef(df_meanDistance_dep['total'],df_meanDistance_dep['Superficie [en km²]'])[0,1]))\n",
    "print(\"Population : \" + str(np.corrcoef(df_meanDistance_dep['total'],df_meanDistance_dep['Population'])[0,1]))\n",
    "print(\"Densite : \" + str(np.corrcoef(df_meanDistance_dep['total'],df_meanDistance_dep['Densite [hab. /km²]'])[0,1]))"
   ]
  },
  {
   "cell_type": "code",
   "execution_count": null,
   "metadata": {},
   "outputs": [],
   "source": [
    "print(\"Superficie : \" + str(np.corrcoef(df_meanDistance_dep['countryside'],df_meanDistance_dep['Superficie [en km²]'])[0,1]))\n",
    "print(\"Population : \" + str(np.corrcoef(df_meanDistance_dep['countryside'],df_meanDistance_dep['Population'])[0,1]))\n",
    "print(\"Densite : \" + str(np.corrcoef(df_meanDistance_dep['countryside'],df_meanDistance_dep['Densite [hab. /km²]'])[0,1]))"
   ]
  },
  {
   "cell_type": "code",
   "execution_count": null,
   "metadata": {},
   "outputs": [],
   "source": [
    "print(\"Superficie : \" + str(np.corrcoef(df_meanDistance_dep['city'],df_meanDistance_dep['Superficie [en km²]'])[0,1]))\n",
    "print(\"Population : \" + str(np.corrcoef(df_meanDistance_dep['city'],df_meanDistance_dep['Population'])[0,1]))\n",
    "print(\"Densite : \" + str(np.corrcoef(df_meanDistance_dep['city'],df_meanDistance_dep['Densite [hab. /km²]'])[0,1]))"
   ]
  },
  {
   "cell_type": "markdown",
   "metadata": {},
   "source": [
    "## Experimentation on only 4 departements\n",
    "Mountains, Flat/Sea, Flat/City, Flat/Coutryside"
   ]
  },
  {
   "cell_type": "code",
   "execution_count": null,
   "metadata": {},
   "outputs": [],
   "source": [
    "df_tmp = df_meanDistance_dep.loc[(df_meanDistance_dep['nom_dep']=='Yvelines') | (df_meanDistance_dep['nom_dep']=='Loire-Atlantique') | (df_meanDistance_dep['nom_dep']=='Haute-Savoie') | (df_meanDistance_dep['nom_dep']=='Indre-et-Loire')]"
   ]
  },
  {
   "cell_type": "code",
   "execution_count": null,
   "metadata": {},
   "outputs": [],
   "source": [
    "def pretty_barPlot(df, x_col, y_col, **kwargs):\n",
    "    plot_title = kwargs.get('save_as', None)\n",
    "    \n",
    "    sns.set_context('paper') # size of ticks labels\n",
    "    sns.set_theme(style=\"whitegrid\") # style of the backgroung\n",
    "    g = sns.catplot(\n",
    "        data=df,\n",
    "        kind='bar',\n",
    "        x=x_col,\n",
    "        y=y_col,\n",
    "    )\n",
    "    g.tick_params(axis='x', rotation=15)\n",
    "    plt.ylabel('distance [km]')\n",
    "    \n",
    "    if(plot_title):\n",
    "        plt.savefig(out_directory + plot_title + \".png\", dpi=100)"
   ]
  },
  {
   "cell_type": "code",
   "execution_count": null,
   "metadata": {},
   "outputs": [],
   "source": [
    "pretty_barPlot(df_tmp,'nom_dep','total')"
   ]
  },
  {
   "cell_type": "code",
   "execution_count": null,
   "metadata": {},
   "outputs": [],
   "source": [
    "pretty_barPlot(df_tmp,'nom_dep','countryside')"
   ]
  },
  {
   "cell_type": "code",
   "execution_count": null,
   "metadata": {},
   "outputs": [],
   "source": [
    "pretty_barPlot(df_tmp,'nom_dep','Densite [hab. /km²]')#'Population', 'Superficie [en km²]', 'Densite [hab. /km²]'"
   ]
  }
 ],
 "metadata": {
  "language_info": {
   "name": "python"
  }
 },
 "nbformat": 4,
 "nbformat_minor": 2
}
