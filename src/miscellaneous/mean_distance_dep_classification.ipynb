{
 "cells": [
  {
   "cell_type": "markdown",
   "metadata": {},
   "source": [
    "## Libraries importation"
   ]
  },
  {
   "cell_type": "code",
   "execution_count": null,
   "metadata": {},
   "outputs": [],
   "source": [
    "# Please use these lines in every notebook you create\n",
    "\n",
    "import os\n",
    "import sys\n",
    "\n",
    "# Get the current working directory\n",
    "current_dir = os.getcwd()\n",
    "\n",
    "# Get the parent directory of `maps` (which is `src`)\n",
    "parent_dir = os.path.abspath(os.path.join(current_dir, os.pardir))\n",
    "\n",
    "# Add `src` to the module search path\n",
    "if parent_dir not in sys.path:\n",
    "    sys.path.append(parent_dir)\n",
    "\n",
    "from global_variables import *\n",
    "from python_scripts.miscellaneaous.data_processing import extract_data"
   ]
  },
  {
   "cell_type": "code",
   "execution_count": null,
   "metadata": {},
   "outputs": [],
   "source": [
    "import pandas as pd\n",
    "import numpy as np\n",
    "from sklearn.neighbors import NearestNeighbors\n",
    "import seaborn as sns\n",
    "import matplotlib.pyplot as plt\n",
    "\n",
    "from python_scripts.ihm.plots import plot_graph\n",
    "from python_scripts.neighbours_criteria.simple_criteria import distance_criterion, quadrant_criterion, angle_criterion\n",
    "from python_scripts.neighbours_criteria.enhanced_criteria import distance_criterion_enhanced, quadrant_criterion_enhanced, angle_criterion_enhanced\n",
    "from python_scripts.graphs.graphs_creation import delaunay_graph\n",
    "from python_scripts.miscellaneaous.data_processing import extract_data\n",
    "from python_scripts.city.city_utils import city_detection_enhanced, mean_distance_to_NN"
   ]
  },
  {
   "cell_type": "code",
   "execution_count": null,
   "metadata": {},
   "outputs": [],
   "source": [
    "# Path to where you want the outputs to be saved\n",
    "out_directory = \"../../out/\""
   ]
  },
  {
   "cell_type": "markdown",
   "metadata": {},
   "source": [
    "## Database import and data extraction\n",
    "\n",
    "We will focus only on the Normandie region, using Orange 4G base stations."
   ]
  },
  {
   "cell_type": "code",
   "execution_count": null,
   "metadata": {},
   "outputs": [],
   "source": [
    "df_1pro_1techno = extract_data(pd.read_csv(\"../../database/data.csv\", sep=\";\", decimal=\",\"), provider=PROVIDER, techno=TECHNO, min_info=True)\n",
    "df = pd.read_csv(\"../../database/data.csv\", sep=\";\", decimal=\",\")\n",
    "df = extract_data(df, min_info=True)\n",
    "df.head()"
   ]
  },
  {
   "cell_type": "code",
   "execution_count": null,
   "metadata": {},
   "outputs": [],
   "source": [
    "df_dep = pd.read_csv(\"../../database/data_popArea.csv\", sep=\";\", decimal=\",\")"
   ]
  },
  {
   "cell_type": "code",
   "execution_count": null,
   "metadata": {},
   "outputs": [],
   "source": [
    "mean_distances = mean_distance_to_NN(df[['x', 'y']], n_neighbours=N_NEIGH)"
   ]
  },
  {
   "cell_type": "code",
   "execution_count": null,
   "metadata": {},
   "outputs": [],
   "source": [
    "city_detection = mean_distance_to_NN(df_1pro_1techno[['x', 'y']], n_neighbours=N_NEIGH)\n",
    "df['countryside'] = city_detection\n",
    "df['countryside'] = np.where((df['countryside'].values>3), 1, 0)"
   ]
  },
  {
   "cell_type": "code",
   "execution_count": null,
   "metadata": {},
   "outputs": [],
   "source": [
    "df.head()"
   ]
  },
  {
   "cell_type": "code",
   "execution_count": null,
   "metadata": {},
   "outputs": [],
   "source": [
    "df_meanDistance_dep = pd.DataFrame(columns=['nom_dep', 'city', 'countryside', 'total'])\n",
    "# df_meanDistance_dep = pd.DataFrame(columns=['nom_dep', 'total'])"
   ]
  },
  {
   "cell_type": "code",
   "execution_count": null,
   "metadata": {},
   "outputs": [],
   "source": [
    "df_meanDistance_dep['nom_dep']=df_dep['nom_dep']"
   ]
  },
  {
   "cell_type": "code",
   "execution_count": null,
   "metadata": {},
   "outputs": [],
   "source": [
    "df_tmp_city = df.loc[((df['nom_dep']=='Haute-Savoie')) & (df['countryside']==0)]\n",
    "coordsXY = df_tmp_city[['x', 'y']]\n",
    "\n",
    "nbrs = NearestNeighbors(n_neighbors=10+1, metric='euclidean').fit(coordsXY)  # n_neighbors+1 because considering himself\n",
    "distances, _ = nbrs.kneighbors(coordsXY)\n",
    "\n",
    "new_dist = []\n",
    "for d in distances:\n",
    "    new_dist.append([x for x in d if x <= 6000])\n",
    "\n",
    "maxi = 0\n",
    "for d in distances:\n",
    "    maxi = np.round(max(d), decimals=5) if(max(d)>maxi) else maxi\n",
    "    # print(max(d)) if((max(d) > 4000) and (max(d) < 10000)) else _\n",
    "# print('\\n\\n' + str(maxi))\n",
    "maxi = 0\n",
    "for d in new_dist:\n",
    "    maxi = np.round(max(d), decimals=5) if(max(d)>maxi) else maxi\n",
    "# print('\\n\\n' + str(maxi))\n",
    "\n",
    "\n",
    "\n",
    "# mean_distances = np.mean(distances[:, 1:]/1000, axis=1)  # we exclude the first element (distance to ourself is 0)"
   ]
  },
  {
   "cell_type": "code",
   "execution_count": null,
   "metadata": {},
   "outputs": [],
   "source": [
    "def distance_to_NN(coordsXY: list, n_neighbours: int = 4, max_dist: int = np.inf) -> pd.Series:\n",
    "    nbrs = NearestNeighbors(n_neighbors=n_neighbours+1, metric='euclidean').fit(coordsXY)  # n_neighbors+1 because considering himself\n",
    "    distances, _ = nbrs.kneighbors(coordsXY)\n",
    "\n",
    "    new_distances = []\n",
    "    for row in distances:\n",
    "        new_distances.append([x/1000 for x in row if((x/1000) <= max_dist)])\n",
    "    \n",
    "    mean_distances = [np.sum(row)/(len(row)-1) for row in new_distances]\n",
    "    # np.mean(new_distances[:][1:], axis=1)  # we exclude the first element (distance to ourself is 0)\n",
    "\n",
    "    return pd.Series(data=mean_distances, index=coordsXY.index)"
   ]
  },
  {
   "cell_type": "code",
   "execution_count": null,
   "metadata": {},
   "outputs": [],
   "source": [
    "for dep in df_dep['nom_dep']:\n",
    "    n = 10\n",
    "    df_tmp_city = df.loc[((df['nom_dep']==dep) & (df['countryside']==0))]\n",
    "    # tmp_dist_city = distance_to_NN(df_tmp_city[['x', 'y']], n_neighbours=len(df_tmp_city)-1) if(len(df_tmp_city) > 1) else np.array([-1])\n",
    "    tmp_dist_city = distance_to_NN(df_tmp_city[['x', 'y']], n_neighbours=n, max_dist=6) if(len(df_tmp_city) >= n) else np.array([-1])\n",
    "\n",
    "    df_tmp_coun = df.loc[((df['nom_dep']==dep) & (df['countryside']==1))]\n",
    "    # tmp_dist_coun = distance_to_NN(df_tmp_coun[['x', 'y']], n_neighbours=len(df_tmp_coun)-1) if(len(df_tmp_coun) > 1) else np.array([-1])\n",
    "    tmp_dist_coun = distance_to_NN(df_tmp_coun[['x', 'y']], n_neighbours=n) if(len(df_tmp_coun) >= n) else np.array([-1])\n",
    "\n",
    "    df_tmp_tota = df.loc[(df['nom_dep']==dep)]\n",
    "    # tmp_dist_tota = distance_to_NN(df_tmp_tota[['x', 'y']], n_neighbours=len(df_tmp_tota)-1)\n",
    "    tmp_dist_tota = distance_to_NN(df_tmp_tota[['x', 'y']], n_neighbours=n)\n",
    "\n",
    "    df_meanDistance_dep.loc[df_meanDistance_dep['nom_dep']==dep, 'city'] = np.round(tmp_dist_city.mean(), decimals=5)\n",
    "    df_meanDistance_dep.loc[df_meanDistance_dep['nom_dep']==dep, 'countryside'] = np.round(tmp_dist_coun.mean(), decimals=5)\n",
    "    df_meanDistance_dep.loc[df_meanDistance_dep['nom_dep']==dep, 'total'] = np.round(tmp_dist_tota.mean(), decimals=5)\n",
    "df_meanDistance_dep[['city','countryside','total']] = df_meanDistance_dep[['city','countryside','total']].astype(float)\n",
    "# df_meanDistance_dep['total'] = df_meanDistance_dep['total'].astype(float)"
   ]
  },
  {
   "cell_type": "code",
   "execution_count": null,
   "metadata": {},
   "outputs": [],
   "source": [
    "# for dep in df['nom_dep'].unique():\n",
    "#     dep_distance_city = np.round(df.loc[((df['nom_dep']==dep) & (df['countryside']==0)), 'mean_dist'].mean(), decimals=5)\n",
    "#     dep_distance_coun = np.round(df.loc[((df['nom_dep']==dep) & (df['countryside']==1)), 'mean_dist'].mean(), decimals=5)\n",
    "#     dep_distance = np.round(df.loc[(df['nom_dep']==dep), 'mean_dist'].mean(), decimals=5)\n",
    "\n",
    "#     df_new_row = pd.DataFrame(data=np.array([[dep,dep_distance_city,dep_distance_coun,dep_distance]]), columns=['nom_dep','city','countryside','total'])\n",
    "#     df_meanDistance_dep = pd.concat([df_meanDistance_dep, df_new_row], ignore_index=True)\n",
    "# df_meanDistance_dep[['city','countryside','total']] = df_meanDistance_dep[['city','countryside','total']].astype(float)"
   ]
  },
  {
   "cell_type": "code",
   "execution_count": null,
   "metadata": {},
   "outputs": [],
   "source": [
    "# for dep in df_dep['nom_dep']:\n",
    "#     df_meanDistance_dep.loc[df_meanDistance_dep['nom_dep']==dep, 'Population'] = df_dep.loc[df_dep['nom_dep']==dep, 'Population'].iloc[0]\n",
    "#     df_meanDistance_dep.loc[df_meanDistance_dep['nom_dep']==dep, 'Superficie [en km²]'] = df_dep.loc[df_dep['nom_dep']==dep, 'Superficie [en km²]'].iloc[0]\n",
    "#     df_meanDistance_dep.loc[df_meanDistance_dep['nom_dep']==dep, 'Densite [hab. /km²]'] = df_dep.loc[df_dep['nom_dep']==dep, 'Densite [hab. /km²]'].iloc[0]\n",
    "df_meanDistance_dep.insert(1, 'Densite [hab. /km²]', df_dep['Densite [hab. /km²]'])\n",
    "df_meanDistance_dep.insert(1, 'Superficie [en km²]', df_dep['Superficie [en km²]'])\n",
    "df_meanDistance_dep.insert(1, 'Population', df_dep['Population'])\n",
    "\n",
    "df_meanDistance_dep[['Population', 'Superficie [en km²]', 'Densite [hab. /km²]']] = df_meanDistance_dep[['Population', 'Superficie [en km²]', 'Densite [hab. /km²]']].astype(int)"
   ]
  },
  {
   "cell_type": "code",
   "execution_count": null,
   "metadata": {},
   "outputs": [],
   "source": [
    "df_meanDistance_dep.head()"
   ]
  },
  {
   "cell_type": "code",
   "execution_count": null,
   "metadata": {},
   "outputs": [],
   "source": [
    "departments = list(np.unique(df[\"nom_dep\"]))\n",
    "nb_dep = len(departments)\n",
    "\n",
    "df_proPerDep = pd.DataFrame({\n",
    "    \"nom_dep\" : departments,\n",
    "    \"Total\" : [int for i in range(nb_dep)]\n",
    "})\n",
    "\n",
    "for dep in departments: # number of sites per department per provider\n",
    "    df_proPerDep.loc[df_proPerDep[\"nom_dep\"]==dep, \"Total\"] = list(df[\"nom_dep\"]).count(dep)"
   ]
  },
  {
   "cell_type": "markdown",
   "metadata": {},
   "source": [
    "### ... Bidouillage"
   ]
  },
  {
   "cell_type": "code",
   "execution_count": null,
   "metadata": {},
   "outputs": [],
   "source": [
    "for dep in df_meanDistance_dep['nom_dep']:\n",
    "    for where in ['city', 'countryside', 'total']:\n",
    "        v = df_meanDistance_dep.loc[df_meanDistance_dep['nom_dep']==dep, where].astype(float).values\n",
    "        tmp = (v - df_meanDistance_dep[where].min())/(df_meanDistance_dep[where].max()-df_meanDistance_dep[where].min())\n",
    "        df_meanDistance_dep.loc[df_meanDistance_dep['nom_dep']==dep, f'normalized_{where}'] = np.round(tmp[0], decimals=5)\n",
    "    # tmp = df_meanDistance_dep.loc[df_meanDistance_dep['nom_dep']==dep, 'city'].astype(float).values * (df_dep.loc[df_dep['nom_dep']==dep, 'Population'].astype(int).values) #(df_proPerDep.loc[df_proPerDep[\"nom_dep\"]==dep, \"Total\"].astype(int).values * df_dep.loc[df_dep['nom_dep']==dep, 'Superficie [en km²]'].astype(int).values)\n",
    "    # df_meanDistance_dep.loc[df_meanDistance_dep['nom_dep']==dep, 'normalized_city'] = np.round(tmp[0] / 100, decimals=5)\n",
    "    # tmp = df_meanDistance_dep.loc[df_meanDistance_dep['nom_dep']==dep, 'total'].astype(float).values * (df_dep.loc[df_dep['nom_dep']==dep, 'Population'].astype(int).values) #(df_proPerDep.loc[df_proPerDep[\"nom_dep\"]==dep, \"Total\"].astype(int).values * df_dep.loc[df_dep['nom_dep']==dep, 'Superficie [en km²]'].astype(int).values)\n",
    "    # df_meanDistance_dep.loc[df_meanDistance_dep['nom_dep']==dep, 'normalized_total'] = np.round(tmp[0] / 100, decimals=5)"
   ]
  },
  {
   "cell_type": "code",
   "execution_count": null,
   "metadata": {},
   "outputs": [],
   "source": [
    "df_meanDistance_dep.sort_values(by=['total'])"
   ]
  },
  {
   "cell_type": "code",
   "execution_count": null,
   "metadata": {},
   "outputs": [],
   "source": [
    "results = open(out_directory + \"meanDistDeptClas.md\", \"w\")\n",
    "\n",
    "results.write(df_meanDistance_dep.sort_values(by=['city']).to_markdown(index=False))\n",
    "\n",
    "results.close()"
   ]
  },
  {
   "cell_type": "code",
   "execution_count": null,
   "metadata": {},
   "outputs": [],
   "source": [
    "print(\"Superficie : \" + str(np.corrcoef(df_meanDistance_dep['total'],df_meanDistance_dep['Superficie [en km²]'])[0,1]))\n",
    "print(\"Population : \" + str(np.corrcoef(df_meanDistance_dep['total'],df_meanDistance_dep['Population'])[0,1]))\n",
    "print(\"Densite : \" + str(np.corrcoef(df_meanDistance_dep['total'],df_meanDistance_dep['Densite [hab. /km²]'])[0,1]))"
   ]
  },
  {
   "cell_type": "code",
   "execution_count": null,
   "metadata": {},
   "outputs": [],
   "source": [
    "print(\"Superficie : \" + str(np.corrcoef(df_meanDistance_dep['countryside'],df_meanDistance_dep['Superficie [en km²]'])[0,1]))\n",
    "print(\"Population : \" + str(np.corrcoef(df_meanDistance_dep['countryside'],df_meanDistance_dep['Population'])[0,1]))\n",
    "print(\"Densite : \" + str(np.corrcoef(df_meanDistance_dep['countryside'],df_meanDistance_dep['Densite [hab. /km²]'])[0,1]))"
   ]
  },
  {
   "cell_type": "code",
   "execution_count": null,
   "metadata": {},
   "outputs": [],
   "source": [
    "print(\"Superficie : \" + str(np.corrcoef(df_meanDistance_dep['city'],df_meanDistance_dep['Superficie [en km²]'])[0,1]))\n",
    "print(\"Population : \" + str(np.corrcoef(df_meanDistance_dep['city'],df_meanDistance_dep['Population'])[0,1]))\n",
    "print(\"Densite : \" + str(np.corrcoef(df_meanDistance_dep['city'],df_meanDistance_dep['Densite [hab. /km²]'])[0,1]))"
   ]
  },
  {
   "cell_type": "markdown",
   "metadata": {},
   "source": [
    "## Experimentation on only 4 departements\n",
    "Mountains, Flat/Sea, Flat/City, Flat/Coutryside"
   ]
  },
  {
   "cell_type": "code",
   "execution_count": null,
   "metadata": {},
   "outputs": [],
   "source": [
    "df_tmp = df_meanDistance_dep.loc[(df_meanDistance_dep['nom_dep']=='Yvelines') | (df_meanDistance_dep['nom_dep']=='Loire-Atlantique') | (df_meanDistance_dep['nom_dep']=='Haute-Savoie') | (df_meanDistance_dep['nom_dep']=='Indre-et-Loire')]"
   ]
  },
  {
   "cell_type": "code",
   "execution_count": null,
   "metadata": {},
   "outputs": [],
   "source": [
    "def pretty_barPlot(df, x_col, y_col, **kwargs):\n",
    "    plot_title = kwargs.get('save_as', None)\n",
    "    \n",
    "    sns.set_context('paper') # size of ticks labels\n",
    "    sns.set_theme(style=\"whitegrid\") # style of the backgroung\n",
    "    g = sns.catplot(\n",
    "        data=df,\n",
    "        kind='bar',\n",
    "        x=x_col,\n",
    "        y=y_col,\n",
    "    )\n",
    "    g.tick_params(axis='x', rotation=15)\n",
    "    plt.ylabel('distance [km]')\n",
    "    \n",
    "    if(plot_title):\n",
    "        plt.savefig(out_directory + plot_title + \".png\", dpi=100)"
   ]
  },
  {
   "cell_type": "code",
   "execution_count": null,
   "metadata": {},
   "outputs": [],
   "source": [
    "pretty_barPlot(df_tmp,'nom_dep','total')"
   ]
  },
  {
   "cell_type": "code",
   "execution_count": null,
   "metadata": {},
   "outputs": [],
   "source": [
    "pretty_barPlot(df_tmp,'nom_dep','countryside')"
   ]
  },
  {
   "cell_type": "code",
   "execution_count": null,
   "metadata": {},
   "outputs": [],
   "source": [
    "pretty_barPlot(df_tmp,'nom_dep','city')#'Population', 'Superficie [en km²]', 'Densite [hab. /km²]'"
   ]
  }
 ],
 "metadata": {
  "language_info": {
   "name": "python"
  }
 },
 "nbformat": 4,
 "nbformat_minor": 2
}
