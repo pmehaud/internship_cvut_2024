{
 "cells": [
  {
   "cell_type": "code",
   "execution_count": null,
   "metadata": {},
   "outputs": [],
   "source": [
    "import os\n",
    "import sys\n",
    "\n",
    "# Obtenir le répertoire de travail courant\n",
    "current_dir = os.getcwd()\n",
    "\n",
    "# Obtenir le répertoire parent de `maps` (qui est `src`)\n",
    "parent_dir = os.path.abspath(os.path.join(current_dir, os.pardir))\n",
    "\n",
    "# Ajouter `src` au chemin de recherche des modules\n",
    "if parent_dir not in sys.path:\n",
    "    sys.path.append(parent_dir)"
   ]
  },
  {
   "cell_type": "code",
   "execution_count": null,
   "metadata": {},
   "outputs": [],
   "source": [
    "import pandas as pd\n",
    "import numpy as np\n",
    "import folium.features\n",
    "import folium.plugins\n",
    "\n",
    "from useful_methods.data_processing import extract_data\n",
    "from useful_methods.ihm.plots import plot_graph\n",
    "from useful_methods.neighbours_delaunay.graphs import delaunay_graph\n",
    "from useful_methods.neighbours_delaunay.miscellaneous_for_neighbouring import mean_distance_to_NN\n",
    "from useful_methods.neighbours_delaunay.enhanced_criteria import *"
   ]
  },
  {
   "cell_type": "code",
   "execution_count": null,
   "metadata": {},
   "outputs": [],
   "source": [
    "df = pd.read_csv(\"../../database/data.csv\", sep=\";\", decimal=',')"
   ]
  },
  {
   "cell_type": "code",
   "execution_count": null,
   "metadata": {},
   "outputs": [],
   "source": [
    "df_extracted = extract_data(df, provider='Orange', region='Nouvelle-Aquitaine', techno='4g')"
   ]
  },
  {
   "cell_type": "code",
   "execution_count": null,
   "metadata": {},
   "outputs": [],
   "source": [
    "mean_distance_params = {\n",
    "    ']0, 1] km': {'colour': '#030464', 'angle': 40, 'distance': 2},\n",
    "    ']1, 2] km': {'colour': '#069AF3', 'angle': 30, 'distance': 5},\n",
    "    ']2, 4] km': {'colour': '#02D4BB', 'angle': 20, 'distance': 10},\n",
    "    ']4, inf] km': {'colour': '#0DBF75', 'angle': 20, 'distance': 15},\n",
    "}"
   ]
  },
  {
   "cell_type": "markdown",
   "metadata": {},
   "source": [
    "## With Delaunay"
   ]
  },
  {
   "cell_type": "code",
   "execution_count": null,
   "metadata": {},
   "outputs": [],
   "source": [
    "G, pos = delaunay_graph(df_extracted)"
   ]
  },
  {
   "cell_type": "markdown",
   "metadata": {},
   "source": [
    "https://www.researchgate.net/figure/Pseudo-code-for-constructing-Gabriel-graphs_fig2_225256686\n",
    "\n",
    "https://gist.github.com/jgostick/0fcc3dbd61c313384f31909a8e9cf219?permalink_comment_id=4245005"
   ]
  },
  {
   "cell_type": "code",
   "execution_count": null,
   "metadata": {},
   "outputs": [],
   "source": [
    "def gabriel_graph(G, df):\n",
    "    gab_G = deepcopy(G)\n",
    "\n",
    "    coordsXY = df[['x','y']]\n",
    "\n",
    "    for edge in G.edges:\n",
    "        pt1 = edge[0]\n",
    "        pt2 = edge[1]\n",
    "\n",
    "        middle_point = (coordsXY.loc[pt1] + coordsXY.loc[pt2])/2\n",
    "\n",
    "        neigh = NearestNeighbors(radius=np.sqrt(np.sum((coordsXY.loc[pt1] - coordsXY.loc[pt2])**2, axis=0))/2)\n",
    "        neigh.fit(coordsXY)\n",
    "\n",
    "        if(len(coordsXY.iloc[neigh.radius_neighbors([middle_point], sort_results=True)[1][0][:-2]].index)>0):\n",
    "            gab_G.remove_edges_from([edge])\n",
    "\n",
    "    return gab_G"
   ]
  },
  {
   "cell_type": "code",
   "execution_count": null,
   "metadata": {},
   "outputs": [],
   "source": [
    "gab_G = gabriel_graph(G, df_extracted)"
   ]
  },
  {
   "cell_type": "code",
   "execution_count": null,
   "metadata": {},
   "outputs": [],
   "source": [
    "gab_G = angle_criterion_enhanced(gab_G, pos, params=mean_distance_params, mean_distance_to_NN=mean_distances)"
   ]
  },
  {
   "cell_type": "code",
   "execution_count": null,
   "metadata": {},
   "outputs": [],
   "source": [
    "max = 0\n",
    "for bs_id in pos.keys():\n",
    "    tmp = len(G.edges(bs_id))\n",
    "    if tmp > max:\n",
    "        max = tmp\n",
    "\n",
    "max"
   ]
  },
  {
   "cell_type": "code",
   "execution_count": null,
   "metadata": {},
   "outputs": [],
   "source": [
    "mean_distances = mean_distance_to_NN(df_extracted[['x', 'y']], n_neighbours=3) # 3 to have more neighbours"
   ]
  },
  {
   "cell_type": "code",
   "execution_count": null,
   "metadata": {},
   "outputs": [],
   "source": [
    "G_tot = distance_criterion_enhanced(G, pos, params=mean_distance_params, mean_distance_to_NN=mean_distances)\n",
    "G_tot = angle_criterion_enhanced(G_tot, pos, params=mean_distance_params, mean_distance_to_NN=mean_distances)\n",
    "G_tot = quadrant_criterion_enhanced(G_tot, pos)"
   ]
  },
  {
   "cell_type": "code",
   "execution_count": null,
   "metadata": {},
   "outputs": [],
   "source": [
    "plot_graph(G_tot, pos)"
   ]
  },
  {
   "cell_type": "code",
   "execution_count": null,
   "metadata": {},
   "outputs": [],
   "source": [
    "len(G_tot.edges)"
   ]
  },
  {
   "cell_type": "markdown",
   "metadata": {},
   "source": [
    "## Without Delaunay"
   ]
  },
  {
   "cell_type": "code",
   "execution_count": null,
   "metadata": {},
   "outputs": [],
   "source": [
    "G_dist = nx.Graph()\n",
    "nodes = df_extracted.index\n",
    "G_dist.add_nodes_from(nodes)"
   ]
  },
  {
   "cell_type": "markdown",
   "metadata": {},
   "source": [
    "## Nouvelle idée : prendre les 7 plus proches voisins pour créer le graphe"
   ]
  },
  {
   "cell_type": "code",
   "execution_count": null,
   "metadata": {},
   "outputs": [],
   "source": [
    "coordsXY = df_extracted[['x', 'y']]\n",
    "n_neighbours = 15\n",
    "\n",
    "nbrs = NearestNeighbors(n_neighbors=n_neighbours+1).fit(coordsXY)\n",
    "neighs = nbrs.kneighbors(coordsXY, return_distance=False)\n",
    "\n",
    "# data_mean_dist = np.mean(distances[:, 1:]/1000, axis=1)  # we exclude the first element (distance to ourself is 0)\n",
    "# mean_distances_other = pd.Series(data=data_mean_dist, index=coordsXY.index)"
   ]
  },
  {
   "cell_type": "code",
   "execution_count": null,
   "metadata": {},
   "outputs": [],
   "source": [
    "neighs"
   ]
  },
  {
   "cell_type": "code",
   "execution_count": null,
   "metadata": {},
   "outputs": [],
   "source": [
    "# for i in range(len(neighs)):\n",
    "#     neighs = np.where(neighs==i, neighs, coordsXY.index[i])\n",
    "for row in range(len(neighs)):\n",
    "    for col in range(len(neighs[row])):\n",
    "        neighs[row, col] = coordsXY.index[neighs[row, col]]"
   ]
  },
  {
   "cell_type": "code",
   "execution_count": null,
   "metadata": {},
   "outputs": [],
   "source": [
    "for row in neighs:\n",
    "    bs_id = row[0]\n",
    "    for bs_id_neigh in row[1:]:\n",
    "        edge = [bs_id, bs_id_neigh]\n",
    "        G_dist.add_edges_from([edge])"
   ]
  },
  {
   "cell_type": "markdown",
   "metadata": {},
   "source": [
    "for node in tqdm(pos.keys(), desc=\"nodes - distance\"):\n",
    "    max_distance = mean_distance_choice(node, mean_distances, mean_distance_params, 'distance')\n",
    "\n",
    "    for neigh_ind in coordsXY.iloc[nbrs.radius_neighbors([coordsXY.loc[node]], radius=max_distance*1000, sort_results=True)[1][0][1:]].index:\n",
    "        edge = [node, neigh_ind]\n",
    "        G_dist.add_edges_from([edge])"
   ]
  },
  {
   "cell_type": "code",
   "execution_count": null,
   "metadata": {},
   "outputs": [],
   "source": [
    "G_dist_tot = distance_criterion_enhanced(G_dist, pos, params=mean_distance_params, mean_distance_to_NN=mean_distances)\n",
    "G_dist_tot = angle_criterion_enhanced(G_dist_tot, pos, params=mean_distance_params, mean_distance_to_NN=mean_distances)\n",
    "# G_dist_tot = angle_criterion_enhanced(G_dist_tot, pos, params=mean_distance_params, mean_distance_to_NN=mean_distances)\n",
    "G_dist_tot = quadrant_criterion_enhanced(G_dist_tot, pos)\n",
    "G_dis = distance_criterion_enhanced(G_dist, pos, params=mean_distance_params, mean_distance_to_NN=mean_distances)\n",
    "G_ang = angle_criterion_enhanced(G_dist, pos, params=mean_distance_params, mean_distance_to_NN=mean_distances)\n",
    "# G_ang = angle_criterion_enhanced(G_ang, pos, params=mean_distance_params, mean_distance_to_NN=mean_distances)\n",
    "G_qua = quadrant_criterion_enhanced(G_dist, pos)"
   ]
  },
  {
   "cell_type": "code",
   "execution_count": null,
   "metadata": {},
   "outputs": [],
   "source": [
    "plot_graph(G_dist, pos)"
   ]
  },
  {
   "cell_type": "code",
   "execution_count": null,
   "metadata": {},
   "outputs": [],
   "source": [
    "len(G_dist.edges)"
   ]
  },
  {
   "cell_type": "markdown",
   "metadata": {},
   "source": [
    "## On a map"
   ]
  },
  {
   "cell_type": "code",
   "execution_count": null,
   "metadata": {},
   "outputs": [],
   "source": [
    "def add_graph_edges(G_base: nx.Graph, G: nx.Graph, pos: dict, fg: folium.FeatureGroup, colour: str):\n",
    "    for edge in G_base.edges:\n",
    "        stations = []\n",
    "        if(not(edge in G.edges)):\n",
    "            stations.append(pos[edge[0]])\n",
    "            stations.append(pos[edge[1]])\n",
    "\n",
    "            folium.PolyLine(np.array(stations), color=colour, weight=2.5, opacity=1).add_to(fg)"
   ]
  },
  {
   "cell_type": "code",
   "execution_count": null,
   "metadata": {},
   "outputs": [],
   "source": [
    "def addLegend(map, labelsToColors):\n",
    "    legend_html = f'''\n",
    "    <div style=\"position: fixed; \n",
    "                bottom: 50px; left: 50px; width: 200px; height: 120px; \n",
    "                border:2px solid grey; z-index:9999; font-size:14px;\n",
    "                background-color: white;\n",
    "                \"><strong>Legend</strong> <br>\n",
    "    '''\n",
    "    for label in labelsToColors.keys():\n",
    "        legend_html += f\"\\n&nbsp; <span style='color:{labelsToColors.get(label).get('colour')}'>&#9632;</span> {label} <br>\\n\"\n",
    "    legend_html += '</div>'\n",
    "    map.get_root().html.add_child(folium.Element(legend_html))"
   ]
  },
  {
   "cell_type": "code",
   "execution_count": null,
   "metadata": {},
   "outputs": [],
   "source": [
    "map = folium.Map(location=np.mean(df_extracted[['latitude','longitude']], axis=0), zoom_start=8.5, tiles=\"Cartodb Positron\")\n",
    "edges = folium.FeatureGroup(f\"Edges ({len(G_dist.edges)})\", show=False).add_to(map)\n",
    "edges_gab = folium.FeatureGroup(f\"Edges - Gabriel Graph ({len(gab_G.edges)})\", show=True).add_to(map)\n",
    "edges_dis = folium.FeatureGroup(f\"Edges - distance ({len(G_dis.edges)})\", show=False).add_to(map)\n",
    "edges_ang = folium.FeatureGroup(f\"Edges - angle ({len(G_ang.edges)})\", show=False).add_to(map)\n",
    "edges_qua = folium.FeatureGroup(f\"Edges - quadrant ({len(G_qua.edges)})\", show=False).add_to(map)\n",
    "edges_tot = folium.FeatureGroup(f\"Edges - total ({len(G_dist_tot.edges)})\", show=False).add_to(map)\n",
    "points = folium.FeatureGroup(f\"Points ({len(G_dist)})\").add_to(map)\n",
    "\n",
    "add_graph_edges(G_dist, nx.Graph(), pos, edges, colour=\"lightblue\")\n",
    "add_graph_edges(gab_G, nx.Graph(), pos, edges_gab, colour=\"lightgreen\")\n",
    "add_graph_edges(G_dist, G_dis, pos, edges_dis, colour=\"red\")\n",
    "add_graph_edges(G_dist, G_ang, pos, edges_ang, colour=\"orange\")\n",
    "add_graph_edges(G_dist, G_qua, pos, edges_qua, colour=\"green\")\n",
    "add_graph_edges(G_dist_tot, nx.Graph(), pos, edges_tot, colour=\"#AAA662\")\n",
    "\n",
    "for ind, latitude, longitude in df_extracted[['latitude', 'longitude']].itertuples():\n",
    "    color = mean_distance_choice(ind, mean_distances, mean_distance_params, 'colour')\n",
    "    points.add_child(folium.CircleMarker(location=[latitude, longitude], color=color, radius=2.5, popup=f\"commune : {df_extracted.loc[ind, 'nom_com']}\\nmean_dist={mean_distances.get(ind)}\", fillOpacity=1, fill=True))\n",
    "folium.LayerControl().add_to(map)\n",
    "\n",
    "addLegend(map, mean_distance_params)\n",
    "\n",
    "map.save(\"../../out/maps/distance_graph_comp_neighbour_v2.html\")"
   ]
  },
  {
   "cell_type": "markdown",
   "metadata": {},
   "source": [
    "map = folium.Map(location=np.mean(df_extracted[['latitude','longitude']], axis=0), zoom_start=8.5, tiles=\"Cartodb Positron\")\n",
    "edges_tot = folium.FeatureGroup(f\"Edges - total ({len(G_tot.edges)})\").add_to(map)\n",
    "edges_other = folium.FeatureGroup(f\"Edges - other ({len(G_dist.edges)})\").add_to(map)\n",
    "points = folium.FeatureGroup(f\"Points ({len(G)})\").add_to(map)\n",
    "\n",
    "add_graph_edges(G_dist, nx.Graph(), pos, edges_other, colour=\"orange\")\n",
    "add_graph_edges(G_tot, nx.Graph(), pos, edges_tot, colour=\"#AAA662\")\n",
    "\n",
    "for ind, latitude, longitude in df_extracted[['latitude', 'longitude']].itertuples():\n",
    "    color = mean_distance_choice(ind, mean_distances, mean_distance_params, 'colour')\n",
    "    points.add_child(folium.CircleMarker(location=[latitude, longitude], color=color, radius=2.5, popup=f\"mean_dist={mean_distances.get(ind)}\"))\n",
    "folium.LayerControl().add_to(map)\n",
    "\n",
    "addLegend(map, mean_distance_params)\n",
    "\n",
    "map.save(\"../../out/maps/neighbourhood_nextGen.html\")"
   ]
  }
 ],
 "metadata": {
  "language_info": {
   "name": "python"
  }
 },
 "nbformat": 4,
 "nbformat_minor": 2
}
