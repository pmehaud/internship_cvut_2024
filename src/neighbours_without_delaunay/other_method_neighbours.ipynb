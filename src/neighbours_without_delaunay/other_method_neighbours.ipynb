{
 "cells": [
  {
   "cell_type": "code",
   "execution_count": null,
   "metadata": {},
   "outputs": [],
   "source": [
    "import os\n",
    "import sys\n",
    "\n",
    "# Obtenir le répertoire de travail courant\n",
    "current_dir = os.getcwd()\n",
    "\n",
    "# Obtenir le répertoire parent de `maps` (qui est `src`)\n",
    "parent_dir = os.path.abspath(os.path.join(current_dir, os.pardir))\n",
    "\n",
    "# Ajouter `src` au chemin de recherche des modules\n",
    "if parent_dir not in sys.path:\n",
    "    sys.path.append(parent_dir)"
   ]
  },
  {
   "cell_type": "code",
   "execution_count": null,
   "metadata": {},
   "outputs": [],
   "source": [
    "import pandas as pd\n",
    "import numpy as np\n",
    "import folium.features\n",
    "\n",
    "from useful_methods.data_processing import extract_data\n",
    "from useful_methods.ihm.plots import plot_graph\n",
    "from useful_methods.neighbours_delaunay.graphs import delaunay_graph\n",
    "from useful_methods.neighbours_delaunay.miscellaneous_for_neighbouring import mean_distance_to_NN\n",
    "from useful_methods.neighbours_delaunay.enhanced_criteria import *\n",
    "from useful_methods.ihm.maps.mapUtils import *"
   ]
  },
  {
   "cell_type": "code",
   "execution_count": null,
   "metadata": {},
   "outputs": [],
   "source": [
    "df = pd.read_csv(\"../../database/data.csv\", sep=\";\", decimal=',')"
   ]
  },
  {
   "cell_type": "code",
   "execution_count": null,
   "metadata": {},
   "outputs": [],
   "source": [
    "df_extracted = extract_data(df, provider='Orange', region='Normandie', techno='4g')"
   ]
  },
  {
   "cell_type": "code",
   "execution_count": null,
   "metadata": {},
   "outputs": [],
   "source": [
    "mean_distance_params = {\n",
    "    ']0, 1] km': {'colour': '#030464', 'angle': 40, 'distance': 2},\n",
    "    ']1, 2] km': {'colour': '#069AF3', 'angle': 30, 'distance': 5},\n",
    "    ']2, 4] km': {'colour': '#02D4BB', 'angle': 25, 'distance': 10},\n",
    "    ']4, inf] km': {'colour': '#0DBF75', 'angle': 15, 'distance': 15},\n",
    "}"
   ]
  },
  {
   "cell_type": "markdown",
   "metadata": {},
   "source": [
    "## With Delaunay"
   ]
  },
  {
   "cell_type": "code",
   "execution_count": null,
   "metadata": {},
   "outputs": [],
   "source": [
    "G, pos = delaunay_graph(df_extracted)"
   ]
  },
  {
   "cell_type": "code",
   "execution_count": null,
   "metadata": {},
   "outputs": [],
   "source": [
    "mean_distances = mean_distance_to_NN(df_extracted[['x', 'y']], n_neighbours=3) # 3 to have more neighbours"
   ]
  },
  {
   "cell_type": "code",
   "execution_count": null,
   "metadata": {},
   "outputs": [],
   "source": [
    "G_tot = distance_criterion_enhanced(G, pos, params=mean_distance_params, mean_distance_to_NN=mean_distances)\n",
    "G_tot = angle_criterion_enhanced(G_tot, pos, params=mean_distance_params, mean_distance_to_NN=mean_distances)\n",
    "G_tot = quadrant_criterion_enhanced(G_tot, pos)"
   ]
  },
  {
   "cell_type": "code",
   "execution_count": null,
   "metadata": {},
   "outputs": [],
   "source": [
    "plot_graph(G_tot, pos)"
   ]
  },
  {
   "cell_type": "code",
   "execution_count": null,
   "metadata": {},
   "outputs": [],
   "source": [
    "len(G_tot.edges)"
   ]
  },
  {
   "cell_type": "markdown",
   "metadata": {},
   "source": [
    "## Without Delaunay"
   ]
  },
  {
   "cell_type": "code",
   "execution_count": null,
   "metadata": {},
   "outputs": [],
   "source": [
    "points_pos = df_extracted[['latitude', 'longitude']].values\n",
    "\n",
    "G_other = nx.Graph()\n",
    "nodes = df_extracted.index\n",
    "G_other.add_nodes_from(nodes)\n",
    "\n",
    "pos_other = dict(zip(df_extracted.index, points_pos))"
   ]
  },
  {
   "cell_type": "code",
   "execution_count": null,
   "metadata": {},
   "outputs": [],
   "source": [
    "coordsXY = df_extracted[['x', 'y']]\n",
    "n_neighbours = 3\n",
    "\n",
    "nbrs = NearestNeighbors(n_neighbors=n_neighbours+1, metric='euclidean').fit(coordsXY)\n",
    "distances, _ = nbrs.kneighbors(coordsXY)\n",
    "\n",
    "data_mean_dist = np.mean(distances[:, 1:]/1000, axis=1)  # we exclude the first element (distance to ourself is 0)\n",
    "mean_distances_other = pd.Series(data=data_mean_dist, index=coordsXY.index)"
   ]
  },
  {
   "cell_type": "code",
   "execution_count": null,
   "metadata": {},
   "outputs": [],
   "source": [
    "for node in tqdm(pos.keys(), desc=\"nodes - distance\"):\n",
    "    max_distance = mean_distance_choice(node, mean_distances, mean_distance_params, 'distance')\n",
    "\n",
    "    print(max_distance)\n",
    "    for neigh_ind in coordsXY.iloc[nbrs.radius_neighbors([coordsXY.loc[node]], radius=max_distance*1000, sort_results=True)[1][0][1:]].index:\n",
    "        edge = [node, neigh_ind]\n",
    "        G_other.add_edges_from([edge])"
   ]
  },
  {
   "cell_type": "code",
   "execution_count": null,
   "metadata": {},
   "outputs": [],
   "source": [
    "G_other = angle_criterion_enhanced(G_other, pos, params=mean_distance_params, mean_distance_to_NN=mean_distances)\n",
    "G_other = quadrant_criterion_enhanced(G_other, pos)"
   ]
  },
  {
   "cell_type": "code",
   "execution_count": null,
   "metadata": {},
   "outputs": [],
   "source": [
    "plot_graph(G_other, pos)"
   ]
  },
  {
   "cell_type": "code",
   "execution_count": null,
   "metadata": {},
   "outputs": [],
   "source": [
    "len(G_other.edges)"
   ]
  },
  {
   "cell_type": "markdown",
   "metadata": {},
   "source": [
    "## On a map"
   ]
  },
  {
   "cell_type": "code",
   "execution_count": null,
   "metadata": {},
   "outputs": [],
   "source": [
    "def add_graph_edges(G_base: nx.Graph, G: nx.Graph, pos: dict, fg: folium.FeatureGroup, colour: str):\n",
    "    for edge in G_base.edges:\n",
    "        stations = []\n",
    "        if(not(edge in G.edges)):\n",
    "            stations.append(pos[edge[0]])\n",
    "            stations.append(pos[edge[1]])\n",
    "\n",
    "            folium.PolyLine(np.array(stations), color=colour, weight=2.5, opacity=1).add_to(fg)"
   ]
  },
  {
   "cell_type": "code",
   "execution_count": null,
   "metadata": {},
   "outputs": [],
   "source": [
    "map = folium.Map(location=np.mean(df_extracted[['latitude','longitude']], axis=0), zoom_start=8.5, tiles=\"Cartodb Positron\")\n",
    "edges_tot = folium.FeatureGroup(f\"Edges - total ({len(G_tot.edges)})\").add_to(map)\n",
    "edges_other = folium.FeatureGroup(f\"Edges - other ({len(G_other.edges)})\").add_to(map)\n",
    "points = folium.FeatureGroup(f\"Points ({len(G)})\").add_to(map)\n",
    "\n",
    "add_graph_edges(G_other, nx.Graph(), pos, edges_other, colour=\"orange\")\n",
    "add_graph_edges(G_tot, nx.Graph(), pos, edges_tot, colour=\"#AAA662\")\n",
    "\n",
    "for ind, latitude, longitude in df_extracted[['latitude', 'longitude']].itertuples():\n",
    "    color = mean_distance_choice(ind, mean_distances, mean_distance_params, 'colour')\n",
    "    points.add_child(folium.CircleMarker(location=[latitude, longitude], color=color, radius=2.5, popup=f\"mean_dist={mean_distances.get(ind)}\"))\n",
    "folium.LayerControl().add_to(map)\n",
    "\n",
    "addLegend(map, mean_distance_params)\n",
    "\n",
    "map.save(\"../../out/maps/neighbourhood_nextGen.html\")"
   ]
  }
 ],
 "metadata": {
  "language_info": {
   "name": "python"
  }
 },
 "nbformat": 4,
 "nbformat_minor": 2
}
