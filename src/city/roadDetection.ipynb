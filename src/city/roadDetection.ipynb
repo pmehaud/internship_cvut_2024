{
 "cells": [
  {
   "cell_type": "code",
   "execution_count": null,
   "metadata": {},
   "outputs": [],
   "source": [
    "import os\n",
    "import sys\n",
    "\n",
    "# Obtenir le répertoire de travail courant\n",
    "current_dir = os.getcwd()\n",
    "\n",
    "# Obtenir le répertoire parent de `maps` (qui est `src`)\n",
    "parent_dir = os.path.abspath(os.path.join(current_dir, os.pardir))\n",
    "\n",
    "# Ajouter `src` au chemin de recherche des modules\n",
    "if parent_dir not in sys.path:\n",
    "    sys.path.append(parent_dir)"
   ]
  },
  {
   "cell_type": "code",
   "execution_count": null,
   "metadata": {},
   "outputs": [],
   "source": [
    "import pandas as pd\n",
    "import numpy as np\n",
    "import folium.features\n",
    "from sklearn.cluster import DBSCAN\n",
    "from sklearn.cluster import HDBSCAN\n",
    "from sklearn.cluster import OPTICS\n",
    "from sklearn.linear_model import LinearRegression \n",
    "from sklearn.preprocessing import PolynomialFeatures\n",
    "from pyproj import Transformer\n",
    "import seaborn as sns\n",
    "import branca\n",
    "\n",
    "from road_utils import *\n",
    "from city_utils import plotMapWithColors\n",
    "from useful_methods.data_processing import extract_data\n",
    "from useful_methods.neighbours_delaunay.graphs import delaunay_graph\n",
    "from useful_methods.neighbours_delaunay.miscellaneous_for_neighbouring import mean_distance_choice\n",
    "from useful_methods.ihm.maps.mapUtils import *"
   ]
  },
  {
   "cell_type": "code",
   "execution_count": null,
   "metadata": {},
   "outputs": [],
   "source": [
    "df = pd.read_csv(\"../../database/data.csv\", sep=\";\", decimal=',')"
   ]
  },
  {
   "cell_type": "code",
   "execution_count": null,
   "metadata": {},
   "outputs": [],
   "source": [
    "df[['x','y']]"
   ]
  },
  {
   "cell_type": "code",
   "execution_count": null,
   "metadata": {},
   "outputs": [],
   "source": [
    "df_extracted = extract_data(df, provider='Orange', techno='4g')#, region='Normandie') #Occitanie, Île-de-France\n",
    "G, pos = delaunay_graph(df_extracted)"
   ]
  },
  {
   "cell_type": "code",
   "execution_count": null,
   "metadata": {},
   "outputs": [],
   "source": [
    "from sklearn.neighbors import NearestNeighbors # type: ignore\n",
    "\n",
    "def mean_distance_to_NN(coordsXY: list, n_neighbours: int = 4) -> pd.Series:\n",
    "    \"\"\" Computes the mean distance to the n_neighbours.\n",
    "        \n",
    "        Parameters\n",
    "        ----------\n",
    "        coordsXY : list\n",
    "            [x, y] coordinates of all points (lambert-93 projection).\n",
    "        n_neighbours : int (default=4)\n",
    "            Number of nearest neighbours.\n",
    "\n",
    "        Returns\n",
    "        -------\n",
    "        mean_distances : pd.Series\n",
    "            A Series containing the mean_distances to base stations' nearest neighbours.\n",
    "    \"\"\"\n",
    "    nbrs = NearestNeighbors(n_neighbors=n_neighbours+1, metric='euclidean').fit(coordsXY)  # n_neighbors+1 because considering himself\n",
    "    #lambda x, y : distance.distance(x[::-1], y[::-1]).km # we use this because less time and precision overall global\n",
    "    distances, _ = nbrs.kneighbors(coordsXY)\n",
    "    \n",
    "    mean_distances = np.mean(distances[:, 1:]/1000, axis=1)  # we exclude the first element (distance to ourself is 0)\n",
    "\n",
    "    return pd.Series(data=mean_distances, index=coordsXY.index)"
   ]
  },
  {
   "cell_type": "code",
   "execution_count": null,
   "metadata": {},
   "outputs": [],
   "source": [
    "mean_distances = mean_distance_to_NN(df_extracted[['x', 'y']], n_neighbours=3) # 3 to have more neighbours"
   ]
  },
  {
   "cell_type": "code",
   "execution_count": null,
   "metadata": {},
   "outputs": [],
   "source": [
    "mean_distance_params = {\n",
    "    ']0, 1] km': {'colour': '#030464', 'angle': 40, 'distance': 2},\n",
    "    ']1, 2] km': {'colour': '#069AF3', 'angle': 30, 'distance': 5},\n",
    "    ']2, 4] km': {'colour': '#02D4BB', 'angle': 25, 'distance': 10},\n",
    "    ']4, inf] km': {'colour': '#0DBF75', 'angle': 15, 'distance': 15},\n",
    "}"
   ]
  },
  {
   "cell_type": "code",
   "execution_count": null,
   "metadata": {},
   "outputs": [],
   "source": [
    "countryside = []\n",
    "for station in mean_distances.index:\n",
    "    if(mean_distances[station]>2):\n",
    "        countryside.append(station)"
   ]
  },
  {
   "cell_type": "code",
   "execution_count": null,
   "metadata": {},
   "outputs": [],
   "source": [
    "clust_dbscan = road_get_clust_dbscan(df_extracted, countryside)\n",
    "clust_hdbscan = road_get_clust_hdbscan(df_extracted, countryside)\n",
    "clust_optics = road_get_clust_optics(df_extracted, countryside)\n"
   ]
  },
  {
   "cell_type": "code",
   "execution_count": null,
   "metadata": {},
   "outputs": [],
   "source": [
    "def rgb_to_hex(rgb):\n",
    "        return '#{:02x}{:02x}{:02x}'.format(int(rgb[0]*255), int(rgb[1]*255), int(rgb[2]*255))\n",
    "\n",
    "def labelToColor(clustId, clusters, palette):   \n",
    "    if (clustId == -1):\n",
    "        return 'gray'\n",
    "    else:\n",
    "        return rgb_to_hex(palette[list(clusters).index(clustId)- (1 if -1 in clusters else 0)])"
   ]
  },
  {
   "cell_type": "code",
   "execution_count": null,
   "metadata": {},
   "outputs": [],
   "source": [
    "clusters_hdbscan = clust_hdbscan.unique()\n",
    "num_clusters_hdbscan = len(clusters_hdbscan) - (1 if -1 in clusters_hdbscan else 0)\n",
    "\n",
    "excluded_clusters_hdbscan, not_exluded_clusters_hdbscan, linearModels, xBounds = detect_roads_based_on_clusters(clust_hdbscan, df_extracted)\n",
    "\n",
    "palette_hdbscan = sns.color_palette(\"hsv\", num_clusters_hdbscan)\n",
    "colors_hdbscan = clust_hdbscan.apply(lambda clustId : labelToColor(clustId, clusters_hdbscan, palette_hdbscan))\n",
    "mapTest = plotMapWithColorsAndLayers(df_extracted, countryside, colors_hdbscan, \"test_hdbscan\", linearModels, xBounds, clust_hdbscan, [not_exluded_clusters_hdbscan, excluded_clusters_hdbscan, [-1]], layersLabel=[\"roads\", \"non-roads\", \"noise\"], mapName=\"OpenStreetMap\")"
   ]
  },
  {
   "cell_type": "code",
   "execution_count": null,
   "metadata": {},
   "outputs": [],
   "source": [
    "palette = sns.color_palette(\"hsv\", len(np.unique(clust_dbscan)-1))\n",
    "colors_dbscan = pd.Series([rgb_to_hex(palette[label]) if label !=-1 else 'gray' for label in clust_dbscan], index = countryside)\n",
    "map1 = plotMapWithColors(df_extracted, countryside, colors_dbscan, \"clusters_road_detection_dbscan\")\n",
    "palette = sns.color_palette(\"hsv\", len(np.unique(clust_hdbscan)-1))\n",
    "colors_hdbscan = pd.Series([rgb_to_hex(palette[label]) if label !=-1 else 'gray' for label in clust_hdbscan], index = countryside)\n",
    "map2 = plotMapWithColors(df_extracted, countryside, colors_hdbscan, \"clusters_road_detection_hdbscan\")\n",
    "palette = sns.color_palette(\"hsv\", len(np.unique(clust_optics)-1))\n",
    "colors_optics = pd.Series([rgb_to_hex(palette[label]) if label !=-1 else 'gray' for label in clust_optics], index = countryside)\n",
    "map3 = plotMapWithColors(df_extracted, countryside, colors_optics, \"clusters_road_detection_optics\")\n"
   ]
  },
  {
   "cell_type": "code",
   "execution_count": null,
   "metadata": {},
   "outputs": [],
   "source": [
    "fig = branca.element.Figure()\n",
    "for i, map in zip([1,2,4], [map1, map2, map3]):\n",
    "    subplot = fig.add_subplot(2, 2, i)\n",
    "    subplot.add_child(map)\n",
    "fig.save(\"../../out/maps/clusters_road_detection.html\")"
   ]
  },
  {
   "cell_type": "code",
   "execution_count": null,
   "metadata": {},
   "outputs": [],
   "source": [
    "for clustering in [clust_dbscan, clust_hdbscan, clust_optics]:\n",
    "    for cluster in clustering.loc[clustering!=-1].unique():\n",
    "        nb_elem = list(clustering).count(cluster)\n",
    "        if(nb_elem <= 10):\n",
    "            clustering.loc[clustering==cluster] = -1"
   ]
  },
  {
   "cell_type": "code",
   "execution_count": null,
   "metadata": {},
   "outputs": [],
   "source": [
    "clust = pd.Series(index=countryside)\n",
    "for bs_id in countryside:\n",
    "    if(((clust_optics[bs_id]==-1) or (clust_dbscan[bs_id]==-1)) and (clust_hdbscan[bs_id]!=-1)):\n",
    "        clust[bs_id] = clust_hdbscan[bs_id]\n",
    "    elif(((clust_hdbscan[bs_id]==-1) or (clust_dbscan[bs_id]==-1)) and (clust_optics[bs_id]!=-1)):\n",
    "        clust[bs_id] = clust_optics[bs_id]\n",
    "    elif(((clust_hdbscan[bs_id]==-1) or (clust_optics[bs_id]==-1)) and (clust_dbscan[bs_id]!=-1)):\n",
    "        clust[bs_id] = clust_dbscan[bs_id]\n",
    "    else:\n",
    "        clust[bs_id] = clust_optics[bs_id]"
   ]
  },
  {
   "cell_type": "code",
   "execution_count": null,
   "metadata": {},
   "outputs": [],
   "source": [
    "map = folium.Map(location=np.mean(df_extracted[['latitude','longitude']], axis=0), zoom_start=7, tiles=\"Cartodb Positron\")\n",
    "points = folium.FeatureGroup(f\"Points ({len(G)})\").add_to(map)\n",
    "\n",
    "for bs_id, latitude, longitude in df_extracted[['latitude', 'longitude']].itertuples():\n",
    "    if(bs_id in countryside):\n",
    "        color = 'gray' if (clust[bs_id]==-1) else 'magenta'\n",
    "        points.add_child(folium.CircleMarker(location=[latitude, longitude], color=color, radius=1, popup=f\"{bs_id}\\nclust: {clust[bs_id]}\\nmean_dist: {mean_distances.get(bs_id)}\"))\n",
    "    else:\n",
    "        color = mean_distance_choice(bs_id, mean_distances, mean_distance_params, 'colour')\n",
    "        points.add_child(folium.CircleMarker(location=[latitude, longitude], color=color, radius=1, popup=f\"{bs_id}\\nmean_dist: {mean_distances.get(bs_id)}\"))\n",
    "\n",
    "folium.LayerControl().add_to(map)\n",
    "\n",
    "map.save(\"../../out/maps/city_test_hdbscan-optics-dbscan_imp.html\")"
   ]
  }
 ],
 "metadata": {
  "kernelspec": {
   "display_name": "Python 3",
   "language": "python",
   "name": "python3"
  },
  "language_info": {
   "codemirror_mode": {
    "name": "ipython",
    "version": 3
   },
   "file_extension": ".py",
   "mimetype": "text/x-python",
   "name": "python",
   "nbconvert_exporter": "python",
   "pygments_lexer": "ipython3",
   "version": "3.12.3"
  }
 },
 "nbformat": 4,
 "nbformat_minor": 2
}
