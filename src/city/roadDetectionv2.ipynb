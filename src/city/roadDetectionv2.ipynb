{
 "cells": [
  {
   "cell_type": "code",
   "execution_count": null,
   "metadata": {},
   "outputs": [],
   "source": [
    "import os\n",
    "import sys\n",
    "\n",
    "# Obtenir le répertoire de travail courant\n",
    "current_dir = os.getcwd()\n",
    "\n",
    "# Obtenir le répertoire parent de `maps` (qui est `src`)\n",
    "parent_dir = os.path.abspath(os.path.join(current_dir, os.pardir))\n",
    "\n",
    "# Ajouter `src` au chemin de recherche des modules\n",
    "if parent_dir not in sys.path:\n",
    "    sys.path.append(parent_dir)"
   ]
  },
  {
   "cell_type": "code",
   "execution_count": null,
   "metadata": {},
   "outputs": [],
   "source": [
    "import pandas as pd\n",
    "import numpy as np\n",
    "import folium.features\n",
    "from sklearn.cluster import DBSCAN\n",
    "from sklearn.cluster import HDBSCAN\n",
    "from sklearn.cluster import OPTICS\n",
    "from sklearn.linear_model import LinearRegression \n",
    "from sklearn.preprocessing import PolynomialFeatures\n",
    "from pyproj import Transformer\n",
    "import seaborn as sns\n",
    "import networkx as nx\n",
    "from scipy.spatial import Delaunay\n",
    "from itertools import combinations\n",
    "import matplotlib.pyplot as plt\n",
    "\n",
    "from road_utils import *\n",
    "from city_utils import plotMapWithColors\n",
    "from useful_methods.data_processing import extract_data\n",
    "from useful_methods.neighbours_delaunay.graphs import delaunay_graph\n",
    "from useful_methods.neighbours_delaunay.miscellaneous_for_neighbouring import mean_distance_choice, mean_distance_to_NN\n",
    "from useful_methods.ihm.maps.mapUtils import *\n",
    "from useful_methods.neighbours_delaunay.enhanced_criteria import km_distance\n",
    "from useful_methods.neighbours_delaunay.simple_criteria import distance_criterion, angle_criterion\n"
   ]
  },
  {
   "cell_type": "code",
   "execution_count": null,
   "metadata": {},
   "outputs": [],
   "source": [
    "df = pd.read_csv(\"../../database/data.csv\", sep=\";\", decimal=',')"
   ]
  },
  {
   "cell_type": "code",
   "execution_count": null,
   "metadata": {},
   "outputs": [],
   "source": [
    "df_extracted = extract_data(df, provider='Orange', techno='4g')#, region='Normandie') #Occitanie, Île-de-France\n",
    "G, pos = delaunay_graph(df_extracted)"
   ]
  },
  {
   "cell_type": "code",
   "execution_count": null,
   "metadata": {},
   "outputs": [],
   "source": [
    "mean_distances = mean_distance_to_NN(df_extracted[['x', 'y']], n_neighbours=3) # 3 to have more neighbours"
   ]
  },
  {
   "cell_type": "code",
   "execution_count": null,
   "metadata": {},
   "outputs": [],
   "source": [
    "cityStationsLabels = []\n",
    "\n",
    "for station in mean_distances.index:\n",
    "    if(mean_distances[station]<=1):\n",
    "        cityStationsLabels.append(station)"
   ]
  },
  {
   "cell_type": "code",
   "execution_count": null,
   "metadata": {},
   "outputs": [],
   "source": [
    "cityLabels = pd.Series(DBSCAN(eps=4000, min_samples=1).fit(df_extracted[['x','y']].loc[cityStationsLabels]).labels_, index = cityStationsLabels)"
   ]
  },
  {
   "cell_type": "code",
   "execution_count": null,
   "metadata": {},
   "outputs": [],
   "source": [
    "cityBsStationCount = cityLabels.value_counts()\n",
    "\n",
    "bigCitiesClusters = cityBsStationCount[cityBsStationCount >= 27].index\n",
    "littleCitiesClusters = cityBsStationCount[cityBsStationCount < 27].index\n"
   ]
  },
  {
   "cell_type": "code",
   "execution_count": null,
   "metadata": {},
   "outputs": [],
   "source": [
    "cityCenters = {cityLabel : (0,0) for cityLabel in cityLabels.unique()}\n",
    "for bs_id, latitude, longitude in df_extracted[['latitude', 'longitude']].loc[cityStationsLabels].itertuples():\n",
    "    coords = cityCenters.get(cityLabels[bs_id])\n",
    "    cityCenters[cityLabels[bs_id]] = (latitude + coords[0], longitude + coords[1])\n",
    "\n",
    "for cityLabel in cityLabels.unique():\n",
    "    cityCenters[cityLabel] = cityCenters.get(cityLabel) / cityBsStationCount[cityLabel]"
   ]
  },
  {
   "cell_type": "code",
   "execution_count": null,
   "metadata": {},
   "outputs": [],
   "source": [
    "def rgb_to_hex(rgb):\n",
    "        return '#{:02x}{:02x}{:02x}'.format(int(rgb[0]*255), int(rgb[1]*255), int(rgb[2]*255))\n",
    "\n",
    "def labelToColor(clustId, clusters, palette):   \n",
    "    if (clustId == -1):\n",
    "        return 'gray'\n",
    "    else:\n",
    "        return rgb_to_hex(palette[list(clusters).index(clustId)- (1 if -1 in clusters else 0)])"
   ]
  },
  {
   "cell_type": "code",
   "execution_count": null,
   "metadata": {},
   "outputs": [],
   "source": [
    "clusters = cityLabels.unique()\n",
    "num_clusters = len(clusters) - (1 if -1 in clusters else 0)\n",
    "palette = sns.color_palette(\"hsv\", num_clusters)\n",
    "colors = cityLabels.apply(lambda clustId : labelToColor(clustId, clusters, palette))"
   ]
  },
  {
   "cell_type": "code",
   "execution_count": null,
   "metadata": {},
   "outputs": [],
   "source": [
    "map = folium.Map(location=np.mean(df_extracted[['latitude','longitude']].loc[cityStationsLabels], axis=0), zoom_start=7, tiles=\"Cartodb Positron\")\n",
    "bigCitiesLayer = folium.FeatureGroup(f\"Big cities\").add_to(map)\n",
    "littleCitiesLayer = folium.FeatureGroup(f\"Little cities\").add_to(map)\n",
    "bigCityCentersLayer = folium.FeatureGroup(f\"big cities centers\").add_to(map)\n",
    "litleCityCenterLayer = folium.FeatureGroup(f\"little cities centers\").add_to(map)\n",
    "for bs_id, latitude, longitude in df_extracted[['latitude', 'longitude']].loc[cityStationsLabels].itertuples():\n",
    "    color = colors[bs_id]\n",
    "    dot = folium.CircleMarker(location=[latitude, longitude], color=color, radius=1, popup=cityLabels[bs_id])\n",
    "\n",
    "    if(cityLabels[bs_id] in bigCitiesClusters):\n",
    "        bigCitiesLayer.add_child(dot)\n",
    "    else:\n",
    "        littleCitiesLayer.add_child(dot)\n",
    "\n",
    "for cityLabel in cityLabels.unique():\n",
    "    \n",
    "    if(cityLabel in bigCitiesClusters):\n",
    "        dot = folium.CircleMarker(location=cityCenters[cityLabel], color='black', fill_opacity = 1, fill=True, radius=7, popup=cityBsStationCount[cityLabel])\n",
    "        bigCityCentersLayer.add_child(dot)\n",
    "    else:\n",
    "        dot = folium.CircleMarker(location=cityCenters[cityLabel], color='black', fill_opacity = 1, fill=True, radius=2, popup=cityBsStationCount[cityLabel])\n",
    "        litleCityCenterLayer.add_child(dot)\n",
    "\n",
    "folium.LayerControl().add_to(map)\n",
    "\n",
    "map.save(f\"../../out/maps/SeparateLilFromBigCities.html\")"
   ]
  },
  {
   "cell_type": "code",
   "execution_count": null,
   "metadata": {},
   "outputs": [],
   "source": [
    "def conformEdge(edge, pos):\n",
    "    return km_distance(pos.get(edge[0]), pos.get(edge[1])) <= 500"
   ]
  },
  {
   "cell_type": "code",
   "execution_count": null,
   "metadata": {},
   "outputs": [],
   "source": [
    "G = nx.Graph()\n",
    "\n",
    "for cluster in bigCitiesClusters:\n",
    "    G.add_node(cluster, pos=cityCenters.get(cluster))\n",
    "\n",
    "pos = nx.get_node_attributes(G, 'pos')  \n",
    "\n",
    "points_pos_big = [cityCenters.get(cluster) for cluster in bigCitiesClusters]\n",
    "delaunay_triangulation = Delaunay(points_pos_big)\n",
    "\n",
    "\n",
    "for simplex in delaunay_triangulation.simplices:\n",
    "    edgesToAdd = [(bigCitiesClusters[start], bigCitiesClusters[end]) for (start, end) in combinations(simplex, 2)]\n",
    "    G.add_edges_from(edgesToAdd)\n",
    "\n",
    "reversed_positions = {node_id: (pos[1], pos[0]) for node_id, pos in pos.items()}\n",
    "\n",
    "G = distance_criterion(G, pos, max_distance=400)\n",
    "G = angle_criterion(G, pos, min_angle=15)\n",
    "\n",
    "nx.draw(G, reversed_positions)"
   ]
  },
  {
   "cell_type": "code",
   "execution_count": null,
   "metadata": {},
   "outputs": [],
   "source": [
    "def distance_to_segment(A, B, C):\n",
    "    A = np.array(A)\n",
    "    B = np.array(B)\n",
    "    C = np.array(C)\n",
    "    \n",
    "    P = A + (np.dot(B-A, C-A))/(np.linalg.norm(B-A)**2) * (B-A)\n",
    "    \n",
    "    k = np.dot(B-A, P-A) / np.linalg.norm(B-A)**2\n",
    "\n",
    "    dist = np.linalg.norm(P-C) if ((k >= 0) and (k <= 1)) else np.inf\n",
    "    \n",
    "    return dist, P"
   ]
  },
  {
   "cell_type": "code",
   "execution_count": null,
   "metadata": {},
   "outputs": [],
   "source": [
    "edgesInBetween = {}\n",
    "for [sEdge, eEdge] in G.edges :\n",
    "    inBetween = []\n",
    "    for cityId in littleCitiesClusters :\n",
    "        dist, P = distance_to_segment(cityCenters[sEdge], cityCenters[eEdge], cityCenters[cityId])\n",
    "        if (dist <= 0.15) :\n",
    "            inBetween.append(cityId)\n",
    "    edgesInBetween[(sEdge, eEdge)] = inBetween"
   ]
  },
  {
   "cell_type": "code",
   "execution_count": null,
   "metadata": {},
   "outputs": [],
   "source": [
    "G_complete = nx.Graph()\n",
    "for cluster in bigCitiesClusters:\n",
    "    G_complete.add_node(cluster, pos=cityCenters.get(cluster))\n",
    "\n",
    "for [sEdge, eEdge] in G.edges:\n",
    "    edges = edgesInBetween.get((sEdge, eEdge))\n",
    "    for cluster in edges:\n",
    "        G_complete.add_node(cluster, pos=cityCenters.get(cluster))\n",
    "\n",
    "    edgesToReach = set(edges)\n",
    "    startingEdge = sEdge\n",
    "\n",
    "    while (len(edgesToReach) != 0):\n",
    "        startingPos = np.array(cityCenters[startingEdge])\n",
    "        dist = np.inf\n",
    "        nextEdge = startingEdge\n",
    "        for possibleEdge in edgesToReach:\n",
    "            possibleEdgePos = np.array(cityCenters[possibleEdge])\n",
    "            possibleDist = np.linalg.norm(possibleEdgePos-startingPos)\n",
    "            if(possibleDist <= dist):\n",
    "                nextEdge = possibleEdge\n",
    "                dist = possibleDist\n",
    "        edgesToReach.remove(nextEdge)\n",
    "        G_complete.add_edge(startingEdge, nextEdge)\n",
    "        startingEdge = nextEdge\n",
    "    G_complete.add_edge(startingEdge, eEdge)\n",
    "\n",
    "\n",
    "pos = nx.get_node_attributes(G_complete, 'pos')  \n",
    "\n",
    "reversed_positions = {node_id: (pos[1], pos[0]) for node_id, pos in pos.items()}\n",
    "\n",
    "node_sizes = [cityBsStationCount.loc[node] for node in G_complete.nodes]\n",
    "\n",
    "nx.draw(G_complete, reversed_positions, node_size = node_sizes)"
   ]
  },
  {
   "cell_type": "code",
   "execution_count": null,
   "metadata": {},
   "outputs": [],
   "source": [
    "possibleRoadBsStations = road_candidates(df_extracted)\n",
    "\n",
    "roadBsStations = set()\n",
    "for edge in G_complete.edges:\n",
    "    for bs_id, latitude, longitude in df_extracted[['latitude', 'longitude']].loc[possibleRoadBsStations].itertuples():\n",
    "        dist, P = distance_to_segment(cityCenters[edge[0]], cityCenters[edge[1]], [latitude, longitude])\n",
    "\n",
    "        if (dist <= 0.4):\n",
    "            roadBsStations.add(bs_id)"
   ]
  },
  {
   "cell_type": "code",
   "execution_count": null,
   "metadata": {},
   "outputs": [],
   "source": [
    "map = folium.Map(location=np.mean(df_extracted[['latitude','longitude']].loc[cityStationsLabels], axis=0), zoom_start=7, tiles=\"OpenStreetMap\")\n",
    "SelectedPossibleRoadsLayer = folium.FeatureGroup(f\"Selected possible roads\").add_to(map)\n",
    "UnselectedPossibleRoadsLayer = folium.FeatureGroup(f\"Unselected possible roads\").add_to(map)\n",
    "graphLayer = folium.FeatureGroup(f\"Graph\").add_to(map)\n",
    "for bs_id, latitude, longitude in df_extracted[['latitude', 'longitude']].loc[possibleRoadBsStations].itertuples():\n",
    "    dot = folium.CircleMarker(location=[latitude, longitude], color='blue', fill_opacity = 1, fill=True, radius=3)\n",
    "    if (bs_id in roadBsStations) :\n",
    "        dot.add_to(SelectedPossibleRoadsLayer)\n",
    "    else : \n",
    "        dot.add_to(UnselectedPossibleRoadsLayer)\n",
    "\n",
    "for edge in G_complete.edges:\n",
    "    folium.PolyLine(locations=np.vstack([cityCenters[edge[0]], cityCenters[edge[1]]])).add_to(graphLayer)\n",
    "\n",
    "folium.LayerControl().add_to(map)\n",
    "map.save(f\"../../out/maps/road.html\")"
   ]
  }
 ],
 "metadata": {
  "kernelspec": {
   "display_name": "Python 3",
   "language": "python",
   "name": "python3"
  },
  "language_info": {
   "codemirror_mode": {
    "name": "ipython",
    "version": 3
   },
   "file_extension": ".py",
   "mimetype": "text/x-python",
   "name": "python",
   "nbconvert_exporter": "python",
   "pygments_lexer": "ipython3",
   "version": "3.12.3"
  }
 },
 "nbformat": 4,
 "nbformat_minor": 2
}
