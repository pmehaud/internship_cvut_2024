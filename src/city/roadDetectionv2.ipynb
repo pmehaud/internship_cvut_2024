{
 "cells": [
  {
   "cell_type": "code",
   "execution_count": null,
   "metadata": {},
   "outputs": [],
   "source": [
    "import os\n",
    "import sys\n",
    "\n",
    "# Obtenir le répertoire de travail courant\n",
    "current_dir = os.getcwd()\n",
    "\n",
    "# Obtenir le répertoire parent de `maps` (qui est `src`)\n",
    "parent_dir = os.path.abspath(os.path.join(current_dir, os.pardir))\n",
    "\n",
    "# Ajouter `src` au chemin de recherche des modules\n",
    "if parent_dir not in sys.path:\n",
    "    sys.path.append(parent_dir)"
   ]
  },
  {
   "cell_type": "code",
   "execution_count": null,
   "metadata": {},
   "outputs": [],
   "source": [
    "import pandas as pd\n",
    "import numpy as np\n",
    "import folium.features\n",
    "from sklearn.cluster import DBSCAN\n",
    "from sklearn.cluster import HDBSCAN\n",
    "from sklearn.cluster import OPTICS\n",
    "from sklearn.linear_model import LinearRegression \n",
    "from sklearn.preprocessing import PolynomialFeatures\n",
    "from pyproj import Transformer\n",
    "import seaborn as sns\n",
    "\n",
    "from road_utils import *\n",
    "from city_utils import plotMapWithColors\n",
    "from useful_methods.data_processing import extract_data\n",
    "from useful_methods.neighbours_delaunay.graphs import delaunay_graph\n",
    "from useful_methods.neighbours_delaunay.miscellaneous_for_neighbouring import mean_distance_choice, mean_distance_to_NN\n",
    "from useful_methods.ihm.maps.mapUtils import *"
   ]
  },
  {
   "cell_type": "code",
   "execution_count": null,
   "metadata": {},
   "outputs": [],
   "source": [
    "df = pd.read_csv(\"../../database/data.csv\", sep=\";\", decimal=',')"
   ]
  },
  {
   "cell_type": "code",
   "execution_count": null,
   "metadata": {},
   "outputs": [],
   "source": [
    "df_extracted = extract_data(df, provider='Orange', techno='4g')#, region='Normandie') #Occitanie, Île-de-France\n",
    "G, pos = delaunay_graph(df_extracted)"
   ]
  },
  {
   "cell_type": "code",
   "execution_count": null,
   "metadata": {},
   "outputs": [],
   "source": [
    "mean_distances = mean_distance_to_NN(df_extracted[['x', 'y']], n_neighbours=3) # 3 to have more neighbours"
   ]
  },
  {
   "cell_type": "code",
   "execution_count": null,
   "metadata": {},
   "outputs": [],
   "source": [
    "cityStationsLabels = []\n",
    "\n",
    "for station in mean_distances.index:\n",
    "    if(mean_distances[station]<=1):\n",
    "        cityStationsLabels.append(station)"
   ]
  },
  {
   "cell_type": "code",
   "execution_count": null,
   "metadata": {},
   "outputs": [],
   "source": [
    "cityLabels = pd.Series(DBSCAN(eps=4000, min_samples=1).fit(df_extracted[['x','y']].loc[cityStationsLabels]).labels_, index = cityStationsLabels)"
   ]
  },
  {
   "cell_type": "code",
   "execution_count": null,
   "metadata": {},
   "outputs": [],
   "source": [
    "cityLabels"
   ]
  },
  {
   "cell_type": "code",
   "execution_count": null,
   "metadata": {},
   "outputs": [],
   "source": [
    "cityBsStationCount = cityLabels.value_counts()\n",
    "\n",
    "bigCitiesClusters = cityBsStationCount[cityBsStationCount >= 27]\n",
    "littleCitiesClusters = cityBsStationCount[cityBsStationCount < 27]\n"
   ]
  },
  {
   "cell_type": "code",
   "execution_count": null,
   "metadata": {},
   "outputs": [],
   "source": [
    "cityBsStationCount[35]"
   ]
  },
  {
   "cell_type": "code",
   "execution_count": null,
   "metadata": {},
   "outputs": [],
   "source": [
    "cityCenters = {cityLabel : (0,0) for cityLabel in cityLabels.unique()}\n",
    "for bs_id, latitude, longitude in df[['latitude', 'longitude']].loc[cityStationsLabels].itertuples():\n",
    "    coords = cityCenters.get(cityLabels[bs_id])\n",
    "    cityCenters[cityLabels[bs_id]] = (latitude + coords[0], longitude + coords[1])\n",
    "\n",
    "for cityLabel in cityLabels.unique():\n",
    "    cityCenters[cityLabel] = cityCenters.get(cityLabel) / cityBsStationCount[cityLabel]"
   ]
  },
  {
   "cell_type": "code",
   "execution_count": null,
   "metadata": {},
   "outputs": [],
   "source": [
    "def rgb_to_hex(rgb):\n",
    "        return '#{:02x}{:02x}{:02x}'.format(int(rgb[0]*255), int(rgb[1]*255), int(rgb[2]*255))\n",
    "\n",
    "def labelToColor(clustId, clusters, palette):   \n",
    "    if (clustId == -1):\n",
    "        return 'gray'\n",
    "    else:\n",
    "        return rgb_to_hex(palette[list(clusters).index(clustId)- (1 if -1 in clusters else 0)])"
   ]
  },
  {
   "cell_type": "code",
   "execution_count": null,
   "metadata": {},
   "outputs": [],
   "source": [
    "clusters = cityLabels.unique()\n",
    "num_clusters = len(clusters) - (1 if -1 in clusters else 0)\n",
    "palette = sns.color_palette(\"hsv\", num_clusters)\n",
    "colors = cityLabels.apply(lambda clustId : labelToColor(clustId, clusters, palette))"
   ]
  },
  {
   "cell_type": "code",
   "execution_count": null,
   "metadata": {},
   "outputs": [],
   "source": [
    "map = folium.Map(location=np.mean(df_extracted[['latitude','longitude']].loc[cityStationsLabels], axis=0), zoom_start=7, tiles=\"Cartodb Positron\")\n",
    "bigCitiesLayer = folium.FeatureGroup(f\"Big cities\").add_to(map)\n",
    "littleCitiesLayer = folium.FeatureGroup(f\"Little cities\").add_to(map)\n",
    "bigCityCentersLayer = folium.FeatureGroup(f\"big cities centers\").add_to(map)\n",
    "liitleCityCenterLayer = folium.FeatureGroup(f\"little cities centers\").add_to(map)\n",
    "for bs_id, latitude, longitude in df[['latitude', 'longitude']].loc[cityStationsLabels].itertuples():\n",
    "    color = colors[bs_id]\n",
    "    dot = folium.CircleMarker(location=[latitude, longitude], color=color, radius=1, popup=cityLabels[bs_id])\n",
    "\n",
    "    if(cityLabels[bs_id] in bigCitiesClusters):\n",
    "        bigCitiesLayer.add_child(dot)\n",
    "    else:\n",
    "        littleCitiesLayer.add_child(dot)\n",
    "\n",
    "for cityLabel in cityLabels.unique():\n",
    "    dot = folium.CircleMarker(location=cityCenters[cityLabel], color='black', fill_opacity = 1, fill=True, radius=5, popup=cityBsStationCount[cityLabel])\n",
    "    if(cityLabel in bigCitiesClusters):\n",
    "        bigCityCentersLayer.add_child(dot)\n",
    "    else:\n",
    "        liitleCityCenterLayer.add_child(dot)\n",
    "\n",
    "folium.LayerControl().add_to(map)\n",
    "\n",
    "map.save(f\"../../out/maps/SeparateLilFromBigCities.html\")"
   ]
  }
 ],
 "metadata": {
  "kernelspec": {
   "display_name": "Python 3",
   "language": "python",
   "name": "python3"
  },
  "language_info": {
   "codemirror_mode": {
    "name": "ipython",
    "version": 3
   },
   "file_extension": ".py",
   "mimetype": "text/x-python",
   "name": "python",
   "nbconvert_exporter": "python",
   "pygments_lexer": "ipython3",
   "version": "3.12.3"
  }
 },
 "nbformat": 4,
 "nbformat_minor": 2
}
