{
 "cells": [
  {
   "cell_type": "code",
   "execution_count": null,
   "metadata": {},
   "outputs": [],
   "source": [
    "import os\n",
    "import sys\n",
    "\n",
    "# Obtenir le répertoire de travail courant\n",
    "current_dir = os.getcwd()\n",
    "\n",
    "# Obtenir le répertoire parent de `maps` (qui est `src`)\n",
    "parent_dir = os.path.abspath(os.path.join(current_dir, os.pardir))\n",
    "\n",
    "# Ajouter `src` au chemin de recherche des modules\n",
    "if parent_dir not in sys.path:\n",
    "    sys.path.append(parent_dir)"
   ]
  },
  {
   "cell_type": "code",
   "execution_count": null,
   "metadata": {},
   "outputs": [],
   "source": [
    "import pandas as pd\n",
    "import numpy as np\n",
    "import folium.features\n",
    "\n",
    "from useful_methods.data_processing import extract_data\n",
    "from useful_methods.neighbours_delaunay.graphs import delaunay_graph\n",
    "from useful_methods.neighbours_delaunay.miscellaneous_for_neighbouring import mean_distance_to_NN\n",
    "from useful_methods.ihm.maps.mapUtils import *\n",
    "from city_utils import *"
   ]
  },
  {
   "cell_type": "code",
   "execution_count": null,
   "metadata": {},
   "outputs": [],
   "source": [
    "df = pd.read_csv(\"../../database/data.csv\", sep=\";\", decimal=',')"
   ]
  },
  {
   "cell_type": "code",
   "execution_count": null,
   "metadata": {},
   "outputs": [],
   "source": [
    "df_extracted = extract_data(df, provider='Orange', techno='4g', min_info=False)\n",
    "G, pos = delaunay_graph(df_extracted)"
   ]
  },
  {
   "cell_type": "code",
   "execution_count": null,
   "metadata": {},
   "outputs": [],
   "source": [
    "df_countryside = pd.read_csv(\"../../database/data_countryside.csv\", sep=\";\", decimal=',')"
   ]
  },
  {
   "cell_type": "code",
   "execution_count": null,
   "metadata": {},
   "outputs": [],
   "source": [
    "df_pop = pd.read_csv(\"../../database/data_population.csv\", sep=\";\", decimal=',')"
   ]
  },
  {
   "cell_type": "code",
   "execution_count": null,
   "metadata": {},
   "outputs": [],
   "source": [
    "# for com in df_extracted['nom_com'].unique():\n",
    "#     df_extracted.loc[df_extracted['nom_com']==com, 'countryside'] = (1 if (df_countryside.loc[df_countryside['COM_NOM']==com, 'UU_ID']=='SO').all() else 0)"
   ]
  },
  {
   "cell_type": "code",
   "execution_count": null,
   "metadata": {},
   "outputs": [],
   "source": [
    "for com in df_extracted['nom_com'].unique():\n",
    "    df_extracted.loc[df_extracted['nom_com']==com, 'countryside'] = (1 if (df_pop.loc[df_pop['Commune']==com, 'PMUN']<7000).all() else 0)"
   ]
  },
  {
   "cell_type": "code",
   "execution_count": null,
   "metadata": {},
   "outputs": [],
   "source": [
    "df_extracted.head()"
   ]
  },
  {
   "cell_type": "code",
   "execution_count": null,
   "metadata": {},
   "outputs": [],
   "source": [
    "map = folium.Map(location=np.mean(df_extracted[['latitude','longitude']], axis=0), zoom_start=7, tiles=\"Cartodb Positron\")\n",
    "points = folium.FeatureGroup(f\"Points ({len(G)})\").add_to(map)\n",
    "\n",
    "for bs_id, latitude, longitude in df_extracted[['latitude', 'longitude']].itertuples():\n",
    "    color = 'gray' if (df_extracted['countryside'][bs_id]==1) else 'magenta'\n",
    "    points.add_child(folium.CircleMarker(location=[latitude, longitude], color=color, radius=1, popup=f\"{bs_id}\"))\n",
    "\n",
    "folium.LayerControl().add_to(map)\n",
    "\n",
    "map.save(\"../../out/maps/countryside_v2.html\")"
   ]
  },
  {
   "cell_type": "markdown",
   "metadata": {},
   "source": [
    "Comparison with other methods"
   ]
  },
  {
   "cell_type": "code",
   "execution_count": null,
   "metadata": {},
   "outputs": [],
   "source": [
    "def mean_distance_to_city_level(v):\n",
    "    if (v>4):\n",
    "        return 4\n",
    "    if (v>2):\n",
    "        return 3\n",
    "    if (v>1):\n",
    "        return 2\n",
    "    return 1"
   ]
  },
  {
   "cell_type": "code",
   "execution_count": null,
   "metadata": {},
   "outputs": [],
   "source": [
    "labels = df_extracted['countryside'].apply(lambda v : -1 if(v==1) else 0)\n",
    "\n",
    "mean_distances = mean_distance_to_NN(df_extracted[['x', 'y']], n_neighbours=3)\n",
    "labels_3NN_detailed = mean_distances.apply(mean_distance_to_city_level)\n",
    "labels_3NN = labels_3NN_detailed.apply(lambda v : 1 if(v<=2) else -1)"
   ]
  },
  {
   "cell_type": "code",
   "execution_count": null,
   "metadata": {},
   "outputs": [],
   "source": [
    "labels_dbs = city_detection(df_extracted[['x', 'y']])['labels']\n",
    "labels_hdb = city_detection_enhanced(df_extracted[['x', 'y']])['labels']"
   ]
  },
  {
   "cell_type": "code",
   "execution_count": null,
   "metadata": {},
   "outputs": [],
   "source": [
    "def labelsToColor(l1, l2): \n",
    "    if ((l1==-1) and (l2==-1)):\n",
    "        return 'green'\n",
    "    if((l1==-1) or (l2==-1)):\n",
    "        return 'blue'\n",
    "    return 'red'"
   ]
  },
  {
   "cell_type": "code",
   "execution_count": null,
   "metadata": {},
   "outputs": [],
   "source": [
    "colors = pd.Series(data=[labelsToColor(l, l3NN) for l, l3NN in zip(labels, labels_3NN)], index=df_extracted.index)\n",
    "map1 = folium.Map(location=np.mean(df_extracted[['latitude','longitude']], axis=0), zoom_start=7, tiles=\"Cartodb Positron\")\n",
    "\n",
    "for ind, latitude, longitude in df_extracted[['latitude', 'longitude']].itertuples():\n",
    "    com = df_extracted['nom_com'][ind]\n",
    "    popup = f\"{com} [{df_pop.loc[df_pop['Commune']==com,'PMUN'].values[0]} hab] (label, 3-NN) :\\n({labels[ind]!=-1},{labels_3NN[ind]!=-1})\"\n",
    "    map1.add_child(folium.RegularPolygonMarker(location=[latitude, longitude], fill_opacity=0.2, radius=1.5, color = colors[ind], popup=popup))\n",
    "\n",
    "map1.save(\"../../out/maps/city-detection-comparison_3NN_v2.html\")"
   ]
  },
  {
   "cell_type": "code",
   "execution_count": null,
   "metadata": {},
   "outputs": [],
   "source": [
    "colors = pd.Series(data=[labelsToColor(l, ldbs) for l, ldbs in zip(labels, labels_dbs)], index=df_extracted.index)\n",
    "map2 = folium.Map(location=np.mean(df_extracted[['latitude','longitude']], axis=0), zoom_start=7, tiles=\"Cartodb Positron\")\n",
    "\n",
    "for ind, latitude, longitude in df_extracted[['latitude', 'longitude']].itertuples():\n",
    "    popup = f'ville (label, DBScan) :\\n({labels[ind]!=-1},{labels_dbs[ind]!=-1})'\n",
    "    map2.add_child(folium.RegularPolygonMarker(location=[latitude, longitude], fill_opacity=0.2, radius=1.5, color = colors[ind], popup=popup))\n",
    "\n",
    "map2.save(\"../../out/maps/city-detection-comparison_DBScan_v2.html\")"
   ]
  },
  {
   "cell_type": "code",
   "execution_count": null,
   "metadata": {},
   "outputs": [],
   "source": [
    "colors = pd.Series(data=[labelsToColor(l, lhdb) for l, lhdb in zip(labels, labels_hdb)], index=df_extracted.index)\n",
    "map3 = folium.Map(location=np.mean(df_extracted[['latitude','longitude']], axis=0), zoom_start=7, tiles=\"Cartodb Positron\")\n",
    "\n",
    "for ind, latitude, longitude in df_extracted[['latitude', 'longitude']].itertuples():\n",
    "    popup = f'ville (label, HDBScan) :\\n({labels[ind]!=-1},{labels_hdb[ind]!=-1})'\n",
    "    map3.add_child(folium.RegularPolygonMarker(location=[latitude, longitude], fill_opacity=0.2, radius=1.5, color = colors[ind], popup=popup))\n",
    "\n",
    "map3.save(\"../../out/maps/city-detection-comparison_HDBScan_v2.html\")"
   ]
  },
  {
   "cell_type": "markdown",
   "metadata": {},
   "source": [
    "## A new new new database"
   ]
  },
  {
   "cell_type": "code",
   "execution_count": null,
   "metadata": {},
   "outputs": [],
   "source": [
    "df_freq = pd.read_csv(\"../../database/data_frequency.csv\", sep=\";\", decimal=',')"
   ]
  }
 ],
 "metadata": {
  "language_info": {
   "name": "python"
  }
 },
 "nbformat": 4,
 "nbformat_minor": 2
}
