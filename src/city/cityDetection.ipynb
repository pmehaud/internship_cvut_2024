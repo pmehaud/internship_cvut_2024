{
 "cells": [
  {
   "cell_type": "code",
   "execution_count": 1,
   "metadata": {},
   "outputs": [],
   "source": [
    "import os\n",
    "import sys\n",
    "import folium.features\n",
    "import branca\n",
    "\n",
    "# Obtenir le répertoire de travail courant\n",
    "current_dir = os.getcwd()\n",
    "\n",
    "# Obtenir le répertoire parent de `maps` (qui est `src`)\n",
    "parent_dir = os.path.abspath(os.path.join(current_dir, os.pardir))\n",
    "\n",
    "# Ajouter `src` au chemin de recherche des modules\n",
    "if parent_dir not in sys.path:\n",
    "    sys.path.append(parent_dir)"
   ]
  },
  {
   "cell_type": "code",
   "execution_count": 2,
   "metadata": {},
   "outputs": [],
   "source": [
    "import matplotlib.pyplot as plt\n",
    "\n",
    "from city_utils import *\n",
    "from useful_methods.data_processing import extract_data\n",
    "from useful_methods.neighbours_delaunay.enhanced_criteria import *\n",
    "from useful_methods.ihm.maps.mapUtils import addLegend\n"
   ]
  },
  {
   "cell_type": "code",
   "execution_count": 3,
   "metadata": {},
   "outputs": [],
   "source": [
    "df = pd.read_csv(\"../../database/data.csv\", sep=\";\", decimal=',')\n",
    "df_extracted = extract_data(df, provider='Orange', techno='4g')"
   ]
  },
  {
   "cell_type": "code",
   "execution_count": 4,
   "metadata": {},
   "outputs": [],
   "source": [
    "labels_1 = city_detection(df_extracted[['x', 'y']])['labels']\n",
    "labels_2 = city_detection_enhanced(df_extracted[['x', 'y']])['labels']\n",
    "\n",
    "def mean_distance_to_city_level(v):\n",
    "    if (v>4):\n",
    "        return 4\n",
    "    if (v>2):\n",
    "        return 3\n",
    "    if (v>1):\n",
    "        return 2\n",
    "    return 1\n",
    "\n",
    "mean_distances = mean_distance_to_NN(df_extracted[['x', 'y']], n_neighbours=3)\n",
    "labels_3_detailed = mean_distances.apply(mean_distance_to_city_level)\n",
    "labels_3 = labels_3_detailed.apply(lambda v : 1 if(v<=2) else -1 )"
   ]
  },
  {
   "cell_type": "markdown",
   "metadata": {},
   "source": [
    "## Plotting cities"
   ]
  },
  {
   "cell_type": "code",
   "execution_count": 5,
   "metadata": {},
   "outputs": [],
   "source": [
    "colors = labels_1.apply(lambda v : 'green' if v==-1 else 'blue')\n",
    "map1 = folium.Map(location=[46.8, 2.3], zoom_start=6, tiles=\"Cartodb Positron\")\n",
    "\n",
    "for ind, latitude, longitude in df_extracted[['latitude', 'longitude']].itertuples():\n",
    "    popup = f'ville (DBScan, HDBScan) :\\n({labels_1[ind]!=-1},{labels_2[ind]!=-1})'\n",
    "    map1.add_child(folium.RegularPolygonMarker(location=[latitude, longitude], fill_opacity=0.2, radius=1.5, color = colors[ind], popup=popup))\n",
    "\n",
    "map1.save(\"../../out/maps/city-detection-DBScan.html\")"
   ]
  },
  {
   "cell_type": "code",
   "execution_count": 6,
   "metadata": {},
   "outputs": [],
   "source": [
    "colors = labels_2.apply(lambda v : 'green' if v==-1 else 'blue')\n",
    "map2 = folium.Map(location=[46.8, 2.3], zoom_start=6, tiles=\"Cartodb Positron\")\n",
    "\n",
    "for ind, latitude, longitude in df_extracted[['latitude', 'longitude']].itertuples():\n",
    "    popup = f'ville (DBScan, HDBScan) :\\n({labels_1[ind]!=-1},{labels_2[ind]!=-1})'\n",
    "    map2.add_child(folium.RegularPolygonMarker(location=[latitude, longitude], fill_opacity=0.2, radius=1.5, color = colors[ind], popup=popup))\n",
    "\n",
    "map2.save(\"../../out/maps/city-detection-HDBScan.html\")"
   ]
  },
  {
   "cell_type": "code",
   "execution_count": 7,
   "metadata": {},
   "outputs": [],
   "source": [
    "colors = labels_3_detailed.apply({1:'#030464',2:'#069AF3',3:'#02D4BB',4:'#0DBF75'}.get)\n",
    "map3 = folium.Map(location=[46.8, 2.3], zoom_start=6, tiles=\"Cartodb Positron\")\n",
    "\n",
    "for ind, latitude, longitude in df_extracted[['latitude', 'longitude']].itertuples():\n",
    "    popup = f'ville (DBScan, HDBScan) :\\n({labels_1[ind]!=-1},{labels_2[ind]!=-1})'\n",
    "    map3.add_child(folium.RegularPolygonMarker(location=[latitude, longitude], fill_opacity=0.2, radius=1.5, color = colors[ind], popup=popup))\n",
    "\n",
    "map3.save(\"../../out/maps/city-detection-KNN.html\")"
   ]
  },
  {
   "cell_type": "code",
   "execution_count": 8,
   "metadata": {},
   "outputs": [],
   "source": [
    "fig = branca.element.Figure()\n",
    "for i, map in zip([1,2,4], [map1, map2, map3]):\n",
    "    subplot = fig.add_subplot(2, 2, i)\n",
    "    subplot.add_child(map)\n",
    "fig.save(\"../../out/maps/city-detection.html\")"
   ]
  },
  {
   "cell_type": "markdown",
   "metadata": {},
   "source": [
    "## Comparing city detections"
   ]
  },
  {
   "cell_type": "code",
   "execution_count": 9,
   "metadata": {},
   "outputs": [],
   "source": [
    "def labelsToColor(l1, l2): \n",
    "    if ((l1==-1) and (l2==-1)):\n",
    "        return 'green'\n",
    "    if((l1==-1) or (l2==-1)):\n",
    "        return 'blue'\n",
    "    return 'red'"
   ]
  },
  {
   "cell_type": "code",
   "execution_count": 10,
   "metadata": {},
   "outputs": [],
   "source": [
    "colors = pd.Series(data=[labelsToColor(l1, l2) for l1, l2 in zip(labels_1, labels_2)], index=df_extracted.index)\n",
    "map4 = folium.Map(location=[46.8, 2.3], zoom_start=6, tiles=\"Cartodb Positron\")\n",
    "\n",
    "for ind, latitude, longitude in df_extracted[['latitude', 'longitude']].itertuples():\n",
    "    popup = f'ville (DBScan, HDBScan) :\\n({labels_1[ind]!=-1},{labels_2[ind]!=-1})'\n",
    "    map4.add_child(folium.RegularPolygonMarker(location=[latitude, longitude], fill_opacity=0.2, radius=1.5, color = colors[ind], popup=popup))\n",
    "\n",
    "map4.save(\"../../out/maps/city-detection-comparison_DBScan-HDBScan.html\")"
   ]
  },
  {
   "cell_type": "code",
   "execution_count": 11,
   "metadata": {},
   "outputs": [],
   "source": [
    "colors = pd.Series(data=[labelsToColor(l2, l3) for l2, l3 in zip(labels_2, labels_3)], index=df_extracted.index)\n",
    "map5 = folium.Map(location=[46.8, 2.3], zoom_start=6, tiles=\"Cartodb Positron\")\n",
    "\n",
    "for ind, latitude, longitude in df_extracted[['latitude', 'longitude']].itertuples():\n",
    "    popup = f'ville (HDBScan, KNN) :\\n({labels_2[ind]!=-1},{labels_3[ind]!=-1})'\n",
    "    map5.add_child(folium.RegularPolygonMarker(location=[latitude, longitude], fill_opacity=0.2, radius=1.5, color = colors[ind], popup=popup))\n",
    "\n",
    "map5.save(\"../../out/maps/city-detection-comparison_HDBScan-3NN.html\")"
   ]
  },
  {
   "cell_type": "code",
   "execution_count": 12,
   "metadata": {},
   "outputs": [],
   "source": [
    "colors = pd.Series(data=[labelsToColor(l1, l3) for l1, l3 in zip(labels_1, labels_3)], index=df_extracted.index)\n",
    "map6 = folium.Map(location=[46.8, 2.3], zoom_start=6, tiles=\"Cartodb Positron\")\n",
    "\n",
    "for ind, latitude, longitude in df_extracted[['latitude', 'longitude']].itertuples():\n",
    "    popup = f'ville (DBScan, KNN) :\\n({labels_1[ind]!=-1},{labels_3[ind]!=-1})'\n",
    "    map6.add_child(folium.RegularPolygonMarker(location=[latitude, longitude], fill_opacity=0.2, radius=1.5, color = colors[ind], popup=popup))\n",
    "\n",
    "map6.save(\"../../out/maps/city-detection-comparison_DBScan-3NN.html\")"
   ]
  },
  {
   "cell_type": "code",
   "execution_count": 13,
   "metadata": {},
   "outputs": [],
   "source": [
    "fig = branca.element.Figure()\n",
    "for i, map in zip([1,2,4], [map4, map5, map6]):\n",
    "    subplot = fig.add_subplot(2, 2, i)\n",
    "    subplot.add_child(map)\n",
    "addLegend(fig,{'ville-ville':'red', 'ville-campagne':'blue', 'campagne-campagne':'green'})\n",
    "fig.save(\"../../out/maps/city-detection-comparison.html\")"
   ]
  },
  {
   "cell_type": "code",
   "execution_count": 14,
   "metadata": {},
   "outputs": [
    {
     "data": {
      "text/plain": [
       "(0.6881406044678056,\n",
       " 0.028055190538764783,\n",
       " 0.051938239159001316,\n",
       " 0.2318659658344284)"
      ]
     },
     "execution_count": 14,
     "metadata": {},
     "output_type": "execute_result"
    }
   ],
   "source": [
    "city_comparison(labels_1, labels_2)"
   ]
  },
  {
   "cell_type": "code",
   "execution_count": 15,
   "metadata": {},
   "outputs": [
    {
     "data": {
      "text/plain": [
       "(0.6264126149802891,\n",
       " 0.11366622864651774,\n",
       " 0.01011826544021025,\n",
       " 0.2498028909329829)"
      ]
     },
     "execution_count": 15,
     "metadata": {},
     "output_type": "execute_result"
    }
   ],
   "source": [
    "city_comparison(labels_2, labels_3)"
   ]
  },
  {
   "cell_type": "code",
   "execution_count": 16,
   "metadata": {},
   "outputs": [
    {
     "data": {
      "text/plain": [
       "(0.62973061760841,\n",
       " 0.08646517739816031,\n",
       " 0.006800262812089356,\n",
       " 0.27700394218134033)"
      ]
     },
     "execution_count": 16,
     "metadata": {},
     "output_type": "execute_result"
    }
   ],
   "source": [
    "city_comparison(labels_1, labels_3)"
   ]
  },
  {
   "cell_type": "code",
   "execution_count": null,
   "metadata": {},
   "outputs": [],
   "source": []
  }
 ],
 "metadata": {
  "kernelspec": {
   "display_name": "Python 3",
   "language": "python",
   "name": "python3"
  },
  "language_info": {
   "codemirror_mode": {
    "name": "ipython",
    "version": 3
   },
   "file_extension": ".py",
   "mimetype": "text/x-python",
   "name": "python",
   "nbconvert_exporter": "python",
   "pygments_lexer": "ipython3",
   "version": "3.12.3"
  }
 },
 "nbformat": 4,
 "nbformat_minor": 2
}
