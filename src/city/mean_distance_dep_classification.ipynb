{
 "cells": [
  {
   "cell_type": "markdown",
   "metadata": {},
   "source": [
    "## Libraries importation"
   ]
  },
  {
   "cell_type": "code",
   "execution_count": null,
   "metadata": {},
   "outputs": [],
   "source": [
    "import os\n",
    "import sys\n",
    "\n",
    "# Obtenir le répertoire de travail courant\n",
    "current_dir = os.getcwd()\n",
    "\n",
    "# Obtenir le répertoire parent de `maps` (qui est `src`)\n",
    "parent_dir = os.path.abspath(os.path.join(current_dir, os.pardir))\n",
    "\n",
    "# Ajouter `src` au chemin de recherche des modules\n",
    "if parent_dir not in sys.path:\n",
    "    sys.path.append(parent_dir)"
   ]
  },
  {
   "cell_type": "code",
   "execution_count": null,
   "metadata": {},
   "outputs": [],
   "source": [
    "import pandas as pd\n",
    "import numpy as np\n",
    "\n",
    "from useful_methods.ihm.plots import plot_graph\n",
    "from useful_methods.neighbours_delaunay.simple_criteria import distance_criterion, quadrant_criterion, angle_criterion\n",
    "from useful_methods.neighbours_delaunay.enhanced_criteria import distance_criterion_enhanced, quadrant_criterion_enhanced, angle_criterion_enhanced\n",
    "from useful_methods.neighbours_delaunay.graphs import delaunay_graph\n",
    "from city.city_utils import city_detection_enhanced\n",
    "from useful_methods.data_processing import extract_data\n",
    "from useful_methods.neighbours_delaunay.miscellaneous_for_neighbouring import mean_distance_to_NN"
   ]
  },
  {
   "cell_type": "code",
   "execution_count": null,
   "metadata": {},
   "outputs": [],
   "source": [
    "# Path to where you want the outputs to be saved\n",
    "out_directory = \"../../out/\""
   ]
  },
  {
   "cell_type": "code",
   "execution_count": null,
   "metadata": {},
   "outputs": [],
   "source": [
    "mean_distance_params = {\n",
    "    ']0, 1] km': {'colour': '#030464', 'angle': 40, 'distance': 2},\n",
    "    ']1, 2] km': {'colour': '#069AF3', 'angle': 30, 'distance': 5},\n",
    "    ']2, 4] km': {'colour': '#02D4BB', 'angle': 25, 'distance': 10},\n",
    "    ']4, inf] km': {'colour': '#0DBF75', 'angle': 15, 'distance': 15},\n",
    "}"
   ]
  },
  {
   "cell_type": "markdown",
   "metadata": {},
   "source": [
    "## Database import and data extraction\n",
    "\n",
    "We will focus only on the Normandie region, using Orange 4G base stations."
   ]
  },
  {
   "cell_type": "code",
   "execution_count": null,
   "metadata": {},
   "outputs": [],
   "source": [
    "df = pd.read_csv(\"../../database/data.csv\", sep=\";\", decimal=\",\")\n",
    "df.head()"
   ]
  },
  {
   "cell_type": "code",
   "execution_count": null,
   "metadata": {},
   "outputs": [],
   "source": [
    "df_extracted = extract_data(df, provider='Orange', techno='4g', min_info=True)\n",
    "df_extracted.head()"
   ]
  },
  {
   "cell_type": "code",
   "execution_count": null,
   "metadata": {},
   "outputs": [],
   "source": [
    "mean_distances = mean_distance_to_NN(df_extracted[['x', 'y']], n_neighbours=3) # 3 to have more neighbours"
   ]
  },
  {
   "cell_type": "code",
   "execution_count": null,
   "metadata": {},
   "outputs": [],
   "source": [
    "for index in df_extracted.index:\n",
    "    df_extracted.loc[index, 'mean_dist'] = mean_distances[index]"
   ]
  },
  {
   "cell_type": "code",
   "execution_count": null,
   "metadata": {},
   "outputs": [],
   "source": [
    "for bs_id in mean_distances.index:\n",
    "    df_extracted.loc[bs_id, 'countryside'] = 1 if(mean_distances[bs_id]>2) else 0\n",
    "\n",
    "df_extracted['countryside'] = df_extracted['countryside'].astype(int)"
   ]
  },
  {
   "cell_type": "code",
   "execution_count": null,
   "metadata": {},
   "outputs": [],
   "source": [
    "df_extracted.head()"
   ]
  },
  {
   "cell_type": "code",
   "execution_count": null,
   "metadata": {},
   "outputs": [],
   "source": [
    "df_meanDistance_dep = pd.DataFrame(columns=['nom_dep', 'city', 'countryside', 'total'])"
   ]
  },
  {
   "cell_type": "code",
   "execution_count": null,
   "metadata": {},
   "outputs": [],
   "source": [
    "from sklearn.neighbors import NearestNeighbors\n",
    "def sum_distance_to_NN(coordsXY: list, n_neighbours: int = 4) -> pd.Series:\n",
    "    nbrs = NearestNeighbors(n_neighbors=n_neighbours+1, metric='euclidean').fit(coordsXY)  # n_neighbors+1 because considering himself\n",
    "    #lambda x, y : distance.distance(x[::-1], y[::-1]).km # we use this because less time and precision overall global\n",
    "    distances, _ = nbrs.kneighbors(coordsXY)\n",
    "    \n",
    "    mean_distances = np.sum(distances[:, 1:]/1000, axis=1)  # we exclude the first element (distance to ourself is 0)\n",
    "\n",
    "    return pd.Series(data=mean_distances, index=coordsXY.index)"
   ]
  },
  {
   "cell_type": "code",
   "execution_count": null,
   "metadata": {},
   "outputs": [],
   "source": [
    "for dep in df_extracted['nom_dep'].unique():\n",
    "    df_tmp_city = df_extracted.loc[((df_extracted['nom_dep']==dep) & (df_extracted['countryside']==0))]\n",
    "    tmp_dist_city = sum_distance_to_NN(df_tmp_city[['x', 'y']], n_neighbours=len(df_tmp_city)-1) if(len(df_tmp_city) > 1) else np.array([-1])\n",
    "\n",
    "    df_tmp_coun = df_extracted.loc[((df_extracted['nom_dep']==dep) & (df_extracted['countryside']==1))]\n",
    "    tmp_dist_coun = sum_distance_to_NN(df_tmp_coun[['x', 'y']], n_neighbours=len(df_tmp_coun)-1) if(len(df_tmp_coun) > 1) else np.array([-1])\n",
    "\n",
    "    df_tmp_tota = df_extracted.loc[(df_extracted['nom_dep']==dep)]\n",
    "    tmp_dist_tota = sum_distance_to_NN(df_tmp_tota[['x', 'y']], n_neighbours=len(df_tmp_tota)-1)\n",
    "\n",
    "    dep_distance_city = np.round(tmp_dist_city.mean(), decimals=5)\n",
    "    dep_distance_coun = np.round(tmp_dist_coun.mean(), decimals=5)\n",
    "    dep_distance = np.round(tmp_dist_tota.mean(), decimals=5)\n",
    "\n",
    "    df_new_row = pd.DataFrame(data=np.array([[dep,dep_distance_city,dep_distance_coun,dep_distance]]), columns=['nom_dep','city','countryside','total'])\n",
    "    df_meanDistance_dep = pd.concat([df_meanDistance_dep, df_new_row], ignore_index=True)\n",
    "df_meanDistance_dep[['city','countryside','total']] = df_meanDistance_dep[['city','countryside','total']].astype(float)"
   ]
  },
  {
   "cell_type": "code",
   "execution_count": null,
   "metadata": {},
   "outputs": [],
   "source": [
    "# for dep in df_extracted['nom_dep'].unique():\n",
    "#     dep_distance_city = np.round(df_extracted.loc[((df_extracted['nom_dep']==dep) & (df_extracted['countryside']==0)), 'mean_dist'].mean(), decimals=5)\n",
    "#     dep_distance_coun = np.round(df_extracted.loc[((df_extracted['nom_dep']==dep) & (df_extracted['countryside']==1)), 'mean_dist'].mean(), decimals=5)\n",
    "#     dep_distance = np.round(df_extracted.loc[(df_extracted['nom_dep']==dep), 'mean_dist'].mean(), decimals=5)\n",
    "\n",
    "#     df_new_row = pd.DataFrame(data=np.array([[dep,dep_distance_city,dep_distance_coun,dep_distance]]), columns=['nom_dep','city','countryside','total'])\n",
    "#     df_meanDistance_dep = pd.concat([df_meanDistance_dep, df_new_row], ignore_index=True)\n",
    "# df_meanDistance_dep[['city','countryside','total']] = df_meanDistance_dep[['city','countryside','total']].astype(float)"
   ]
  },
  {
   "cell_type": "code",
   "execution_count": null,
   "metadata": {},
   "outputs": [],
   "source": [
    "df_meanDistance_dep"
   ]
  },
  {
   "cell_type": "markdown",
   "metadata": {},
   "source": [
    "### Recovery of area and population data from Internet data"
   ]
  },
  {
   "cell_type": "code",
   "execution_count": null,
   "metadata": {},
   "outputs": [],
   "source": [
    "## Data import\n",
    "from bs4 import BeautifulSoup\n",
    "import requests\n",
    "\n",
    "url = \"https://france.ousuisje.com/departements/classement/superficie.php\"\n",
    "\n",
    "reponse = requests.get(url)\n",
    "html_doc = reponse.text\n",
    "soup = BeautifulSoup(html_doc, 'html.parser')\n",
    "table_informations = soup.find('table', summary=\"Classement des départements français par superficie\")\n",
    "# On recherche le header\n",
    "header = table_informations.find('thead')\n",
    "\n",
    "# On trouve toutes les lignes du tableau\n",
    "rows = table_informations.find('tbody').find_all('tr')\n",
    "\n",
    "# Extraction des colonnes\n",
    "column_names = [th.text.strip() for th in header.find_all('th')]"
   ]
  },
  {
   "cell_type": "code",
   "execution_count": null,
   "metadata": {},
   "outputs": [],
   "source": [
    "## Dataframe Creation\n",
    "\n",
    "# Création d'une liste vide qui contiendra les données de chaque départements\n",
    "data = []\n",
    "\n",
    "# Extraction de chaques données\n",
    "for row in rows:\n",
    "    row_data = [td.text.strip() for td in row.find_all('td')]\n",
    "    data.append(row_data)\n",
    "\n",
    "# Création du Dataframe\n",
    "df_dep = pd.DataFrame(data, columns=column_names)\n",
    "\n",
    "df_dep.head()"
   ]
  },
  {
   "cell_type": "markdown",
   "metadata": {},
   "source": [
    "### DataFrame improvment"
   ]
  },
  {
   "cell_type": "code",
   "execution_count": null,
   "metadata": {},
   "outputs": [],
   "source": [
    "df_dep[['nom_dep', 'insee_dep', 'nom_reg']] = df_dep['Département / No / Région'].str.split('\\n\\n|\\n \\[|\\]\\n', expand=True)\n",
    "# Suppression des parenthèses dans la colonne 'code_dep'\n",
    "df_dep['insee_dep'] = df_dep['insee_dep'].str.replace('(', '').str.replace(')', '', regex = False).astype(str)\n",
    "\n",
    "# Suppression du crochet dans la colonne 'nom_region'\n",
    "# df_dep['nom_reg'] = df_dep['nom_reg'].str.replace(']', '', regex = False)\n",
    "df_dep.drop(['Département / No / Région','nom_reg'], axis=1, inplace=True)\n",
    "\n",
    "df_dep['insee_dep'] = df_dep['insee_dep'].str.lstrip(' ') #.str.lstrip('0')\n",
    "\n",
    "df_dep = df_dep.drop(df_dep[(df_dep['insee_dep'] == '973') | (df_dep['insee_dep'] == '972') | (df_dep['insee_dep'] == '974') | (df_dep['insee_dep'] == '976') | (df_dep['insee_dep'] == '971')].index)\n",
    "\n",
    "# display(df_dep.head())\n",
    "\n",
    "for code in df_dep['insee_dep']:\n",
    "    df_dep.loc[df_dep['insee_dep']==code, 'nom_dep'] = df.loc[df['insee_dep']==code, 'nom_dep'].iloc[0]\n",
    "df_dep.drop('insee_dep', axis=1, inplace=True)\n",
    "\n",
    "display(df_dep.head())"
   ]
  },
  {
   "cell_type": "markdown",
   "metadata": {},
   "source": [
    "### Digitization of added columns"
   ]
  },
  {
   "cell_type": "code",
   "execution_count": null,
   "metadata": {},
   "outputs": [],
   "source": [
    "df_dep['Superficie [en km²]'] = df_dep['Superficie [en km²]'].str.replace('\\xa0', '')\n",
    "df_dep['Population'] = df_dep['Population'].str.replace('\\xa0', '')\n",
    "df_dep['Densite [hab. /km²]'] = df_dep['Densite [hab. /km²]'].str.replace('\\xa0', '')"
   ]
  },
  {
   "cell_type": "code",
   "execution_count": null,
   "metadata": {},
   "outputs": [],
   "source": [
    "display(df_dep.head())"
   ]
  },
  {
   "cell_type": "code",
   "execution_count": null,
   "metadata": {},
   "outputs": [],
   "source": [
    "departments = list(np.unique(df_extracted[\"nom_dep\"]))\n",
    "nb_dep = len(departments)\n",
    "\n",
    "df_proPerDep = pd.DataFrame({\n",
    "    \"nom_dep\" : departments,\n",
    "    \"Total\" : [int for i in range(nb_dep)]\n",
    "})\n",
    "\n",
    "for dep in departments: # number of sites per department per provider\n",
    "    df_proPerDep.loc[df_proPerDep[\"nom_dep\"]==dep, \"Total\"] = list(df_extracted[\"nom_dep\"]).count(dep)"
   ]
  },
  {
   "cell_type": "markdown",
   "metadata": {},
   "source": [
    "### ... Bidouillage"
   ]
  },
  {
   "cell_type": "code",
   "execution_count": null,
   "metadata": {},
   "outputs": [],
   "source": [
    "for dep in df_meanDistance_dep['nom_dep']:\n",
    "    tmp = df_meanDistance_dep.loc[df_meanDistance_dep['nom_dep']==dep, 'countryside'].astype(float).values / df_dep.loc[df_dep['nom_dep']==dep, 'Population'].astype(int).values #(df_proPerDep.loc[df_proPerDep[\"nom_dep\"]==dep, \"Total\"].astype(int).values * df_dep.loc[df_dep['nom_dep']==dep, 'Superficie [en km²]'].astype(int).values)\n",
    "    df_meanDistance_dep.loc[df_meanDistance_dep['nom_dep']==dep, 'normalized'] = np.round(tmp[0] * 1000, decimals=5)"
   ]
  },
  {
   "cell_type": "code",
   "execution_count": null,
   "metadata": {},
   "outputs": [],
   "source": [
    "df_meanDistance_dep.sort_values(by=['total'])"
   ]
  },
  {
   "cell_type": "code",
   "execution_count": null,
   "metadata": {},
   "outputs": [],
   "source": [
    "df_meanDistance_dep.loc[df_meanDistance_dep['nom_dep']=='Charente-Maritime']"
   ]
  },
  {
   "cell_type": "code",
   "execution_count": null,
   "metadata": {},
   "outputs": [],
   "source": [
    "results = open(out_directory + \"meanDistDeptClas.md\", \"w\")\n",
    "\n",
    "results.write(df_meanDistance_dep.sort_values(by=['normalized']).to_markdown(index=False) + \"\\n\")\n",
    "\n",
    "results.close()"
   ]
  }
 ],
 "metadata": {
  "language_info": {
   "name": "python"
  }
 },
 "nbformat": 4,
 "nbformat_minor": 2
}
