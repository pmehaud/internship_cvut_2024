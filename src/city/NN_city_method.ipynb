{
 "cells": [
  {
   "cell_type": "code",
   "execution_count": null,
   "metadata": {},
   "outputs": [],
   "source": [
    "import os\n",
    "import sys\n",
    "\n",
    "# Obtenir le répertoire de travail courant\n",
    "current_dir = os.getcwd()\n",
    "\n",
    "# Obtenir le répertoire parent de `maps` (qui est `src`)\n",
    "parent_dir = os.path.abspath(os.path.join(current_dir, os.pardir))\n",
    "\n",
    "# Ajouter `src` au chemin de recherche des modules\n",
    "if parent_dir not in sys.path:\n",
    "    sys.path.append(parent_dir)"
   ]
  },
  {
   "cell_type": "code",
   "execution_count": null,
   "metadata": {},
   "outputs": [],
   "source": [
    "import pandas as pd\n",
    "import numpy as np\n",
    "import folium.features\n",
    "from sklearn.cluster import DBSCAN\n",
    "from sklearn.cluster import HDBSCAN\n",
    "from sklearn.cluster import OPTICS\n",
    "\n",
    "from useful_methods.data_processing import extract_data\n",
    "from useful_methods.neighbours_delaunay.graphs import delaunay_graph\n",
    "from useful_methods.neighbours_delaunay.miscellaneous_for_neighbouring import mean_distance_choice\n",
    "from useful_methods.ihm.maps.mapUtils import *"
   ]
  },
  {
   "cell_type": "code",
   "execution_count": null,
   "metadata": {},
   "outputs": [],
   "source": [
    "df = pd.read_csv(\"../../database/data.csv\", sep=\";\", decimal=',')"
   ]
  },
  {
   "cell_type": "code",
   "execution_count": null,
   "metadata": {},
   "outputs": [],
   "source": [
    "df_extracted = extract_data(df, provider='Orange', techno='4g')#, region='Normandie') #Occitanie, Île-de-France\n",
    "G, pos = delaunay_graph(df_extracted)"
   ]
  },
  {
   "cell_type": "code",
   "execution_count": null,
   "metadata": {},
   "outputs": [],
   "source": [
    "from sklearn.neighbors import NearestNeighbors # type: ignore\n",
    "\n",
    "def mean_distance_to_NN(coordsXY: list, n_neighbours: int = 4) -> pd.Series:\n",
    "    \"\"\" Computes the mean distance to the n_neighbours.\n",
    "        \n",
    "        Parameters\n",
    "        ----------\n",
    "        coordsXY : list\n",
    "            [x, y] coordinates of all points (lambert-93 projection).\n",
    "        n_neighbours : int (default=4)\n",
    "            Number of nearest neighbours.\n",
    "\n",
    "        Returns\n",
    "        -------\n",
    "        mean_distances : pd.Series\n",
    "            A Series containing the mean_distances to base stations' nearest neighbours.\n",
    "    \"\"\"\n",
    "    nbrs = NearestNeighbors(n_neighbors=n_neighbours+1, metric='euclidean').fit(coordsXY)  # n_neighbors+1 because considering himself\n",
    "    #lambda x, y : distance.distance(x[::-1], y[::-1]).km # we use this because less time and precision overall global\n",
    "    distances, _ = nbrs.kneighbors(coordsXY)\n",
    "    \n",
    "    mean_distances = np.mean(distances[:, 1:]/1000, axis=1)  # we exclude the first element (distance to ourself is 0)\n",
    "\n",
    "    return pd.Series(data=mean_distances, index=coordsXY.index)"
   ]
  },
  {
   "cell_type": "code",
   "execution_count": null,
   "metadata": {},
   "outputs": [],
   "source": [
    "mean_distances = mean_distance_to_NN(df_extracted[['x', 'y']], n_neighbours=3) # 3 to have more neighbours"
   ]
  },
  {
   "cell_type": "code",
   "execution_count": null,
   "metadata": {},
   "outputs": [],
   "source": [
    "mean_distance_params = {\n",
    "    ']0, 1] km': {'colour': '#030464', 'angle': 40, 'distance': 2},\n",
    "    ']1, 2] km': {'colour': '#069AF3', 'angle': 30, 'distance': 5},\n",
    "    ']2, 4] km': {'colour': '#02D4BB', 'angle': 25, 'distance': 10},\n",
    "    ']4, inf] km': {'colour': '#0DBF75', 'angle': 15, 'distance': 15},\n",
    "}"
   ]
  },
  {
   "cell_type": "code",
   "execution_count": null,
   "metadata": {},
   "outputs": [],
   "source": [
    "countryside = []\n",
    "for station in mean_distances.index:\n",
    "    if(mean_distances[station]>2):\n",
    "        countryside.append(station)"
   ]
  },
  {
   "cell_type": "code",
   "execution_count": null,
   "metadata": {},
   "outputs": [],
   "source": [
    "clust_dbscan = pd.Series(DBSCAN(eps=4500, min_samples=4).fit(df_extracted[['x','y']].loc[countryside]).labels_, index = countryside)\n",
    "clust_hdbscan = pd.Series(HDBSCAN(cluster_selection_epsilon=4500, min_cluster_size=2, min_samples=2, alpha=75).fit(df_extracted[['x','y']].loc[countryside]).labels_, index = countryside)\n",
    "clust_optics = pd.Series(OPTICS(max_eps=4500, min_samples=4).fit(df_extracted[['x','y']].loc[countryside]).labels_, index = countryside)"
   ]
  },
  {
   "cell_type": "code",
   "execution_count": null,
   "metadata": {},
   "outputs": [],
   "source": [
    "for clustering in [clust_dbscan, clust_hdbscan, clust_optics]:\n",
    "    for cluster in clustering.loc[clustering!=-1].unique():\n",
    "        nb_elem = list(clustering).count(cluster)\n",
    "        if(nb_elem <= 10):\n",
    "            clustering.loc[clustering==cluster] = -1"
   ]
  },
  {
   "cell_type": "code",
   "execution_count": null,
   "metadata": {},
   "outputs": [],
   "source": [
    "clust = pd.Series(index=countryside)\n",
    "for bs_id in countryside:\n",
    "    if(((clust_optics[bs_id]==-1) or (clust_dbscan[bs_id]==-1)) and (clust_hdbscan[bs_id]!=-1)):\n",
    "        clust[bs_id] = clust_hdbscan[bs_id]\n",
    "    elif(((clust_hdbscan[bs_id]==-1) or (clust_dbscan[bs_id]==-1)) and (clust_optics[bs_id]!=-1)):\n",
    "        clust[bs_id] = clust_optics[bs_id]\n",
    "    elif(((clust_hdbscan[bs_id]==-1) or (clust_optics[bs_id]==-1)) and (clust_dbscan[bs_id]!=-1)):\n",
    "        clust[bs_id] = clust_dbscan[bs_id]\n",
    "    else:\n",
    "        clust[bs_id] = clust_optics[bs_id]"
   ]
  },
  {
   "cell_type": "code",
   "execution_count": null,
   "metadata": {},
   "outputs": [],
   "source": [
    "clust.loc[clust==1]"
   ]
  },
  {
   "cell_type": "code",
   "execution_count": null,
   "metadata": {},
   "outputs": [],
   "source": [
    "map = folium.Map(location=np.mean(df_extracted[['latitude','longitude']], axis=0), zoom_start=7, tiles=\"Cartodb Positron\")\n",
    "points = folium.FeatureGroup(f\"Points ({len(G)})\").add_to(map)\n",
    "\n",
    "for bs_id, latitude, longitude in df_extracted[['latitude', 'longitude']].itertuples():\n",
    "    if(bs_id in countryside):\n",
    "        color = 'gray' if (clust[bs_id]==-1) else 'magenta'\n",
    "        points.add_child(folium.CircleMarker(location=[latitude, longitude], color=color, radius=1, popup=f\"{bs_id}\\nclust: {clust[bs_id]}\\nmean_dist: {mean_distances.get(bs_id)}\"))\n",
    "    else:\n",
    "        color = mean_distance_choice(bs_id, mean_distances, mean_distance_params, 'colour')\n",
    "        points.add_child(folium.CircleMarker(location=[latitude, longitude], color=color, radius=1, popup=f\"{bs_id}\\nmean_dist: {mean_distances.get(bs_id)}\"))\n",
    "\n",
    "folium.LayerControl().add_to(map)\n",
    "\n",
    "map.save(\"../../out/maps/city_test_hdbscan-optics-dbscan_imp.html\")"
   ]
  }
 ],
 "metadata": {
  "language_info": {
   "name": "python"
  }
 },
 "nbformat": 4,
 "nbformat_minor": 2
}
