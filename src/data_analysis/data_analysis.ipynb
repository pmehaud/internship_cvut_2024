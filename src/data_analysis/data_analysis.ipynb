{
 "cells": [
  {
   "cell_type": "markdown",
   "metadata": {},
   "source": [
    "# Data Analysis"
   ]
  },
  {
   "cell_type": "code",
   "execution_count": 2,
   "metadata": {},
   "outputs": [],
   "source": [
    "# Importation of libraries\n",
    "import numpy as np\n",
    "import pandas as pd\n",
    "import seaborn as sns\n",
    "import matplotlib as plt\n",
    "from itertools import combinations"
   ]
  },
  {
   "cell_type": "code",
   "execution_count": 3,
   "metadata": {},
   "outputs": [
    {
     "data": {
      "text/html": [
       "<div>\n",
       "<style scoped>\n",
       "    .dataframe tbody tr th:only-of-type {\n",
       "        vertical-align: middle;\n",
       "    }\n",
       "\n",
       "    .dataframe tbody tr th {\n",
       "        vertical-align: top;\n",
       "    }\n",
       "\n",
       "    .dataframe thead th {\n",
       "        text-align: right;\n",
       "    }\n",
       "</style>\n",
       "<table border=\"1\" class=\"dataframe\">\n",
       "  <thead>\n",
       "    <tr style=\"text-align: right;\">\n",
       "      <th></th>\n",
       "      <th>code_op</th>\n",
       "      <th>nom_op</th>\n",
       "      <th>num_site</th>\n",
       "      <th>id_site_partage</th>\n",
       "      <th>id_station_anfr</th>\n",
       "      <th>x</th>\n",
       "      <th>y</th>\n",
       "      <th>latitude</th>\n",
       "      <th>longitude</th>\n",
       "      <th>nom_reg</th>\n",
       "      <th>...</th>\n",
       "      <th>site_ZB</th>\n",
       "      <th>site_DCC</th>\n",
       "      <th>site_strategique</th>\n",
       "      <th>site_capa_240mbps</th>\n",
       "      <th>date_ouverturecommerciale_5g</th>\n",
       "      <th>site_5g_700_m_hz</th>\n",
       "      <th>site_5g_800_m_hz</th>\n",
       "      <th>site_5g_1800_m_hz</th>\n",
       "      <th>site_5g_2100_m_hz</th>\n",
       "      <th>site_5g_3500_m_hz</th>\n",
       "    </tr>\n",
       "  </thead>\n",
       "  <tbody>\n",
       "    <tr>\n",
       "      <th>0</th>\n",
       "      <td>20801</td>\n",
       "      <td>Orange</td>\n",
       "      <td>00000001A1</td>\n",
       "      <td>NaN</td>\n",
       "      <td>0802290015</td>\n",
       "      <td>687035</td>\n",
       "      <td>6985761</td>\n",
       "      <td>49,97028</td>\n",
       "      <td>2,81944</td>\n",
       "      <td>Hauts-de-France</td>\n",
       "      <td>...</td>\n",
       "      <td>0</td>\n",
       "      <td>0</td>\n",
       "      <td>0</td>\n",
       "      <td>0</td>\n",
       "      <td>NaN</td>\n",
       "      <td>0</td>\n",
       "      <td>0</td>\n",
       "      <td>0</td>\n",
       "      <td>0</td>\n",
       "      <td>0</td>\n",
       "    </tr>\n",
       "    <tr>\n",
       "      <th>1</th>\n",
       "      <td>20801</td>\n",
       "      <td>Orange</td>\n",
       "      <td>00000001B1</td>\n",
       "      <td>NaN</td>\n",
       "      <td>0642290151</td>\n",
       "      <td>422853</td>\n",
       "      <td>6249263</td>\n",
       "      <td>43,28861</td>\n",
       "      <td>-0,41389</td>\n",
       "      <td>Nouvelle-Aquitaine</td>\n",
       "      <td>...</td>\n",
       "      <td>0</td>\n",
       "      <td>0</td>\n",
       "      <td>0</td>\n",
       "      <td>1</td>\n",
       "      <td>2020-12-14</td>\n",
       "      <td>0</td>\n",
       "      <td>0</td>\n",
       "      <td>0</td>\n",
       "      <td>1</td>\n",
       "      <td>0</td>\n",
       "    </tr>\n",
       "    <tr>\n",
       "      <th>2</th>\n",
       "      <td>20801</td>\n",
       "      <td>Orange</td>\n",
       "      <td>00000001B2</td>\n",
       "      <td>NaN</td>\n",
       "      <td>0332290026</td>\n",
       "      <td>416932</td>\n",
       "      <td>6422196</td>\n",
       "      <td>44,84112</td>\n",
       "      <td>-0,58333</td>\n",
       "      <td>Nouvelle-Aquitaine</td>\n",
       "      <td>...</td>\n",
       "      <td>0</td>\n",
       "      <td>0</td>\n",
       "      <td>0</td>\n",
       "      <td>1</td>\n",
       "      <td>2021-02-22</td>\n",
       "      <td>0</td>\n",
       "      <td>0</td>\n",
       "      <td>0</td>\n",
       "      <td>0</td>\n",
       "      <td>1</td>\n",
       "    </tr>\n",
       "    <tr>\n",
       "      <th>3</th>\n",
       "      <td>20801</td>\n",
       "      <td>Orange</td>\n",
       "      <td>00000001B3</td>\n",
       "      <td>NaN</td>\n",
       "      <td>0472290005</td>\n",
       "      <td>511106</td>\n",
       "      <td>6349234</td>\n",
       "      <td>44,21666</td>\n",
       "      <td>0,63556</td>\n",
       "      <td>Nouvelle-Aquitaine</td>\n",
       "      <td>...</td>\n",
       "      <td>0</td>\n",
       "      <td>0</td>\n",
       "      <td>0</td>\n",
       "      <td>1</td>\n",
       "      <td>NaN</td>\n",
       "      <td>0</td>\n",
       "      <td>0</td>\n",
       "      <td>0</td>\n",
       "      <td>0</td>\n",
       "      <td>0</td>\n",
       "    </tr>\n",
       "    <tr>\n",
       "      <th>4</th>\n",
       "      <td>20801</td>\n",
       "      <td>Orange</td>\n",
       "      <td>00000001C1</td>\n",
       "      <td>NaN</td>\n",
       "      <td>0512290147</td>\n",
       "      <td>836824</td>\n",
       "      <td>6889450</td>\n",
       "      <td>49,09028</td>\n",
       "      <td>4,87333</td>\n",
       "      <td>Grand Est</td>\n",
       "      <td>...</td>\n",
       "      <td>0</td>\n",
       "      <td>0</td>\n",
       "      <td>0</td>\n",
       "      <td>1</td>\n",
       "      <td>NaN</td>\n",
       "      <td>0</td>\n",
       "      <td>0</td>\n",
       "      <td>0</td>\n",
       "      <td>0</td>\n",
       "      <td>0</td>\n",
       "    </tr>\n",
       "  </tbody>\n",
       "</table>\n",
       "<p>5 rows × 29 columns</p>\n",
       "</div>"
      ],
      "text/plain": [
       "   code_op  nom_op    num_site id_site_partage id_station_anfr       x  \\\n",
       "0    20801  Orange  00000001A1             NaN      0802290015  687035   \n",
       "1    20801  Orange  00000001B1             NaN      0642290151  422853   \n",
       "2    20801  Orange  00000001B2             NaN      0332290026  416932   \n",
       "3    20801  Orange  00000001B3             NaN      0472290005  511106   \n",
       "4    20801  Orange  00000001C1             NaN      0512290147  836824   \n",
       "\n",
       "         y  latitude longitude             nom_reg  ... site_ZB site_DCC  \\\n",
       "0  6985761  49,97028   2,81944     Hauts-de-France  ...       0        0   \n",
       "1  6249263  43,28861  -0,41389  Nouvelle-Aquitaine  ...       0        0   \n",
       "2  6422196  44,84112  -0,58333  Nouvelle-Aquitaine  ...       0        0   \n",
       "3  6349234  44,21666   0,63556  Nouvelle-Aquitaine  ...       0        0   \n",
       "4  6889450  49,09028   4,87333           Grand Est  ...       0        0   \n",
       "\n",
       "  site_strategique site_capa_240mbps  date_ouverturecommerciale_5g  \\\n",
       "0                0                 0                           NaN   \n",
       "1                0                 1                    2020-12-14   \n",
       "2                0                 1                    2021-02-22   \n",
       "3                0                 1                           NaN   \n",
       "4                0                 1                           NaN   \n",
       "\n",
       "   site_5g_700_m_hz  site_5g_800_m_hz  site_5g_1800_m_hz  site_5g_2100_m_hz  \\\n",
       "0                 0                 0                  0                  0   \n",
       "1                 0                 0                  0                  1   \n",
       "2                 0                 0                  0                  0   \n",
       "3                 0                 0                  0                  0   \n",
       "4                 0                 0                  0                  0   \n",
       "\n",
       "   site_5g_3500_m_hz  \n",
       "0                  0  \n",
       "1                  0  \n",
       "2                  1  \n",
       "3                  0  \n",
       "4                  0  \n",
       "\n",
       "[5 rows x 29 columns]"
      ]
     },
     "execution_count": 3,
     "metadata": {},
     "output_type": "execute_result"
    }
   ],
   "source": [
    "# Importing database\n",
    "df = pd.read_csv(\"../database/data.csv\", sep=\";\")\n",
    "df.head()"
   ]
  },
  {
   "cell_type": "markdown",
   "metadata": {},
   "source": [
    "Vérifier qu'une station de base n'est pas référencée 2 fois"
   ]
  },
  {
   "cell_type": "code",
   "execution_count": 8,
   "metadata": {},
   "outputs": [
    {
     "name": "stdout",
     "output_type": "stream",
     "text": [
      "2\n",
      "108544           NaN\n",
      "108607    2810002307\n",
      "Name: num_site, dtype: object\n"
     ]
    }
   ],
   "source": [
    "# Supposons que df soit votre DataFrame et 'colonne' le nom de votre colonne\n",
    "dupliques = df['num_site'].duplicated()\n",
    "\n",
    "print(np.sum(dupliques))\n",
    "\n",
    "# Afficher les valeurs dupliquées\n",
    "valeurs_dupliquees = df['num_site'][dupliques]\n",
    "print(valeurs_dupliquees)"
   ]
  },
  {
   "cell_type": "markdown",
   "metadata": {},
   "source": [
    "## Important facts about database"
   ]
  },
  {
   "cell_type": "code",
   "execution_count": null,
   "metadata": {},
   "outputs": [],
   "source": [
    "sites = list(df[\"num_site\"])\n",
    "nb_sit = len(sites)\n",
    "\n",
    "regions = list(np.unique(df[\"nom_reg\"]))\n",
    "nb_reg = len(regions)\n",
    "\n",
    "departments = list(np.unique(df[\"nom_dep\"]))\n",
    "nb_dep = len(departments)\n",
    "\n",
    "cities = list(np.unique(df[\"nom_com\"]))\n",
    "nb_cit = len(cities)\n",
    "\n",
    "providers = list(np.unique(df[\"nom_op\"]))\n",
    "nb_pro = len(providers)\n",
    "\n",
    "# print(nb_sit) # number of sites\n",
    "\n",
    "# print(nb_sit/nb_reg) # mean number of sites per region\n",
    "\n",
    "# print(nb_sit/nb_dep) # mean number of sites per department\n",
    "\n",
    "# print(nb_sit/nb_cit) # mean number of sites per city\n",
    "\n",
    "# for reg in regions: # number of sites per region\n",
    "    # print(reg + \" : \" + str(list(df[\"nom_reg\"]).count(reg)))\n",
    "\n",
    "# for dep in departments: # number of sites per department\n",
    "#     print(dep + \" : \" + str(list(df[\"nom_dep\"]).count(dep)))\n",
    "\n",
    "# for pro in providers: # number of sites per provider\n",
    "#     print(pro + \" : \" + str(list(df[\"nom_op\"]).count(pro)))\n",
    "\n",
    "# for cit in cities: # number of sites per cities (for cities with a number >= 20)\n",
    "    # count = list(df[\"nom_com\"]).count(cit)\n",
    "#     if (count >= 20):\n",
    "#         nb_cit += 1\n",
    "#         print(cit + \" : \" + str(count))\n",
    "\n",
    "df_proPerReg = pd.DataFrame({\n",
    "    \"nom_reg\" : regions,\n",
    "    \"Free Mobile\" : [None for i in range(nb_reg)],\n",
    "    \"SFR\" : [None for i in range(nb_reg)],\n",
    "    \"Orange\" : [None for i in range(nb_reg)],\n",
    "    \"Bouygues Telecom\" : [None for i in range(nb_reg)],\n",
    "    \"Total\" : [None for i in range(nb_reg)]\n",
    "})\n",
    "\n",
    "for reg in regions: # number of sites per region per provider\n",
    "    for pro in providers:\n",
    "        count = list(df.loc[df[\"nom_reg\"]==reg, \"nom_op\"]).count(pro)\n",
    "        df_proPerReg.loc[df_proPerReg[\"nom_reg\"]==reg, pro] = count\n",
    "        # print(reg + \", \" + pro + \" : \" + str(count))\n",
    "    df_proPerReg.loc[df_proPerReg[\"nom_reg\"]==reg, \"Total\"] = list(df[\"nom_reg\"]).count(reg)\n",
    "\n",
    "df_proPerDep = pd.DataFrame({\n",
    "    \"nom_dep\" : departments,\n",
    "    \"Free Mobile\" : [None for i in range(nb_dep)],\n",
    "    \"SFR\" : [None for i in range(nb_dep)],\n",
    "    \"Orange\" : [None for i in range(nb_dep)],\n",
    "    \"Bouygues Telecom\" : [None for i in range(nb_dep)],\n",
    "    \"Total\" : [None for i in range(nb_dep)]\n",
    "})\n",
    "\n",
    "for dep in departments: # number of sites per department per provider\n",
    "    for pro in providers:\n",
    "        count = list(df.loc[df[\"nom_dep\"]==dep, \"nom_op\"]).count(pro)\n",
    "        df_proPerDep.loc[df_proPerDep[\"nom_dep\"]==dep, pro] = count\n",
    "    df_proPerDep.loc[df_proPerDep[\"nom_dep\"]==dep, \"Total\"] = list(df[\"nom_dep\"]).count(dep)"
   ]
  },
  {
   "cell_type": "code",
   "execution_count": null,
   "metadata": {},
   "outputs": [],
   "source": [
    "df_proPerReg"
   ]
  },
  {
   "cell_type": "code",
   "execution_count": null,
   "metadata": {},
   "outputs": [],
   "source": [
    "nb_sit_2g = sum(df[\"site_2g\"])\n",
    "print(nb_sit_2g)\n",
    "\n",
    "nb_sit_3g = sum(df[\"site_3g\"])\n",
    "print(nb_sit_3g)\n",
    "\n",
    "nb_sit_4g = sum(df[\"site_4g\"])\n",
    "print(nb_sit_4g)\n",
    "\n",
    "nb_sit_5g = sum(df[\"site_5g\"])\n",
    "print(nb_sit_5g)"
   ]
  },
  {
   "cell_type": "code",
   "execution_count": null,
   "metadata": {},
   "outputs": [],
   "source": [
    "total_bold = \"__Total__\""
   ]
  },
  {
   "cell_type": "code",
   "execution_count": null,
   "metadata": {},
   "outputs": [],
   "source": [
    "df_proAndTechno = pd.DataFrame({\n",
    "    \"Opérateur\" : [pro for pro in providers]\n",
    "})"
   ]
  },
  {
   "cell_type": "code",
   "execution_count": null,
   "metadata": {},
   "outputs": [],
   "source": [
    "# for pro in providers:\n",
    "#     df_proAndTechno = pd.concat([df_proAndTechno,pd.DataFrame({'Opérateur' : pro})])\n",
    "df_proAndTechno = pd.concat([df_proAndTechno,pd.DataFrame({'Opérateur' : total_bold},index=[4])])"
   ]
  },
  {
   "cell_type": "code",
   "execution_count": null,
   "metadata": {},
   "outputs": [],
   "source": [
    "df_proAndTechno"
   ]
  },
  {
   "cell_type": "code",
   "execution_count": null,
   "metadata": {},
   "outputs": [],
   "source": [
    "for i in range(2, 6): # techno 2, 3, 4, 5G\n",
    "    tmp = list(range(2, 6))\n",
    "    tmp.remove(i)\n",
    "    for pro in providers:\n",
    "        df_proAndTechno.loc[df_proAndTechno['Opérateur']==pro, f\"{i}G\"] = sum(df.loc[(df[f\"site_{tmp[0]}g\"]==0) & (df[f\"site_{tmp[1]}g\"]==0) & (df[f\"site_{tmp[2]}g\"]==0) & (df['nom_op']==pro), f\"site_{i}g\"])\n",
    "    df_proAndTechno.loc[df_proAndTechno['Opérateur']==total_bold, f\"{i}G\"] = sum(df_proAndTechno[f\"{i}G\"][:-1])"
   ]
  },
  {
   "cell_type": "code",
   "execution_count": null,
   "metadata": {},
   "outputs": [],
   "source": [
    "def create_tmp(cmb: combinations):\n",
    "    tmp = list(range(2, 6))\n",
    "    for rm_tmp in cmb:\n",
    "        tmp.remove(rm_tmp)\n",
    "    \n",
    "    return tmp"
   ]
  },
  {
   "cell_type": "code",
   "execution_count": null,
   "metadata": {},
   "outputs": [],
   "source": [
    "# for nb_comb in range(2, 5):\n",
    "for cmb in combinations(range(2, 6), 2):\n",
    "    tmp = create_tmp(cmb)\n",
    "    for pro in providers:\n",
    "        df_proAndTechno.loc[df_proAndTechno['Opérateur']==pro, f\"{cmb[0]}-{cmb[1]}G\"] = sum(df.loc[(df[f\"site_{tmp[0]}g\"]==0) & (df[f\"site_{tmp[1]}g\"]==0) & (df[f\"site_{cmb[0]}g\"]==1) & (df[f\"site_{cmb[1]}g\"]==1) & (df['nom_op']==pro), f\"site_{cmb[0]}g\"])\n",
    "    df_proAndTechno.loc[df_proAndTechno['Opérateur']==total_bold, f\"{cmb[0]}-{cmb[1]}G\"] = sum(df_proAndTechno[f\"{cmb[0]}-{cmb[1]}G\"][:-1])\n",
    "\n",
    "for cmb in combinations(range(2, 6), 3):\n",
    "    tmp = create_tmp(cmb)\n",
    "    for pro in providers:\n",
    "        df_proAndTechno.loc[df_proAndTechno['Opérateur']==pro, f\"{cmb[0]}-{cmb[1]}-{cmb[2]}G\"] = sum(df.loc[(df[f\"site_{tmp[0]}g\"]==0) & (df[f\"site_{cmb[0]}g\"]==1) & (df[f\"site_{cmb[1]}g\"]==1) & (df[f\"site_{cmb[2]}g\"]==1) & (df['nom_op']==pro), f\"site_{cmb[0]}g\"])\n",
    "    df_proAndTechno.loc[df_proAndTechno['Opérateur']==total_bold, f\"{cmb[0]}-{cmb[1]}-{cmb[2]}G\"] = sum(df_proAndTechno[f\"{cmb[0]}-{cmb[1]}-{cmb[2]}G\"][:-1])\n",
    "\n",
    "for cmb in combinations(range(2, 6), 4):\n",
    "    tmp = create_tmp(cmb)\n",
    "    for pro in providers:\n",
    "        df_proAndTechno.loc[df_proAndTechno['Opérateur']==pro, f\"{cmb[0]}-{cmb[1]}-{cmb[2]}-{cmb[3]}G\"] = sum(df.loc[(df[f\"site_{cmb[0]}g\"]==1) & (df[f\"site_{cmb[1]}g\"]==1) & (df[f\"site_{cmb[2]}g\"]==1) & (df[f\"site_{cmb[3]}g\"]==1) & (df['nom_op']==pro), f\"site_{cmb[0]}g\"])\n",
    "    df_proAndTechno.loc[df_proAndTechno['Opérateur']==total_bold, f\"{cmb[0]}-{cmb[1]}-{cmb[2]}-{cmb[3]}G\"] = sum(df_proAndTechno[f\"{cmb[0]}-{cmb[1]}-{cmb[2]}-{cmb[3]}G\"][:-1])"
   ]
  },
  {
   "cell_type": "code",
   "execution_count": null,
   "metadata": {},
   "outputs": [],
   "source": [
    "for i in df_proAndTechno.columns[1:]:\n",
    "    df_proAndTechno[i] = df_proAndTechno[i].astype(int)"
   ]
  },
  {
   "cell_type": "code",
   "execution_count": null,
   "metadata": {},
   "outputs": [],
   "source": [
    "df_proAndTechno[\"Total\"] = df_proAndTechno[df_proAndTechno.columns[1:]].sum(axis=1)"
   ]
  },
  {
   "cell_type": "code",
   "execution_count": null,
   "metadata": {},
   "outputs": [],
   "source": [
    "df_proAndTechno"
   ]
  },
  {
   "cell_type": "code",
   "execution_count": null,
   "metadata": {},
   "outputs": [],
   "source": [
    "df_techno = pd.DataFrame({\n",
    "    \"Opérateur\" : [pro for pro in providers]\n",
    "})\n",
    "df_techno = pd.concat([df_techno,pd.DataFrame({'Opérateur' : total_bold},index=[4])])\n",
    "for i in range(2, 6):\n",
    "    for pro in providers:\n",
    "        df_techno.loc[df_techno['Opérateur']==pro, f\"avec_{i}G\"] = sum(df.loc[df['nom_op']==pro, f\"site_{i}g\"])\n",
    "    df_techno.loc[df_techno['Opérateur']==total_bold, f\"avec_{i}G\"] = sum(df_techno[f\"avec_{i}G\"][:-1])\n",
    "df_techno[\"Total\"] = df_techno[df_techno.columns[1:]].sum(axis=1)\n",
    "for i in df_techno.columns[1:]:\n",
    "    df_techno[i] = df_techno[i].astype(int)\n",
    "df_techno"
   ]
  },
  {
   "cell_type": "markdown",
   "metadata": {},
   "source": [
    "## Barplots"
   ]
  },
  {
   "cell_type": "markdown",
   "metadata": {},
   "source": [
    "### Color palettes"
   ]
  },
  {
   "cell_type": "code",
   "execution_count": null,
   "metadata": {},
   "outputs": [],
   "source": [
    "color_pal_pro = {'Orange':'#fc5603','SFR':'#169e26','Bouygues Telecom':'#035afc', 'Free Mobile':'#dbd640'}\n",
    "# color_pal_tec = {\"2G\":' #4285F4',\"3G\":'#34A853',\"4G\":'#FBBC05', \"5G\":' #EA4335'}"
   ]
  },
  {
   "cell_type": "markdown",
   "metadata": {},
   "source": [
    "### DataFrame creation for easier plots"
   ]
  },
  {
   "cell_type": "code",
   "execution_count": null,
   "metadata": {},
   "outputs": [],
   "source": [
    "def easyPlotting_df(df):\n",
    "    array_index = [list(df['Opérateur'][:-1]), list(df.columns[1:])]\n",
    "    index=pd.MultiIndex.from_product(array_index, names=[\"nom_op\", \"techno\"])\n",
    "\n",
    "    df_easy = pd.DataFrame(index=index)\n",
    "    for pro in providers:\n",
    "        for techno in list(df.columns[1:]):\n",
    "            df_easy.loc[(pro,techno), 'number'] = df.loc[df['Opérateur']==pro, techno].iloc[0]\n",
    "    df_easy['number'] = df_easy['number'].astype(int)\n",
    "\n",
    "    return df_easy"
   ]
  },
  {
   "cell_type": "markdown",
   "metadata": {},
   "source": [
    "### Definition of a helpful fonction for plotting the dataFrames above"
   ]
  },
  {
   "cell_type": "code",
   "execution_count": null,
   "metadata": {},
   "outputs": [],
   "source": [
    "def pretty_barPlot(df):\n",
    "    sns.set_context('paper') # size of ticks labels\n",
    "    sns.set_theme(style=\"whitegrid\") # style of the backgroung\n",
    "    g = sns.catplot(\n",
    "        data=easyPlotting_df(df),\n",
    "        kind='bar',\n",
    "        x='nom_op',\n",
    "        y='number',\n",
    "        col='techno',\n",
    "        hue='nom_op',\n",
    "        palette=color_pal_pro\n",
    "    )\n",
    "    g.tick_params(axis='x', rotation=15)"
   ]
  },
  {
   "cell_type": "markdown",
   "metadata": {},
   "source": [
    "### Number of sites with at least the $x$ G technology ($x\\in\\{2,\\dots,5\\}$)"
   ]
  },
  {
   "cell_type": "code",
   "execution_count": null,
   "metadata": {},
   "outputs": [],
   "source": [
    "pretty_barPlot(df_techno.loc[:, :'avec_5G'])"
   ]
  },
  {
   "cell_type": "code",
   "execution_count": null,
   "metadata": {},
   "outputs": [],
   "source": [
    "pretty_barPlot(df_proAndTechno.iloc[:, [0,1,2,3,4]])\n",
    "pretty_barPlot(df_proAndTechno.iloc[:, [0,5,6,7]])\n",
    "pretty_barPlot(df_proAndTechno.iloc[:, [0,8,9]])\n",
    "pretty_barPlot(df_proAndTechno.iloc[:, [0,10]])\n",
    "pretty_barPlot(df_proAndTechno.iloc[:, [0,11,12,13]])\n",
    "pretty_barPlot(df_proAndTechno.iloc[:, [0,14]])\n",
    "pretty_barPlot(df_proAndTechno.iloc[:, [0,15,16]])"
   ]
  },
  {
   "cell_type": "markdown",
   "metadata": {},
   "source": [
    "## File exportation"
   ]
  },
  {
   "cell_type": "code",
   "execution_count": null,
   "metadata": {},
   "outputs": [],
   "source": [
    "results = open(\"data_numbers.md\", \"w\")\n",
    "\n",
    "results.write(\"# Analyse des données\\n\")\n",
    "\n",
    "results.write(\"## Description des champs :\\n cf. https://data.arcep.fr/mobile/sites/\\n\")\n",
    "\n",
    "results.write(\"## Chiffres sur les stations de base :\\n\")\n",
    "\n",
    "results.write(\"### Chiffres généraux :\\n\")\n",
    "results.write(\"|||\\n|---|---:|\\n\")\n",
    "results.write(\"| Stations de base | \" + str(nb_sit) + \" | \\n\")\n",
    "results.write(\"| Stations de base/région (moyenne) | \" + str(round(nb_sit/nb_reg)) + \" |\\n\")\n",
    "results.write(\"| Stations de base/département (moyenne) | \" + str(round(nb_sit/nb_dep)) + \" |\\n\")\n",
    "results.write(\"| Stations de base/ville (moyenne) | \" + str(round(nb_sit/nb_cit)) + \" |\\n\")\n",
    "\n",
    "results.write(\"### Stations par opérateurs :\\n\")\n",
    "results.write(\"|Opérateur|Nb de stations|\\n|---|---:|\\n\")\n",
    "for pro in np.unique(providers):\n",
    "    results.write(\"| \" + pro + \" | \" + str(list(df[\"nom_op\"]).count(pro)) + \" | \\n\")\n",
    "\n",
    "results.write(\"### Stations par régions, par opérateurs :\\n\")\n",
    "results.write(df_proPerReg.to_markdown(index=False) + \"\\n\")\n",
    "\n",
    "results.write(\"### Stations par départements, par opérateurs :\\n\")\n",
    "results.write(df_proPerDep.to_markdown(index=False) + \"\\n\")\n",
    "\n",
    "results.write(\"### Type de réseau :\\n\")\n",
    "results.write(df_techno.to_markdown(index=False) + \"\\n\")\n",
    "\n",
    "results.write(\"### Stations par technologies, par opérateurs :\\n\")\n",
    "results.write(df_proAndTechno.to_markdown(index=False) + \"\\n\")\n",
    "\n",
    "results.close()"
   ]
  },
  {
   "cell_type": "markdown",
   "metadata": {},
   "source": [
    "# Contents of the database"
   ]
  },
  {
   "cell_type": "code",
   "execution_count": null,
   "metadata": {},
   "outputs": [],
   "source": [
    "# print(df.dtypes)"
   ]
  },
  {
   "cell_type": "code",
   "execution_count": null,
   "metadata": {},
   "outputs": [],
   "source": [
    "# for col_name in df.columns:\n",
    "#     print(col_name + \" : \" + str(df[col_name].dtype) + \" (\" + str(df[col_name].notnull().count()) + \")\")"
   ]
  }
 ],
 "metadata": {
  "kernelspec": {
   "display_name": "Python 3",
   "language": "python",
   "name": "python3"
  },
  "language_info": {
   "codemirror_mode": {
    "name": "ipython",
    "version": 3
   },
   "file_extension": ".py",
   "mimetype": "text/x-python",
   "name": "python",
   "nbconvert_exporter": "python",
   "pygments_lexer": "ipython3",
   "version": "3.11.6"
  }
 },
 "nbformat": 4,
 "nbformat_minor": 2
}
