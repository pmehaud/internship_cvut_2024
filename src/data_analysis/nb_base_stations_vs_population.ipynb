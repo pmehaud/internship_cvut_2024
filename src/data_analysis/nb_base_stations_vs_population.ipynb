{
 "cells": [
  {
   "cell_type": "code",
   "execution_count": null,
   "metadata": {},
   "outputs": [],
   "source": [
    "import os\n",
    "import sys\n",
    "\n",
    "# Get the current working directory\n",
    "current_dir = os.getcwd()\n",
    "\n",
    "# Get the parent directory of `maps` (which is `src`)\n",
    "parent_dir = os.path.abspath(os.path.join(current_dir, os.pardir))\n",
    "\n",
    "# Add `src` to the module search path\n",
    "if parent_dir not in sys.path:\n",
    "    sys.path.append(parent_dir)"
   ]
  },
  {
   "cell_type": "code",
   "execution_count": null,
   "metadata": {},
   "outputs": [],
   "source": [
    "import pandas as pd\n",
    "import numpy as np\n",
    "import folium.features\n",
    "from sklearn.cluster import DBSCAN\n",
    "from sklearn.cluster import HDBSCAN\n",
    "from sklearn.cluster import OPTICS\n",
    "from sklearn.linear_model import LinearRegression \n",
    "from sklearn.preprocessing import PolynomialFeatures\n",
    "from pyproj import Transformer\n",
    "import seaborn as sns\n",
    "import networkx as nx\n",
    "from scipy.spatial import Delaunay\n",
    "from itertools import combinations\n",
    "import matplotlib.pyplot as plt\n",
    "from sklearn.neighbors import NearestNeighbors\n",
    "import pyproj\n",
    "\n",
    "\n",
    "from python_scripts.road_detection.road_utils import *\n",
    "from python_scripts.miscellaneaous.data_processing import extract_data\n",
    "from python_scripts.graphs.graphs_creation import delaunay_graph\n",
    "from python_scripts.city.city_utils import plotMapWithColors, mean_distance_choice, mean_distance_to_NN\n",
    "from python_scripts.ihm.maps.mapUtils import *\n",
    "from python_scripts.neighbours_criteria.enhanced_criteria import km_distance\n",
    "from python_scripts.neighbours_criteria.simple_criteria import distance_criterion, angle_criterion\n"
   ]
  },
  {
   "cell_type": "markdown",
   "metadata": {},
   "source": [
    "# Detect cities"
   ]
  },
  {
   "cell_type": "code",
   "execution_count": null,
   "metadata": {},
   "outputs": [],
   "source": [
    "df = pd.read_csv(\"../../database/data.csv\", sep=\";\", decimal=',')"
   ]
  },
  {
   "cell_type": "code",
   "execution_count": null,
   "metadata": {},
   "outputs": [],
   "source": [
    "df_extracted = extract_data(df, provider='Orange')#, techno='4g')#, region='Normandie') #Occitanie, Île-de-France\n",
    "# G, pos = delaunay_graph(df_extracted)"
   ]
  },
  {
   "cell_type": "code",
   "execution_count": null,
   "metadata": {},
   "outputs": [],
   "source": [
    "cityLabels = pd.Series(DBSCAN(eps=1000, min_samples=11).fit(df_extracted[['x','y']]).labels_, index = df_extracted.index)\n",
    "cityLabels = cityLabels.drop(cityLabels.loc[cityLabels==-1].index)\n",
    "clusters = cityLabels.unique()\n",
    "num_clusters = len(clusters)"
   ]
  },
  {
   "cell_type": "code",
   "execution_count": null,
   "metadata": {},
   "outputs": [],
   "source": [
    "cityBsStationCount = cityLabels.value_counts()"
   ]
  },
  {
   "cell_type": "code",
   "execution_count": null,
   "metadata": {},
   "outputs": [],
   "source": [
    "def getCityCenters(df_extracted, clusters, cityBsStationCount):\n",
    "    res = {cityLabel : (0,0) for cityLabel in clusters}\n",
    "    for bs_id, x, y in df_extracted[['x', 'y']].loc[cityLabels.index].itertuples():\n",
    "        coords = res.get(cityLabels[bs_id])\n",
    "        res[cityLabels[bs_id]] = (x + coords[0], y + coords[1])\n",
    "\n",
    "    for cluster in clusters:\n",
    "        res[cluster] = res.get(cluster) / cityBsStationCount[cluster]\n",
    "    return res"
   ]
  },
  {
   "cell_type": "code",
   "execution_count": null,
   "metadata": {},
   "outputs": [],
   "source": [
    "cityCenters = getCityCenters(df_extracted, clusters, cityBsStationCount)"
   ]
  },
  {
   "cell_type": "code",
   "execution_count": null,
   "metadata": {},
   "outputs": [],
   "source": [
    "# array1 = np.array(list(cityCenters.values())).reshape(-1,2)\n",
    "# array2 = np.array(df_extracted[['x', 'y']].values)\n",
    "\n",
    "# # Initialize the NearestNeighbors model and fit it to list2\n",
    "# nbrs = NearestNeighbors(n_neighbors=1, algorithm='auto').fit(array2)\n",
    "\n",
    "# # Find the nearest neighbors for each point in list1\n",
    "# distances, indices = nbrs.kneighbors(array1)\n",
    "\n",
    "# Compute cities names\n",
    "# cityNames = {cityId : df_extracted['nom_com'].loc[df_extracted.index[indice][0]] for (cityId, indice) in zip(cityCenters.keys(), indices)}\n",
    "\n",
    "cityNames = {cityId : df_extracted['nom_com'].loc[cityLabels.loc[cityLabels==cityId].index].value_counts().index[0] for cityId in clusters}\n",
    "\n",
    "# Merge clusters that have the same names\n",
    "for cityName in np.sort(np.unique(list(cityNames.values()))):\n",
    "    clustersWithSameName = [key for i, key in enumerate(list(cityNames.keys())) if list(cityNames.values())[i] == cityName]\n",
    "    if(len(clustersWithSameName) > 1):\n",
    "        clusterToKeep = np.min(clustersWithSameName)\n",
    "        cityLabels = cityLabels.apply(lambda v: clusterToKeep if v in clustersWithSameName else v)\n",
    "        for i in clustersWithSameName :\n",
    "            if i != clusterToKeep:\n",
    "                cityNames.pop(i)\n",
    "clusters = list(cityLabels.unique())\n",
    "num_clusters = len(clusters)\n",
    "cityBsStationCount = cityLabels.value_counts()\n",
    "cityCenters = getCityCenters(df_extracted, clusters, cityBsStationCount)"
   ]
  },
  {
   "cell_type": "markdown",
   "metadata": {},
   "source": [
    "# Plot cities"
   ]
  },
  {
   "cell_type": "code",
   "execution_count": null,
   "metadata": {},
   "outputs": [],
   "source": [
    "def rgb_to_hex(rgb):\n",
    "        return '#{:02x}{:02x}{:02x}'.format(int(rgb[0]*255), int(rgb[1]*255), int(rgb[2]*255))\n",
    "\n",
    "def labelToColor(clustId, clusters, palette):   \n",
    "    return rgb_to_hex(palette[list(clusters).index(clustId)])"
   ]
  },
  {
   "cell_type": "code",
   "execution_count": null,
   "metadata": {},
   "outputs": [],
   "source": [
    "lambert93 = pyproj.CRS(\"EPSG:2154\")  # Lambert 93\n",
    "wgs84 = pyproj.CRS(\"EPSG:4326\")       # WGS84\n",
    "transformer = pyproj.Transformer.from_crs(lambert93, wgs84, always_xy=True)"
   ]
  },
  {
   "cell_type": "code",
   "execution_count": null,
   "metadata": {},
   "outputs": [],
   "source": [
    "palette = sns.color_palette(\"hsv\", num_clusters)\n",
    "colors = cityLabels.apply(lambda clustId : labelToColor(clustId, clusters, palette))\n",
    "\n",
    "map = folium.Map(location=np.mean(df_extracted[['latitude','longitude']], axis=0), zoom_start=7, tiles=\"Cartodb Positron\")\n",
    "citiesLayer = folium.FeatureGroup(f\"Cities\").add_to(map)\n",
    "cityCenterLayer = folium.FeatureGroup(f\"Cities centers\").add_to(map)\n",
    "for bs_id, latitude, longitude in df_extracted[['latitude', 'longitude']].loc[cityLabels.index].itertuples():\n",
    "    color = colors[bs_id]\n",
    "    dot = folium.CircleMarker(location=[latitude, longitude], color=color, radius=1, popup=cityNames.get(cityLabels[bs_id]))\n",
    "    citiesLayer.add_child(dot)\n",
    "\n",
    "for cityLabel in clusters:\n",
    "    locationXY = cityCenters[cityLabel]\n",
    "    locationLl = transformer.transform(locationXY[0], locationXY[1])[::-1]\n",
    "    dot = folium.CircleMarker(location=locationLl, color='black', fill_opacity = 1, fill=True, radius=5, popup=cityNames.get(cityLabel))\n",
    "    cityCenterLayer.add_child(dot)\n",
    "\n",
    "\n",
    "folium.LayerControl().add_to(map)\n",
    "\n",
    "map.save(f\"../../out/maps/CitiesDetected.html\")"
   ]
  },
  {
   "cell_type": "markdown",
   "metadata": {},
   "source": [
    "# Import Cities datas"
   ]
  },
  {
   "cell_type": "code",
   "execution_count": null,
   "metadata": {},
   "outputs": [],
   "source": [
    "cities_infos = pd.read_csv(\"../../database/data_population.csv\", sep=\";\", decimal=',')"
   ]
  },
  {
   "cell_type": "code",
   "execution_count": null,
   "metadata": {},
   "outputs": [],
   "source": [
    "cities_infos.loc[cities_infos['Commune']=='Marseille']"
   ]
  },
  {
   "cell_type": "code",
   "execution_count": null,
   "metadata": {},
   "outputs": [],
   "source": [
    "biggest_cities = cities_infos['Commune'].loc[cities_infos['PMUN'].sort_values(ascending=False).index[:45]].values\n",
    "np.sum([cityNames.get(cluster) in biggest_cities for cluster in clusters])/num_clusters"
   ]
  },
  {
   "cell_type": "code",
   "execution_count": null,
   "metadata": {},
   "outputs": [],
   "source": [
    "populations = {}\n",
    "\n",
    "for cluster in clusters:\n",
    "    cityName = cityNames.get(cluster)\n",
    "    city_row = cities_infos[cities_infos['Commune']==cityName]\n",
    "    population = city_row['PMUN'].values[0]\n",
    "    populations[cluster]=population\n",
    "\n",
    "print(f\"Coefficient de corrélation : {np.corrcoef(cityBsStationCount.loc[cityNames.keys()].values, [populations.get(key) for key in cityNames.keys()])[0,1]}\")\n",
    "\n",
    "plt.figure(figsize=(15,10))\n",
    "ax = plt.subplot(111)\n",
    "\n",
    "X_axis = np.arange(len(cityNames.values())) \n",
    "\n",
    "nbBaseStationScores = cityBsStationCount.loc[cityNames.keys()].values/np.max(cityBsStationCount.values)\n",
    "plt.bar(X_axis + 0.2, nbBaseStationScores, 0.4, label = 'NbBaseStion') \n",
    "\n",
    "populationScores = [populations.get(key) for key in cityNames.keys()]/np.max(list(populations.values()))\n",
    "plt.bar(X_axis - 0.2, populationScores, 0.4, label = 'Population') \n",
    "  \n",
    "plt.xticks(X_axis, cityNames.values()) \n",
    "plt.xlabel(\"Cities detected\") \n",
    "plt.ylabel(\"% of the max\") \n",
    "plt.title(\"Population vs nb of base station\") \n",
    "plt.legend() \n",
    "plt.xticks(rotation=90)\n",
    "\n",
    "plt.show() \n",
    "\n",
    "\n",
    "\n",
    "plt.show()"
   ]
  },
  {
   "cell_type": "code",
   "execution_count": null,
   "metadata": {},
   "outputs": [],
   "source": [
    "representation_score = pd.Series(data = nbBaseStationScores / populationScores, index=cityNames.values()).sort_values(ascending=False)\n",
    "print(representation_score)\n",
    "print(np.median(representation_score))"
   ]
  }
 ],
 "metadata": {
  "kernelspec": {
   "display_name": "Python 3",
   "language": "python",
   "name": "python3"
  },
  "language_info": {
   "codemirror_mode": {
    "name": "ipython",
    "version": 3
   },
   "file_extension": ".py",
   "mimetype": "text/x-python",
   "name": "python",
   "nbconvert_exporter": "python",
   "pygments_lexer": "ipython3",
   "version": "3.12.3"
  }
 },
 "nbformat": 4,
 "nbformat_minor": 2
}
