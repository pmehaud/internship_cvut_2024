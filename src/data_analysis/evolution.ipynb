{
 "cells": [
  {
   "cell_type": "code",
   "execution_count": null,
   "metadata": {},
   "outputs": [],
   "source": [
    "import pandas as pd\n",
    "from os.path import exists\n",
    "import matplotlib.pyplot as plt\n",
    "# Importation of libraries\n",
    "import numpy as np\n",
    "import pandas as pd\n",
    "import seaborn as sns\n",
    "import matplotlib.pyplot as plt\n",
    "from datetime import datetime"
   ]
  },
  {
   "cell_type": "markdown",
   "metadata": {},
   "source": [
    "## La 5G"
   ]
  },
  {
   "cell_type": "code",
   "execution_count": null,
   "metadata": {},
   "outputs": [],
   "source": [
    "# Importing database\n",
    "df = pd.read_csv(\"../../database/data-5G.csv\", sep=\",\")\n",
    "df = df[df['LIBGEO']=='France Métropolitaine']\n",
    "df"
   ]
  },
  {
   "cell_type": "code",
   "execution_count": null,
   "metadata": {},
   "outputs": [],
   "source": [
    "providers =df['nom_operateur'].unique()\n",
    "labelsToColors={'Bouygues Telecom':'#035afc', 'Orange':'#fc5603', 'SFR':'#169e26', 'Free Mobile':'#dbd640'}\n",
    "plt.figure(figsize=(20,6))\n",
    "for provider in providers:\n",
    "    color = labelsToColors.get(provider)\n",
    "    df_operator = df[df['nom_operateur']==provider]\n",
    "    plt.plot(df_operator['date'].apply(lambda date : datetime.strptime(date, '%Y-%m-%d').strftime('%d/%m/%y')), df_operator['nb_sites5G_total'], color=color, label = provider)\n",
    "plt.legend(loc=\"upper left\")\n",
    "plt.title(\"Évolution du nombre de stations 5G\")\n",
    "plt.savefig(\"../../out/images/5G-evolution\", dpi = 100)\n",
    "\n",
    "plt.show()"
   ]
  },
  {
   "cell_type": "markdown",
   "metadata": {},
   "source": [
    "## Toutes les technos"
   ]
  },
  {
   "cell_type": "code",
   "execution_count": null,
   "metadata": {},
   "outputs": [],
   "source": [
    "datas = dict()\n",
    "for year in range(2017,2024):\n",
    "    for quarter in range(1,5):\n",
    "        path_to_file = f\"../../database/{year}_T{quarter}_sites_Metropole.csv\"\n",
    "        if (exists(path_to_file)):\n",
    "            data  = pd.read_csv(path_to_file, engine='python', sep=\";\")\n",
    "            datas[(year, quarter)] = data"
   ]
  },
  {
   "cell_type": "code",
   "execution_count": null,
   "metadata": {},
   "outputs": [],
   "source": [
    "stations_counts = dict()\n",
    "for year in range(2017,2024):\n",
    "    for quarter in range(1,5):\n",
    "        counts = []\n",
    "        if((year, quarter) in datas):\n",
    "            data = datas.get((year, quarter))\n",
    "            for techno in ['site_2g','site_3g','site_4g','site_5g']:\n",
    "                if (techno in data):\n",
    "                    counts.append(data[data[techno]==1].size)\n",
    "                else :\n",
    "                    counts.append(0)\n",
    "            stations_counts[(year, quarter)]=counts"
   ]
  },
  {
   "cell_type": "code",
   "execution_count": null,
   "metadata": {},
   "outputs": [],
   "source": [
    "datas.get((2021, 4))"
   ]
  },
  {
   "cell_type": "code",
   "execution_count": null,
   "metadata": {},
   "outputs": [],
   "source": [
    "dates = [f\"{y}-T{q}\" for y in range(2017,2024) for q in range(1,5)][2:]\n",
    "generations_date_counts=[[stations_counts.get((year, quarter),[0,0,0,0])[techno] for year in range(2017,2024) for quarter in range(1,5) if not(year==2017 and quarter <=2)] for techno in range(4)]"
   ]
  },
  {
   "cell_type": "code",
   "execution_count": null,
   "metadata": {},
   "outputs": [],
   "source": [
    "\n",
    "print(len(dates))\n",
    "plt.figure(figsize=(15,5))\n",
    "for techno in range(5, 1, -1):\n",
    "    plt.plot(dates,generations_date_counts[techno-2], label = f\"{techno}G\")\n",
    "plt.gca().xaxis.set_tick_params(labelsize = 7)\n",
    "plt.legend(loc=\"upper left\")\n",
    "plt.title(\"Évolution du nombre de stations pour chaque technologie\")\n",
    "plt.savefig(\"../../out/images/technos-evolution\", dpi = 100)\n",
    "plt.show()"
   ]
  }
 ],
 "metadata": {
  "kernelspec": {
   "display_name": "Python 3",
   "language": "python",
   "name": "python3"
  },
  "language_info": {
   "codemirror_mode": {
    "name": "ipython",
    "version": 3
   },
   "file_extension": ".py",
   "mimetype": "text/x-python",
   "name": "python",
   "nbconvert_exporter": "python",
   "pygments_lexer": "ipython3",
   "version": "3.11.6"
  }
 },
 "nbformat": 4,
 "nbformat_minor": 2
}
