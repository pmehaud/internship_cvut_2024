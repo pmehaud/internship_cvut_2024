{
 "cells": [
  {
   "cell_type": "code",
   "execution_count": null,
   "metadata": {},
   "outputs": [],
   "source": [
    "import pandas as pd\n",
    "from os.path import exists\n",
    "import matplotlib.pyplot as plt\n",
    "# Importation of libraries\n",
    "import numpy as np\n",
    "import pandas as pd\n",
    "import seaborn as sns\n",
    "import matplotlib.pyplot as plt\n",
    "from datetime import datetime"
   ]
  },
  {
   "cell_type": "markdown",
   "metadata": {},
   "source": [
    "## La 5G"
   ]
  },
  {
   "cell_type": "code",
   "execution_count": null,
   "metadata": {},
   "outputs": [],
   "source": [
    "# Importing database\n",
    "df = pd.read_csv(\"../../database/data-5G.csv\", sep=\",\")\n",
    "df = df[df['LIBGEO']=='France Métropolitaine']\n",
    "df"
   ]
  },
  {
   "cell_type": "code",
   "execution_count": null,
   "metadata": {},
   "outputs": [],
   "source": [
    "providers =df['nom_operateur'].unique()\n",
    "labelsToColors={'Bouygues Telecom':'#035afc', 'Orange':'#fc5603', 'SFR':'#169e26', 'Free Mobile':'#dbd640'}\n",
    "plt.figure(figsize=(20,6))\n",
    "for provider in providers:\n",
    "    color = labelsToColors.get(provider)\n",
    "    df_operator = df[df['nom_operateur']==provider]\n",
    "    plt.plot(df_operator['date'].apply(lambda date : datetime.strptime(date, '%Y-%m-%d').strftime('%d/%m/%y')), df_operator['nb_sites5G_total'], color=color, label = provider)\n",
    "plt.legend(loc=\"upper left\")\n",
    "plt.title(\"Évolution du nombre de stations 5G\")\n",
    "plt.savefig(\"../../out/images/5G-evolution\", dpi = 100)\n",
    "\n",
    "plt.show()"
   ]
  },
  {
   "cell_type": "markdown",
   "metadata": {},
   "source": [
    "## Toutes les technos"
   ]
  },
  {
   "cell_type": "code",
   "execution_count": null,
   "metadata": {},
   "outputs": [],
   "source": [
    "datas = dict()\n",
    "for year in range(2017,2024):\n",
    "    for quarter in range(1,5):\n",
    "        path_to_file = f\"../../database/{year}_T{quarter}_sites_Metropole.csv\"\n",
    "        if (exists(path_to_file)):\n",
    "            data  = pd.read_csv(path_to_file, engine='python', sep=\";\")\n",
    "            if ('site_5g' in data):\n",
    "                datas[(year, quarter)] = data[['site_2g','site_3g','site_4g','site_5g','code_op']]\n",
    "            else :\n",
    "                datas[(year, quarter)] = data[['site_2g','site_3g','site_4g','code_op']]"
   ]
  },
  {
   "cell_type": "code",
   "execution_count": null,
   "metadata": {},
   "outputs": [],
   "source": [
    "providerToCode = dict({'Orange' : 20801, 'Free Mobile' : 20815, 'SFR' : 20810, 'Bouygues Telecom' : 20820})\n",
    "dates = [(year, quarter) for year in range(2017,2024) for quarter in range(1,5) if not(year==2017 and quarter <=2)]\n",
    "dates_formatted = [f\"{y}-T{q}\" for (y,q) in dates]"
   ]
  },
  {
   "cell_type": "code",
   "execution_count": null,
   "metadata": {},
   "outputs": [],
   "source": [
    "stations_counts_providers = dict()\n",
    "for provider in providers:\n",
    "    stations_counts = dict()\n",
    "    for (year, quarter) in dates:\n",
    "        counts = []\n",
    "        if((year, quarter) in datas):\n",
    "            data_all_providers = datas.get((year, quarter))\n",
    "            data_provider = data_all_providers.loc[data_all_providers['code_op']==providerToCode.get(provider)]\n",
    "            for techno in ['site_2g','site_3g','site_4g','site_5g']:\n",
    "                if (techno in data_provider):\n",
    "                    counts.append(data_provider[techno].sum())\n",
    "                else :\n",
    "                    counts.append(0)\n",
    "            stations_counts[(year, quarter)]=counts\n",
    "    stations_counts_providers[provider]=stations_counts"
   ]
  },
  {
   "cell_type": "code",
   "execution_count": null,
   "metadata": {},
   "outputs": [],
   "source": [
    "generations_date_counts=[[[stations_counts_providers.get(provider).get((year, quarter),[0,0,0,0])[techno] for year,quarter in dates] for techno in range(4)] for provider in providers]"
   ]
  },
  {
   "cell_type": "markdown",
   "metadata": {},
   "source": [
    "### Evolution du nombre de stations de bases pour chaque techno"
   ]
  },
  {
   "cell_type": "code",
   "execution_count": null,
   "metadata": {},
   "outputs": [],
   "source": [
    "\n",
    "technologies = [f'{i}G' for i in range(2,6)]\n",
    "providerToColor={'Bouygues Telecom':'#035afc', 'Orange':'#fc5603', 'SFR':'#169e26', 'Free Mobile':'#dbd640'}\n",
    "fig, axes = plt.subplots(len(technologies), 1,figsize=(16, 20))\n",
    "for j,techno in enumerate(technologies):\n",
    "    plt.subplot(len(technologies), 1, j+1)\n",
    "    plt.title(techno)\n",
    "\n",
    "    for i, provider in enumerate(providers):\n",
    "        plt.plot(dates_formatted,generations_date_counts[i][j], label = provider, color=providerToColor.get(provider))\n",
    "        plt.gca().xaxis.set_tick_params(labelsize = 7)\n",
    "        plt.legend(loc=\"upper left\")\n",
    "\n",
    "plt.savefig(\"../../out/images/technos-evolution\", dpi = 100)\n",
    "plt.show()"
   ]
  },
  {
   "cell_type": "code",
   "execution_count": null,
   "metadata": {},
   "outputs": [],
   "source": []
  }
 ],
 "metadata": {
  "kernelspec": {
   "display_name": "Python 3",
   "language": "python",
   "name": "python3"
  },
  "language_info": {
   "codemirror_mode": {
    "name": "ipython",
    "version": 3
   },
   "file_extension": ".py",
   "mimetype": "text/x-python",
   "name": "python",
   "nbconvert_exporter": "python",
   "pygments_lexer": "ipython3",
   "version": "3.11.6"
  }
 },
 "nbformat": 4,
 "nbformat_minor": 2
}
