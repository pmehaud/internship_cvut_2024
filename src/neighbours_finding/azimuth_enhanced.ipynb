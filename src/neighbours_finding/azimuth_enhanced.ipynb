{
 "cells": [
  {
   "cell_type": "markdown",
   "metadata": {},
   "source": [
    "## Libraries importation"
   ]
  },
  {
   "cell_type": "code",
   "execution_count": 1,
   "metadata": {},
   "outputs": [],
   "source": [
    "# Please use these lines in every notebook you create\n",
    "\n",
    "import os\n",
    "import sys\n",
    "\n",
    "# Get the current working directory\n",
    "current_dir = os.getcwd()\n",
    "\n",
    "# Get the parent directory of `maps` (which is `src`)\n",
    "parent_dir = os.path.abspath(os.path.join(current_dir, os.pardir))\n",
    "\n",
    "# Add `src` to the module search path\n",
    "if parent_dir not in sys.path:\n",
    "    sys.path.append(parent_dir)\n",
    "\n",
    "from global_variables import *"
   ]
  },
  {
   "cell_type": "code",
   "execution_count": 2,
   "metadata": {},
   "outputs": [],
   "source": [
    "import pandas as pd\n",
    "import numpy as np\n",
    "from scipy.spatial import Delaunay, Voronoi\n",
    "from copy import deepcopy\n",
    "import math\n",
    "\n",
    "from python_scripts.graphs.graphs_creation import delaunay_graph, kNN_graph\n",
    "from python_scripts.neighbours_criteria.enhanced_criteria import distance_criterion_enhanced\n",
    "from python_scripts.neighbours_criteria.simple_criteria import angle_criterion\n",
    "from python_scripts.city.city_utils import mean_distance_to_NN, mean_distance_choice\n",
    "from python_scripts.miscellaneaous.data_processing import extract_data"
   ]
  },
  {
   "cell_type": "markdown",
   "metadata": {},
   "source": [
    "## Database import and data extraction"
   ]
  },
  {
   "cell_type": "code",
   "execution_count": 3,
   "metadata": {},
   "outputs": [
    {
     "data": {
      "text/html": [
       "<div>\n",
       "<style scoped>\n",
       "    .dataframe tbody tr th:only-of-type {\n",
       "        vertical-align: middle;\n",
       "    }\n",
       "\n",
       "    .dataframe tbody tr th {\n",
       "        vertical-align: top;\n",
       "    }\n",
       "\n",
       "    .dataframe thead th {\n",
       "        text-align: right;\n",
       "    }\n",
       "</style>\n",
       "<table border=\"1\" class=\"dataframe\">\n",
       "  <thead>\n",
       "    <tr style=\"text-align: right;\">\n",
       "      <th></th>\n",
       "      <th>x</th>\n",
       "      <th>y</th>\n",
       "      <th>latitude</th>\n",
       "      <th>longitude</th>\n",
       "      <th>nom_dep</th>\n",
       "      <th>nom_com</th>\n",
       "      <th>site_2g</th>\n",
       "      <th>site_3g</th>\n",
       "      <th>site_5g</th>\n",
       "    </tr>\n",
       "    <tr>\n",
       "      <th>id_station_anfr</th>\n",
       "      <th></th>\n",
       "      <th></th>\n",
       "      <th></th>\n",
       "      <th></th>\n",
       "      <th></th>\n",
       "      <th></th>\n",
       "      <th></th>\n",
       "      <th></th>\n",
       "      <th></th>\n",
       "    </tr>\n",
       "  </thead>\n",
       "  <tbody>\n",
       "    <tr>\n",
       "      <th>0272290011</th>\n",
       "      <td>573458.0</td>\n",
       "      <td>6899259.0</td>\n",
       "      <td>49.18056</td>\n",
       "      <td>1.26445</td>\n",
       "      <td>Eure</td>\n",
       "      <td>Fontaine-Bellenger</td>\n",
       "      <td>1</td>\n",
       "      <td>1</td>\n",
       "      <td>0</td>\n",
       "    </tr>\n",
       "    <tr>\n",
       "      <th>0142290016</th>\n",
       "      <td>454237.0</td>\n",
       "      <td>6903487.0</td>\n",
       "      <td>49.18389</td>\n",
       "      <td>-0.37167</td>\n",
       "      <td>Calvados</td>\n",
       "      <td>Caen</td>\n",
       "      <td>1</td>\n",
       "      <td>1</td>\n",
       "      <td>1</td>\n",
       "    </tr>\n",
       "    <tr>\n",
       "      <th>0762290018</th>\n",
       "      <td>560709.0</td>\n",
       "      <td>6927372.0</td>\n",
       "      <td>49.43055</td>\n",
       "      <td>1.08028</td>\n",
       "      <td>Seine-Maritime</td>\n",
       "      <td>Rouen</td>\n",
       "      <td>1</td>\n",
       "      <td>1</td>\n",
       "      <td>1</td>\n",
       "    </tr>\n",
       "    <tr>\n",
       "      <th>0142290003</th>\n",
       "      <td>496750.0</td>\n",
       "      <td>6915926.0</td>\n",
       "      <td>49.31055</td>\n",
       "      <td>0.20500</td>\n",
       "      <td>Calvados</td>\n",
       "      <td>Saint-Gatien-des-Bois</td>\n",
       "      <td>1</td>\n",
       "      <td>1</td>\n",
       "      <td>0</td>\n",
       "    </tr>\n",
       "    <tr>\n",
       "      <th>0142290018</th>\n",
       "      <td>499454.0</td>\n",
       "      <td>6927334.0</td>\n",
       "      <td>49.41389</td>\n",
       "      <td>0.23667</td>\n",
       "      <td>Calvados</td>\n",
       "      <td>Honfleur</td>\n",
       "      <td>1</td>\n",
       "      <td>1</td>\n",
       "      <td>1</td>\n",
       "    </tr>\n",
       "  </tbody>\n",
       "</table>\n",
       "</div>"
      ],
      "text/plain": [
       "                        x          y  latitude  longitude         nom_dep  \\\n",
       "id_station_anfr                                                             \n",
       "0272290011       573458.0  6899259.0  49.18056    1.26445            Eure   \n",
       "0142290016       454237.0  6903487.0  49.18389   -0.37167        Calvados   \n",
       "0762290018       560709.0  6927372.0  49.43055    1.08028  Seine-Maritime   \n",
       "0142290003       496750.0  6915926.0  49.31055    0.20500        Calvados   \n",
       "0142290018       499454.0  6927334.0  49.41389    0.23667        Calvados   \n",
       "\n",
       "                               nom_com  site_2g  site_3g  site_5g  \n",
       "id_station_anfr                                                    \n",
       "0272290011          Fontaine-Bellenger        1        1        0  \n",
       "0142290016                        Caen        1        1        1  \n",
       "0762290018                       Rouen        1        1        1  \n",
       "0142290003       Saint-Gatien-des-Bois        1        1        0  \n",
       "0142290018                    Honfleur        1        1        1  "
      ]
     },
     "execution_count": 3,
     "metadata": {},
     "output_type": "execute_result"
    }
   ],
   "source": [
    "df = pd.read_csv(\"../../database/data.csv\", sep=\";\", decimal=\",\")\n",
    "df = extract_data(df, provider=PROVIDER, region=REGION, techno=TECHNO)\n",
    "df.head()"
   ]
  },
  {
   "cell_type": "code",
   "execution_count": 4,
   "metadata": {},
   "outputs": [
    {
     "name": "stderr",
     "output_type": "stream",
     "text": [
      "/tmp/ipykernel_60212/138318875.py:7: FutureWarning: The behavior of DataFrame concatenation with empty or all-NA entries is deprecated. In a future version, this will no longer exclude empty or all-NA columns when determining the result dtypes. To retain the old behavior, exclude the relevant entries before the concat operation.\n",
      "  df_azimuth = pd.concat([df_azimuth,pd.DataFrame([row],columns=df_azimuth_raw.columns)],ignore_index=True)\n"
     ]
    },
    {
     "data": {
      "text/html": [
       "<div>\n",
       "<style scoped>\n",
       "    .dataframe tbody tr th:only-of-type {\n",
       "        vertical-align: middle;\n",
       "    }\n",
       "\n",
       "    .dataframe tbody tr th {\n",
       "        vertical-align: top;\n",
       "    }\n",
       "\n",
       "    .dataframe thead th {\n",
       "        text-align: right;\n",
       "    }\n",
       "</style>\n",
       "<table border=\"1\" class=\"dataframe\">\n",
       "  <thead>\n",
       "    <tr style=\"text-align: right;\">\n",
       "      <th></th>\n",
       "      <th>id_station_anfr</th>\n",
       "      <th>frequency_GHz</th>\n",
       "      <th>angle_azimuth</th>\n",
       "    </tr>\n",
       "  </thead>\n",
       "  <tbody>\n",
       "    <tr>\n",
       "      <th>0</th>\n",
       "      <td>0140030031</td>\n",
       "      <td>1.5</td>\n",
       "      <td>252</td>\n",
       "    </tr>\n",
       "    <tr>\n",
       "      <th>1</th>\n",
       "      <td>0140030329</td>\n",
       "      <td>1.0</td>\n",
       "      <td>31</td>\n",
       "    </tr>\n",
       "    <tr>\n",
       "      <th>2</th>\n",
       "      <td>0140030590</td>\n",
       "      <td>1.0</td>\n",
       "      <td>72</td>\n",
       "    </tr>\n",
       "    <tr>\n",
       "      <th>3</th>\n",
       "      <td>0140034026</td>\n",
       "      <td>1.0</td>\n",
       "      <td>256</td>\n",
       "    </tr>\n",
       "    <tr>\n",
       "      <th>4</th>\n",
       "      <td>0140034027</td>\n",
       "      <td>1.5</td>\n",
       "      <td>62</td>\n",
       "    </tr>\n",
       "  </tbody>\n",
       "</table>\n",
       "</div>"
      ],
      "text/plain": [
       "  id_station_anfr  frequency_GHz angle_azimuth\n",
       "0      0140030031            1.5           252\n",
       "1      0140030329            1.0            31\n",
       "2      0140030590            1.0            72\n",
       "3      0140034026            1.0           256\n",
       "4      0140034027            1.5            62"
      ]
     },
     "execution_count": 4,
     "metadata": {},
     "output_type": "execute_result"
    }
   ],
   "source": [
    "df_azimuth_raw = pd.read_csv(\"../../database/data_azimuth_freq.csv\", sep=\";\", decimal=\",\", dtype={'id_station_anfr':str})\n",
    "\n",
    "dep_codes = ['027', '076', '014', '050', '061']\n",
    "df_azimuth = pd.DataFrame(columns=df_azimuth_raw.columns)\n",
    "for row in df_azimuth_raw.values:\n",
    "    if(row[0][0:3] in dep_codes):\n",
    "        df_azimuth = pd.concat([df_azimuth,pd.DataFrame([row],columns=df_azimuth_raw.columns)],ignore_index=True)\n",
    "        \n",
    "df_azimuth.head()"
   ]
  },
  {
   "cell_type": "markdown",
   "metadata": {},
   "source": [
    "## City detection"
   ]
  },
  {
   "cell_type": "code",
   "execution_count": 5,
   "metadata": {},
   "outputs": [],
   "source": [
    "mean_distances = mean_distance_to_NN(df[['x', 'y']], n_neighbours=N_NEIGH)"
   ]
  },
  {
   "cell_type": "markdown",
   "metadata": {},
   "source": [
    "## Voronoi and Delaunay creation"
   ]
  },
  {
   "cell_type": "code",
   "execution_count": 6,
   "metadata": {},
   "outputs": [
    {
     "name": "stdout",
     "output_type": "stream",
     "text": [
      "4355\n"
     ]
    }
   ],
   "source": [
    "del_G, pos = delaunay_graph(df)\n",
    "print(len(del_G.edges))"
   ]
  },
  {
   "cell_type": "code",
   "execution_count": 7,
   "metadata": {},
   "outputs": [],
   "source": [
    "from sklearn.neighbors import NearestNeighbors\n",
    "K=15\n",
    "kNN_G, _ = kNN_graph(df, k=K)\n",
    "coordsXY = df[['x','y']]\n",
    "\n",
    "# for edge in kNN_G.edges: # applying gabriel\n",
    "#     pt1 = edge[0]\n",
    "#     pt2 = edge[1]\n",
    "\n",
    "#     middle_point = (coordsXY.loc[pt1] + coordsXY.loc[pt2])/2\n",
    "\n",
    "#     neigh = NearestNeighbors(radius=np.sqrt(np.sum((coordsXY.loc[pt1] - coordsXY.loc[pt2])**2, axis=0))/2)\n",
    "#     neigh.fit(coordsXY.values)\n",
    "\n",
    "#     if(len(coordsXY.iloc[neigh.radius_neighbors([middle_point], sort_results=True)[1][0][:-2]].index)>0):\n",
    "#         kNN_G.remove_edges_from([edge])\n",
    "# print(len(kNN_G.edges))"
   ]
  },
  {
   "cell_type": "markdown",
   "metadata": {},
   "source": [
    "## Neighbors finding"
   ]
  },
  {
   "cell_type": "code",
   "execution_count": 8,
   "metadata": {},
   "outputs": [],
   "source": [
    "# Function to calculate the direction coefficient (alpha)\n",
    "\n",
    "\"\"\"\n",
    "    Calculate the direction coefficient (alpha) for a given azimuth.\n",
    "\n",
    "    The direction coefficient represents how well an azimuth is aligned with the direction\n",
    "    to a neighboring station. It is calculated as the absolute angular difference between\n",
    "    the direction to the neighbor and the azimuth, normalized to a range of [0, 1].\n",
    "\n",
    "    Parameters:\n",
    "    station_pos (numpy array): Position (latitude, longitude) of the base station.\n",
    "    neighbor_pos (numpy array): Position (latitude, longitude) of the neighboring station.\n",
    "    azimuth (float): Azimuth angle in degrees.\n",
    "    beamwidth (float): Beamwidth angle in degrees.\n",
    "\n",
    "    Returns:\n",
    "    tuple: (within_coverage (bool), alpha (float)) where within_coverage indicates if the\n",
    "    neighbor is within the beamwidth of the azimuth, and alpha is the direction coefficient.\n",
    "    \"\"\"\n",
    "\n",
    "def calculate_alpha(station_pos, neighbor_pos, azimuth, beamwidth):\n",
    "    direction_vector = neighbor_pos - station_pos\n",
    "    direction_angle = (np.degrees(np.arctan2(direction_vector[1], direction_vector[0])) + 360) % 360\n",
    "    min_angle = (azimuth - beamwidth / 2 + 360) % 360\n",
    "    max_angle = (azimuth + beamwidth / 2 + 360) % 360\n",
    "\n",
    "    alpha = 1 - np.abs((direction_angle - azimuth + 180) % 360 - 180) / 180\n",
    "\n",
    "    if min_angle <= max_angle:\n",
    "        within_coverage = min_angle <= direction_angle <= max_angle\n",
    "    else:\n",
    "        within_coverage = direction_angle >= min_angle or direction_angle <= max_angle\n",
    "\n",
    "    return within_coverage, alpha\n",
    "\n",
    "    "
   ]
  },
  {
   "cell_type": "code",
   "execution_count": 9,
   "metadata": {},
   "outputs": [],
   "source": [
    "# Function to calculate beamwidth for each azimuth\n",
    "\n",
    "\"\"\"\n",
    "    Calculate the beamwidth for each azimuth.\n",
    "    \n",
    "    The beamwidth for an azimuth is calculated as the average of the angular distances\n",
    "    to its previous and next azimuths. Special cases are handled for the first and last\n",
    "    azimuths to account for the circular nature of angles (i.e., 0 degrees is adjacent\n",
    "    to 360 degrees).\n",
    "\n",
    "    Parameters:\n",
    "    azimuths (list of float): List of azimuth angles in degrees.\n",
    "\n",
    "    Returns:\n",
    "    list of float: List of beamwidths for each azimuth.\n",
    "    \"\"\"\n",
    "\n",
    "def calculate_beamwidths(azimuths):\n",
    "    azimuths = sorted(set(azimuths)) \n",
    "    beamwidths = []\n",
    "    num_azimuths = len(azimuths)\n",
    "    \n",
    "    if num_azimuths == 1:\n",
    "        return [180]  \n",
    "\n",
    "    if num_azimuths == 2:\n",
    "        diff = (azimuths[1] - azimuths[0]) % 360\n",
    "        beamwidth = diff / 2\n",
    "        return [beamwidth, 360 - beamwidth]  \n",
    "    \n",
    "    for i in range(num_azimuths):\n",
    "        prev_azimuth = azimuths[i - 1] if i > 0 else azimuths[-1] - 360\n",
    "        next_azimuth = azimuths[(i + 1) % num_azimuths]\n",
    "        \n",
    "        if i == 0:\n",
    "            beamwidth = (next_azimuth - azimuths[i] + 360 + azimuths[i] - prev_azimuth) / 2\n",
    "        elif i == num_azimuths - 1:\n",
    "            beamwidth = (next_azimuth + 360 - azimuths[i] + azimuths[i] - prev_azimuth) / 2\n",
    "        else:\n",
    "            beamwidth = (next_azimuth - azimuths[i] + azimuths[i] - prev_azimuth) / 2\n",
    "\n",
    "        beamwidths.append(beamwidth % 360)\n",
    "    \n",
    "    return beamwidths"
   ]
  },
  {
   "cell_type": "code",
   "execution_count": 10,
   "metadata": {},
   "outputs": [],
   "source": [
    "# Function to find real neighbors based on Delaunay triangulation and azimuths\n",
    "\n",
    "\"\"\"\n",
    "    Identify real neighboring base stations based on azimuth directions and coverage areas.\n",
    "\n",
    "    This function uses Delaunay triangulation to find potential neighbors and then checks\n",
    "    if the azimuths of the base stations are directed towards each other within their\n",
    "    respective beamwidths. It also calculates the direction coefficient (alpha) to determine\n",
    "    the alignment quality between the stations.\n",
    "\n",
    "    Parameters:\n",
    "    df (DataFrame): DataFrame containing base station data.\n",
    "    df_azimuth (DataFrame): DataFrame containing azimuth data for the base stations.\n",
    "    potential_neigh_G (Graph): Graph representing potential neighboring stations based on Delaunay triangulation.\n",
    "    pos (dict): Dictionary with station positions.\n",
    "    min_alpha (float): Minimum acceptable direction coefficient to consider stations as real neighbors.\n",
    "\n",
    "    Returns:\n",
    "    tuple: (neigh_G (Graph), edge_info (dict)) where neigh_G is the graph of real neighbors\n",
    "    and edge_info contains information about the azimuths and direction coefficients for each edge.\n",
    "    \"\"\"\n",
    "\n",
    "def find_real_neighbors(df, df_azimuth, potential_neigh_G, pos, min_alpha=0.0):\n",
    "    neigh_G = deepcopy(potential_neigh_G)\n",
    "    edge_info = {}\n",
    "\n",
    "    for bs_id in df.index:\n",
    "        azimuths = df_azimuth.loc[df_azimuth['id_station_anfr'] == bs_id, 'angle_azimuth']\n",
    "        beamwidths = calculate_beamwidths(azimuths)\n",
    "\n",
    "        for [_, neigh_id] in potential_neigh_G.edges(bs_id):\n",
    "            is_neighbor = False\n",
    "            azimuths_info = {\"station\": [], \"neighbor\": [], \"alpha\": None}\n",
    "            max_alpha = 0\n",
    "\n",
    "            for azimuth, beamwidth in zip(azimuths, beamwidths):\n",
    "                within_coverage, alpha = calculate_alpha(pos[bs_id], pos[neigh_id], azimuth, beamwidth)\n",
    "                if within_coverage:\n",
    "                    neigh_azimuths = df_azimuth.loc[df_azimuth['id_station_anfr'] == neigh_id, 'angle_azimuth']\n",
    "                    neigh_beamwidths = calculate_beamwidths(neigh_azimuths)\n",
    "\n",
    "                    for neighbor_azimuth, neighbor_beamwidth in zip(neigh_azimuths, neigh_beamwidths):\n",
    "                        within_coverage_neigh, alpha_neigh = calculate_alpha(pos[neigh_id], pos[bs_id], neighbor_azimuth, neighbor_beamwidth)\n",
    "                        if within_coverage_neigh:\n",
    "                            is_neighbor = True\n",
    "                            combined_alpha = alpha * alpha_neigh\n",
    "                            if combined_alpha > max_alpha:\n",
    "                                max_alpha = combined_alpha\n",
    "                                azimuths_info[\"station\"] = [bs_id, azimuth]\n",
    "                                azimuths_info[\"neighbor\"] = [neigh_id, neighbor_azimuth]\n",
    "                                azimuths_info[\"alpha\"] = max_alpha\n",
    "\n",
    "            if is_neighbor and max_alpha >= min_alpha:\n",
    "                edge_info[(bs_id, neigh_id)] = azimuths_info\n",
    "            else:\n",
    "                neigh_G.remove_edges_from([[bs_id, neigh_id]])\n",
    "\n",
    "    return neigh_G, edge_info"
   ]
  },
  {
   "cell_type": "code",
   "execution_count": 11,
   "metadata": {},
   "outputs": [
    {
     "name": "stderr",
     "output_type": "stream",
     "text": [
      "nodes - distance: 100%|██████████| 1457/1457 [00:00<00:00, 2903.16it/s]\n"
     ]
    }
   ],
   "source": [
    "min_alpha = 0.5\n",
    "\n",
    "# Use the new function with min_alpha parameter\n",
    "neigh_G, edge_info = find_real_neighbors(df, df_azimuth, del_G, pos, min_alpha)\n",
    "neigh_G = distance_criterion_enhanced(neigh_G, pos, params=MEAN_DISTANCE_PARAMS, mean_distance_to_NN=mean_distances)\n",
    "\n",
    "# neigh_G = angle_criterion(neigh_G, pos, min_angle=MIN_ANGLE, max_distance=None)\n",
    "   "
   ]
  },
  {
   "cell_type": "code",
   "execution_count": 12,
   "metadata": {},
   "outputs": [
    {
     "data": {
      "text/plain": [
       "3148"
      ]
     },
     "execution_count": 12,
     "metadata": {},
     "output_type": "execute_result"
    }
   ],
   "source": [
    "len(neigh_G.edges())"
   ]
  },
  {
   "cell_type": "markdown",
   "metadata": {},
   "source": [
    "## Map creation"
   ]
  },
  {
   "cell_type": "code",
   "execution_count": 13,
   "metadata": {},
   "outputs": [],
   "source": [
    "import folium\n",
    "import numpy as np\n",
    "from networkx import Graph\n",
    "from pandas import DataFrame"
   ]
  },
  {
   "cell_type": "code",
   "execution_count": 14,
   "metadata": {},
   "outputs": [],
   "source": [
    "def add_graph_edges(G_base: Graph, G: Graph, df: DataFrame, fg: folium.FeatureGroup, colour: str):\n",
    "    for edge in G_base.edges:\n",
    "        stations = []\n",
    "\n",
    "        if(not(edge in G.edges)):\n",
    "            stations.append(df.loc[edge[0], ['latitude', 'longitude']])\n",
    "            stations.append(df.loc[edge[1], ['latitude', 'longitude']])\n",
    "\n",
    "            folium.PolyLine(np.array(stations), color=colour, weight=2.5, opacity=1).add_to(fg)\n"
   ]
  },
  {
   "cell_type": "code",
   "execution_count": 15,
   "metadata": {},
   "outputs": [],
   "source": [
    "# Function to generate edge info popup with visualization\n",
    "def generate_edge_info_popup_with_visualization(edge, df, df_azimuth, edge_info):\n",
    "    bs_id, neigh_id = edge\n",
    "    bs_info = df.loc[bs_id]\n",
    "    neigh_info = df.loc[neigh_id]\n",
    "\n",
    "    azimuths_info = edge_info.get((bs_id, neigh_id), {\"station\": [None, None], \"neighbor\": [None, None], \"alpha\": None})\n",
    "    unique_azimuths_bs = np.unique(df_azimuth.loc[df_azimuth['id_station_anfr'] == bs_id, 'angle_azimuth'])\n",
    "    unique_azimuths_neigh = np.unique(df_azimuth.loc[df_azimuth['id_station_anfr'] == neigh_id, 'angle_azimuth'])\n",
    "\n",
    "    popup_text = (\n",
    "        f\"<b>Base Station {bs_id} - {bs_info['nom_com']}</b><br>\"\n",
    "        f\"Latitude: {bs_info['latitude']}, Longitude: {bs_info['longitude']}<br>\"\n",
    "        f\"Azimuths: {'°, '.join(map(str, unique_azimuths_bs))}°<br>\"\n",
    "        f\"Coverage Azimuths: <b>{azimuths_info['station'][1]}°</b><br>\"\n",
    "        f\"<br><b>Neighbor Station {neigh_id} - {neigh_info['nom_com']}</b><br>\"\n",
    "        f\"Latitude: {neigh_info['latitude']}, Longitude: {neigh_info['longitude']}<br>\"\n",
    "        f\"Azimuths: {'°, '.join(map(str, unique_azimuths_neigh))}°<br>\"\n",
    "        f\"Coverage Azimuths: <b>{azimuths_info['neighbor'][1]}°</b><br>\"\n",
    "        f\"<br><b>Direction Coefficient (alpha): {azimuths_info['alpha']:.2f}</b><br>\"\n",
    "    )\n",
    "\n",
    "    return popup_text\n",
    "\n"
   ]
  },
  {
   "cell_type": "code",
   "execution_count": 16,
   "metadata": {},
   "outputs": [],
   "source": [
    "# Function to add edges with interactive information\n",
    "def add_graph_edges_with_visualization(G: Graph, df: DataFrame, df_azimuth: DataFrame, fg: folium.FeatureGroup, edge_info: dict):\n",
    "    for edge in G.edges:\n",
    "        stations = df.loc[[edge[0], edge[1]], ['latitude', 'longitude']].values\n",
    "        popup_text = generate_edge_info_popup_with_visualization(edge, df, df_azimuth, edge_info)\n",
    "        popup = folium.Popup(popup_text, max_width=300)\n",
    "        line = folium.PolyLine(stations, color=\"#AAA662\", weight=2.5, opacity=1)\n",
    "        line.add_child(popup)\n",
    "        line.add_to(fg)"
   ]
  },
  {
   "cell_type": "code",
   "execution_count": 17,
   "metadata": {},
   "outputs": [],
   "source": [
    "# Function to add azimuth lines\n",
    "def add_azimuth_lines(df: DataFrame, df_azimuth: DataFrame, fg: folium.FeatureGroup):\n",
    "    azimuth_length = 0.01\n",
    "    for bs_id in df.index:\n",
    "        lat = df.loc[bs_id, 'latitude']\n",
    "        long = df.loc[bs_id, 'longitude']\n",
    "        for azimuth in df_azimuth.loc[df_azimuth['id_station_anfr'] == bs_id, 'angle_azimuth']:\n",
    "            azimuth_angle = np.radians(azimuth)\n",
    "            end_lat = lat + azimuth_length * np.cos(azimuth_angle)\n",
    "            end_lon = long + azimuth_length * np.sin(azimuth_angle)\n",
    "            line = folium.PolyLine([(lat, long), (end_lat, end_lon)], color='black', weight=2, opacity=0.7)\n",
    "            popup_text = f\"Azimuth: {azimuth}°\"\n",
    "            popup = folium.Popup(popup_text, max_width=150)\n",
    "            line.add_child(popup)\n",
    "            line.add_to(fg)\n",
    "\n",
    "\n",
    "# Map visualization\n",
    "def create_method_illustration_map(df: DataFrame, df_azimuth, del_graph: Graph, nei_graph: Graph, edge_info: dict, save_as: str, **kwargs):\n",
    "    map = folium.Map(location=list(np.mean(df[['latitude', 'longitude']], axis=0)), zoom_start=8.5, tiles=\"Cartodb Positron\")\n",
    "\n",
    "    edges_del = folium.FeatureGroup(f\"Edges - Delaunay triangulation ({len(del_graph.edges)})\", show=True).add_to(map)\n",
    "    edges_nei = folium.FeatureGroup(f\"Edges - neighboring graph ({len(nei_graph.edges)})\", show=True).add_to(map)\n",
    "    azimuth_lines = folium.FeatureGroup(f\"Azimuth Lines\", show=True).add_to(map)\n",
    "\n",
    "    add_graph_edges(del_graph, Graph(), df, edges_del, colour=\"lightblue\")\n",
    "    add_graph_edges_with_visualization(nei_graph, df, df_azimuth, edges_nei, edge_info)\n",
    "    add_azimuth_lines(df, df_azimuth, azimuth_lines)\n",
    "\n",
    "    points = folium.FeatureGroup(f\"Base stations ({len(df)})\").add_to(map)\n",
    "    for bs_id in df.index:\n",
    "        row = df.loc[bs_id]\n",
    "        popup_text = (\n",
    "            f\"Station ID: {bs_id}<br>\"\n",
    "            f\"Department: {row['nom_dep']}<br>\"\n",
    "            f\"Commune: {row['nom_com']}<br>\"\n",
    "            f\"Coordinates: ({row['latitude']}, {row['longitude']})<br>\"\n",
    "            f\"2G: {row['site_2g']}<br>\"\n",
    "            f\"3G: {row['site_3g']}<br>\"\n",
    "            f\"4G: {row.get('site_4g', '1')}<br>\"\n",
    "            f\"5G: {row['site_5g']}<br>\"\n",
    "        )\n",
    "        station_data = df_azimuth.loc[df_azimuth['id_station_anfr'] == bs_id]\n",
    "        for _, antenna in station_data.iterrows():\n",
    "            popup_text += (\n",
    "                f\"<br>Antenna Frequency: {antenna['frequency_GHz']} GHz<br>\"\n",
    "                f\"Antenna Azimuth: {antenna['angle_azimuth']}°<br>\"\n",
    "            )\n",
    "        popup = folium.Popup(popup_text, max_width=200)\n",
    "        folium.CircleMarker(\n",
    "            location=[row['latitude'], row['longitude']],\n",
    "            color='blue',\n",
    "            radius=3,\n",
    "            popup=popup,\n",
    "            fillOpacity=1,\n",
    "            fill=True\n",
    "        ).add_to(points)\n",
    "\n",
    "    folium.LayerControl().add_to(map)\n",
    "    map.save(f\"../../out/maps/neighbours_finding/{save_as}.html\")\n",
    "\n",
    "\n"
   ]
  },
  {
   "cell_type": "code",
   "execution_count": 18,
   "metadata": {},
   "outputs": [],
   "source": [
    "# Create and save map with visualization\n",
    "create_method_illustration_map(df, df_azimuth, del_G, neigh_G, edge_info, save_as=\"azimuth_enhanced_map\")\n"
   ]
  }
 ],
 "metadata": {
  "kernelspec": {
   "display_name": "Python 3",
   "language": "python",
   "name": "python3"
  },
  "language_info": {
   "codemirror_mode": {
    "name": "ipython",
    "version": 3
   },
   "file_extension": ".py",
   "mimetype": "text/x-python",
   "name": "python",
   "nbconvert_exporter": "python",
   "pygments_lexer": "ipython3",
   "version": "3.12.3"
  }
 },
 "nbformat": 4,
 "nbformat_minor": 2
}
