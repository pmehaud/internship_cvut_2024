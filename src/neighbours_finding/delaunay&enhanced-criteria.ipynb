{
 "cells": [
  {
   "cell_type": "markdown",
   "metadata": {},
   "source": [
    "# Finding base station neighbours\n",
    "\n",
    "Improvement of Delphine PAQUIRY's work.\n",
    "\n",
    "We will use at first a Delaunay triangulation and then apply the enhanced criteria."
   ]
  },
  {
   "cell_type": "markdown",
   "metadata": {},
   "source": [
    "## Libraries importation"
   ]
  },
  {
   "cell_type": "code",
   "execution_count": null,
   "metadata": {},
   "outputs": [],
   "source": [
    "# Please use these lines in every notebook you create\n",
    "\n",
    "import os\n",
    "import sys\n",
    "\n",
    "# Get the current working directory\n",
    "current_dir = os.getcwd()\n",
    "\n",
    "# Get the parent directory of `maps` (which is `src`)\n",
    "parent_dir = os.path.abspath(os.path.join(current_dir, os.pardir))\n",
    "\n",
    "# Add `src` to the module search path\n",
    "if parent_dir not in sys.path:\n",
    "    sys.path.append(parent_dir)\n",
    "\n",
    "from global_variables import *\n",
    "from python_scripts.miscellaneaous.data_processing import extract_data"
   ]
  },
  {
   "cell_type": "code",
   "execution_count": null,
   "metadata": {},
   "outputs": [],
   "source": [
    "import pandas as pd\n",
    "\n",
    "from python_scripts.graphs.graphs_creation import delaunay_graph\n",
    "from python_scripts.neighbours_criteria.enhanced_criteria import distance_criterion_enhanced, angle_criterion_enhanced, quadrant_criterion_enhanced\n",
    "from python_scripts.city.city_utils import mean_distance_to_NN\n",
    "from python_scripts.ihm.plots import plot_graph\n",
    "from python_scripts.ihm.maps.map_neighbours import create_method_illustation_map"
   ]
  },
  {
   "cell_type": "markdown",
   "metadata": {},
   "source": [
    "## Database import and data extraction"
   ]
  },
  {
   "cell_type": "code",
   "execution_count": null,
   "metadata": {},
   "outputs": [],
   "source": [
    "df = pd.read_csv(\"../../database/data.csv\", sep=\";\", decimal=\",\")\n",
    "df.head()"
   ]
  },
  {
   "cell_type": "code",
   "execution_count": null,
   "metadata": {},
   "outputs": [],
   "source": [
    "df_extracted = extract_data(df, provider=PROVIDER, techno=TECHNO, region=REGION, min_info=True)\n",
    "df_extracted.head()"
   ]
  },
  {
   "cell_type": "markdown",
   "metadata": {},
   "source": [
    "## Delaunay triangulation and graph creation"
   ]
  },
  {
   "cell_type": "code",
   "execution_count": null,
   "metadata": {},
   "outputs": [],
   "source": [
    "del_G, pos = delaunay_graph(df_extracted)\n",
    "print(len(del_G.edges))\n",
    "plot_graph(del_G, pos)"
   ]
  },
  {
   "cell_type": "markdown",
   "metadata": {},
   "source": [
    "## City detection"
   ]
  },
  {
   "cell_type": "code",
   "execution_count": null,
   "metadata": {},
   "outputs": [],
   "source": [
    "mean_distances = mean_distance_to_NN(df_extracted[['x', 'y']], n_neighbours=N_NEIGH)"
   ]
  },
  {
   "cell_type": "markdown",
   "metadata": {},
   "source": [
    "## Application of the criteria"
   ]
  },
  {
   "cell_type": "code",
   "execution_count": null,
   "metadata": {},
   "outputs": [],
   "source": [
    "G_dis = distance_criterion_enhanced(del_G, pos, params=MEAN_DISTANCE_PARAMS, mean_distance_to_NN=mean_distances)\n",
    "print(len(G_dis.edges))\n",
    "plot_graph(G_dis, pos)"
   ]
  },
  {
   "cell_type": "code",
   "execution_count": null,
   "metadata": {},
   "outputs": [],
   "source": [
    "G_ang = angle_criterion_enhanced(del_G, pos, params=MEAN_DISTANCE_PARAMS, mean_distance_to_NN=mean_distances)\n",
    "print(len(G_ang.edges))\n",
    "plot_graph(G_ang, pos)"
   ]
  },
  {
   "cell_type": "code",
   "execution_count": null,
   "metadata": {},
   "outputs": [],
   "source": [
    "G_qua = quadrant_criterion_enhanced(del_G, pos)\n",
    "print(len(G_qua.edges))\n",
    "plot_graph(G_qua, pos)"
   ]
  },
  {
   "cell_type": "code",
   "execution_count": null,
   "metadata": {},
   "outputs": [],
   "source": [
    "G_tot = distance_criterion_enhanced(del_G, pos, params=MEAN_DISTANCE_PARAMS, mean_distance_to_NN=mean_distances)\n",
    "G_tot = angle_criterion_enhanced(G_tot, pos, params=MEAN_DISTANCE_PARAMS, mean_distance_to_NN=mean_distances)\n",
    "G_tot = quadrant_criterion_enhanced(G_tot, pos)\n",
    "print(len(G_tot.edges))\n",
    "plot_graph(G_tot, pos)"
   ]
  },
  {
   "cell_type": "markdown",
   "metadata": {},
   "source": [
    "## On a map"
   ]
  },
  {
   "cell_type": "code",
   "execution_count": null,
   "metadata": {},
   "outputs": [],
   "source": [
    "create_method_illustation_map(df=df_extracted, base_graph=del_G, base_graph_name='Delaunay triangulation graph', neigh_graph=G_tot, mean_distances=mean_distances, mean_distance_params=MEAN_DISTANCE_PARAMS, save_as='delaunay&enhanced-criteria', dis_filt=G_dis, ang_filt=G_ang, qua_filt=G_qua)"
   ]
  }
 ],
 "metadata": {
  "language_info": {
   "name": "python"
  }
 },
 "nbformat": 4,
 "nbformat_minor": 2
}
