{
 "cells": [
  {
   "cell_type": "markdown",
   "metadata": {},
   "source": [
    "# Comparison of the different implemented methods"
   ]
  },
  {
   "cell_type": "markdown",
   "metadata": {},
   "source": [
    "## Libraries importation"
   ]
  },
  {
   "cell_type": "code",
   "execution_count": null,
   "metadata": {},
   "outputs": [],
   "source": [
    "# Please use these lines in every notebook you create\n",
    "\n",
    "import os\n",
    "import sys\n",
    "\n",
    "# Get the current working directory\n",
    "current_dir = os.getcwd()\n",
    "\n",
    "# Get the parent directory of `maps` (which is `src`)\n",
    "parent_dir = os.path.abspath(os.path.join(current_dir, os.pardir))\n",
    "\n",
    "# Add `src` to the module search path\n",
    "if parent_dir not in sys.path:\n",
    "    sys.path.append(parent_dir)\n",
    "\n",
    "from global_variables import *\n",
    "from python_scripts.miscellaneaous.data_processing import extract_data"
   ]
  },
  {
   "cell_type": "code",
   "execution_count": null,
   "metadata": {},
   "outputs": [],
   "source": [
    "import pandas as pd\n",
    "import folium.features\n",
    "import numpy as np\n",
    "from networkx import Graph\n",
    "from itertools import permutations\n",
    "from tqdm import tqdm\n",
    "\n",
    "from python_scripts.graphs.graphs_creation import delaunay_graph, gabriel_graph, kNN_graph\n",
    "from python_scripts.graphs.real_neighbors import find_real_neighbors\n",
    "from python_scripts.neighbours_criteria.simple_criteria import distance_criterion, angle_criterion, quadrant_criterion\n",
    "from python_scripts.neighbours_criteria.enhanced_criteria import distance_criterion_enhanced, angle_criterion_enhanced, quadrant_criterion_enhanced, quadrant_criterion_enhanced_v2\n",
    "from python_scripts.city.city_utils import mean_distance_to_NN\n",
    "from python_scripts.ihm.maps.map_neighbours import add_graph_edges, addLegend\n",
    "from python_scripts.city.city_utils import mean_distance_choice"
   ]
  },
  {
   "cell_type": "markdown",
   "metadata": {},
   "source": [
    "## Database import and data extraction"
   ]
  },
  {
   "cell_type": "code",
   "execution_count": null,
   "metadata": {},
   "outputs": [],
   "source": [
    "df = pd.read_csv(\"../../database/data.csv\", sep=\";\", decimal=\",\")\n",
    "df = extract_data(df, provider=PROVIDER, techno=TECHNO, region=REGION, min_info=True)\n",
    "df.head()"
   ]
  },
  {
   "cell_type": "code",
   "execution_count": null,
   "metadata": {},
   "outputs": [],
   "source": [
    "df_azimuth_raw = pd.read_csv(\"../../database/data_azimuth_freq.csv\", sep=\";\", decimal=\",\", dtype={'id_station_anfr':str})\n",
    "\n",
    "dep_codes = ['027', '076', '014', '050', '061']\n",
    "df_azimuth = pd.DataFrame(columns=df_azimuth_raw.columns)\n",
    "for row in df_azimuth_raw.values:\n",
    "    if(row[0][0:3] in dep_codes):\n",
    "        df_azimuth = pd.concat([df_azimuth,pd.DataFrame([row],columns=df_azimuth_raw.columns)],ignore_index=True)\n",
    "        \n",
    "df_azimuth.head()"
   ]
  },
  {
   "cell_type": "markdown",
   "metadata": {},
   "source": [
    "## Graphs creation"
   ]
  },
  {
   "cell_type": "code",
   "execution_count": null,
   "metadata": {},
   "outputs": [],
   "source": [
    "del_G, pos = delaunay_graph(df)\n",
    "print(len(del_G.edges))"
   ]
  },
  {
   "cell_type": "markdown",
   "metadata": {},
   "source": [
    "mean_distances = mean_distance_to_NN(df[['x', 'y']], n_neighbours=N_NEIGH)"
   ]
  },
  {
   "cell_type": "markdown",
   "metadata": {},
   "source": [
    "from python_scripts.neighbours_criteria.miscellaneous_for_neighbouring import compute_angles\n",
    "from copy import deepcopy\n",
    "ref_point = '0762290045'\n",
    "adj = [edge[1] for edge in deepcopy(del_G).edges(ref_point)]\n",
    "\n",
    "azimuths = np.unique(df_azimuth.loc[df_azimuth['id_station_anfr']==ref_point,'angle_azimuth'])\n",
    "\n",
    "angles = compute_angles(ref_point, adj, pos)\n",
    "\n",
    "quadrants = dict()\n",
    "nb_az = len(azimuths)\n",
    "\n",
    "if(nb_az>0):\n",
    "    for id, az in enumerate(azimuths):\n",
    "        next_id = (id+1) % nb_az\n",
    "        next_az = azimuths[next_id]\n",
    "        print(az, next_az)\n",
    "        biss = int(((((next_az - az) / 2) % 180) + az) % 360)\n",
    "        print(az, biss, next_az)\n",
    "        quadrants[f\"{biss}_{next_az}\"] = [adj[k] for k in np.where((angles >= biss) & (angles < next_az))[0]]\n",
    "        quadrants[f\"{az}_{biss}\"] = [adj[k] for k in np.where((angles >= az) & (angles < biss))[0]]\n",
    "if(nb_az > 4):\n",
    "    print(angles)\n",
    "    print(nb_az, ref_point, azimuths)\n",
    "    print(quadrants, '\\n')"
   ]
  },
  {
   "cell_type": "markdown",
   "metadata": {},
   "source": [
    "delG_enhC_v2 = quadrant_criterion_enhanced_v2(del_G, pos, MEAN_DISTANCE_PARAMS, mean_distances, df_azimuth=df_azimuth)"
   ]
  },
  {
   "cell_type": "code",
   "execution_count": null,
   "metadata": {},
   "outputs": [],
   "source": [
    "gab_G, _ = gabriel_graph(df)\n",
    "print(len(gab_G.edges))"
   ]
  },
  {
   "cell_type": "code",
   "execution_count": null,
   "metadata": {},
   "outputs": [],
   "source": [
    "K_1=7\n",
    "kNN_G_1, _ = kNN_graph(df, k=K_1)\n",
    "print(len(kNN_G_1.edges))"
   ]
  },
  {
   "cell_type": "code",
   "execution_count": null,
   "metadata": {},
   "outputs": [],
   "source": [
    "K_2=15\n",
    "kNN_G_2, _ = kNN_graph(df, k=K_2)\n",
    "print(len(kNN_G_2.edges))"
   ]
  },
  {
   "cell_type": "markdown",
   "metadata": {},
   "source": [
    "## City detection"
   ]
  },
  {
   "cell_type": "code",
   "execution_count": null,
   "metadata": {},
   "outputs": [],
   "source": [
    "mean_distances = mean_distance_to_NN(df[['x', 'y']], n_neighbours=N_NEIGH)"
   ]
  },
  {
   "cell_type": "markdown",
   "metadata": {},
   "source": [
    "## Application of the criteria"
   ]
  },
  {
   "cell_type": "markdown",
   "metadata": {},
   "source": [
    "def permutations_simple_criteria(base_graph: Graph, angle_criterion, distance_criterion, quadrant_criterion):\n",
    "    res = []\n",
    "    for perm in permutations([angle_criterion, distance_criterion, quadrant_criterion]):\n",
    "        neigh_G = perm[0](base_graph, pos, max_distance=MAX_DISTANCE, min_angle=MIN_ANGLE)\n",
    "        neigh_G = perm[1](neigh_G, pos, max_distance=MAX_DISTANCE, min_angle=MIN_ANGLE)\n",
    "        neigh_G = perm[2](neigh_G, pos, max_distance=MAX_DISTANCE, min_angle=MIN_ANGLE)\n",
    "        print(str(len(neigh_G.edges)) + '\\n')\n",
    "        res.append(neigh_G)\n",
    "\n",
    "    return res"
   ]
  },
  {
   "cell_type": "markdown",
   "metadata": {},
   "source": [
    "def permutations_enhanced_criteria(base_graph: Graph, angle_criterion, distance_criterion, quadrant_criterion, mean_distances):\n",
    "    res = []\n",
    "    for perm in permutations([angle_criterion, distance_criterion, quadrant_criterion]):\n",
    "        neigh_G = perm[0](base_graph, pos, params=MEAN_DISTANCE_PARAMS, mean_distance_to_NN=mean_distances)\n",
    "        neigh_G = perm[1](neigh_G, pos, params=MEAN_DISTANCE_PARAMS, mean_distance_to_NN=mean_distances)\n",
    "        neigh_G = perm[2](neigh_G, pos, params=MEAN_DISTANCE_PARAMS, mean_distance_to_NN=mean_distances)\n",
    "        print(str(len(neigh_G.edges)) + '\\n')\n",
    "        res.append(neigh_G)\n",
    "\n",
    "    return res"
   ]
  },
  {
   "cell_type": "code",
   "execution_count": null,
   "metadata": {},
   "outputs": [],
   "source": [
    "from types import NoneType\n",
    "\n",
    "\n",
    "def permutations_criteria(base_graph: Graph, angle_criterion, distance_criterion, quadrant_criterion, param1, param2, **kwargs):\n",
    "    df_az = kwargs.get('df_azimuth', None)\n",
    "\n",
    "    criteria = {'a': angle_criterion, 'd': distance_criterion, 'q': quadrant_criterion}\n",
    "    \n",
    "    res = {}\n",
    "    if(type(df_az)!=NoneType):\n",
    "        for perm in tqdm(permutations(criteria, 3), desc=\"permutations - 3\"):\n",
    "            neigh_G = criteria[perm[0]](base_graph, pos, param1, param2, df_azimuth=df_az)\n",
    "            neigh_G = criteria[perm[1]](neigh_G, pos, param1, param2, df_azimuth=df_az)\n",
    "            neigh_G = criteria[perm[2]](neigh_G, pos, param1, param2, df_azimuth=df_az)\n",
    "            print(f\"{perm[0] + perm[1] + perm[2]}: {len(neigh_G.edges)}\\n\")\n",
    "            res[f\"{perm[0] + perm[1] + perm[2]}\"] = neigh_G\n",
    "        for perm in tqdm(permutations(criteria, 2), desc=\"permutations - 2\"):\n",
    "            neigh_G = criteria[perm[0]](base_graph, pos, param1, param2, df_azimuth=df_az)\n",
    "            neigh_G = criteria[perm[1]](neigh_G, pos, param1, param2, df_azimuth=df_az)\n",
    "            print(f\"{perm[0] + perm[1]}: {len(neigh_G.edges)}\\n\")\n",
    "            res[f\"{perm[0] + perm[1]}\"] = neigh_G\n",
    "    else:\n",
    "        for perm in tqdm(permutations(criteria, 3), desc=\"permutations - 3\"):\n",
    "            neigh_G = criteria[perm[0]](base_graph, pos, param1, param2)\n",
    "            neigh_G = criteria[perm[1]](neigh_G, pos, param1, param2)\n",
    "            neigh_G = criteria[perm[2]](neigh_G, pos, param1, param2)\n",
    "            print(f\"{perm[0] + perm[1] + perm[2]}: {len(neigh_G.edges)}\\n\")\n",
    "            res[f\"{perm[0] + perm[1] + perm[2]}\"] = neigh_G\n",
    "        for perm in tqdm(permutations(criteria, 2), desc=\"permutations - 2\"):\n",
    "            neigh_G = criteria[perm[0]](base_graph, pos, param1, param2)\n",
    "            neigh_G = criteria[perm[1]](neigh_G, pos, param1, param2)\n",
    "            print(f\"{perm[0] + perm[1]}: {len(neigh_G.edges)}\\n\")\n",
    "            res[f\"{perm[0] + perm[1]}\"] = neigh_G\n",
    "\n",
    "    return res"
   ]
  },
  {
   "cell_type": "code",
   "execution_count": null,
   "metadata": {},
   "outputs": [],
   "source": [
    "delG_simC = permutations_criteria(del_G, angle_criterion, distance_criterion, quadrant_criterion, MAX_DISTANCE, MIN_ANGLE)"
   ]
  },
  {
   "cell_type": "code",
   "execution_count": null,
   "metadata": {},
   "outputs": [],
   "source": [
    "delG_enhC = permutations_criteria(del_G, angle_criterion_enhanced, distance_criterion_enhanced, quadrant_criterion_enhanced, MEAN_DISTANCE_PARAMS, mean_distances)"
   ]
  },
  {
   "cell_type": "code",
   "execution_count": null,
   "metadata": {},
   "outputs": [],
   "source": [
    "delG_enhC_v2 = permutations_criteria(kNN_G_2, angle_criterion_enhanced, distance_criterion_enhanced, quadrant_criterion_enhanced_v2, MEAN_DISTANCE_PARAMS, mean_distances, df_azimuth=df_azimuth)"
   ]
  },
  {
   "cell_type": "code",
   "execution_count": null,
   "metadata": {},
   "outputs": [],
   "source": [
    "gabG_enhC = permutations_criteria(gab_G, angle_criterion_enhanced, distance_criterion_enhanced, quadrant_criterion_enhanced, MEAN_DISTANCE_PARAMS, mean_distances)"
   ]
  },
  {
   "cell_type": "code",
   "execution_count": null,
   "metadata": {},
   "outputs": [],
   "source": [
    "kNNG_enhC_1 = permutations_criteria(kNN_G_1, angle_criterion_enhanced, distance_criterion_enhanced, quadrant_criterion_enhanced, MEAN_DISTANCE_PARAMS, mean_distances)"
   ]
  },
  {
   "cell_type": "code",
   "execution_count": null,
   "metadata": {},
   "outputs": [],
   "source": [
    "kNNG_enhC_2 = permutations_criteria(kNN_G_2, angle_criterion_enhanced, distance_criterion_enhanced, quadrant_criterion_enhanced, MEAN_DISTANCE_PARAMS, mean_distances)"
   ]
  },
  {
   "cell_type": "code",
   "execution_count": null,
   "metadata": {},
   "outputs": [],
   "source": [
    "nei_G, edge_info = find_real_neighbors(df, df_azimuth, del_G, pos)\n",
    "nei_G = distance_criterion_enhanced(nei_G, pos, MEAN_DISTANCE_PARAMS, mean_distances)\n",
    "nei_G = angle_criterion_enhanced(nei_G, pos, MEAN_DISTANCE_PARAMS, mean_distances)"
   ]
  },
  {
   "cell_type": "markdown",
   "metadata": {},
   "source": [
    "## Comparison with real neigh"
   ]
  },
  {
   "cell_type": "code",
   "execution_count": null,
   "metadata": {},
   "outputs": [],
   "source": [
    "def neigh_method_dist(G_1, G_2):\n",
    "    alpha = 0\n",
    "    beta = 0\n",
    "    for edge in G_1.edges:\n",
    "        if(not(edge in G_2.edges)):\n",
    "            alpha += 1\n",
    "    for edge in G_2.edges:\n",
    "        if(not(edge in G_1.edges)):\n",
    "            beta += 1\n",
    "    return alpha, beta, (alpha+beta)"
   ]
  },
  {
   "cell_type": "code",
   "execution_count": null,
   "metadata": {},
   "outputs": [],
   "source": [
    "alpha, beta, delta = neigh_method_dist(nei_G, del_G)\n",
    "print(f'Delaunay: & $alpha = {alpha}, beta = {beta}, \\Delta = {delta}$')\n",
    "alpha, beta, delta = neigh_method_dist(nei_G, gab_G)\n",
    "print(f'Gabriel graph: & $alpha = {alpha}, beta = {beta}, \\Delta = {delta}$')\n",
    "alpha, beta, delta = neigh_method_dist(nei_G, kNN_G_1)\n",
    "print(f'{K_1}-NN: & $alpha = {alpha}, beta = {beta}, \\Delta = {delta}$')\n",
    "alpha, beta, delta = neigh_method_dist(nei_G, kNN_G_2)\n",
    "print(f'{K_2}-NN: & $alpha = {alpha}, beta = {beta}, \\Delta = {delta}$')"
   ]
  },
  {
   "cell_type": "code",
   "execution_count": null,
   "metadata": {},
   "outputs": [],
   "source": [
    "for key in delG_simC:\n",
    "    alpha, beta, delta = neigh_method_dist(nei_G, delG_simC[key])\n",
    "    print(f'Delaunay and simple-criteria [{key}]: & $alpha = {alpha}, beta = {beta}, \\Delta = {delta}$')\n",
    "    alpha, beta, delta = neigh_method_dist(nei_G, delG_enhC[key])\n",
    "    print(f'Delaunay and enhanced-criteria [{key}]: & $alpha = {alpha}, beta = {beta}, \\Delta = {delta}$')\n",
    "    alpha, beta, delta = neigh_method_dist(nei_G, delG_enhC_v2[key])\n",
    "    print(f'Delaunay and enhanced-criteria\\_v2 [{key}]: & $alpha = {alpha}, beta = {beta}, \\Delta = {delta}$')\n",
    "    alpha, beta, delta = neigh_method_dist(nei_G, gabG_enhC[key])\n",
    "    print(f'Gabriel graph and enhanced-criteria [{key}]: & $alpha = {alpha}, beta = {beta}, \\Delta = {delta}$')\n",
    "    alpha, beta, delta = neigh_method_dist(nei_G, kNNG_enhC_1[key])\n",
    "    print(f'{K_1}-NN and enhanced-criteria [{key}]: & $alpha = {alpha}, beta = {beta}, \\Delta = {delta}$')\n",
    "    alpha, beta, delta = neigh_method_dist(nei_G, kNNG_enhC_2[key])\n",
    "    print(f'{K_2}-NN and enhanced-criteria [{key}]: & $alpha = {alpha}, beta = {beta}, \\Delta = {delta}$\\n')"
   ]
  },
  {
   "cell_type": "markdown",
   "metadata": {},
   "source": [
    "## Map creation"
   ]
  },
  {
   "cell_type": "code",
   "execution_count": null,
   "metadata": {},
   "outputs": [],
   "source": [
    "def create_FeatureGroup(map, graphs_dict: dict, name: str):\n",
    "    fg = {}\n",
    "    for graph_key in graphs_dict:\n",
    "        fg[graph_key] = folium.FeatureGroup(f\"Edges - {name} [{graph_key}] ({len(graphs_dict[graph_key].edges)})\", show=False).add_to(map)\n",
    "\n",
    "    return fg"
   ]
  },
  {
   "cell_type": "code",
   "execution_count": null,
   "metadata": {},
   "outputs": [],
   "source": [
    "# Function to generate edge info popup with visualization\n",
    "def generate_edge_info_popup_with_visualization(edge, df, edge_info):\n",
    "    bs_id, neigh_id = edge\n",
    "    bs_info = df.loc[bs_id]\n",
    "    neigh_info = df.loc[neigh_id]\n",
    "\n",
    "    azimuths_info = edge_info.get((bs_id, neigh_id), {\"station\": [None, None], \"neighbor\": [None, None]})\n",
    "\n",
    "    popup_text = (\n",
    "        f\"<b>Base Station {bs_id} - {bs_info['nom_com']}</b><br>\"\n",
    "        f\"Latitude: {bs_info['latitude']}, Longitude: {bs_info['longitude']}<br>\"\n",
    "        f\"Coverage Azimuths: {azimuths_info['station'][1]}°<br>\"\n",
    "        f\"<br><b>Neighbor Station {neigh_id} - {neigh_info['nom_com']}</b><br>\"\n",
    "        f\"Latitude: {neigh_info['latitude']}, Longitude: {neigh_info['longitude']}<br>\"\n",
    "        f\"Coverage Azimuths: {azimuths_info['neighbor'][1]}°<br>\"\n",
    "    )\n",
    "\n",
    "    return popup_text"
   ]
  },
  {
   "cell_type": "code",
   "execution_count": null,
   "metadata": {},
   "outputs": [],
   "source": [
    "# Function to add edges with interactive information\n",
    "def add_graph_edges_with_visualization(G: Graph, df: pd.DataFrame, fg: folium.FeatureGroup, edge_info: dict):\n",
    "    for edge in G.edges:\n",
    "        stations = df.loc[[edge[0], edge[1]], ['latitude', 'longitude']].values\n",
    "        popup_text = generate_edge_info_popup_with_visualization(edge, df, edge_info)\n",
    "        popup = folium.Popup(popup_text, max_width=300)\n",
    "        line = folium.PolyLine(stations, color=\"#AAA662\", weight=2.5, opacity=1)\n",
    "        line.add_child(popup)\n",
    "        line.add_to(fg)"
   ]
  },
  {
   "cell_type": "code",
   "execution_count": null,
   "metadata": {},
   "outputs": [],
   "source": [
    "map = folium.Map(location=list(np.mean(df[['latitude','longitude']], axis=0)), zoom_start=8.5, tiles=\"Cartodb Positron\")\n",
    "\n",
    "edges_del = folium.FeatureGroup(f\"Edges - Delaunay triangulation ({len(del_G.edges)})\", show=False).add_to(map)\n",
    "edges_gab = folium.FeatureGroup(f\"Edges - Gab graph ({len(gab_G.edges)})\", show=False).add_to(map)\n",
    "edges_kNN_1 = folium.FeatureGroup(f\"Edges - {K_1}-NN graph ({len(kNN_G_1.edges)})\", show=False).add_to(map)\n",
    "edges_kNN_2 = folium.FeatureGroup(f\"Edges - {K_2}-NN graph ({len(kNN_G_2.edges)})\", show=False).add_to(map)\n",
    "add_graph_edges(del_G, Graph(), df, edges_del, colour=\"blue\")\n",
    "add_graph_edges(gab_G, Graph(), df, edges_gab, colour=\"green\")\n",
    "add_graph_edges(kNN_G_1, Graph(), df, edges_kNN_1, colour=\"red\")\n",
    "add_graph_edges(kNN_G_2, Graph(), df, edges_kNN_2, colour=\"magenta\")\n",
    "\n",
    "edges_del_simC = create_FeatureGroup(map, delG_simC, \"delaunay&simple-criteria\")\n",
    "edges_del_enhC = create_FeatureGroup(map, delG_enhC, \"delaunay&enhanced-criteria\")\n",
    "edges_del_enhC_v2 = create_FeatureGroup(map, delG_enhC_v2, f\"delaunay&enhanced-criteria_v2\")\n",
    "edges_gab_enhC = create_FeatureGroup(map, gabG_enhC, \"gabriel-graph&enhanced-criteria\")\n",
    "edges_kNN_enhC_1 = create_FeatureGroup(map, kNNG_enhC_1, f\"{K_1}-NN&enhanced-criteria\")\n",
    "edges_kNN_enhC_2 = create_FeatureGroup(map, kNNG_enhC_2, f\"{K_2}-NN&enhanced-criteria\")\n",
    "col = {'adq': '#7e1e9c', 'aqd': '#95d0fc', 'daq': '#06c2ac', 'dqa': '#06470c', 'qad': '#ff796c', 'qda': '#dbb40c', 'ad': 'blue', 'aq': 'green', 'da': 'red', 'dq': 'magenta', 'qa': 'yellow', 'qd': 'pink'}\n",
    "for crit_perm in delG_simC:\n",
    "    add_graph_edges(delG_simC[crit_perm], Graph(), df, edges_del_simC[crit_perm], colour=col[crit_perm])\n",
    "for crit_perm in delG_enhC_v2:\n",
    "    add_graph_edges(delG_enhC_v2[crit_perm], Graph(), df, edges_del_enhC_v2[crit_perm], colour=col[crit_perm])\n",
    "col = {'adq': '#15b01a', 'aqd': '#029386', 'daq': '#929591', 'dqa': '#c79fef', 'qad': '#ae7181', 'qda': '#e6daa6', 'ad': 'blue', 'aq': 'green', 'da': 'red', 'dq': 'magenta', 'qa': 'yellow', 'qd': 'pink'}\n",
    "for crit_perm in delG_enhC:\n",
    "    add_graph_edges(delG_enhC[crit_perm], Graph(), df, edges_del_enhC[crit_perm], colour=col[crit_perm])\n",
    "col = {'adq': '#0504aa', 'aqd': '#89fe05', 'daq': '#c7fdb5', 'dqa': '#840000', 'qad': '#137e6d', 'qda': '#b9a281', 'ad': 'blue', 'aq': 'green', 'da': 'red', 'dq': 'magenta', 'qa': 'yellow', 'qd': 'pink'}\n",
    "for crit_perm in gabG_enhC:\n",
    "    add_graph_edges(gabG_enhC[crit_perm], Graph(), df, edges_gab_enhC[crit_perm], colour=col[crit_perm])\n",
    "col = {'adq': '#be03fd', 'aqd': '#a0450e', 'daq': '#4e7496', 'dqa': '#04d9ff', 'qad': '#fbeeac', 'qda': '#7b0323', 'ad': 'blue', 'aq': 'green', 'da': 'red', 'dq': 'magenta', 'qa': 'yellow', 'qd': 'pink'}\n",
    "for crit_perm in kNNG_enhC_1:\n",
    "    add_graph_edges(kNNG_enhC_1[crit_perm], Graph(), df, edges_kNN_enhC_1[crit_perm], colour=col[crit_perm])\n",
    "col = {'adq': '#a87900', 'aqd': '#fc2647', 'daq': '#bff128', 'dqa': '#ca7b80', 'qad': '#f4320c', 'qda': '#7a6a4f', 'ad': 'blue', 'aq': 'green', 'da': 'red', 'dq': 'magenta', 'qa': 'yellow', 'qd': 'pink'}\n",
    "for crit_perm in kNNG_enhC_2:\n",
    "    add_graph_edges(kNNG_enhC_2[crit_perm], Graph(), df, edges_kNN_enhC_2[crit_perm], colour=col[crit_perm])\n",
    "\n",
    "edges_nei = folium.FeatureGroup(f\"Edges - Neighbours graph [da] ({len(nei_G.edges)})\", show=False).add_to(map)\n",
    "add_graph_edges_with_visualization(nei_G, df, edges_nei, edge_info)\n",
    "\n",
    "points = folium.FeatureGroup(f\"Base stations ({len(df)})\").add_to(map)\n",
    "\n",
    "for bs_id, latitude, longitude in df[['latitude', 'longitude']].itertuples():\n",
    "    popup_text = folium.Popup(\n",
    "        f\"Id_anfr: {bs_id}<br>\"\n",
    "        f\"Commune: {df.loc[bs_id, 'nom_com']}<br>\"\n",
    "        f\"3NN distance: {mean_distances.get(bs_id)}<br>\"\n",
    "        , max_width=150)\n",
    "\n",
    "    color = mean_distance_choice(bs_id, mean_distances, MEAN_DISTANCE_PARAMS, 'colour')\n",
    "    points.add_child(folium.CircleMarker(location=[latitude, longitude], color=color, radius=4, popup=popup_text, fillOpacity=1, fill=True))\n",
    "folium.LayerControl().add_to(map)\n",
    "\n",
    "addLegend(map, MEAN_DISTANCE_PARAMS)\n",
    "\n",
    "map.save(f\"../../out/maps/neighbours_finding/methods_comparison_v3.html\")"
   ]
  }
 ],
 "metadata": {
  "language_info": {
   "name": "python"
  }
 },
 "nbformat": 4,
 "nbformat_minor": 2
}
