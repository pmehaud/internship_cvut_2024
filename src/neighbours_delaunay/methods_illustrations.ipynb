{
 "cells": [
  {
   "cell_type": "code",
   "execution_count": null,
   "metadata": {},
   "outputs": [],
   "source": [
    "# Importation of libraries\n",
    "import numpy as np\n",
    "import pandas as pd\n",
    "import geopandas as gpd\n",
    "import matplotlib.pyplot as plt\n",
    "from scipy.spatial import Delaunay\n",
    "\n",
    "from useful_methods.plots import plot_delaunay"
   ]
  },
  {
   "cell_type": "code",
   "execution_count": null,
   "metadata": {},
   "outputs": [],
   "source": [
    "# Importing database\n",
    "df = pd.read_csv(\"../../database/data.csv\", sep=\";\", decimal=\",\")\n",
    "df.head()"
   ]
  },
  {
   "cell_type": "code",
   "execution_count": null,
   "metadata": {},
   "outputs": [],
   "source": [
    "department = \"Gard\""
   ]
  },
  {
   "cell_type": "code",
   "execution_count": null,
   "metadata": {},
   "outputs": [],
   "source": [
    "df_gard = df.loc[df['nom_dep'] == department]\n",
    "df_gard = df_gard.drop(columns=[\"code_op\", \"id_site_partage\", \"id_station_anfr\", \"nom_reg\", \"nom_dep\", \"insee_dep\", \"insee_com\", \"site_2g\", \"site_3g\", \"site_4g\", \"site_5g\", \"mes_4g_trim\", \"site_ZB\", \"site_DCC\", \"site_strategique\", \"site_capa_240mbps\", \"date_ouverturecommerciale_5g\", \"site_5g_700_m_hz\", \"site_5g_800_m_hz\", \"site_5g_1800_m_hz\", \"site_5g_2100_m_hz\", \"site_5g_3500_m_hz\"])\n",
    "df_gard.head()"
   ]
  },
  {
   "cell_type": "code",
   "execution_count": null,
   "metadata": {},
   "outputs": [],
   "source": [
    "# Selecting the provider : Free Mobile\n",
    "df_gard_free = df_gard.loc[df['nom_op'] == \"Free Mobile\"]\n",
    "df_gard_free = df_gard_free.drop(columns=['nom_op'])\n",
    "\n",
    "# Creation of points couples for Delaunay\n",
    "df_gard_free_points = np.array(df_gard_free[['longitude', 'latitude']])\n",
    "# Delaunay triangulation\n",
    "delaunay_gard_free = Delaunay(df_gard_free_points)"
   ]
  },
  {
   "cell_type": "code",
   "execution_count": null,
   "metadata": {},
   "outputs": [],
   "source": [
    "chemin = '../../local/travail_anneePrec/departements-20180101.shx'\n",
    "geo_df_shx = gpd.read_file(chemin)\n",
    "geo_df = geo_df_shx.drop([ 'wikipedia', 'nuts3', 'surf_km2'], axis = 1)\n",
    "geo_df = geo_df.drop(geo_df[(geo_df['code_insee'] == '973') | (geo_df['code_insee'] == '972') | (geo_df['code_insee'] == '974') | (geo_df['code_insee'] == '976') | (geo_df['code_insee'] == '971')].index)\n",
    "geo_df.index = geo_df.index.astype(str)\n",
    "\n",
    "# On joint la Métropole de Lyon et le Rhône\n",
    "from shapely.geometry import Polygon, MultiPolygon\n",
    "\n",
    "\n",
    "# Coordonnées des polygones\n",
    "polygone_rhone = geo_df[geo_df['code_insee'] == \"69D\"]['geometry'].values[0]\n",
    "polygone_lyon = geo_df[geo_df['code_insee'] == \"69M\"]['geometry'].values[0]\n",
    "\n",
    "\n",
    "# Créer un MultiPolygon avec les deux polygones\n",
    "multipolygone_69 = polygone_rhone.union(polygone_lyon)\n",
    "\n",
    "# Créer une nouvelle ligne avec code_insee = '69' et le MultiPolygon\n",
    "dep_rhone = {\n",
    "    'code_insee': '69',\n",
    "    'nom': 'Rhône',\n",
    "    'geometry': multipolygone_69\n",
    "}\n",
    "# Convertir la nouvelle ligne en GeoDataFrame\n",
    "nouveau_gdf = gpd.GeoDataFrame([dep_rhone], geometry='geometry')\n",
    "\n",
    "# Supprimer les anciennes lignes avec code_insee = '69'\n",
    "geo_df = geo_df[geo_df['code_insee'] != '69D']\n",
    "geo_df = geo_df[geo_df['code_insee'] != '69M']\n",
    "\n",
    "# Ajouter la nouvelle ligne au GeoDataFrame\n",
    "geo_df = gpd.GeoDataFrame(pd.concat([geo_df, nouveau_gdf], ignore_index=True), crs=geo_df.crs)\n",
    "\n",
    "geo_df = geo_df.drop_duplicates()\n",
    "\n",
    "# Suppression des zéros à gauche dans les numéros d'index\n",
    "geo_df['code_insee'] = geo_df['code_insee'].str.lstrip('0')"
   ]
  },
  {
   "cell_type": "code",
   "execution_count": null,
   "metadata": {},
   "outputs": [],
   "source": [
    "geo_df"
   ]
  },
  {
   "cell_type": "code",
   "execution_count": null,
   "metadata": {},
   "outputs": [],
   "source": [
    "geo_df.loc[geo_df['nom']==\"Gard\",:].plot(edgecolor = \"black\", linewidth = 1, color=\"white\")\n",
    "plot_delaunay(delaunay_gard_free)"
   ]
  }
 ],
 "metadata": {
  "kernelspec": {
   "display_name": "Python 3",
   "language": "python",
   "name": "python3"
  },
  "language_info": {
   "codemirror_mode": {
    "name": "ipython",
    "version": 3
   },
   "file_extension": ".py",
   "mimetype": "text/x-python",
   "name": "python",
   "nbconvert_exporter": "python",
   "pygments_lexer": "ipython3",
   "version": "3.10.12"
  }
 },
 "nbformat": 4,
 "nbformat_minor": 2
}
