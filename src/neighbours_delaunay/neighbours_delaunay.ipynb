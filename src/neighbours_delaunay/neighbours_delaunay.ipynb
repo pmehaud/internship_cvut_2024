{
 "cells": [
  {
   "cell_type": "markdown",
   "metadata": {},
   "source": [
    "# Finding base station neighbours via the Delaunay triangulation\n",
    "\n",
    "We will reuse the work of Delphine PAQUIRY to find base stations' neighbours."
   ]
  },
  {
   "cell_type": "code",
   "execution_count": null,
   "metadata": {},
   "outputs": [],
   "source": [
    "# Importation of libraries\n",
    "import numpy as np\n",
    "import pandas as pd\n",
    "import matplotlib.pyplot as plt\n",
    "from scipy.spatial import Delaunay\n",
    "\n",
    "from useful_methods.plots import plot_delaunay, plot_graph\n",
    "from useful_methods.criterias import distance_criteria, quadrant_criteria, angle_criteria"
   ]
  },
  {
   "cell_type": "code",
   "execution_count": null,
   "metadata": {},
   "outputs": [],
   "source": [
    "# Importing database\n",
    "df = pd.read_csv(\"../../database/data.csv\", sep=\";\", decimal=\",\")\n",
    "df.head()"
   ]
  },
  {
   "cell_type": "markdown",
   "metadata": {},
   "source": [
    "## Useful methods\n",
    "\n"
   ]
  },
  {
   "cell_type": "markdown",
   "metadata": {},
   "source": [
    "### Creation of a graph based on delaunay triangulation"
   ]
  },
  {
   "cell_type": "code",
   "execution_count": null,
   "metadata": {},
   "outputs": [],
   "source": [
    "import networkx as nx\n",
    "from itertools import combinations\n",
    "\n",
    "def delaunay_to_graph(delaunay_triangulation):\n",
    "    \"\"\" Returns a Networkx Graph based on the Delaunay triangulation and the position of each node.\n",
    "        \n",
    "        Parameters\n",
    "        ----------\n",
    "        delaunay_triangulation : Delaunay\n",
    "            Result of the Delaunay triangulation.\n",
    "\n",
    "        Returns\n",
    "        -------\n",
    "        G : Graph\n",
    "            A Networkx Graph graph.\n",
    "        pos : dict\n",
    "            The position of G's nodes.\n",
    "    \"\"\"\n",
    "    G=nx.Graph()\n",
    "    nodes = range(len(delaunay_triangulation.points))\n",
    "    G.add_nodes_from(nodes) # adds nodes names (0 to number_of_points-1)\n",
    "\n",
    "    for simplex in delaunay_triangulation.simplices:\n",
    "        G.add_edges_from(combinations(simplex, 2))\n",
    "\n",
    "    pos = dict(zip(nodes,delaunay_triangulation.points)) # gives each node his own position\n",
    "\n",
    "    return G, pos"
   ]
  },
  {
   "cell_type": "markdown",
   "metadata": {},
   "source": [
    "## First try on the Gard county\n",
    "\n",
    "### Creation of the dataframe"
   ]
  },
  {
   "cell_type": "code",
   "execution_count": null,
   "metadata": {},
   "outputs": [],
   "source": [
    "department = \"Gard\""
   ]
  },
  {
   "cell_type": "code",
   "execution_count": null,
   "metadata": {},
   "outputs": [],
   "source": [
    "df_gard = df.loc[df['nom_dep'] == department]\n",
    "df_gard = df_gard.drop(columns=[\"code_op\", \"id_site_partage\", \"id_station_anfr\", \"nom_reg\", \"nom_dep\", \"insee_dep\", \"insee_com\", \"site_2g\", \"site_3g\", \"site_4g\", \"site_5g\", \"mes_4g_trim\", \"site_ZB\", \"site_DCC\", \"site_strategique\", \"site_capa_240mbps\", \"date_ouverturecommerciale_5g\", \"site_5g_700_m_hz\", \"site_5g_800_m_hz\", \"site_5g_1800_m_hz\", \"site_5g_2100_m_hz\", \"site_5g_3500_m_hz\"])\n",
    "df_gard.head()"
   ]
  },
  {
   "cell_type": "markdown",
   "metadata": {},
   "source": [
    "### Delaunay triangulation on Free Mobile stations"
   ]
  },
  {
   "cell_type": "code",
   "execution_count": null,
   "metadata": {},
   "outputs": [],
   "source": [
    "# Selecting the provider : Free Mobile\n",
    "df_gard_free = df_gard.loc[df['nom_op'] == \"Free Mobile\"]\n",
    "df_gard_free = df_gard_free.drop(columns=['nom_op'])\n",
    "df_gard_free.head()"
   ]
  },
  {
   "cell_type": "code",
   "execution_count": null,
   "metadata": {},
   "outputs": [],
   "source": [
    "# Creation of points couples for Delaunay\n",
    "df_gard_free_points = np.array(df_gard_free[['longitude', 'latitude']])"
   ]
  },
  {
   "cell_type": "code",
   "execution_count": null,
   "metadata": {},
   "outputs": [],
   "source": [
    "delaunay_gard_free = Delaunay(df_gard_free_points)"
   ]
  },
  {
   "cell_type": "code",
   "execution_count": null,
   "metadata": {},
   "outputs": [],
   "source": [
    "# plot_delaunay(delaunay_gard_free)"
   ]
  },
  {
   "cell_type": "markdown",
   "metadata": {},
   "source": [
    "### Creating a graph based on delaunay triangulation"
   ]
  },
  {
   "cell_type": "code",
   "execution_count": null,
   "metadata": {},
   "outputs": [],
   "source": [
    "G, pos = delaunay_to_graph(delaunay_gard_free)"
   ]
  },
  {
   "cell_type": "code",
   "execution_count": null,
   "metadata": {},
   "outputs": [],
   "source": [
    "# plot_graph(G,pos)"
   ]
  },
  {
   "cell_type": "markdown",
   "metadata": {},
   "source": [
    "### Addition of criterias"
   ]
  },
  {
   "cell_type": "code",
   "execution_count": null,
   "metadata": {},
   "outputs": [],
   "source": [
    "G_dist = distance_criteria(G,pos)"
   ]
  },
  {
   "cell_type": "code",
   "execution_count": null,
   "metadata": {},
   "outputs": [],
   "source": [
    "G_quad = quadrant_criteria(G,pos)"
   ]
  },
  {
   "cell_type": "code",
   "execution_count": null,
   "metadata": {},
   "outputs": [],
   "source": [
    "G_angle = angle_criteria(G,pos)"
   ]
  },
  {
   "cell_type": "code",
   "execution_count": null,
   "metadata": {},
   "outputs": [],
   "source": [
    "fig, axs = plt.subplots(ncols=3, figsize=(22,5))\n",
    "# plot_delaunay(delaunay_gard_free,ax=axs[0],show=False)\n",
    "plot_graph(G_dist,pos,ax=axs[2],show=False, title='Distance criteria')\n",
    "plot_graph(G_quad,pos,ax=axs[0],show=False, title='Quadrant criteria')\n",
    "plot_graph(G_angle,pos,ax=axs[1],show=False, title='Angle Delaunay')\n",
    "fig.suptitle(\"Comparison of the Quadrant and Distance cirteria\", fontsize=18, va='center')\n",
    "plt.show()"
   ]
  },
  {
   "cell_type": "markdown",
   "metadata": {},
   "source": [
    "### Comparison of the results"
   ]
  },
  {
   "cell_type": "code",
   "execution_count": null,
   "metadata": {},
   "outputs": [],
   "source": [
    "G_modif = distance_criteria(G,pos)"
   ]
  },
  {
   "cell_type": "code",
   "execution_count": null,
   "metadata": {},
   "outputs": [],
   "source": [
    "G_modif = quadrant_criteria(G_modif,pos)"
   ]
  },
  {
   "cell_type": "code",
   "execution_count": null,
   "metadata": {},
   "outputs": [],
   "source": [
    "G_modif = angle_criteria(G_modif,pos)"
   ]
  },
  {
   "cell_type": "code",
   "execution_count": null,
   "metadata": {},
   "outputs": [],
   "source": [
    "fig, axs = plt.subplots(ncols=2, figsize=(16,5))\n",
    "plot_delaunay(delaunay_gard_free,ax=axs[0],show=False,department=department)\n",
    "plot_graph(G_modif,pos,ax=axs[1],show=False,title=\"Delaunay after reduction\",department=department)\n",
    "fig.suptitle(\"Comparison of the Delaunay Triangulation and its reduction of edges\", fontsize=18, va='center')\n",
    "plt.show()"
   ]
  },
  {
   "cell_type": "markdown",
   "metadata": {},
   "source": [
    "## Big Delaunay on France\n",
    "Only Free Mobile"
   ]
  },
  {
   "cell_type": "code",
   "execution_count": null,
   "metadata": {},
   "outputs": [],
   "source": [
    "# Selecting the provider : Free Mobile\n",
    "df_free = df.loc[df['nom_op'] == \"Free Mobile\"]\n",
    "df_free = df_free.drop(columns=['nom_op'])\n",
    "df_free.head()"
   ]
  },
  {
   "cell_type": "code",
   "execution_count": null,
   "metadata": {},
   "outputs": [],
   "source": [
    "# Creation of points couples for Delaunay\n",
    "df_free_points = np.array(df_free[['longitude', 'latitude']])"
   ]
  },
  {
   "cell_type": "code",
   "execution_count": null,
   "metadata": {},
   "outputs": [],
   "source": [
    "delaunay_free = Delaunay(df_free_points)"
   ]
  },
  {
   "cell_type": "code",
   "execution_count": null,
   "metadata": {},
   "outputs": [],
   "source": [
    "plot_delaunay(delaunay_free)"
   ]
  },
  {
   "cell_type": "code",
   "execution_count": null,
   "metadata": {},
   "outputs": [],
   "source": [
    "G_france, pos_france = delaunay_to_graph(delaunay_free)"
   ]
  },
  {
   "cell_type": "code",
   "execution_count": null,
   "metadata": {},
   "outputs": [],
   "source": [
    "G_france_modif = distance_criteria(G_france,pos_france)"
   ]
  },
  {
   "cell_type": "code",
   "execution_count": null,
   "metadata": {},
   "outputs": [],
   "source": [
    "G_france_modif = quadrant_criteria(G_france_modif,pos_france)"
   ]
  },
  {
   "cell_type": "code",
   "execution_count": null,
   "metadata": {},
   "outputs": [],
   "source": [
    "# G_france_modif = angle_criteria(G_france_modif,pos_france)\n",
    "\n",
    "# /!\\ beug ici"
   ]
  },
  {
   "cell_type": "code",
   "execution_count": null,
   "metadata": {},
   "outputs": [],
   "source": [
    "# plot_graph(G_france_modif,pos_france, department=df['nom_dep'].unique())"
   ]
  }
 ],
 "metadata": {
  "kernelspec": {
   "display_name": "Python 3",
   "language": "python",
   "name": "python3"
  },
  "language_info": {
   "codemirror_mode": {
    "name": "ipython",
    "version": 3
   },
   "file_extension": ".py",
   "mimetype": "text/x-python",
   "name": "python",
   "nbconvert_exporter": "python",
   "pygments_lexer": "ipython3",
   "version": "3.10.12"
  }
 },
 "nbformat": 4,
 "nbformat_minor": 2
}
