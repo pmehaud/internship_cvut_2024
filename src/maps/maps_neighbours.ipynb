{
 "cells": [
  {
   "cell_type": "code",
   "execution_count": null,
   "metadata": {},
   "outputs": [],
   "source": [
    "import os\n",
    "import sys\n",
    "\n",
    "# Get the current working directory\n",
    "current_dir = os.getcwd()\n",
    "\n",
    "# Get the parent directory of `maps` (which is `src`)\n",
    "parent_dir = os.path.abspath(os.path.join(current_dir, os.pardir))\n",
    "\n",
    "# Add `src` to the module search path\n",
    "if parent_dir not in sys.path:\n",
    "    sys.path.append(parent_dir)"
   ]
  },
  {
   "cell_type": "code",
   "execution_count": null,
   "metadata": {},
   "outputs": [],
   "source": [
    "import folium.features\n",
    "import pandas as pd\n",
    "import matplotlib.pyplot as plt\n",
    "import matplotlib.colors as mcolors\n",
    "\n",
    "from python_scripts.ihm.maps.mapUtils import *\n",
    "from python_scripts.neighbours_criteria.simple_criteria import *\n",
    "from python_scripts.neighbours_criteria.enhanced_criteria import *\n",
    "from python_scripts.miscellaneaous.data_processing import extract_data\n",
    "from python_scripts.graphs.graphs_creation import delaunay_graph\n",
    "from python_scripts.city.city_utils import mean_distance_choice, city_detection_enhanced\n"
   ]
  },
  {
   "cell_type": "code",
   "execution_count": null,
   "metadata": {},
   "outputs": [],
   "source": [
    "df = pd.read_csv(\"../../database/data.csv\", sep=\";\", decimal=',')\n",
    "providers = df['nom_op'].unique()\n",
    "regions = df['nom_reg'].unique()\n",
    "technologies = pd.Series(['site_2g', 'site_3g', 'site_4g', 'site_5g'])\n",
    "ntechs = len(technologies)\n",
    "nprovs = len(providers)"
   ]
  },
  {
   "cell_type": "code",
   "execution_count": null,
   "metadata": {},
   "outputs": [],
   "source": [
    "# Create graph\n",
    "df_extracted = extract_data(df, provider='Orange', techno='4g', region='Normandie') #Occitanie, Île-de-France\n",
    "G, pos = delaunay_graph(df_extracted)"
   ]
  },
  {
   "cell_type": "code",
   "execution_count": null,
   "metadata": {},
   "outputs": [],
   "source": [
    "# detected_cities = city_detection_enhanced(extract_data(df, provider='Orange', techno='4g')[['x', 'y']])\n",
    "# cityness_proba = detected_cities['probas']"
   ]
  },
  {
   "cell_type": "code",
   "execution_count": null,
   "metadata": {},
   "outputs": [],
   "source": [
    "mean_distances = mean_distance_to_NN(df_extracted[['x', 'y']], n_neighbours=3) # 3 to have more neighbours"
   ]
  },
  {
   "cell_type": "code",
   "execution_count": null,
   "metadata": {},
   "outputs": [],
   "source": [
    "mean_distance_params = {\n",
    "    ']0, 1] km': {'colour': '#030464', 'angle': 40, 'distance': 2},\n",
    "    ']1, 2] km': {'colour': '#069AF3', 'angle': 30, 'distance': 5},\n",
    "    ']2, 4] km': {'colour': '#02D4BB', 'angle': 25, 'distance': 10},\n",
    "    ']4, inf] km': {'colour': '#0DBF75', 'angle': 15, 'distance': 15},\n",
    "}"
   ]
  },
  {
   "cell_type": "code",
   "execution_count": null,
   "metadata": {},
   "outputs": [],
   "source": [
    "G_dis = distance_criterion_enhanced(G, pos, params=mean_distance_params, mean_distance_to_NN=mean_distances)#, cityness_proba=cityness_proba)\n",
    "G_ang = angle_criterion_enhanced(G, pos, params=mean_distance_params, mean_distance_to_NN=mean_distances)\n",
    "G_qua = quadrant_criterion_enhanced(G, pos)\n",
    "G_tot = distance_criterion_enhanced(G, pos, params=mean_distance_params, mean_distance_to_NN=mean_distances)#, cityness_proba=cityness_proba)\n",
    "G_tot = angle_criterion_enhanced(G_tot, pos, params=mean_distance_params, mean_distance_to_NN=mean_distances)\n",
    "G_tot = quadrant_criterion_enhanced(G_tot, pos)"
   ]
  },
  {
   "cell_type": "code",
   "execution_count": null,
   "metadata": {},
   "outputs": [],
   "source": [
    "G_tot.edges(18226) # ptet créer une nouvelle colone dans le dataframe"
   ]
  },
  {
   "cell_type": "code",
   "execution_count": null,
   "metadata": {},
   "outputs": [],
   "source": [
    "# Create a colormap\n",
    "cmap = plt.cm.get_cmap('winter_r')  # 'cool' colormap for blue to gray\n",
    "norm = mcolors.Normalize(vmin=0, vmax=1)"
   ]
  },
  {
   "cell_type": "code",
   "execution_count": null,
   "metadata": {},
   "outputs": [],
   "source": [
    "def add_graph_edges(G_base: nx.Graph, G: nx.Graph, pos: dict, fg: folium.FeatureGroup, colour: str):\n",
    "    for edge in G_base.edges:\n",
    "        stations = []\n",
    "        if(not(edge in G.edges)):\n",
    "            stations.append(pos[edge[0]])\n",
    "            stations.append(pos[edge[1]])\n",
    "\n",
    "            folium.PolyLine(np.array(stations), color=colour, weight=2.5, opacity=1).add_to(fg)"
   ]
  },
  {
   "cell_type": "code",
   "execution_count": null,
   "metadata": {},
   "outputs": [],
   "source": [
    "def addLegend(map, labelsToColors):\n",
    "    legend_html = f'''\n",
    "    <div style=\"position: fixed; \n",
    "                bottom: 50px; left: 50px; width: 200px; height: 120px; \n",
    "                border:2px solid grey; z-index:9999; font-size:14px;\n",
    "                background-color: white;\n",
    "                \"><strong>Legend</strong> <br>\n",
    "    '''\n",
    "    for label in labelsToColors.keys():\n",
    "        legend_html += f\"\\n&nbsp; <span style='color:{labelsToColors.get(label).get('colour')}'>&#9632;</span> {label} <br>\\n\"\n",
    "    legend_html += '</div>'\n",
    "    map.get_root().html.add_child(folium.Element(legend_html))"
   ]
  },
  {
   "cell_type": "code",
   "execution_count": null,
   "metadata": {},
   "outputs": [],
   "source": [
    "map = folium.Map(location=np.mean(df_extracted[['latitude','longitude']], axis=0), zoom_start=8.5, tiles=\"OpenStreetMap\")#\"Cartodb Positron\")\n",
    "labels = folium.FeatureGroup(\"Labels\", show=False).add_to(map)\n",
    "edges = folium.FeatureGroup(f\"Edges ({len(G.edges)})\").add_to(map)\n",
    "edges_dis = folium.FeatureGroup(f\"Edges - distance ({len(G_dis.edges)})\", show=False).add_to(map)\n",
    "edges_ang = folium.FeatureGroup(f\"Edges - angle ({len(G_ang.edges)})\", show=False).add_to(map)\n",
    "edges_qua = folium.FeatureGroup(f\"Edges - quadrant ({len(G_qua.edges)})\", show=False).add_to(map)\n",
    "edges_tot = folium.FeatureGroup(f\"Edges - total ({len(G_tot.edges)})\").add_to(map)\n",
    "points = folium.FeatureGroup(f\"Points ({len(G)})\").add_to(map)\n",
    "\n",
    "for edge in G.edges:\n",
    "    stations = []\n",
    "    stations.append(pos[edge[0]])\n",
    "    stations.append(pos[edge[1]])\n",
    "    stations = np.array(stations)\n",
    "    \n",
    "    folium.PolyLine(stations, color=\"lightgray\", weight=2.5, opacity=1).add_to(edges)\n",
    "    folium.map.Marker(\n",
    "        (stations[0]+stations[1])/2,\n",
    "        icon=folium.features.DivIcon(\n",
    "            icon_size=(250,36),\n",
    "            icon_anchor=(0,0),\n",
    "            html=f'<div style=\"font-size: 7pt\">{km_distance(stations[0], stations[1]):.2f} km</div>'\n",
    "        )\n",
    "    ).add_to(labels)\n",
    "\n",
    "add_graph_edges(G, G_dis, pos, edges_dis, colour=\"red\")\n",
    "add_graph_edges(G, G_ang, pos, edges_ang, colour=\"orange\")\n",
    "add_graph_edges(G, G_qua, pos, edges_qua, colour=\"green\")\n",
    "add_graph_edges(G_tot, nx.Graph(), pos, edges_tot, colour=\"#AAA662\")\n",
    "\n",
    "for ind, latitude, longitude in df_extracted[['latitude', 'longitude']].itertuples():\n",
    "    color = mean_distance_choice(ind, mean_distances, mean_distance_params, 'colour')\n",
    "    points.add_child(folium.CircleMarker(location=[latitude, longitude], color=color, radius=5, popup=f\"mean_dist={mean_distances.get(ind)}\"))\n",
    "    #\\nproba={cityness_proba.get(ind)}\n",
    "folium.LayerControl().add_to(map)\n",
    "\n",
    "addLegend(map, mean_distance_params)\n",
    "\n",
    "map.save(\"../../out/maps/enhanced_neighborhood_v1.html\")"
   ]
  }
 ],
 "metadata": {
  "language_info": {
   "name": "python"
  }
 },
 "nbformat": 4,
 "nbformat_minor": 2
}
