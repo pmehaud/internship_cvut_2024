{
 "cells": [
  {
   "cell_type": "code",
   "execution_count": null,
   "metadata": {},
   "outputs": [],
   "source": [
    "import os\n",
    "import sys\n",
    "\n",
    "# Obtenir le répertoire de travail courant\n",
    "current_dir = os.getcwd()\n",
    "\n",
    "# Obtenir le répertoire parent de `maps` (qui est `src`)\n",
    "parent_dir = os.path.abspath(os.path.join(current_dir, os.pardir))\n",
    "\n",
    "# Ajouter `src` au chemin de recherche des modules\n",
    "if parent_dir not in sys.path:\n",
    "    sys.path.append(parent_dir)"
   ]
  },
  {
   "cell_type": "code",
   "execution_count": null,
   "metadata": {},
   "outputs": [],
   "source": [
    "import folium.features\n",
    "import pandas as pd\n",
    "import matplotlib.pyplot as plt\n",
    "import matplotlib.colors as mcolors\n",
    "\n",
    "from useful_methods.ihm.maps.mapUtils import *\n",
    "from useful_methods.neighbours_delaunay.simple_criteria import *\n",
    "from useful_methods.neighbours_delaunay.enhanced_criteria import *\n",
    "from useful_methods.data_processing import extract_data\n",
    "from useful_methods.neighbours_delaunay.graphs import delaunay_graph\n",
    "from city.city_utils import city_detection\n"
   ]
  },
  {
   "cell_type": "code",
   "execution_count": null,
   "metadata": {},
   "outputs": [],
   "source": [
    "df = pd.read_csv(\"../../database/data.csv\", sep=\";\", decimal=',')\n",
    "providers = df['nom_op'].unique()\n",
    "regions = df['nom_reg'].unique()\n",
    "technologies = pd.Series(['site_2g', 'site_3g', 'site_4g', 'site_5g'])\n",
    "ntechs = len(technologies)\n",
    "nprovs = len(providers)"
   ]
  },
  {
   "cell_type": "code",
   "execution_count": null,
   "metadata": {},
   "outputs": [],
   "source": [
    "# Create graph\n",
    "df_extracted = extract_data(df, provider='Orange', techno='4g', region='Normandie')\n",
    "G, pos = delaunay_graph(df_extracted)"
   ]
  },
  {
   "cell_type": "code",
   "execution_count": null,
   "metadata": {},
   "outputs": [],
   "source": [
    "detected_cities = city_detection(extract_data(df, provider='Orange', techno='4g')[['x', 'y']])\n",
    "cityness_proba = detected_cities['probas']\n",
    "mean_distances = mean_distance_to_NN(extract_data(df, provider='Orange', techno='4g', region='Normandie')[['longitude', 'latitude']], n_neighbours=3) # 3 to have more neighbours"
   ]
  },
  {
   "cell_type": "code",
   "execution_count": null,
   "metadata": {},
   "outputs": [],
   "source": [
    "G_dis = distance_criterion_enhanced(G, pos, cityness_proba=cityness_proba)\n",
    "G_ang = angle_criterion_enhanced(G, pos, mean_distance_to_NN=mean_distances)\n",
    "G_qua = quadrant_criterion_enhanced(G, pos)\n",
    "G_tot = distance_criterion_enhanced(G, pos, cityness_proba=cityness_proba)\n",
    "G_tot = angle_criterion_enhanced(G_tot, pos, mean_distance_to_NN=mean_distances)\n",
    "G_tot = quadrant_criterion_enhanced(G_tot, pos)"
   ]
  },
  {
   "cell_type": "code",
   "execution_count": null,
   "metadata": {},
   "outputs": [],
   "source": [
    "# Create a colormap\n",
    "cmap = plt.cm.get_cmap('winter_r')  # 'cool' colormap for blue to gray\n",
    "norm = mcolors.Normalize(vmin=0, vmax=1)"
   ]
  },
  {
   "cell_type": "code",
   "execution_count": null,
   "metadata": {},
   "outputs": [],
   "source": [
    "def add_graph_edges(G: nx.Graph, pos: dict, fg: folium.FeatureGroup, colour: str):\n",
    "    for edge in G.edges:\n",
    "        stations = []\n",
    "        stations.append(pos[edge[0]])\n",
    "        stations.append(pos[edge[1]])\n",
    "        stations = np.array(stations)\n",
    "\n",
    "        folium.PolyLine(stations, color=colour, weight=2.5, opacity=1).add_to(fg)"
   ]
  },
  {
   "cell_type": "code",
   "execution_count": null,
   "metadata": {},
   "outputs": [],
   "source": [
    "def marker_color(node: int):\n",
    "    if(mean_distances[node] <= 1.0):\n",
    "        return 'darkblue'\n",
    "    elif((mean_distances[node] > 1) and (mean_distances[node] <= 2)):\n",
    "        return 'azure'\n",
    "    elif((mean_distances[node] > 2) and (mean_distances[node] <= 5)):\n",
    "        return 'aquamarine'\n",
    "    elif((mean_distances[node] > 5) and (mean_distances[node] <= 10)):\n",
    "        return 'lime'\n",
    "    else:\n",
    "        return 'beige'"
   ]
  },
  {
   "cell_type": "code",
   "execution_count": null,
   "metadata": {},
   "outputs": [],
   "source": [
    "map = folium.Map(location=np.mean(df_extracted[['latitude','longitude']], axis=0), zoom_start=8.5, tiles=\"Cartodb Positron\")\n",
    "labels = folium.FeatureGroup(\"Labels\", show=False).add_to(map)\n",
    "edges = folium.FeatureGroup(\"Edges\").add_to(map)\n",
    "edges_dis = folium.FeatureGroup(\"Edges - distance\", show=False).add_to(map)\n",
    "edges_ang = folium.FeatureGroup(\"Edges - angle\", show=False).add_to(map)\n",
    "edges_qua = folium.FeatureGroup(\"Edges - quadrant\", show=False).add_to(map)\n",
    "edges_tot = folium.FeatureGroup(\"Edges - total\").add_to(map)\n",
    "points = folium.FeatureGroup(\"Points\").add_to(map)\n",
    "\n",
    "for edge in G.edges:\n",
    "    stations = []\n",
    "    stations.append(pos[edge[0]])\n",
    "    stations.append(pos[edge[1]])\n",
    "    stations = np.array(stations)\n",
    "    \n",
    "    folium.PolyLine(stations, color=\"lightgray\", weight=2.5, opacity=1).add_to(edges)\n",
    "    folium.map.Marker(\n",
    "        (stations[0]+stations[1])/2,\n",
    "        icon=folium.features.DivIcon(\n",
    "            icon_size=(250,36),\n",
    "            icon_anchor=(0,0),\n",
    "            html=f'<div style=\"font-size: 7pt\">{km_distance(stations[0], stations[1]):.2f} km</div>'\n",
    "        )\n",
    "    ).add_to(labels)\n",
    "\n",
    "add_graph_edges(G_dis, pos, edges_dis, colour=\"red\")\n",
    "add_graph_edges(G_ang, pos, edges_ang, colour=\"orange\")\n",
    "add_graph_edges(G_qua, pos, edges_qua, colour=\"green\")\n",
    "add_graph_edges(G_tot, pos, edges_tot, colour=\"goldenrod\")\n",
    "\n",
    "for ind, latitude, longitude in df_extracted[['latitude', 'longitude']].itertuples():\n",
    "    color = marker_color(ind)\n",
    "    points.add_child(folium.CircleMarker(location=[latitude, longitude], color=color, radius=5, popup=f\"mean_dist={mean_distances.get(ind)}\\nproba={cityness_proba.get(ind)}\"))\n",
    "folium.LayerControl().add_to(map)\n",
    "\n",
    "map.save(\"../../out/maps/enhanced_neighborhood_default.html\")"
   ]
  }
 ],
 "metadata": {
  "language_info": {
   "name": "python"
  }
 },
 "nbformat": 4,
 "nbformat_minor": 2
}
