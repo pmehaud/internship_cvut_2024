{
 "cells": [
  {
   "cell_type": "markdown",
   "metadata": {},
   "source": [
    "## Libraries importation"
   ]
  },
  {
   "cell_type": "code",
   "execution_count": null,
   "metadata": {},
   "outputs": [],
   "source": [
    "# Please use these lines in every notebook you create\n",
    "\n",
    "import os\n",
    "import sys\n",
    "\n",
    "# Get the current working directory\n",
    "current_dir = os.getcwd()\n",
    "\n",
    "# Get the parent directory of `maps` (which is `src`)\n",
    "parent_dir = os.path.abspath(os.path.join(current_dir, os.pardir))\n",
    "\n",
    "# Add `src` to the module search path\n",
    "if parent_dir not in sys.path:\n",
    "    sys.path.append(parent_dir)\n",
    "\n",
    "from global_variables import *"
   ]
  },
  {
   "cell_type": "code",
   "execution_count": null,
   "metadata": {},
   "outputs": [],
   "source": [
    "import pandas as pd\n",
    "import numpy as np\n",
    "from scipy.spatial import Delaunay, Voronoi\n",
    "from copy import deepcopy\n",
    "import math\n",
    "\n",
    "from python_scripts.graphs.graphs_creation import delaunay_graph\n",
    "from python_scripts.neighbours_criteria.enhanced_criteria import distance_criterion_enhanced\n",
    "from python_scripts.city.city_utils import mean_distance_to_NN\n",
    "from python_scripts.miscellaneaous.data_processing import extract_data"
   ]
  },
  {
   "cell_type": "markdown",
   "metadata": {},
   "source": [
    "## Database import and data extraction"
   ]
  },
  {
   "cell_type": "code",
   "execution_count": null,
   "metadata": {},
   "outputs": [],
   "source": [
    "df_extracted = pd.read_csv(\"../../database/short-Normandy-antenn.csv\", sep=\";\", decimal=\".\")\n",
    "df_extracted.head()"
   ]
  },
  {
   "cell_type": "code",
   "execution_count": null,
   "metadata": {},
   "outputs": [],
   "source": [
    "df2 = pd.read_csv(\"../../database/data.csv\", sep=\";\", decimal=\",\")\n",
    "df3 = extract_data(df2, provider=PROVIDER, region=REGION, techno=TECHNO)\n",
    "df3.head()"
   ]
  },
  {
   "cell_type": "markdown",
   "metadata": {},
   "source": [
    "## City detection"
   ]
  },
  {
   "cell_type": "code",
   "execution_count": null,
   "metadata": {},
   "outputs": [],
   "source": [
    "mean_distances = mean_distance_to_NN(df3[['x', 'y']], n_neighbours=N_NEIGH)"
   ]
  },
  {
   "cell_type": "markdown",
   "metadata": {},
   "source": [
    "## Voronoi and Delaunay creation"
   ]
  },
  {
   "cell_type": "code",
   "execution_count": null,
   "metadata": {},
   "outputs": [],
   "source": [
    "points_pos = df_extracted[['latitude', 'longitude']].values"
   ]
  },
  {
   "cell_type": "code",
   "execution_count": null,
   "metadata": {},
   "outputs": [],
   "source": [
    "# Perform Voronoi diagram\n",
    "voronoi = Voronoi(points_pos)"
   ]
  },
  {
   "cell_type": "code",
   "execution_count": null,
   "metadata": {},
   "outputs": [],
   "source": [
    "# Perform Delaunay triangulation\n",
    "delaunay = Delaunay(points_pos)"
   ]
  },
  {
   "cell_type": "code",
   "execution_count": null,
   "metadata": {},
   "outputs": [],
   "source": [
    "# Function to calculate the angle between two points\n",
    "def calculate_angle(pt1, pt2):\n",
    "    angle = np.degrees(np.arctan2(pt2[1] - pt1[1], pt2[0] - pt1[0]))\n",
    "    return ((angle + 360) % 360) - 90"
   ]
  },
  {
   "cell_type": "code",
   "execution_count": null,
   "metadata": {},
   "outputs": [],
   "source": [
    "# Function to check if angle is within coverage\n",
    "def is_within_coverage(station_pos, neighbor_pos, azimuth, beamwidth):\n",
    "    direction_vector = neighbor_pos - station_pos\n",
    "    direction_angle = (np.degrees(np.arctan2(direction_vector[1], direction_vector[0])) + 360) % 360\n",
    "    min_angle = (azimuth - beamwidth / 2 + 360) % 360\n",
    "    max_angle = (azimuth + beamwidth / 2 + 360) % 360\n",
    "\n",
    "    if min_angle <= max_angle:\n",
    "        return min_angle <= direction_angle <= max_angle\n",
    "    else:\n",
    "        return direction_angle >= min_angle or direction_angle <= max_angle\n",
    "\n",
    "    "
   ]
  },
  {
   "cell_type": "code",
   "execution_count": null,
   "metadata": {},
   "outputs": [],
   "source": [
    "# Function to find real neighbors based on Delaunay triangulation and azimuths\n",
    "def find_real_neighbors(df_azimuth, df):\n",
    "    del_G, pos = delaunay_graph(df)\n",
    "    neigh_G = deepcopy(del_G)\n",
    "    \n",
    "    for bs_id in df.index:\n",
    "        station_row = df.loc[bs_id]\n",
    "        unique_azimuths = np.unique(df_azimuth.loc[df_azimuth['id_station_anfr'] == station_row['id_station_anfr'], 'AER_NB_AZIMUT'])\n",
    "        nb_azimuth = len(unique_azimuths)\n",
    "        beamwidth = 360 / nb_azimuth if nb_azimuth > 1 else 360\n",
    "        \n",
    "        for neigh_id in [neigh for [bs_id, neigh] in del_G.edges(bs_id)]:\n",
    "            neighbor_row = df.loc[neigh_id]\n",
    "            is_neighbor = False\n",
    "\n",
    "            for azimuth in unique_azimuths:\n",
    "                if is_within_coverage(pos[bs_id], pos[neigh_id], azimuth, beamwidth):\n",
    "                    unique_neigh_azimuth = np.unique(df_azimuth.loc[df_azimuth['id_station_anfr'] == neighbor_row['id_station_anfr'], 'AER_NB_AZIMUT'])\n",
    "                    neigh_nb_azimuth = len(unique_neigh_azimuth)\n",
    "                    beamwidth_neigh = 360 / neigh_nb_azimuth\n",
    "\n",
    "                    for neighbor_azimuth in unique_neigh_azimuth:\n",
    "                        if is_within_coverage(pos[neigh_id], pos[bs_id], neighbor_azimuth, beamwidth_neigh):\n",
    "                            is_neighbor = True\n",
    "                            break\n",
    "\n",
    "            if not is_neighbor:\n",
    "                neigh_G.remove_edges_from([[bs_id, neigh_id]])\n",
    "\n",
    "    return neigh_G\n"
   ]
  },
  {
   "cell_type": "code",
   "execution_count": null,
   "metadata": {},
   "outputs": [],
   "source": [
    "neigh_G = find_real_neighbors(df_extracted, df3)"
   ]
  },
  {
   "cell_type": "code",
   "execution_count": null,
   "metadata": {},
   "outputs": [],
   "source": [
    "neigh_G.edges(29)"
   ]
  },
  {
   "cell_type": "markdown",
   "metadata": {},
   "source": [
    "## Map creation"
   ]
  },
  {
   "cell_type": "code",
   "execution_count": null,
   "metadata": {},
   "outputs": [],
   "source": [
    "import folium\n",
    "import numpy as np\n",
    "from networkx import Graph\n",
    "from pandas import DataFrame, Series\n",
    "\n",
    "from python_scripts.city.city_utils import mean_distance_choice"
   ]
  },
  {
   "cell_type": "code",
   "execution_count": null,
   "metadata": {},
   "outputs": [],
   "source": [
    "def add_graph_edges(G_base: Graph, G: Graph, df: DataFrame, fg: folium.FeatureGroup, colour: str):\n",
    "    for edge in G_base.edges:\n",
    "        stations = []\n",
    "\n",
    "        if(not(edge in G.edges)):\n",
    "            stations.append(df.loc[edge[0], ['latitude', 'longitude']])\n",
    "            stations.append(df.loc[edge[1], ['latitude', 'longitude']])\n",
    "\n",
    "            folium.PolyLine(np.array(stations), color=colour, weight=2.5, opacity=1).add_to(fg)"
   ]
  },
  {
   "cell_type": "code",
   "execution_count": null,
   "metadata": {},
   "outputs": [],
   "source": [
    "## Antennas visualization\n",
    "def add_azimuth_lines(df: DataFrame, fg: folium.FeatureGroup, length):\n",
    "    for ind, row in df.iterrows():\n",
    "        station_data = df[df['id_station_anfr'] == row['id_station_anfr']]\n",
    "        for idx, antenna in station_data.iterrows():\n",
    "            azimuth_angle = np.radians(antenna['AER_NB_AZIMUT'])\n",
    "            end_lat = row['latitude'] + length * np.cos(azimuth_angle)\n",
    "            end_lon = row['longitude'] + length * np.sin(azimuth_angle)\n",
    "            folium.PolyLine([(row['latitude'], row['longitude']), (end_lat, end_lon)], color='black', weight=2, opacity=0.7).add_to(fg)\n",
    "\n",
    "## Map visualisation\n",
    "def create_method_illustation_map(df: DataFrame, df_azimuth, del_graph: Graph, nei_graph: Graph, save_as: str, **kwargs):\n",
    "    map = folium.Map(location=list(np.mean(df[['latitude','longitude']], axis=0)), zoom_start=8.5, tiles=\"Cartodb Positron\")\n",
    "\n",
    "    edges_del = folium.FeatureGroup(f\"Edges - Delaunay triangulation ({len(del_graph.edges)})\", show=False).add_to(map)\n",
    "    edges_nei = folium.FeatureGroup(f\"Edges - neighbouring graph ({len(nei_graph.edges)})\", show=False).add_to(map)\n",
    "    azimuth_lines = folium.FeatureGroup(f\"Azimuth Lines\", show=False).add_to(map)\n",
    "\n",
    "    add_graph_edges(del_graph, Graph(), df, edges_del, colour=\"lightblue\")\n",
    "    add_graph_edges(nei_graph, Graph(), df, edges_nei, colour=\"#AAA662\")\n",
    "    azimuth_length = 0.01\n",
    "    add_azimuth_lines(df_azimuth, azimuth_lines, azimuth_length)\n",
    "\n",
    "    points = folium.FeatureGroup(f\"Base stations ({len(df)})\").add_to(map)\n",
    "\n",
    "    for ind, row in df.iterrows():\n",
    "        station_data = df_azimuth[df_azimuth['id_station_anfr'] == row['id_station_anfr']]\n",
    "        popup_text = (\n",
    "            f\"Station ID: {row['id_station_anfr']}<br>\"\n",
    "            f\"Department: {row['nom_dep']}<br>\"\n",
    "            f\"Commune: {row['nom_com']}<br>\"\n",
    "            f\"Coordinates: ({row['latitude']}, {row['longitude']})<br>\"\n",
    "            f\"2G: {row['site_2g']}<br>\"\n",
    "            f\"3G: {row['site_3g']}<br>\"\n",
    "            # f\"4G: {row['site_4g']}<br>\"\n",
    "            f\"5G: {row['site_5g']}<br>\"\n",
    "        )\n",
    "        for idx, antenna in station_data.iterrows():\n",
    "            popup_text += (\n",
    "                f\"<br>Antenna Dimension: {antenna['AER_NB_DIMENSION']}<br>\"\n",
    "                f\"Antenna Azimuth: {antenna['AER_NB_AZIMUT']}<br>\"\n",
    "            )\n",
    "        popup = folium.Popup(popup_text, max_width=150)\n",
    "        folium.CircleMarker(location=[row['latitude'], row['longitude']], color='blue', radius=3, popup=popup, fillOpacity=1, fill=True).add_to(points)\n",
    "\n",
    "    folium.LayerControl().add_to(map)\n",
    "\n",
    "    map.save(f\"../../out/maps/neighbours_finding/{save_as}.html\")"
   ]
  },
  {
   "cell_type": "code",
   "execution_count": null,
   "metadata": {},
   "outputs": [],
   "source": [
    "del_G, pos = delaunay_graph(df3)\n",
    "# neigh_G = distance_criterion_enhanced(neigh_G, pos, params=MEAN_DISTANCE_PARAMS, mean_distance_to_NN=mean_distances)\n",
    "create_method_illustation_map(df3, df_extracted, del_G, neigh_G, save_as=\"anatoli_tmp\")"
   ]
  },
  {
   "cell_type": "markdown",
   "metadata": {},
   "source": [
    "Adding aditional visualization"
   ]
  },
  {
   "cell_type": "markdown",
   "metadata": {},
   "source": []
  }
 ],
 "metadata": {
  "kernelspec": {
   "display_name": "Python 3",
   "language": "python",
   "name": "python3"
  },
  "language_info": {
   "codemirror_mode": {
    "name": "ipython",
    "version": 3
   },
   "file_extension": ".py",
   "mimetype": "text/x-python",
   "name": "python",
   "nbconvert_exporter": "python",
   "pygments_lexer": "ipython3",
   "version": "3.12.3"
  }
 },
 "nbformat": 4,
 "nbformat_minor": 2
}
