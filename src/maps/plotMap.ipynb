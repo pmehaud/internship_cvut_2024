{
 "cells": [
  {
   "cell_type": "markdown",
   "metadata": {},
   "source": [
    "# Affichage des données téléphoniques"
   ]
  },
  {
   "cell_type": "markdown",
   "metadata": {},
   "source": [
    "## Imports"
   ]
  },
  {
   "cell_type": "code",
   "execution_count": null,
   "metadata": {},
   "outputs": [],
   "source": [
    "import os\n",
    "import sys\n",
    "\n",
    "# Obtenir le répertoire de travail courant\n",
    "current_dir = os.getcwd()\n",
    "\n",
    "# Obtenir le répertoire parent de `maps` (qui est `src`)\n",
    "parent_dir = os.path.abspath(os.path.join(current_dir, os.pardir))\n",
    "\n",
    "# Ajouter `src` au chemin de recherche des modules\n",
    "if parent_dir not in sys.path:\n",
    "    sys.path.append(parent_dir)"
   ]
  },
  {
   "cell_type": "code",
   "execution_count": 1,
   "metadata": {},
   "outputs": [],
   "source": [
    "\n",
    "\n",
    "import folium\n",
    "import pandas as pd;\n",
    "from useful_methods.ihm.maps import mapUtils\n",
    "from useful_methods.ihm.maps import map_ihm\n",
    "import branca\n",
    "from copy import deepcopy\n",
    "import branca\n",
    "import folium\n",
    "from selenium import webdriver\n",
    "from PIL import Image\n",
    "import io\n",
    "from selenium.webdriver.chrome.service import Service\n",
    "from pathlib import Path\n",
    "from PIL import Image\n",
    "import os\n",
    "from pyproj import Transformer\n",
    "import matplotlib.pyplot as plt\n",
    "import matplotlib.colors as mcolors\n",
    "import seaborn as sns\n",
    "from sklearn.cluster import HDBSCAN\n",
    "import numpy as np\n",
    "\n",
    "\n",
    "from geopy import distance\n",
    "\n",
    "import os\n",
    "import sys\n",
    "\n",
    "# Obtenir le répertoire de travail courant\n",
    "current_dir = os.getcwd()\n",
    "\n",
    "# Obtenir le répertoire parent de `maps` (qui est `src`)\n",
    "parent_dir = os.path.abspath(os.path.join(current_dir, os.pardir))\n",
    "\n",
    "# Ajouter `src` au chemin de recherche des modules\n",
    "if parent_dir not in sys.path:\n",
    "    sys.path.append(parent_dir)\n",
    "\n",
    "# Importer le module depuis `useful_methods/criterias.py`\n",
    "from useful_methods.neighbours_delaunay.simple_criterias import km_distance\n"
   ]
  },
  {
   "cell_type": "markdown",
   "metadata": {},
   "source": [
    "## Plotting and saving subplots of maps"
   ]
  },
  {
   "cell_type": "code",
   "execution_count": 2,
   "metadata": {},
   "outputs": [],
   "source": [
    "ntechs = len(map_ihm.technologies)\n",
    "nprovs = len(map_ihm.providers)"
   ]
  },
  {
   "cell_type": "markdown",
   "metadata": {},
   "source": [
    "Fonction pour créer une image à partir d'un fichier html "
   ]
  },
  {
   "cell_type": "code",
   "execution_count": 3,
   "metadata": {},
   "outputs": [],
   "source": [
    "def save_png(html_file, png_file, compressing_factor = 1):      \n",
    "    # Configurer Selenium WebDriver\n",
    "    service = Service(executable_path=r'/usr/bin/chromedriver')\n",
    "    options = webdriver.ChromeOptions()\n",
    "    options.add_argument('--headless')\n",
    "    driver = webdriver.Chrome(service=service, options=options)\n",
    "    driver.set_window_size(2760, 1600)\n",
    "    # Charger la page HTML dans le navigateur\n",
    "    driver.get(f\"file://{str(Path().absolute())}/{html_file}\")\n",
    "\n",
    "    # Prendre une capture d'écran de l'élément\n",
    "    screenshot = driver.get_screenshot_as_png()\n",
    "    driver.quit()\n",
    "\n",
    "    # Convertir la capture d'écran en image avec Pillow\n",
    "    image = Image.open(io.BytesIO(screenshot))\n",
    "\n",
    "    # Compresser l'image\n",
    "    width, height = image.size\n",
    "    new_size = (width//compressing_factor, height//compressing_factor)\n",
    "    image = image.resize(new_size)\n",
    "\n",
    "    # Enregistrer l'image en PNG\n",
    "    image.save(png_file)"
   ]
  },
  {
   "cell_type": "markdown",
   "metadata": {},
   "source": [
    "Traçage des comparaisons des différents opérateurs pour chaque technologie"
   ]
  },
  {
   "cell_type": "code",
   "execution_count": 4,
   "metadata": {},
   "outputs": [],
   "source": [
    "for technology in map_ihm.technologies :\n",
    "    fig = branca.element.Figure()\n",
    "    for i, provider in enumerate(map_ihm.providers) :\n",
    "        subplot = fig.add_subplot(int(nprovs/2), nprovs-int(nprovs/2), i+1)\n",
    "        subplot.add_child(mapUtils.getMap(deepcopy(map_ihm.df), [provider], map_ihm.regions, [technology], \"Opérateurs\", location = [46.8, 2.3], zoom_start = 6)) \n",
    "    mapUtils.addLegend(fig,{'Bouygues Telecom':'#035afc', 'Orange':'#fc5603', 'SFR':'#169e26', 'Free Mobile':'#dbd640'})\n",
    "    fig.save(f\"../../out/maps/providers-{technology}.html\")\n",
    "    save_png(f\"../../out/maps/providers-{technology}.html\", f\"../../out/images/providers-{technology}.png\", 2)"
   ]
  },
  {
   "cell_type": "markdown",
   "metadata": {},
   "source": [
    "Traçage des répartitions des stations de base selon les opérateurs"
   ]
  },
  {
   "cell_type": "code",
   "execution_count": 5,
   "metadata": {},
   "outputs": [],
   "source": [
    "fig = branca.element.Figure()\n",
    "for i,provider in enumerate(map_ihm.providers) :\n",
    "    subplot = fig.add_subplot(int(nprovs/2), nprovs-int(nprovs/2), i+1)\n",
    "    subplot.add_child(mapUtils.getMap(deepcopy(map_ihm.df), [provider], map_ihm.regions, map_ihm.technologies, \"Opérateurs\", location = [46.8, 2.3], zoom_start = 6)) \n",
    "mapUtils.addLegend(fig,{'Bouygues Telecom':'#035afc', 'Orange':'#fc5603', 'SFR':'#169e26', 'Free Mobile':'#dbd640'})\n",
    "fig.save(\"../../out/maps/subplots-operators.html\")\n",
    "save_png(\"../../out/maps/subplots-operators.html\", \"../../out/images/subplots-operators.png\", 2)"
   ]
  },
  {
   "cell_type": "markdown",
   "metadata": {},
   "source": [
    "### Couverture ciblée"
   ]
  },
  {
   "cell_type": "code",
   "execution_count": 6,
   "metadata": {},
   "outputs": [],
   "source": [
    "data_couv_cible = pd.read_csv(\"../../database/2023_T4_dcc_Metropole_sites.csv\", sep=\";\", decimal=',')\n",
    "Nan_values_data_couv_cible = data_couv_cible[data_couv_cible['x_lambert_93'].isnull() | data_couv_cible['y_lambert_93'].isnull()]\n",
    "data_couv_cible.dropna(axis=0, how='any', subset=['x_lambert_93', 'y_lambert_93'], inplace=True)\n"
   ]
  },
  {
   "cell_type": "code",
   "execution_count": 7,
   "metadata": {},
   "outputs": [
    {
     "data": {
      "text/html": [
       "<div>\n",
       "<style scoped>\n",
       "    .dataframe tbody tr th:only-of-type {\n",
       "        vertical-align: middle;\n",
       "    }\n",
       "\n",
       "    .dataframe tbody tr th {\n",
       "        vertical-align: top;\n",
       "    }\n",
       "\n",
       "    .dataframe thead th {\n",
       "        text-align: right;\n",
       "    }\n",
       "</style>\n",
       "<table border=\"1\" class=\"dataframe\">\n",
       "  <thead>\n",
       "    <tr style=\"text-align: right;\">\n",
       "      <th></th>\n",
       "      <th>x_lambert_93</th>\n",
       "      <th>y_lambert_93</th>\n",
       "    </tr>\n",
       "  </thead>\n",
       "  <tbody>\n",
       "    <tr>\n",
       "      <th>68</th>\n",
       "      <td>NaN</td>\n",
       "      <td>NaN</td>\n",
       "    </tr>\n",
       "    <tr>\n",
       "      <th>102</th>\n",
       "      <td>NaN</td>\n",
       "      <td>NaN</td>\n",
       "    </tr>\n",
       "    <tr>\n",
       "      <th>113</th>\n",
       "      <td>NaN</td>\n",
       "      <td>NaN</td>\n",
       "    </tr>\n",
       "    <tr>\n",
       "      <th>115</th>\n",
       "      <td>NaN</td>\n",
       "      <td>NaN</td>\n",
       "    </tr>\n",
       "    <tr>\n",
       "      <th>116</th>\n",
       "      <td>NaN</td>\n",
       "      <td>NaN</td>\n",
       "    </tr>\n",
       "    <tr>\n",
       "      <th>...</th>\n",
       "      <td>...</td>\n",
       "      <td>...</td>\n",
       "    </tr>\n",
       "    <tr>\n",
       "      <th>4548</th>\n",
       "      <td>NaN</td>\n",
       "      <td>NaN</td>\n",
       "    </tr>\n",
       "    <tr>\n",
       "      <th>4552</th>\n",
       "      <td>NaN</td>\n",
       "      <td>NaN</td>\n",
       "    </tr>\n",
       "    <tr>\n",
       "      <th>4553</th>\n",
       "      <td>NaN</td>\n",
       "      <td>NaN</td>\n",
       "    </tr>\n",
       "    <tr>\n",
       "      <th>4562</th>\n",
       "      <td>NaN</td>\n",
       "      <td>NaN</td>\n",
       "    </tr>\n",
       "    <tr>\n",
       "      <th>4612</th>\n",
       "      <td>NaN</td>\n",
       "      <td>NaN</td>\n",
       "    </tr>\n",
       "  </tbody>\n",
       "</table>\n",
       "<p>412 rows × 2 columns</p>\n",
       "</div>"
      ],
      "text/plain": [
       "      x_lambert_93  y_lambert_93\n",
       "68             NaN           NaN\n",
       "102            NaN           NaN\n",
       "113            NaN           NaN\n",
       "115            NaN           NaN\n",
       "116            NaN           NaN\n",
       "...            ...           ...\n",
       "4548           NaN           NaN\n",
       "4552           NaN           NaN\n",
       "4553           NaN           NaN\n",
       "4562           NaN           NaN\n",
       "4612           NaN           NaN\n",
       "\n",
       "[412 rows x 2 columns]"
      ]
     },
     "execution_count": 7,
     "metadata": {},
     "output_type": "execute_result"
    }
   ],
   "source": [
    "Nan_values_data_couv_cible[['x_lambert_93', 'y_lambert_93']]"
   ]
  },
  {
   "cell_type": "code",
   "execution_count": 8,
   "metadata": {},
   "outputs": [],
   "source": [
    "map = folium.Map(location=[46.8, 2.3], zoom_start=7, tiles=\"Cartodb Positron\")\n",
    "\n",
    "# Définir le transformateur pour la conversion de Lambert 93 à WGS84\n",
    "transformer = Transformer.from_crs(\"epsg:2154\", \"epsg:4326\")\n",
    "\n",
    "for ind, x, y in data_couv_cible[['x_lambert_93', 'y_lambert_93']].itertuples():\n",
    "    # Convertir les coordonnées Lambert 93 en longitude/latitude\n",
    "    latitude, longitude = transformer.transform(x, y)\n",
    "    map.add_child(folium.RegularPolygonMarker(location=[latitude, longitude], fill_opacity=0.2, radius=1.5, popup=f\"({x}, {y})\"))\n",
    "map.save(\"../../out/maps/couverture_ciblee.html\")\n",
    "save_png(\"../../out/maps/couverture_ciblee.html\",\"../../out/images/couverture_ciblee.png\", 2)"
   ]
  },
  {
   "cell_type": "markdown",
   "metadata": {},
   "source": [
    "## H-DBScan"
   ]
  },
  {
   "cell_type": "code",
   "execution_count": 9,
   "metadata": {},
   "outputs": [],
   "source": [
    "def probaCity(coordsXY):\n",
    "    clusterer= HDBSCAN(min_cluster_size=5, min_samples=40)\n",
    "    clusterer.fit(coordsXY)\n",
    "    return pd.Series(data = clusterer.probabilities_, index=coordsXY.index)"
   ]
  },
  {
   "cell_type": "code",
   "execution_count": 10,
   "metadata": {},
   "outputs": [],
   "source": [
    "df = pd.read_csv(\"../../database/data.csv\", sep=\";\", decimal=',')\n",
    "df_filtered = df[df['nom_op']=='Orange']\n",
    "positions = df_filtered[['x','y']]\n",
    "positionsLl = df_filtered[['longitude','latitude']]"
   ]
  },
  {
   "cell_type": "code",
   "execution_count": 11,
   "metadata": {},
   "outputs": [],
   "source": [
    "probabilities = probaCity(positions)"
   ]
  },
  {
   "cell_type": "code",
   "execution_count": 12,
   "metadata": {},
   "outputs": [],
   "source": [
    "# Create a colormap\n",
    "cmap = plt.cm.get_cmap('winter_r')  # 'cool' colormap for blue to gray\n",
    "norm = mcolors.Normalize(vmin=0, vmax=1)\n",
    "\n",
    "# Create a map centered on France\n",
    "map = folium.Map(location=[46.8, 2.3], zoom_start=7, tiles=\"Cartodb Positron\")\n",
    "\n",
    "for ind, longitude, latitude in positionsLl.itertuples():\n",
    "    proba = probabilities[ind]\n",
    "    color = 'gray' if proba == 0 else mcolors.to_hex(cmap(norm(proba)))\n",
    "    map.add_child(folium.RegularPolygonMarker(location=[latitude, longitude], color=color, radius=1.5, popup=f\"proba={probabilities[ind]}\"))\n",
    "map.save(\"../../out/maps/villes_HDBSCAN.html\")\n",
    "save_png(\"../../out/maps/villes_HDBSCAN.html\",\"../../out/images/villes_HDBSCAN.png\", 2)"
   ]
  },
  {
   "cell_type": "markdown",
   "metadata": {},
   "source": [
    "## Afficher le graphe de voisinage"
   ]
  },
  {
   "cell_type": "code",
   "execution_count": 13,
   "metadata": {},
   "outputs": [],
   "source": [
    "# Create a map centered on France\n",
    "map = folium.Map(location=[46.8, 2.3], zoom_start=7, tiles=\"Cartodb Positron\")"
   ]
  }
 ],
 "metadata": {
  "kernelspec": {
   "display_name": "Python 3",
   "language": "python",
   "name": "python3"
  },
  "language_info": {
   "codemirror_mode": {
    "name": "ipython",
    "version": 3
   },
   "file_extension": ".py",
   "mimetype": "text/x-python",
   "name": "python",
   "nbconvert_exporter": "python",
   "pygments_lexer": "ipython3",
   "version": "3.11.6"
  }
 },
 "nbformat": 4,
 "nbformat_minor": 2
}
