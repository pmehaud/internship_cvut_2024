{
 "cells": [
  {
   "cell_type": "markdown",
   "metadata": {},
   "source": [
    "# Affichage des données téléphoniques"
   ]
  },
  {
   "cell_type": "markdown",
   "metadata": {},
   "source": [
    "## Imports"
   ]
  },
  {
   "cell_type": "code",
   "execution_count": null,
   "metadata": {},
   "outputs": [],
   "source": [
    "import os\n",
    "import sys\n",
    "\n",
    "# Obtenir le répertoire de travail courant\n",
    "current_dir = os.getcwd()\n",
    "\n",
    "# Obtenir le répertoire parent de `maps` (qui est `src`)\n",
    "parent_dir = os.path.abspath(os.path.join(current_dir, os.pardir))\n",
    "\n",
    "# Ajouter `src` au chemin de recherche des modules\n",
    "if parent_dir not in sys.path:\n",
    "    sys.path.append(parent_dir)"
   ]
  },
  {
   "cell_type": "code",
   "execution_count": null,
   "metadata": {},
   "outputs": [],
   "source": [
    "import folium\n",
    "import pandas as pd;\n",
    "import branca\n",
    "from copy import deepcopy\n",
    "from selenium import webdriver\n",
    "from PIL import Image\n",
    "import io\n",
    "from selenium.webdriver.chrome.service import Service\n",
    "from pathlib import Path\n",
    "from PIL import Image\n",
    "import os\n",
    "from pyproj import Transformer\n",
    "import matplotlib.pyplot as plt\n",
    "import matplotlib.colors as mcolors\n",
    "from sklearn.cluster import HDBSCAN\n",
    "import numpy as np\n",
    "\n",
    "from useful_methods.ihm.maps.mapUtils import *\n",
    "from useful_methods.neighbours_delaunay.simple_criteria import *\n",
    "from useful_methods.neighbours_delaunay.enhanced_criteria import *\n",
    "from useful_methods.data_processing import extract_data\n",
    "from useful_methods.neighbours_delaunay.graphs import delaunay_graph\n"
   ]
  },
  {
   "cell_type": "code",
   "execution_count": null,
   "metadata": {},
   "outputs": [],
   "source": [
    "df = pd.read_csv(\"../../database/data.csv\", sep=\";\", decimal=',')\n",
    "providers = df['nom_op'].unique()\n",
    "regions = df['nom_reg'].unique()    \n",
    "technologies = pd.Series(['site_2g', 'site_3g', 'site_4g', 'site_5g'])\n",
    "ntechs = len(technologies)\n",
    "nprovs = len(providers)"
   ]
  },
  {
   "cell_type": "markdown",
   "metadata": {},
   "source": [
    "## Plotting and saving subplots of maps"
   ]
  },
  {
   "cell_type": "markdown",
   "metadata": {},
   "source": [
    "Fonction pour créer une image à partir d'un fichier html "
   ]
  },
  {
   "cell_type": "code",
   "execution_count": null,
   "metadata": {},
   "outputs": [],
   "source": [
    "def save_png(html_file, png_file, compressing_factor = 1):      \n",
    "    # Configurer Selenium WebDriver\n",
    "    service = Service(executable_path=r'/usr/bin/chromedriver')\n",
    "    options = webdriver.ChromeOptions()\n",
    "    options.add_argument('--headless')\n",
    "    driver = webdriver.Chrome(service=service, options=options)\n",
    "    driver.set_window_size(2760, 1600)\n",
    "    # Charger la page HTML dans le navigateur\n",
    "    driver.get(f\"file://{str(Path().absolute())}/{html_file}\")\n",
    "\n",
    "    # Prendre une capture d'écran de l'élément\n",
    "    screenshot = driver.get_screenshot_as_png()\n",
    "    driver.quit()\n",
    "\n",
    "    # Convertir la capture d'écran en image avec Pillow\n",
    "    image = Image.open(io.BytesIO(screenshot))\n",
    "\n",
    "    # Compresser l'image\n",
    "    width, height = image.size\n",
    "    new_size = (width//compressing_factor, height//compressing_factor)\n",
    "    image = image.resize(new_size)\n",
    "\n",
    "    # Enregistrer l'image en PNG\n",
    "    image.save(png_file)"
   ]
  },
  {
   "cell_type": "markdown",
   "metadata": {},
   "source": [
    "Traçage des comparaisons des différents opérateurs pour chaque technologie"
   ]
  },
  {
   "cell_type": "code",
   "execution_count": null,
   "metadata": {},
   "outputs": [],
   "source": [
    "for technology in technologies :\n",
    "    fig = branca.element.Figure()\n",
    "    for i, provider in enumerate(providers) :\n",
    "        subplot = fig.add_subplot(int(nprovs/2), nprovs-int(nprovs/2), i+1)\n",
    "        subplot.add_child(getMap(deepcopy(df), [provider], regions, [technology], \"Opérateurs\", location = [46.8, 2.3], zoom_start = 6)) \n",
    "    addLegend(fig,{'Bouygues Telecom':'#035afc', 'Orange':'#fc5603', 'SFR':'#169e26', 'Free Mobile':'#dbd640'})\n",
    "    fig.save(f\"../../out/maps/providers-{technology}.html\")\n",
    "    save_png(f\"../../out/maps/providers-{technology}.html\", f\"../../out/images/providers-{technology}.png\", 2)"
   ]
  },
  {
   "cell_type": "markdown",
   "metadata": {},
   "source": [
    "Traçage des répartitions des stations de base selon les opérateurs"
   ]
  },
  {
   "cell_type": "code",
   "execution_count": null,
   "metadata": {},
   "outputs": [],
   "source": [
    "fig = branca.element.Figure()\n",
    "for i,provider in enumerate(providers) :\n",
    "    subplot = fig.add_subplot(int(nprovs/2), nprovs-int(nprovs/2), i+1)\n",
    "    subplot.add_child(getMap(deepcopy(df), [provider], regions, technologies, \"Opérateurs\", location = [46.8, 2.3], zoom_start = 6)) \n",
    "addLegend(fig,{'Bouygues Telecom':'#035afc', 'Orange':'#fc5603', 'SFR':'#169e26', 'Free Mobile':'#dbd640'})\n",
    "fig.save(\"../../out/maps/subplots-operators.html\")\n",
    "save_png(\"../../out/maps/subplots-operators.html\", \"../../out/images/subplots-operators.png\", 2)"
   ]
  },
  {
   "cell_type": "markdown",
   "metadata": {},
   "source": [
    "### Couverture ciblée"
   ]
  },
  {
   "cell_type": "code",
   "execution_count": null,
   "metadata": {},
   "outputs": [],
   "source": [
    "data_couv_cible = pd.read_csv(\"../../database/2023_T4_dcc_Metropole_sites.csv\", sep=\";\", decimal=',')\n",
    "Nan_values_data_couv_cible = data_couv_cible[data_couv_cible['x_lambert_93'].isnull() | data_couv_cible['y_lambert_93'].isnull()]\n",
    "data_couv_cible.dropna(axis=0, how='any', subset=['x_lambert_93', 'y_lambert_93'], inplace=True)\n"
   ]
  },
  {
   "cell_type": "code",
   "execution_count": null,
   "metadata": {},
   "outputs": [],
   "source": [
    "Nan_values_data_couv_cible[['x_lambert_93', 'y_lambert_93']]"
   ]
  },
  {
   "cell_type": "code",
   "execution_count": null,
   "metadata": {},
   "outputs": [],
   "source": [
    "map = folium.Map(location=[46.8, 2.3], zoom_start=7, tiles=\"Cartodb Positron\")\n",
    "\n",
    "# Définir le transformateur pour la conversion de Lambert 93 à WGS84\n",
    "transformer = Transformer.from_crs(\"epsg:2154\", \"epsg:4326\")\n",
    "\n",
    "for ind, x, y in data_couv_cible[['x_lambert_93', 'y_lambert_93']].itertuples():\n",
    "    # Convertir les coordonnées Lambert 93 en longitude/latitude\n",
    "    latitude, longitude = transformer.transform(x, y)\n",
    "    map.add_child(folium.RegularPolygonMarker(location=[latitude, longitude], fill_opacity=0.2, radius=1.5, popup=f\"({x}, {y})\"))\n",
    "map.save(\"../../out/maps/couverture_ciblee.html\")\n",
    "save_png(\"../../out/maps/couverture_ciblee.html\",\"../../out/images/couverture_ciblee.png\", 2)"
   ]
  },
  {
   "cell_type": "markdown",
   "metadata": {},
   "source": [
    "## H-DBScan"
   ]
  },
  {
   "cell_type": "code",
   "execution_count": null,
   "metadata": {},
   "outputs": [],
   "source": [
    "def probaCity(coordsXY):\n",
    "    clusterer= HDBSCAN(min_cluster_size=5, min_samples=40)\n",
    "    clusterer.fit(coordsXY)\n",
    "    return pd.Series(data = clusterer.probabilities_, index=coordsXY.index)"
   ]
  },
  {
   "cell_type": "code",
   "execution_count": null,
   "metadata": {},
   "outputs": [],
   "source": [
    "df_filtered = df[df['nom_op']=='Orange']\n",
    "positions = df_filtered[['x','y']]\n",
    "positionsLl = df_filtered[['latitude', 'longitude']]"
   ]
  },
  {
   "cell_type": "code",
   "execution_count": null,
   "metadata": {},
   "outputs": [],
   "source": [
    "probabilities = probaCity(positions)"
   ]
  },
  {
   "cell_type": "code",
   "execution_count": null,
   "metadata": {},
   "outputs": [],
   "source": [
    "# Create a colormap\n",
    "cmap = plt.cm.get_cmap('winter_r')  # 'cool' colormap for blue to gray\n",
    "norm = mcolors.Normalize(vmin=0, vmax=1)\n",
    "\n",
    "# Create a map centered on France\n",
    "map = folium.Map(location=[46.8, 2.3], zoom_start=7, tiles=\"Cartodb Positron\")\n",
    "\n",
    "for ind, longitude, latitude in positionsLl.itertuples():\n",
    "    proba = probabilities[ind]\n",
    "    color = 'gray' if proba == 0 else mcolors.to_hex(cmap(norm(proba)))\n",
    "    map.add_child(folium.RegularPolygonMarker(location=[latitude, longitude], color=color, radius=1.5, popup=f\"proba={probabilities[ind]}\"))\n",
    "map.save(\"../../out/maps/villes_HDBSCAN.html\")\n",
    "save_png(\"../../out/maps/villes_HDBSCAN.html\",\"../../out/images/villes_HDBSCAN.png\", 2)"
   ]
  },
  {
   "cell_type": "markdown",
   "metadata": {},
   "source": [
    "## Afficher le graphe de voisinage"
   ]
  },
  {
   "cell_type": "code",
   "execution_count": null,
   "metadata": {},
   "outputs": [],
   "source": [
    "# Create a map centered on France\n",
    "import folium.features\n",
    "\n",
    "\n",
    "map = folium.Map(location=[46.8, 2.3], zoom_start=7, tiles=\"Cartodb Positron\")\n",
    "labels = folium.FeatureGroup(\"Labels\").add_to(map)\n",
    "points = folium.FeatureGroup(\"Points\").add_to(map)\n",
    "#Create graph\n",
    "df_extracted = extract_data(df, provider='Orange', techno='4g', region='Normandie')\n",
    "G, pos = delaunay_graph(df_extracted)\n",
    "\n",
    "G = distance_criterion(G, pos)\n",
    "G = angle_criterion(G, pos)\n",
    "G = quadrant_criterion(G, pos)\n",
    "\n",
    "for edge in G.edges:\n",
    "    stations = []\n",
    "    stations.append(pos[edge[0]])\n",
    "    stations.append(pos[edge[1]])\n",
    "    stations = np.array(stations)\n",
    "    \n",
    "    folium.PolyLine(stations, color=\"red\", weight=2.5, opacity=1).add_to(map)\n",
    "    folium.map.Marker((stations[0]+stations[1])/2, icon=folium.features.DivIcon(icon_size=(250,36), icon_anchor=(0,0),html=f'<div style=\"font-size: 7pt\">{km_distance(stations[0], stations[1]):.2f} km</div>')\n",
    "    ).add_to(labels)\n",
    "for ind, latitude, longitude in df_extracted[['latitude', 'longitude']].itertuples():\n",
    "    points.add_child(folium.RegularPolygonMarker(location=[latitude, longitude], color='blue', radius=2.5))\n",
    "folium.LayerControl().add_to(map)\n",
    "\n",
    "map.save(\"../../out/maps/neighborhood_default.html\")\n"
   ]
  },
  {
   "cell_type": "code",
   "execution_count": null,
   "metadata": {},
   "outputs": [],
   "source": [
    "# Create a map centered on France\n",
    "import folium.features\n",
    "\n",
    "\n",
    "map = folium.Map(location=[46.8, 2.3], zoom_start=7, tiles=\"Cartodb Positron\")\n",
    "labels = folium.FeatureGroup(\"Labels\").add_to(map)\n",
    "points = folium.FeatureGroup(\"Points\").add_to(map)\n",
    "#Create graph\n",
    "df_extracted = extract_data(df, provider='Orange', techno='4g', region='Normandie')\n",
    "G, pos = delaunay_graph(df_extracted)\n",
    "\n",
    "cityness_proba = probaCity(df_extracted[['x', 'y']])\n",
    "G = distance_criterion_enhanced(G, pos, cityness_proba = cityness_proba)\n",
    "G = angle_criterion_enhanced(G, pos, cityness_proba = cityness_proba)\n",
    "G = quadrant_criterion_enhanced(G, pos)\n",
    "\n",
    "for edge in G.edges:\n",
    "    stations = []\n",
    "    stations.append(pos[edge[0]])\n",
    "    stations.append(pos[edge[1]])\n",
    "    stations = np.array(stations)\n",
    "    \n",
    "    folium.PolyLine(stations, color=\"red\", weight=2.5, opacity=1).add_to(map)\n",
    "    folium.map.Marker((stations[0]+stations[1])/2, icon=folium.features.DivIcon(icon_size=(250,36), icon_anchor=(0,0),html=f'<div style=\"font-size: 7pt\">{km_distance(stations[0], stations[1]):.2f} km</div>')\n",
    "    ).add_to(labels)\n",
    "for ind, latitude, longitude in df_extracted[['latitude', 'longitude']].itertuples():\n",
    "    points.add_child(folium.RegularPolygonMarker(location=[latitude, longitude], color='blue', radius=2.5, popup=f\"proba={cityness_proba.get(ind)}\"))\n",
    "folium.LayerControl().add_to(map)\n",
    "\n",
    "map.save(\"../../out/maps/enhanced_neighborhood_default.html\")\n"
   ]
  }
 ],
 "metadata": {
  "language_info": {
   "name": "python"
  }
 },
 "nbformat": 4,
 "nbformat_minor": 2
}
