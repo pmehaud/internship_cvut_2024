{
 "cells": [
  {
   "cell_type": "markdown",
   "metadata": {},
   "source": [
    "## Libraries importation"
   ]
  },
  {
   "cell_type": "code",
   "execution_count": 1,
   "metadata": {},
   "outputs": [],
   "source": [
    "# Please use these lines in every notebook you create\n",
    "\n",
    "import os\n",
    "import sys\n",
    "\n",
    "# Get the current working directory\n",
    "current_dir = os.getcwd()\n",
    "\n",
    "# Get the parent directory of `maps` (which is `src`)\n",
    "parent_dir = os.path.abspath(os.path.join(current_dir, os.pardir))\n",
    "\n",
    "# Add `src` to the module search path\n",
    "if parent_dir not in sys.path:\n",
    "    sys.path.append(parent_dir)\n",
    "\n",
    "from global_variables import *"
   ]
  },
  {
   "cell_type": "code",
   "execution_count": 2,
   "metadata": {},
   "outputs": [],
   "source": [
    "import pandas as pd\n",
    "import numpy as np\n",
    "from scipy.spatial import Delaunay, Voronoi\n",
    "from copy import deepcopy\n",
    "import math\n",
    "\n",
    "from python_scripts.graphs.graphs_creation import delaunay_graph, kNN_graph\n",
    "from python_scripts.neighbours_criteria.enhanced_criteria import distance_criterion_enhanced\n",
    "from python_scripts.neighbours_criteria.simple_criteria import angle_criterion\n",
    "from python_scripts.city.city_utils import mean_distance_to_NN, mean_distance_choice\n",
    "from python_scripts.miscellaneaous.data_processing import extract_data"
   ]
  },
  {
   "cell_type": "markdown",
   "metadata": {},
   "source": [
    "## Database import and data extraction"
   ]
  },
  {
   "cell_type": "code",
   "execution_count": 3,
   "metadata": {},
   "outputs": [
    {
     "data": {
      "text/html": [
       "<div>\n",
       "<style scoped>\n",
       "    .dataframe tbody tr th:only-of-type {\n",
       "        vertical-align: middle;\n",
       "    }\n",
       "\n",
       "    .dataframe tbody tr th {\n",
       "        vertical-align: top;\n",
       "    }\n",
       "\n",
       "    .dataframe thead th {\n",
       "        text-align: right;\n",
       "    }\n",
       "</style>\n",
       "<table border=\"1\" class=\"dataframe\">\n",
       "  <thead>\n",
       "    <tr style=\"text-align: right;\">\n",
       "      <th></th>\n",
       "      <th>x</th>\n",
       "      <th>y</th>\n",
       "      <th>latitude</th>\n",
       "      <th>longitude</th>\n",
       "      <th>nom_dep</th>\n",
       "      <th>nom_com</th>\n",
       "      <th>site_2g</th>\n",
       "      <th>site_3g</th>\n",
       "      <th>site_5g</th>\n",
       "    </tr>\n",
       "    <tr>\n",
       "      <th>id_station_anfr</th>\n",
       "      <th></th>\n",
       "      <th></th>\n",
       "      <th></th>\n",
       "      <th></th>\n",
       "      <th></th>\n",
       "      <th></th>\n",
       "      <th></th>\n",
       "      <th></th>\n",
       "      <th></th>\n",
       "    </tr>\n",
       "  </thead>\n",
       "  <tbody>\n",
       "    <tr>\n",
       "      <th>0272290011</th>\n",
       "      <td>573458.0</td>\n",
       "      <td>6899259.0</td>\n",
       "      <td>49.18056</td>\n",
       "      <td>1.26445</td>\n",
       "      <td>Eure</td>\n",
       "      <td>Fontaine-Bellenger</td>\n",
       "      <td>1</td>\n",
       "      <td>1</td>\n",
       "      <td>0</td>\n",
       "    </tr>\n",
       "    <tr>\n",
       "      <th>0142290016</th>\n",
       "      <td>454237.0</td>\n",
       "      <td>6903487.0</td>\n",
       "      <td>49.18389</td>\n",
       "      <td>-0.37167</td>\n",
       "      <td>Calvados</td>\n",
       "      <td>Caen</td>\n",
       "      <td>1</td>\n",
       "      <td>1</td>\n",
       "      <td>1</td>\n",
       "    </tr>\n",
       "    <tr>\n",
       "      <th>0762290018</th>\n",
       "      <td>560709.0</td>\n",
       "      <td>6927372.0</td>\n",
       "      <td>49.43055</td>\n",
       "      <td>1.08028</td>\n",
       "      <td>Seine-Maritime</td>\n",
       "      <td>Rouen</td>\n",
       "      <td>1</td>\n",
       "      <td>1</td>\n",
       "      <td>1</td>\n",
       "    </tr>\n",
       "    <tr>\n",
       "      <th>0142290003</th>\n",
       "      <td>496750.0</td>\n",
       "      <td>6915926.0</td>\n",
       "      <td>49.31055</td>\n",
       "      <td>0.20500</td>\n",
       "      <td>Calvados</td>\n",
       "      <td>Saint-Gatien-des-Bois</td>\n",
       "      <td>1</td>\n",
       "      <td>1</td>\n",
       "      <td>0</td>\n",
       "    </tr>\n",
       "    <tr>\n",
       "      <th>0142290018</th>\n",
       "      <td>499454.0</td>\n",
       "      <td>6927334.0</td>\n",
       "      <td>49.41389</td>\n",
       "      <td>0.23667</td>\n",
       "      <td>Calvados</td>\n",
       "      <td>Honfleur</td>\n",
       "      <td>1</td>\n",
       "      <td>1</td>\n",
       "      <td>1</td>\n",
       "    </tr>\n",
       "  </tbody>\n",
       "</table>\n",
       "</div>"
      ],
      "text/plain": [
       "                        x          y  latitude  longitude         nom_dep  \\\n",
       "id_station_anfr                                                             \n",
       "0272290011       573458.0  6899259.0  49.18056    1.26445            Eure   \n",
       "0142290016       454237.0  6903487.0  49.18389   -0.37167        Calvados   \n",
       "0762290018       560709.0  6927372.0  49.43055    1.08028  Seine-Maritime   \n",
       "0142290003       496750.0  6915926.0  49.31055    0.20500        Calvados   \n",
       "0142290018       499454.0  6927334.0  49.41389    0.23667        Calvados   \n",
       "\n",
       "                               nom_com  site_2g  site_3g  site_5g  \n",
       "id_station_anfr                                                    \n",
       "0272290011          Fontaine-Bellenger        1        1        0  \n",
       "0142290016                        Caen        1        1        1  \n",
       "0762290018                       Rouen        1        1        1  \n",
       "0142290003       Saint-Gatien-des-Bois        1        1        0  \n",
       "0142290018                    Honfleur        1        1        1  "
      ]
     },
     "execution_count": 3,
     "metadata": {},
     "output_type": "execute_result"
    }
   ],
   "source": [
    "df = pd.read_csv(\"../../database/data.csv\", sep=\";\", decimal=\",\")\n",
    "df = extract_data(df, provider=PROVIDER, region=REGION, techno=TECHNO)\n",
    "df.head()"
   ]
  },
  {
   "cell_type": "code",
   "execution_count": 4,
   "metadata": {},
   "outputs": [
    {
     "name": "stderr",
     "output_type": "stream",
     "text": [
      "/tmp/ipykernel_13744/138318875.py:7: FutureWarning: The behavior of DataFrame concatenation with empty or all-NA entries is deprecated. In a future version, this will no longer exclude empty or all-NA columns when determining the result dtypes. To retain the old behavior, exclude the relevant entries before the concat operation.\n",
      "  df_azimuth = pd.concat([df_azimuth,pd.DataFrame([row],columns=df_azimuth_raw.columns)],ignore_index=True)\n"
     ]
    },
    {
     "data": {
      "text/html": [
       "<div>\n",
       "<style scoped>\n",
       "    .dataframe tbody tr th:only-of-type {\n",
       "        vertical-align: middle;\n",
       "    }\n",
       "\n",
       "    .dataframe tbody tr th {\n",
       "        vertical-align: top;\n",
       "    }\n",
       "\n",
       "    .dataframe thead th {\n",
       "        text-align: right;\n",
       "    }\n",
       "</style>\n",
       "<table border=\"1\" class=\"dataframe\">\n",
       "  <thead>\n",
       "    <tr style=\"text-align: right;\">\n",
       "      <th></th>\n",
       "      <th>id_station_anfr</th>\n",
       "      <th>frequency_GHz</th>\n",
       "      <th>angle_azimuth</th>\n",
       "    </tr>\n",
       "  </thead>\n",
       "  <tbody>\n",
       "    <tr>\n",
       "      <th>0</th>\n",
       "      <td>0140030031</td>\n",
       "      <td>1.5</td>\n",
       "      <td>252</td>\n",
       "    </tr>\n",
       "    <tr>\n",
       "      <th>1</th>\n",
       "      <td>0140030329</td>\n",
       "      <td>1.0</td>\n",
       "      <td>31</td>\n",
       "    </tr>\n",
       "    <tr>\n",
       "      <th>2</th>\n",
       "      <td>0140030590</td>\n",
       "      <td>1.0</td>\n",
       "      <td>72</td>\n",
       "    </tr>\n",
       "    <tr>\n",
       "      <th>3</th>\n",
       "      <td>0140034026</td>\n",
       "      <td>1.0</td>\n",
       "      <td>256</td>\n",
       "    </tr>\n",
       "    <tr>\n",
       "      <th>4</th>\n",
       "      <td>0140034027</td>\n",
       "      <td>1.5</td>\n",
       "      <td>62</td>\n",
       "    </tr>\n",
       "  </tbody>\n",
       "</table>\n",
       "</div>"
      ],
      "text/plain": [
       "  id_station_anfr  frequency_GHz angle_azimuth\n",
       "0      0140030031            1.5           252\n",
       "1      0140030329            1.0            31\n",
       "2      0140030590            1.0            72\n",
       "3      0140034026            1.0           256\n",
       "4      0140034027            1.5            62"
      ]
     },
     "execution_count": 4,
     "metadata": {},
     "output_type": "execute_result"
    }
   ],
   "source": [
    "df_azimuth_raw = pd.read_csv(\"../../database/data_azimuth_freq.csv\", sep=\";\", decimal=\",\", dtype={'id_station_anfr':str})\n",
    "\n",
    "dep_codes = ['027', '076', '014', '050', '061']\n",
    "df_azimuth = pd.DataFrame(columns=df_azimuth_raw.columns)\n",
    "for row in df_azimuth_raw.values:\n",
    "    if(row[0][0:3] in dep_codes):\n",
    "        df_azimuth = pd.concat([df_azimuth,pd.DataFrame([row],columns=df_azimuth_raw.columns)],ignore_index=True)\n",
    "        \n",
    "df_azimuth.head()"
   ]
  },
  {
   "cell_type": "markdown",
   "metadata": {},
   "source": [
    "## City detection"
   ]
  },
  {
   "cell_type": "code",
   "execution_count": 5,
   "metadata": {},
   "outputs": [],
   "source": [
    "mean_distances = mean_distance_to_NN(df[['x', 'y']], n_neighbours=N_NEIGH)"
   ]
  },
  {
   "cell_type": "markdown",
   "metadata": {},
   "source": [
    "## Voronoi and Delaunay creation"
   ]
  },
  {
   "cell_type": "code",
   "execution_count": 6,
   "metadata": {},
   "outputs": [
    {
     "name": "stdout",
     "output_type": "stream",
     "text": [
      "4355\n"
     ]
    }
   ],
   "source": [
    "del_G, pos = delaunay_graph(df)\n",
    "print(len(del_G.edges))"
   ]
  },
  {
   "cell_type": "code",
   "execution_count": 7,
   "metadata": {},
   "outputs": [],
   "source": [
    "from sklearn.neighbors import NearestNeighbors\n",
    "K=15\n",
    "kNN_G, _ = kNN_graph(df, k=K)\n",
    "coordsXY = df[['x','y']]\n",
    "\n",
    "# for edge in kNN_G.edges: # applying gabriel\n",
    "#     pt1 = edge[0]\n",
    "#     pt2 = edge[1]\n",
    "\n",
    "#     middle_point = (coordsXY.loc[pt1] + coordsXY.loc[pt2])/2\n",
    "\n",
    "#     neigh = NearestNeighbors(radius=np.sqrt(np.sum((coordsXY.loc[pt1] - coordsXY.loc[pt2])**2, axis=0))/2)\n",
    "#     neigh.fit(coordsXY.values)\n",
    "\n",
    "#     if(len(coordsXY.iloc[neigh.radius_neighbors([middle_point], sort_results=True)[1][0][:-2]].index)>0):\n",
    "#         kNN_G.remove_edges_from([edge])\n",
    "# print(len(kNN_G.edges))"
   ]
  },
  {
   "cell_type": "code",
   "execution_count": 8,
   "metadata": {},
   "outputs": [],
   "source": [
    "# Function to check if angle is within coverage\n",
    "def is_within_coverage(station_pos, neighbor_pos, azimuth, beamwidth):\n",
    "    direction_vector = neighbor_pos - station_pos\n",
    "    direction_angle = (np.degrees(np.arctan2(direction_vector[1], direction_vector[0])) + 360) % 360\n",
    "    min_angle = (azimuth - beamwidth / 2 + 360) % 360\n",
    "    max_angle = (azimuth + beamwidth / 2 + 360) % 360\n",
    "\n",
    "    if min_angle <= max_angle:\n",
    "        return min_angle <= direction_angle <= max_angle\n",
    "    else:\n",
    "        return direction_angle >= min_angle or direction_angle <= max_angle\n",
    "\n",
    "    "
   ]
  },
  {
   "cell_type": "code",
   "execution_count": 9,
   "metadata": {},
   "outputs": [],
   "source": [
    "# Function to find real neighbors based on Delaunay triangulation and azimuths\n",
    "def find_real_neighbors(df, df_azimuth, potential_neigh_G, pos):\n",
    "    neigh_G = deepcopy(potential_neigh_G)\n",
    "    edge_info = {}\n",
    "\n",
    "    for bs_id in df.index:\n",
    "        azimuths = df_azimuth.loc[df_azimuth['id_station_anfr'] == bs_id, 'angle_azimuth']\n",
    "        nb_azimuth = len(azimuths)\n",
    "        beamwidth = (360 / nb_azimuth) if (nb_azimuth > 1) else 120\n",
    "\n",
    "        for [_, neigh_id] in potential_neigh_G.edges(bs_id):\n",
    "            is_neighbor = False\n",
    "            azimuths_info = {\"station\": [], \"neighbor\": []}\n",
    "\n",
    "            for azimuth in azimuths:\n",
    "                if is_within_coverage(pos[bs_id], pos[neigh_id], azimuth, beamwidth):\n",
    "                    neigh_azimuth = df_azimuth.loc[df_azimuth['id_station_anfr'] == neigh_id, 'angle_azimuth']\n",
    "                    neigh_nb_azimuth = len(neigh_azimuth)\n",
    "                    beamwidth_neigh = (360 / neigh_nb_azimuth) if (neigh_nb_azimuth > 1) else 120\n",
    "\n",
    "                    for neighbor_azimuth in neigh_azimuth:\n",
    "                        if is_within_coverage(pos[neigh_id], pos[bs_id], neighbor_azimuth, beamwidth_neigh):\n",
    "                            is_neighbor = True\n",
    "                            azimuths_info[\"station\"] = [bs_id, azimuth]\n",
    "                            azimuths_info[\"neighbor\"] = [neigh_id, neighbor_azimuth]\n",
    "                            break\n",
    "\n",
    "            if is_neighbor:\n",
    "                edge_info[(bs_id, neigh_id)] = azimuths_info\n",
    "            else:\n",
    "                neigh_G.remove_edges_from([[bs_id, neigh_id]])\n",
    "\n",
    "    return neigh_G, edge_info"
   ]
  },
  {
   "cell_type": "code",
   "execution_count": 10,
   "metadata": {},
   "outputs": [
    {
     "name": "stderr",
     "output_type": "stream",
     "text": [
      "nodes - distance: 100%|██████████| 1457/1457 [00:00<00:00, 3577.76it/s]\n"
     ]
    }
   ],
   "source": [
    "neigh_G, edge_info = find_real_neighbors(df, df_azimuth, del_G, pos)\n",
    "neigh_G = distance_criterion_enhanced(neigh_G, pos, params=MEAN_DISTANCE_PARAMS, mean_distance_to_NN=mean_distances)\n",
    "# neigh_G = angle_criterion(neigh_G, pos, min_angle=MIN_ANGLE, max_distance=None)\n",
    "   "
   ]
  },
  {
   "cell_type": "code",
   "execution_count": 11,
   "metadata": {},
   "outputs": [
    {
     "data": {
      "text/plain": [
       "2577"
      ]
     },
     "execution_count": 11,
     "metadata": {},
     "output_type": "execute_result"
    }
   ],
   "source": [
    "len(neigh_G.edges())"
   ]
  },
  {
   "cell_type": "markdown",
   "metadata": {},
   "source": [
    "## Map creation"
   ]
  },
  {
   "cell_type": "code",
   "execution_count": 12,
   "metadata": {},
   "outputs": [],
   "source": [
    "import folium\n",
    "import numpy as np\n",
    "from networkx import Graph\n",
    "from pandas import DataFrame"
   ]
  },
  {
   "cell_type": "code",
   "execution_count": 13,
   "metadata": {},
   "outputs": [],
   "source": [
    "def add_graph_edges(G_base: Graph, G: Graph, df: DataFrame, fg: folium.FeatureGroup, colour: str):\n",
    "    for edge in G_base.edges:\n",
    "        stations = []\n",
    "\n",
    "        if(not(edge in G.edges)):\n",
    "            stations.append(df.loc[edge[0], ['latitude', 'longitude']])\n",
    "            stations.append(df.loc[edge[1], ['latitude', 'longitude']])\n",
    "\n",
    "            folium.PolyLine(np.array(stations), color=colour, weight=2.5, opacity=1).add_to(fg)\n",
    "     "
   ]
  },
  {
   "cell_type": "code",
   "execution_count": 23,
   "metadata": {},
   "outputs": [
    {
     "data": {
      "text/plain": [
       "105"
      ]
     },
     "execution_count": 23,
     "metadata": {},
     "output_type": "execute_result"
    }
   ],
   "source": [
    "tmp = edge_info.get(('0272290011', '0272290193'))\n",
    "tmp['neighbor'][1]"
   ]
  },
  {
   "cell_type": "code",
   "execution_count": 24,
   "metadata": {},
   "outputs": [],
   "source": [
    "# Function to generate edge info popup with visualization\n",
    "def generate_edge_info_popup_with_visualization(edge, df, df_azimuth, edge_info):\n",
    "    bs_id, neigh_id = edge\n",
    "    bs_info = df.loc[bs_id]\n",
    "    neigh_info = df.loc[neigh_id]\n",
    "\n",
    "    azimuths_info = edge_info.get((bs_id, neigh_id), {\"station\": [None, None], \"neighbor\": [None, None]})\n",
    "    unique_azimuths_bs = np.unique(df_azimuth.loc[df_azimuth['id_station_anfr'] == bs_id, 'angle_azimuth'])\n",
    "    unique_azimuths_neigh = np.unique(df_azimuth.loc[df_azimuth['id_station_anfr'] == neigh_id, 'angle_azimuth'])\n",
    "\n",
    "    popup_text = (\n",
    "        f\"<b>Base Station {bs_id} - {bs_info['nom_com']}</b><br>\"\n",
    "        f\"Latitude: {bs_info['latitude']}, Longitude: {bs_info['longitude']}<br>\"\n",
    "        f\"Azimuths: {'°, '.join(map(str, unique_azimuths_bs))}°<br>\"\n",
    "        f\"Coverage Azimuths: {azimuths_info['station'][1]}°<br>\"\n",
    "        f\"<br><b>Neighbor Station {neigh_id} - {neigh_info['nom_com']}</b><br>\"\n",
    "        f\"Latitude: {neigh_info['latitude']}, Longitude: {neigh_info['longitude']}<br>\"\n",
    "        f\"Azimuths: {'°, '.join(map(str, unique_azimuths_neigh))}°<br>\"\n",
    "        f\"Coverage Azimuths: {azimuths_info['neighbor'][1]}°<br>\"\n",
    "    )\n",
    "\n",
    "    return popup_text\n"
   ]
  },
  {
   "cell_type": "code",
   "execution_count": 25,
   "metadata": {},
   "outputs": [],
   "source": [
    "\n",
    "# Function to add edges with interactive information\n",
    "def add_graph_edges_with_visualization(G: Graph, df: DataFrame, df_azimuth: DataFrame, fg: folium.FeatureGroup, edge_info: dict):\n",
    "    for edge in G.edges:\n",
    "        stations = df.loc[[edge[0], edge[1]], ['latitude', 'longitude']].values\n",
    "        popup_text = generate_edge_info_popup_with_visualization(edge, df, df_azimuth, edge_info)\n",
    "        popup = folium.Popup(popup_text, max_width=300)\n",
    "        line = folium.PolyLine(stations, color=\"#AAA662\", weight=2.5, opacity=1)\n",
    "        line.add_child(popup)\n",
    "        line.add_to(fg)"
   ]
  },
  {
   "cell_type": "code",
   "execution_count": 26,
   "metadata": {},
   "outputs": [],
   "source": [
    "# Function to add azimuth lines\n",
    "def add_azimuth_lines(df: DataFrame, df_azimuth: DataFrame, fg: folium.FeatureGroup):\n",
    "    azimuth_length = 0.01\n",
    "    for bs_id in df.index:\n",
    "        lat = df.loc[bs_id, 'latitude']\n",
    "        long = df.loc[bs_id, 'longitude']\n",
    "        for azimuth in df_azimuth.loc[df_azimuth['id_station_anfr'] == bs_id, 'angle_azimuth']:\n",
    "            azimuth_angle = np.radians(azimuth)\n",
    "            end_lat = lat + azimuth_length * np.cos(azimuth_angle)\n",
    "            end_lon = long + azimuth_length * np.sin(azimuth_angle)\n",
    "            line = folium.PolyLine([(lat, long), (end_lat, end_lon)], color='black', weight=2, opacity=0.7)\n",
    "            popup_text = f\"Azimuth: {azimuth}°\"\n",
    "            popup = folium.Popup(popup_text, max_width=150)\n",
    "            line.add_child(popup)\n",
    "            line.add_to(fg)\n",
    "\n",
    "\n",
    "# Map visualization\n",
    "def create_method_illustration_map(df: DataFrame, df_azimuth, del_graph: Graph, nei_graph: Graph, edge_info: dict, save_as: str, **kwargs):\n",
    "    map = folium.Map(location=list(np.mean(df[['latitude', 'longitude']], axis=0)), zoom_start=8.5, tiles=\"Cartodb Positron\")\n",
    "\n",
    "    edges_del = folium.FeatureGroup(f\"Edges - Delaunay triangulation ({len(del_graph.edges)})\", show=True).add_to(map)\n",
    "    edges_nei = folium.FeatureGroup(f\"Edges - neighboring graph ({len(nei_graph.edges)})\", show=True).add_to(map)\n",
    "    azimuth_lines = folium.FeatureGroup(f\"Azimuth Lines\", show=True).add_to(map)\n",
    "\n",
    "    add_graph_edges(del_graph, Graph(), df, edges_del, colour=\"lightblue\")\n",
    "    add_graph_edges_with_visualization(nei_graph, df, df_azimuth, edges_nei, edge_info)\n",
    "    add_azimuth_lines(df, df_azimuth, azimuth_lines)\n",
    "\n",
    "    points = folium.FeatureGroup(f\"Base stations ({len(df)})\").add_to(map)\n",
    "    for bs_id in df.index:\n",
    "        row = df.loc[bs_id]\n",
    "        popup_text = (\n",
    "            f\"Station ID: {bs_id}<br>\"\n",
    "            f\"Department: {row['nom_dep']}<br>\"\n",
    "            f\"Commune: {row['nom_com']}<br>\"\n",
    "            f\"Coordinates: ({row['latitude']}, {row['longitude']})<br>\"\n",
    "            f\"2G: {row['site_2g']}<br>\"\n",
    "            f\"3G: {row['site_3g']}<br>\"\n",
    "            f\"4G: {row.get('site_4g', '1')}<br>\"\n",
    "            f\"5G: {row['site_5g']}<br>\"\n",
    "        )\n",
    "        station_data = df_azimuth.loc[df_azimuth['id_station_anfr'] == bs_id]\n",
    "        for _, antenna in station_data.iterrows():\n",
    "            popup_text += (\n",
    "                f\"<br>Antenna Frequency: {antenna['frequency_GHz']} GHz<br>\"\n",
    "                f\"Antenna Azimuth: {antenna['angle_azimuth']}°<br>\"\n",
    "            )\n",
    "        popup = folium.Popup(popup_text, max_width=200)\n",
    "        folium.CircleMarker(\n",
    "            location=[row['latitude'], row['longitude']],\n",
    "            color='blue',\n",
    "            radius=3,\n",
    "            popup=popup,\n",
    "            fillOpacity=1,\n",
    "            fill=True\n",
    "        ).add_to(points)\n",
    "\n",
    "    folium.LayerControl().add_to(map)\n",
    "    map.save(f\"../../out/maps/neighbours_finding/{save_as}.html\")"
   ]
  },
  {
   "cell_type": "code",
   "execution_count": 27,
   "metadata": {},
   "outputs": [],
   "source": [
    "# Create and save map with visualization\n",
    "create_method_illustration_map(df, df_azimuth, del_G, neigh_G, edge_info, save_as=\"anatoli_tmp\")\n"
   ]
  },
  {
   "cell_type": "markdown",
   "metadata": {},
   "source": []
  }
 ],
 "metadata": {
  "kernelspec": {
   "display_name": "Python 3",
   "language": "python",
   "name": "python3"
  },
  "language_info": {
   "codemirror_mode": {
    "name": "ipython",
    "version": 3
   },
   "file_extension": ".py",
   "mimetype": "text/x-python",
   "name": "python",
   "nbconvert_exporter": "python",
   "pygments_lexer": "ipython3",
   "version": "3.12.3"
  }
 },
 "nbformat": 4,
 "nbformat_minor": 2
}
