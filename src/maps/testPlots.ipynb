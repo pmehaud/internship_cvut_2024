{
 "cells": [
  {
   "cell_type": "markdown",
   "metadata": {},
   "source": [
    "# Affichage des données téléphoniques"
   ]
  },
  {
   "cell_type": "markdown",
   "metadata": {},
   "source": [
    "## Imports"
   ]
  },
  {
   "cell_type": "code",
   "execution_count": 6,
   "metadata": {},
   "outputs": [],
   "source": [
    "import folium\n",
    "import pandas as pd;\n",
    "from sklearn.cluster import DBSCAN\n",
    "import mapUtils\n",
    "import IHM\n",
    "import branca\n",
    "import itertools\n",
    "import copy\n",
    "from branca.element import Figure, Html\n",
    "import webbrowser\n",
    "from weasyprint import HTML, CSS\n",
    "import branca\n",
    "from branca.element import Figure, Html\n",
    "import folium\n",
    "from selenium import webdriver\n",
    "from PIL import Image\n",
    "import io\n",
    "from selenium.webdriver.chrome.service import Service\n",
    "from pathlib import Path\n",
    "from PIL import Image\n",
    "import os\n",
    "\n"
   ]
  },
  {
   "cell_type": "markdown",
   "metadata": {},
   "source": [
    "## Plotting and saving subplots of maps"
   ]
  },
  {
   "cell_type": "code",
   "execution_count": 7,
   "metadata": {},
   "outputs": [],
   "source": [
    "ntechs = len(IHM.technologies)\n",
    "nprovs = len(IHM.providers)"
   ]
  },
  {
   "cell_type": "markdown",
   "metadata": {},
   "source": [
    "Fonction pour créer une image à partir d'un fichier html "
   ]
  },
  {
   "cell_type": "code",
   "execution_count": 8,
   "metadata": {},
   "outputs": [],
   "source": [
    "def save_png(html_file, png_file, compressing_factor = 1):      \n",
    "    # Configurer Selenium WebDriver\n",
    "    service = Service(executable_path=r'/usr/bin/chromedriver')\n",
    "    options = webdriver.ChromeOptions()\n",
    "    options.add_argument('--headless')\n",
    "    driver = webdriver.Chrome(service=service, options=options)\n",
    "    driver.set_window_size(2760, 1600)\n",
    "    # Charger la page HTML dans le navigateur\n",
    "    driver.get(f\"file://{str(Path().absolute())}/{html_file}\")\n",
    "\n",
    "    # Prendre une capture d'écran de l'élément\n",
    "    screenshot = driver.get_screenshot_as_png()\n",
    "    driver.quit()\n",
    "\n",
    "    # Convertir la capture d'écran en image avec Pillow\n",
    "    image = Image.open(io.BytesIO(screenshot))\n",
    "\n",
    "    # Compresser l'image\n",
    "    width, height = image.size\n",
    "    new_size = (width//compressing_factor, height//compressing_factor)\n",
    "    image = image.resize(new_size)\n",
    "\n",
    "    # Enregistrer l'image en PNG\n",
    "    image.save(png_file)"
   ]
  },
  {
   "cell_type": "markdown",
   "metadata": {},
   "source": [
    "Traçage des comparaisons des différents opérateurs pour chaque technologie"
   ]
  },
  {
   "cell_type": "code",
   "execution_count": 10,
   "metadata": {},
   "outputs": [
    {
     "ename": "FileNotFoundError",
     "evalue": "[Errno 2] No such file or directory: 'images/providers-site_2g.png'",
     "output_type": "error",
     "traceback": [
      "\u001b[0;31m---------------------------------------------------------------------------\u001b[0m",
      "\u001b[0;31mFileNotFoundError\u001b[0m                         Traceback (most recent call last)",
      "Cell \u001b[0;32mIn[10], line 8\u001b[0m\n\u001b[1;32m      6\u001b[0m mapUtils\u001b[38;5;241m.\u001b[39maddLegend(fig,{\u001b[38;5;124m'\u001b[39m\u001b[38;5;124mBouygues Telecom\u001b[39m\u001b[38;5;124m'\u001b[39m:\u001b[38;5;124m'\u001b[39m\u001b[38;5;124m#035afc\u001b[39m\u001b[38;5;124m'\u001b[39m, \u001b[38;5;124m'\u001b[39m\u001b[38;5;124mOrange\u001b[39m\u001b[38;5;124m'\u001b[39m:\u001b[38;5;124m'\u001b[39m\u001b[38;5;124m#fc5603\u001b[39m\u001b[38;5;124m'\u001b[39m, \u001b[38;5;124m'\u001b[39m\u001b[38;5;124mSFR\u001b[39m\u001b[38;5;124m'\u001b[39m:\u001b[38;5;124m'\u001b[39m\u001b[38;5;124m#169e26\u001b[39m\u001b[38;5;124m'\u001b[39m, \u001b[38;5;124m'\u001b[39m\u001b[38;5;124mFree Mobile\u001b[39m\u001b[38;5;124m'\u001b[39m:\u001b[38;5;124m'\u001b[39m\u001b[38;5;124m#dbd640\u001b[39m\u001b[38;5;124m'\u001b[39m})\n\u001b[1;32m      7\u001b[0m fig\u001b[38;5;241m.\u001b[39msave(\u001b[38;5;124mf\u001b[39m\u001b[38;5;124m\"\u001b[39m\u001b[38;5;124m../../out/maps/providers-\u001b[39m\u001b[38;5;132;01m{\u001b[39;00mtechnology\u001b[38;5;132;01m}\u001b[39;00m\u001b[38;5;124m.html\u001b[39m\u001b[38;5;124m\"\u001b[39m)\n\u001b[0;32m----> 8\u001b[0m \u001b[43msave_png\u001b[49m\u001b[43m(\u001b[49m\u001b[38;5;124;43mf\u001b[39;49m\u001b[38;5;124;43m\"\u001b[39;49m\u001b[38;5;124;43m../../out/images/providers-\u001b[39;49m\u001b[38;5;132;43;01m{\u001b[39;49;00m\u001b[43mtechnology\u001b[49m\u001b[38;5;132;43;01m}\u001b[39;49;00m\u001b[38;5;124;43m.html\u001b[39;49m\u001b[38;5;124;43m\"\u001b[39;49m\u001b[43m,\u001b[49m\u001b[43m \u001b[49m\u001b[38;5;124;43mf\u001b[39;49m\u001b[38;5;124;43m\"\u001b[39;49m\u001b[38;5;124;43mimages/providers-\u001b[39;49m\u001b[38;5;132;43;01m{\u001b[39;49;00m\u001b[43mtechnology\u001b[49m\u001b[38;5;132;43;01m}\u001b[39;49;00m\u001b[38;5;124;43m.png\u001b[39;49m\u001b[38;5;124;43m\"\u001b[39;49m\u001b[43m,\u001b[49m\u001b[43m \u001b[49m\u001b[38;5;241;43m2\u001b[39;49m\u001b[43m)\u001b[49m\n",
      "Cell \u001b[0;32mIn[8], line 24\u001b[0m, in \u001b[0;36msave_png\u001b[0;34m(html_file, png_file, compressing_factor)\u001b[0m\n\u001b[1;32m     21\u001b[0m image \u001b[38;5;241m=\u001b[39m image\u001b[38;5;241m.\u001b[39mresize(new_size)\n\u001b[1;32m     23\u001b[0m \u001b[38;5;66;03m# Enregistrer l'image en PNG\u001b[39;00m\n\u001b[0;32m---> 24\u001b[0m \u001b[43mimage\u001b[49m\u001b[38;5;241;43m.\u001b[39;49m\u001b[43msave\u001b[49m\u001b[43m(\u001b[49m\u001b[43mpng_file\u001b[49m\u001b[43m)\u001b[49m\n",
      "File \u001b[0;32m/usr/lib/python3/dist-packages/PIL/Image.py:2410\u001b[0m, in \u001b[0;36mImage.save\u001b[0;34m(self, fp, format, **params)\u001b[0m\n\u001b[1;32m   2408\u001b[0m         fp \u001b[38;5;241m=\u001b[39m builtins\u001b[38;5;241m.\u001b[39mopen(filename, \u001b[38;5;124m\"\u001b[39m\u001b[38;5;124mr+b\u001b[39m\u001b[38;5;124m\"\u001b[39m)\n\u001b[1;32m   2409\u001b[0m     \u001b[38;5;28;01melse\u001b[39;00m:\n\u001b[0;32m-> 2410\u001b[0m         fp \u001b[38;5;241m=\u001b[39m \u001b[43mbuiltins\u001b[49m\u001b[38;5;241;43m.\u001b[39;49m\u001b[43mopen\u001b[49m\u001b[43m(\u001b[49m\u001b[43mfilename\u001b[49m\u001b[43m,\u001b[49m\u001b[43m \u001b[49m\u001b[38;5;124;43m\"\u001b[39;49m\u001b[38;5;124;43mw+b\u001b[39;49m\u001b[38;5;124;43m\"\u001b[39;49m\u001b[43m)\u001b[49m\n\u001b[1;32m   2412\u001b[0m \u001b[38;5;28;01mtry\u001b[39;00m:\n\u001b[1;32m   2413\u001b[0m     save_handler(\u001b[38;5;28mself\u001b[39m, fp, filename)\n",
      "\u001b[0;31mFileNotFoundError\u001b[0m: [Errno 2] No such file or directory: 'images/providers-site_2g.png'"
     ]
    }
   ],
   "source": [
    "for technology in IHM.technologies :\n",
    "    fig = branca.element.Figure()\n",
    "    for i, provider in enumerate(IHM.providers) :\n",
    "        subplot = fig.add_subplot(int(nprovs/2), nprovs-int(nprovs/2), i+1)\n",
    "        subplot.add_child(mapUtils.getMap(copy.deepcopy(IHM.df), [provider], IHM.regions, [technology], \"Opérateurs\", location = [46.8, 2.3], zoom_start = 6)) \n",
    "    mapUtils.addLegend(fig,{'Bouygues Telecom':'#035afc', 'Orange':'#fc5603', 'SFR':'#169e26', 'Free Mobile':'#dbd640'})\n",
    "    fig.save(f\"../../out/maps/providers-{technology}.html\")\n",
    "    save_png(f\"../../out/maps/providers-{technology}.html\", f\"../../out/images/providers-{technology}.png\", 2)"
   ]
  },
  {
   "cell_type": "markdown",
   "metadata": {},
   "source": [
    "Traçage des répartitions des stations de base selon les opérateurs"
   ]
  },
  {
   "cell_type": "code",
   "execution_count": null,
   "metadata": {},
   "outputs": [],
   "source": [
    "fig = branca.element.Figure()\n",
    "for i,provider in enumerate(IHM.providers) :\n",
    "    subplot = fig.add_subplot(int(nprovs/2), nprovs-int(nprovs/2), i+1)\n",
    "    subplot.add_child(mapUtils.getMap(copy.deepcopy(IHM.df), [provider], IHM.regions, IHM.technologies, \"Opérateurs\", location = [46.8, 2.3], zoom_start = 6)) \n",
    "mapUtils.addLegend(fig,{'Bouygues Telecom':'#035afc', 'Orange':'#fc5603', 'SFR':'#169e26', 'Free Mobile':'#dbd640'})\n",
    "fig.save(\"../../maps/subplots-operators.html\")\n",
    "save_png(\"../../maps/subplots-operators.html\", \"../../images/subplots-operators.png\", 2)"
   ]
  }
 ],
 "metadata": {
  "kernelspec": {
   "display_name": "Python 3",
   "language": "python",
   "name": "python3"
  },
  "language_info": {
   "codemirror_mode": {
    "name": "ipython",
    "version": 3
   },
   "file_extension": ".py",
   "mimetype": "text/x-python",
   "name": "python",
   "nbconvert_exporter": "python",
   "pygments_lexer": "ipython3",
   "version": "3.11.6"
  }
 },
 "nbformat": 4,
 "nbformat_minor": 2
}
