{
 "cells": [
  {
   "cell_type": "markdown",
   "metadata": {},
   "source": [
    "# Data Analysis"
   ]
  },
  {
   "cell_type": "code",
   "execution_count": null,
   "metadata": {},
   "outputs": [],
   "source": [
    "# Importation of libraries\n",
    "import numpy as np\n",
    "import pandas as pd"
   ]
  },
  {
   "cell_type": "code",
   "execution_count": null,
   "metadata": {},
   "outputs": [],
   "source": [
    "# Importing database\n",
    "df = pd.read_csv(\"database/2023_T4_sites_Metropole.csv\", sep=\";\")\n",
    "df.head()"
   ]
  },
  {
   "cell_type": "markdown",
   "metadata": {},
   "source": [
    "## Important facts about database"
   ]
  },
  {
   "cell_type": "code",
   "execution_count": null,
   "metadata": {},
   "outputs": [],
   "source": [
    "sites = list(df[\"num_site\"])\n",
    "nb_sit = len(sites)\n",
    "\n",
    "regions = list(df[\"nom_reg\"])\n",
    "nb_reg = len(np.unique(regions))\n",
    "\n",
    "departments = list(df[\"nom_dep\"])\n",
    "nb_dep = len(np.unique(departments))\n",
    "\n",
    "cities = list(df[\"nom_com\"])\n",
    "nb_cit = len(np.unique(cities))\n",
    "\n",
    "providers = list(df[\"nom_op\"])\n",
    "nb_pro = len(np.unique(providers))\n",
    "\n",
    "# print(nb_sit) # number of sites\n",
    "\n",
    "# print(nb_sit/nb_reg) # mean number of sites per region\n",
    "\n",
    "# print(nb_sit/nb_dep) # mean number of sites per department\n",
    "\n",
    "# print(nb_sit/nb_cit) # mean number of sites per city\n",
    "\n",
    "# for reg in np.unique(regions): # number of sites per region\n",
    "#     print(reg + \" : \" + str(regions.count(reg)))\n",
    "\n",
    "# for dep in np.unique(departments): # number of sites per department\n",
    "#     print(dep + \" : \" + str(departments.count(dep)))\n",
    "\n",
    "# for pro in np.unique(providers): # number of sites per provider\n",
    "#     print(pro + \" : \" + str(providers.count(pro)))\n",
    "\n",
    "# for cit in np.unique(cities): # number of sites per cities (for cities with a number >= 20)\n",
    "#     count = cities.count(cit)\n",
    "#     if (count >= 20):\n",
    "#         nb_cit += 1\n",
    "#         print(cit + \" : \" + str(count))\n",
    "\n",
    "df_proPerReg = pd.DataFrame({\n",
    "    \"nom_reg\" : np.unique(regions),\n",
    "    \"Free Mobile\"   : [None for i in range(nb_reg)],\n",
    "    \"SFR\"   : [None for i in range(nb_reg)],\n",
    "    \"Orange\"   : [None for i in range(nb_reg)],\n",
    "    \"Bouygues Telecom\"   : [None for i in range(nb_reg)],\n",
    "    \"Total\"   : [None for i in range(nb_reg)]\n",
    "})\n",
    "\n",
    "for reg in np.unique(regions): # number of sites per region per provider\n",
    "    for pro in np.unique(providers):\n",
    "        count = list(df.loc[df[\"nom_reg\"]==reg, \"nom_op\"]).count(pro)\n",
    "        df_proPerReg.loc[df_proPerReg[\"nom_reg\"]==reg, pro] = count\n",
    "        # print(reg + \", \" + pro + \" : \" + str(count))\n",
    "    df_proPerReg.loc[df_proPerReg[\"nom_reg\"]==reg, \"Total\"] = regions.count(reg)"
   ]
  },
  {
   "cell_type": "code",
   "execution_count": null,
   "metadata": {},
   "outputs": [],
   "source": [
    "df_proPerReg"
   ]
  }
 ],
 "metadata": {
  "kernelspec": {
   "display_name": "Python 3",
   "language": "python",
   "name": "python3"
  },
  "language_info": {
   "codemirror_mode": {
    "name": "ipython",
    "version": 3
   },
   "file_extension": ".py",
   "mimetype": "text/x-python",
   "name": "python",
   "nbconvert_exporter": "python",
   "pygments_lexer": "ipython3",
   "version": "3.10.12"
  }
 },
 "nbformat": 4,
 "nbformat_minor": 2
}
