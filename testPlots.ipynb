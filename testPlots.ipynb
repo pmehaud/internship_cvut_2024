{
 "cells": [
  {
   "cell_type": "markdown",
   "metadata": {},
   "source": [
    "# Affichage des données téléphoniques"
   ]
  },
  {
   "cell_type": "markdown",
   "metadata": {},
   "source": [
    "## Imports"
   ]
  },
  {
   "cell_type": "code",
   "execution_count": null,
   "metadata": {},
   "outputs": [],
   "source": [
    "import folium\n",
    "import pandas as pd;\n",
    "from sklearn.cluster import DBSCAN\n",
    "import mapUtils\n",
    "import IHM\n",
    "import branca\n",
    "import itertools\n",
    "import copy\n",
    "from branca.element import Figure, Html\n",
    "import webbrowser\n"
   ]
  },
  {
   "cell_type": "markdown",
   "metadata": {},
   "source": [
    "## Creating Providers-technologies graphs"
   ]
  },
  {
   "cell_type": "code",
   "execution_count": null,
   "metadata": {},
   "outputs": [],
   "source": [
    "ntechs = len(IHM.technologies)\n",
    "nprovs = len(IHM.providers)"
   ]
  },
  {
   "cell_type": "code",
   "execution_count": null,
   "metadata": {},
   "outputs": [],
   "source": [
    "for provider in IHM.providers :\n",
    "    fig = branca.element.Figure()\n",
    "    for i, technology in enumerate(IHM.technologies) :\n",
    "        subplot = fig.add_subplot(int(ntechs/2), ntechs-int(ntechs/2), i+1)\n",
    "        subplot.add_child(mapUtils.getMap(copy.deepcopy(IHM.df), [provider], IHM.regions, [technology], \"Technologies\", location = [46.8, 2.3], zoom_start = 6)) \n",
    "    mapUtils.addLegend(fig,{\"2G\":' #4285F4',\"3G\":'#34A853',\"4G\":'#FBBC05', \"5G\":' #EA4335'})\n",
    "    fig.save(f\"providers-technologies/{provider}.html\")\n",
    "    webbrowser.open(f\"providers-technologies/{provider}.html\")"
   ]
  }
 ],
 "metadata": {
  "kernelspec": {
   "display_name": "Python 3",
   "language": "python",
   "name": "python3"
  },
  "language_info": {
   "codemirror_mode": {
    "name": "ipython",
    "version": 3
   },
   "file_extension": ".py",
   "mimetype": "text/x-python",
   "name": "python",
   "nbconvert_exporter": "python",
   "pygments_lexer": "ipython3",
   "version": "3.11.6"
  }
 },
 "nbformat": 4,
 "nbformat_minor": 2
}
