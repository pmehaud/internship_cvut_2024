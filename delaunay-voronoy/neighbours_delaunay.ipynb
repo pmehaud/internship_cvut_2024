{
 "cells": [
  {
   "cell_type": "markdown",
   "metadata": {},
   "source": [
    "# Finding base station neighbours via the Delaunay triangulation\n",
    "\n",
    "We will reuse the work of Delphine PAQUIRY to find base stations' neighbours."
   ]
  },
  {
   "cell_type": "code",
   "execution_count": null,
   "metadata": {},
   "outputs": [],
   "source": [
    "# Importation of libraries\n",
    "import numpy as np\n",
    "import pandas as pd\n",
    "import matplotlib.pyplot as plt\n",
    "from scipy.spatial import Delaunay\n"
   ]
  },
  {
   "cell_type": "code",
   "execution_count": null,
   "metadata": {},
   "outputs": [],
   "source": [
    "# Importing database\n",
    "df = pd.read_csv(\"../database/data.csv\", sep=\";\", decimal=\",\")\n",
    "df.head()"
   ]
  },
  {
   "cell_type": "markdown",
   "metadata": {},
   "source": [
    "## Useful methods"
   ]
  },
  {
   "cell_type": "code",
   "execution_count": null,
   "metadata": {},
   "outputs": [],
   "source": [
    "def plot_delaunay(points, delaunay_triangulation):\n",
    "    \"\"\" Plots a Delaunay triangulation\n",
    "        IN:\n",
    "            points: Coordinates of points to triangulate (ndarray)\n",
    "            delaunay_triangulation: Result of the Delaunay triangulation\n",
    "        OUT: \n",
    "            plot\n",
    "    \"\"\"\n",
    "    plt.triplot(points[:,0], points[:,1], delaunay_triangulation.simplices, linewidth=0.3)\n",
    "    plt.plot(points[:,0], points[:,1], 'o', markersize=3, c=\"green\")\n",
    "    plt.xlabel(\"Longitude\")\n",
    "    plt.ylabel(\"Latitude\")\n",
    "    plt.show()"
   ]
  },
  {
   "cell_type": "markdown",
   "metadata": {},
   "source": [
    "## First try on the Gard county\n",
    "\n",
    "### Creation of the dataframe"
   ]
  },
  {
   "cell_type": "code",
   "execution_count": null,
   "metadata": {},
   "outputs": [],
   "source": [
    "department = \"Gard\""
   ]
  },
  {
   "cell_type": "code",
   "execution_count": null,
   "metadata": {},
   "outputs": [],
   "source": [
    "df_gard = df.loc[df['nom_dep'] == department]\n",
    "df_gard = df_gard.drop(columns=[\"code_op\", \"id_site_partage\", \"id_station_anfr\", \"nom_reg\", \"nom_dep\", \"insee_dep\", \"insee_com\", \"site_2g\", \"site_3g\", \"site_4g\", \"site_5g\", \"mes_4g_trim\", \"site_ZB\", \"site_DCC\", \"site_strategique\", \"site_capa_240mbps\", \"date_ouverturecommerciale_5g\", \"site_5g_700_m_hz\", \"site_5g_800_m_hz\", \"site_5g_1800_m_hz\", \"site_5g_2100_m_hz\", \"site_5g_3500_m_hz\"])\n",
    "df_gard.head()"
   ]
  },
  {
   "cell_type": "markdown",
   "metadata": {},
   "source": [
    "### Base stations' number"
   ]
  },
  {
   "cell_type": "code",
   "execution_count": null,
   "metadata": {},
   "outputs": [],
   "source": [
    "providers = list(np.unique(df_gard[\"nom_op\"]))\n",
    "nb_pro = len(providers)\n",
    "\n",
    "df_proPerDep = pd.DataFrame({\n",
    "    \"nom_dep\" : department,\n",
    "    \"Free Mobile\"   : [None],\n",
    "    \"SFR\"   : [None],\n",
    "    \"Orange\"   : [None],\n",
    "    \"Bouygues Telecom\"   : [None],\n",
    "    \"Total\"   : [None]\n",
    "})\n",
    "\n",
    "for pro in providers: # number of sites per provider\n",
    "    count = list(df_gard[\"nom_op\"]).count(pro)\n",
    "    df_proPerDep.loc[df_proPerDep[\"nom_dep\"]==department, pro] = count\n",
    "df_proPerDep.loc[df_proPerDep[\"nom_dep\"]==department, \"Total\"] = len(df_gard[\"num_site\"])"
   ]
  },
  {
   "cell_type": "code",
   "execution_count": null,
   "metadata": {},
   "outputs": [],
   "source": [
    "df_proPerDep"
   ]
  },
  {
   "cell_type": "markdown",
   "metadata": {},
   "source": [
    "### Delaunay triangulation on Free Mobile stations"
   ]
  },
  {
   "cell_type": "code",
   "execution_count": null,
   "metadata": {},
   "outputs": [],
   "source": [
    "# Selecting the provider : Free Mobile\n",
    "df_gard_free = df_gard.loc[df['nom_op'] == \"Free Mobile\"]\n",
    "df_gard_free = df_gard_free.drop(columns=['nom_op'])\n",
    "df_gard_free.head()"
   ]
  },
  {
   "cell_type": "code",
   "execution_count": null,
   "metadata": {},
   "outputs": [],
   "source": [
    "# Creation of points couples for Delaunay\n",
    "df_gard_free_points = np.array(df_gard_free[['longitude', 'latitude']])"
   ]
  },
  {
   "cell_type": "code",
   "execution_count": null,
   "metadata": {},
   "outputs": [],
   "source": [
    "delaunay_gard_free = Delaunay(df_gard_free_points)"
   ]
  },
  {
   "cell_type": "code",
   "execution_count": null,
   "metadata": {},
   "outputs": [],
   "source": [
    "plot_delaunay(df_gard_free_points, delaunay_gard_free)"
   ]
  },
  {
   "cell_type": "markdown",
   "metadata": {},
   "source": [
    "### Addition of a distance condition"
   ]
  },
  {
   "cell_type": "code",
   "execution_count": null,
   "metadata": {},
   "outputs": [],
   "source": [
    "delaunay_gard_free.simplices"
   ]
  },
  {
   "cell_type": "code",
   "execution_count": null,
   "metadata": {},
   "outputs": [],
   "source": [
    "import networkx as nx\n",
    "from itertools import combinations"
   ]
  },
  {
   "cell_type": "code",
   "execution_count": null,
   "metadata": {},
   "outputs": [],
   "source": [
    "tmp = combinations(delaunay_gard_free.simplices[1], 2)\n",
    "tmp"
   ]
  },
  {
   "cell_type": "code",
   "execution_count": null,
   "metadata": {},
   "outputs": [],
   "source": [
    "G = nx.Graph()\n",
    "G.add_nodes_from(range(len(df_gard_free)))\n",
    "\n",
    "for simplex in delaunay_gard_free.simplices:\n",
    "    G.add_edges_from(combinations(simplex, 2))\n",
    "# for i, node in enumerate(G.nodes()):\n",
    "#     G.nodes[node]['num_site'] = df_gard_free.iloc[i]['num_site']    \n",
    "# nx.set_node_attributes(G, pos, 'pos')\n",
    "\n",
    "nx.draw(G)"
   ]
  },
  {
   "cell_type": "markdown",
   "metadata": {},
   "source": [
    "## Big Delaunay on France\n",
    "Only Free Mobile"
   ]
  },
  {
   "cell_type": "code",
   "execution_count": null,
   "metadata": {},
   "outputs": [],
   "source": [
    "# Selecting the provider : Free Mobile\n",
    "df_free = df.loc[df['nom_op'] == \"Free Mobile\"]\n",
    "df_free = df_free.drop(columns=['nom_op'])\n",
    "df_free.head()"
   ]
  },
  {
   "cell_type": "code",
   "execution_count": null,
   "metadata": {},
   "outputs": [],
   "source": [
    "# Creation of points couples for Delaunay\n",
    "df_free_points = np.array(df_free[['longitude', 'latitude']])"
   ]
  },
  {
   "cell_type": "code",
   "execution_count": null,
   "metadata": {},
   "outputs": [],
   "source": [
    "delaunay_free = Delaunay(df_free_points)"
   ]
  },
  {
   "cell_type": "code",
   "execution_count": null,
   "metadata": {},
   "outputs": [],
   "source": [
    "plot_delaunay(df_free_points, delaunay_free)"
   ]
  }
 ],
 "metadata": {
  "kernelspec": {
   "display_name": "Python 3",
   "language": "python",
   "name": "python3"
  },
  "language_info": {
   "codemirror_mode": {
    "name": "ipython",
    "version": 3
   },
   "file_extension": ".py",
   "mimetype": "text/x-python",
   "name": "python",
   "nbconvert_exporter": "python",
   "pygments_lexer": "ipython3",
   "version": "3.10.12"
  }
 },
 "nbformat": 4,
 "nbformat_minor": 2
}
