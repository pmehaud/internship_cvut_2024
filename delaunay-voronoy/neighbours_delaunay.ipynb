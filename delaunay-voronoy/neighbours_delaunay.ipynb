{
 "cells": [
  {
   "cell_type": "markdown",
   "metadata": {},
   "source": [
    "# Finding base station neighbours via the Delaunay triangulation\n",
    "\n",
    "We will reuse the work of Delphine PAQUIRY to find base stations' neighbours."
   ]
  },
  {
   "cell_type": "code",
   "execution_count": null,
   "metadata": {},
   "outputs": [],
   "source": [
    "# Importation of libraries\n",
    "import numpy as np\n",
    "import pandas as pd\n",
    "import matplotlib.pyplot as plt\n",
    "from scipy.spatial import Delaunay\n"
   ]
  },
  {
   "cell_type": "code",
   "execution_count": null,
   "metadata": {},
   "outputs": [],
   "source": [
    "# Importing database\n",
    "df = pd.read_csv(\"../database/data.csv\", sep=\";\", decimal=\",\")\n",
    "df.head()"
   ]
  },
  {
   "cell_type": "markdown",
   "metadata": {},
   "source": [
    "## Useful methods\n",
    "\n"
   ]
  },
  {
   "cell_type": "markdown",
   "metadata": {},
   "source": [
    "### Creation of a graph based on delaunay triangulation"
   ]
  },
  {
   "cell_type": "code",
   "execution_count": null,
   "metadata": {},
   "outputs": [],
   "source": [
    "import networkx as nx\n",
    "from itertools import combinations\n",
    "\n",
    "def delaunay_to_graph(delaunay_triangulation):\n",
    "    \"\"\" Returns a Networkx Graph based on the Delaunay triangulation and the position of each node.\n",
    "        \n",
    "        Parameters\n",
    "        ----------\n",
    "        delaunay_triangulation : Delaunay\n",
    "            Result of the Delaunay triangulation.\n",
    "\n",
    "        Returns\n",
    "        -------\n",
    "        G : Graph\n",
    "            A Networkx Graph graph.\n",
    "        pos : dict\n",
    "            The position of G's nodes.\n",
    "    \"\"\"\n",
    "    G=nx.Graph()\n",
    "    nodes = range(len(delaunay_triangulation.points))\n",
    "    G.add_nodes_from(nodes) # adds nodes names (0 to number_of_points-1)\n",
    "\n",
    "    for simplex in delaunay_triangulation.simplices:\n",
    "        G.add_edges_from(combinations(simplex, 2))\n",
    "\n",
    "    pos = dict(zip(nodes,delaunay_triangulation.points)) # gives each node his own position\n",
    "\n",
    "    return G, pos"
   ]
  },
  {
   "cell_type": "markdown",
   "metadata": {},
   "source": [
    "### Computation of the distance in the in km between 2 points"
   ]
  },
  {
   "cell_type": "code",
   "execution_count": null,
   "metadata": {},
   "outputs": [],
   "source": [
    "import math\n",
    "\n",
    "def distance_geographique(pt1, pt2):\n",
    "    \"\"\" Computes the distance in km between the points pt1 and pt2 (coordinates longitude, latitude).\n",
    "        \n",
    "        Parameters\n",
    "        ----------\n",
    "        pt1, pt2 : tuple\n",
    "            Coordinates of the points.\n",
    "\n",
    "        Returns\n",
    "        -------\n",
    "        distance : float\n",
    "            Distance between pt1 and pt2.\n",
    "    \"\"\"\n",
    "    R = 6371  # average Earth radius in kilometers\n",
    "    dlat = math.radians(pt2[1] - pt1[1])\n",
    "    dlon = math.radians(pt2[0] - pt1[0])\n",
    "    a = math.sin(dlat/2) * math.sin(dlat/2) + math.cos(math.radians(pt1[1])) * math.cos(math.radians(pt2[1])) * math.sin(dlon/2) * math.sin(dlon/2)\n",
    "    c = 2 * math.atan2(math.sqrt(a), math.sqrt(1-a))\n",
    "    distance = R * c\n",
    "    \n",
    "    return distance"
   ]
  },
  {
   "cell_type": "markdown",
   "metadata": {},
   "source": [
    "### Quadrants"
   ]
  },
  {
   "cell_type": "code",
   "execution_count": null,
   "metadata": {},
   "outputs": [],
   "source": [
    "def create_6_quadrants(ref_point, pos):\n",
    "    angles = np.degrees(np.arctan2([pos[k][1] for k in pos] - pos[ref_point][1], [pos[k][0] for k in pos] - pos[ref_point][0]))\n",
    "    angles = (angles + 360) % 360\n",
    "\n",
    "    quadrants = dict()\n",
    "    for ind in range(0, 301, 60):\n",
    "        quadrants[f\"{ind}_{ind+60}\"] = np.where((angles >= ind) & (angles < ind + 60))[0]\n",
    "\n",
    "    return quadrants"
   ]
  },
  {
   "cell_type": "code",
   "execution_count": null,
   "metadata": {},
   "outputs": [],
   "source": [
    "def nearestNeighbour_in_quadrant(ref_point, quadrant, pos):\n",
    "    \"\"\"Si pas de voisin, renvoie le point\"\"\"\n",
    "    min = np.inf\n",
    "    nearestNeighbour = ref_point\n",
    "    \n",
    "    for pt2 in quadrant:\n",
    "        dist = distance_geographique(pos[ref_point], pos[pt2])\n",
    "        if((dist > 0) and (dist < min)):\n",
    "            min = dist\n",
    "            nearestNeighbour = pt2\n",
    "\n",
    "    return nearestNeighbour"
   ]
  },
  {
   "cell_type": "markdown",
   "metadata": {},
   "source": [
    "## Criterias\n",
    "\n",
    "### Distance criteria"
   ]
  },
  {
   "cell_type": "code",
   "execution_count": null,
   "metadata": {},
   "outputs": [],
   "source": [
    "def distance_criteria(G, pos, max_distance=15):\n",
    "    \"\"\" Removes all the edges of G wich are longer than max_distance.\n",
    "        \n",
    "        Parameters\n",
    "        ----------\n",
    "        G : Graph\n",
    "            A Networkx Graph graph.\n",
    "        pos : dict\n",
    "            The position of G's nodes.\n",
    "        max_distance : int (default=15)\n",
    "            The maximum distance between two connected nodes (in km).\n",
    "    \"\"\"\n",
    "    for edge in G.edges:\n",
    "        if(distance_geographique(pos[edge[0]],pos[edge[1]]) > max_distance):\n",
    "            G.remove_edges_from([edge])"
   ]
  },
  {
   "cell_type": "markdown",
   "metadata": {},
   "source": [
    "### Quadrant criteria"
   ]
  },
  {
   "cell_type": "code",
   "execution_count": null,
   "metadata": {},
   "outputs": [],
   "source": [
    "def quadrant_criteria(G, pos):\n",
    "    \"\"\" Removes all the edges of G wich doesn't respect the quadrant criteria.\n",
    "        \n",
    "        Parameters\n",
    "        ----------\n",
    "        G : Graph\n",
    "            A Networkx Graph graph.\n",
    "        pos : dict\n",
    "            The position of G's nodes.\n",
    "    \"\"\"\n",
    "    for node in pos.keys():\n",
    "        quadrants = create_6_quadrants(node, pos)\n",
    "        NN = set()\n",
    "        for quad in quadrants.values():\n",
    "            NN.add(nearestNeighbour_in_quadrant(node, quad, pos))\n",
    "        for edge in G.edges:\n",
    "            if((edge[0]==node) and (edge[1] not in NN)):\n",
    "                G.remove_edges_from([edge])"
   ]
  },
  {
   "cell_type": "markdown",
   "metadata": {},
   "source": [
    "## Plotting methods\n",
    "\n",
    "### Plotting parameters"
   ]
  },
  {
   "cell_type": "code",
   "execution_count": null,
   "metadata": {},
   "outputs": [],
   "source": [
    "def plot_params(title, ax, long_points, lat_points):\n",
    "    \"\"\" Sets the right parameters for subplots axes.\n",
    "        \n",
    "        Parameters\n",
    "        ----------\n",
    "        title : string\n",
    "            Title of the subplot.\n",
    "        ax : Matplotlib Axes object (default=None)\n",
    "            Draw the graph in the specified Matplotlib axes.\n",
    "        long_points : array\n",
    "            Longitude coordinates of the points.\n",
    "        lat_points : array\n",
    "            Latitude coordinates of the points.\n",
    "    \"\"\"\n",
    "    ax.set_xlabel(\"Longitude\")\n",
    "    ax.set_ylabel(\"Latitude\")\n",
    "    \n",
    "    ax.set_title(title)\n",
    "\n",
    "    ax.tick_params(\n",
    "        reset=True,\n",
    "        top=False,\n",
    "        right=False\n",
    "    )\n",
    "    \n",
    "    ax.set_xlim(min(long_points)-0.05, max(long_points)+0.05)\n",
    "    ax.set_ylim(min(lat_points)-0.05, max(lat_points)+0.05)"
   ]
  },
  {
   "cell_type": "markdown",
   "metadata": {},
   "source": [
    "### Plot of a delaunay triangulation"
   ]
  },
  {
   "cell_type": "code",
   "execution_count": null,
   "metadata": {},
   "outputs": [],
   "source": [
    "def plot_delaunay(delaunay_triangulation, show=True, ax=None):\n",
    "    \"\"\" Plots a Delaunay triangulation.\n",
    "        \n",
    "        Parameters\n",
    "        ----------\n",
    "        delaunay_triangulation : Delaunay\n",
    "            Result of the Delaunay triangulation.\n",
    "        show : bool (default=True)\n",
    "            If True, shows the plot.\n",
    "        ax : Matplotlib Axes object (default=None)\n",
    "            Draw the graph in the specified Matplotlib axes.\n",
    "    \"\"\"\n",
    "    if(ax!=None):\n",
    "        ax.triplot(delaunay_triangulation.points[:,0], delaunay_triangulation.points[:,1], delaunay_triangulation.simplices, linewidth=1, c=\"lightblue\")\n",
    "        ax.plot(delaunay_triangulation.points[:,0], delaunay_triangulation.points[:,1], 'o', markersize=3, c=\"green\")\n",
    "        plot_params(\"Delaunay Triangulation\", ax, delaunay_triangulation.points[:,0], delaunay_triangulation.points[:,1])\n",
    "    else:\n",
    "        plt.triplot(delaunay_triangulation.points[:,0], delaunay_triangulation.points[:,1], delaunay_triangulation.simplices, linewidth=1, c=\"lightblue\")\n",
    "        plt.plot(delaunay_triangulation.points[:,0], delaunay_triangulation.points[:,1], 'o', markersize=3, c=\"green\")\n",
    "        plt.xlabel(\"Longitude\")\n",
    "        plt.ylabel(\"Latitude\")\n",
    "        plt.tick_params(\n",
    "            reset=True,\n",
    "            top=False,\n",
    "            right=False)\n",
    "    if(show):\n",
    "        plt.show()"
   ]
  },
  {
   "cell_type": "markdown",
   "metadata": {},
   "source": [
    "### Plot of a Networkx Graph"
   ]
  },
  {
   "cell_type": "code",
   "execution_count": null,
   "metadata": {},
   "outputs": [],
   "source": [
    "def plot_graph(G, pos, show=True, **kwargs):\n",
    "    \"\"\" Plots a Networkx Graph.\n",
    "        \n",
    "        Parameters\n",
    "        ----------\n",
    "        G : Graph\n",
    "            The Networkx Graph graph you want to plot.\n",
    "        pos : dict\n",
    "            The position of G's nodes.\n",
    "        show : bool (default=True)\n",
    "            If True, shows the plot.\n",
    "        ax : Matplotlib Axes object (default=None)\n",
    "            Draw the graph in the specified Matplotlib axes.\n",
    "        title : string\n",
    "            The title of the subplot (works with ax).\n",
    "    \"\"\"\n",
    "    ax = kwargs.get('ax', None)\n",
    "    title = kwargs.get('title', \"Delaunay Graph\")\n",
    "\n",
    "    if(ax):\n",
    "        nx.draw_networkx(G, pos, node_size=10, with_labels=False, node_color=\"green\", edge_color=\"lightblue\", ax=ax)\n",
    "        plot_params(title, ax, [pos[k][0] for k in pos], [pos[k][1] for k in pos])\n",
    "    else:\n",
    "        nx.draw_networkx(G, pos, node_size=10, with_labels=False, node_color=\"green\", edge_color=\"lightblue\")\n",
    "        plt.xlabel(\"Longitude\")\n",
    "        plt.ylabel(\"Latitude\")\n",
    "        plt.tick_params(\n",
    "            reset=True,\n",
    "            top=False,\n",
    "            right=False)\n",
    "    if(show):\n",
    "        plt.show()"
   ]
  },
  {
   "cell_type": "markdown",
   "metadata": {},
   "source": [
    "## First try on the Gard county\n",
    "\n",
    "### Creation of the dataframe"
   ]
  },
  {
   "cell_type": "code",
   "execution_count": null,
   "metadata": {},
   "outputs": [],
   "source": [
    "department = \"Gard\""
   ]
  },
  {
   "cell_type": "code",
   "execution_count": null,
   "metadata": {},
   "outputs": [],
   "source": [
    "df_gard = df.loc[df['nom_dep'] == department]\n",
    "df_gard = df_gard.drop(columns=[\"code_op\", \"id_site_partage\", \"id_station_anfr\", \"nom_reg\", \"nom_dep\", \"insee_dep\", \"insee_com\", \"site_2g\", \"site_3g\", \"site_4g\", \"site_5g\", \"mes_4g_trim\", \"site_ZB\", \"site_DCC\", \"site_strategique\", \"site_capa_240mbps\", \"date_ouverturecommerciale_5g\", \"site_5g_700_m_hz\", \"site_5g_800_m_hz\", \"site_5g_1800_m_hz\", \"site_5g_2100_m_hz\", \"site_5g_3500_m_hz\"])\n",
    "df_gard.head()"
   ]
  },
  {
   "cell_type": "markdown",
   "metadata": {},
   "source": [
    "### Base stations' number"
   ]
  },
  {
   "cell_type": "code",
   "execution_count": null,
   "metadata": {},
   "outputs": [],
   "source": [
    "providers = list(np.unique(df_gard[\"nom_op\"]))\n",
    "nb_pro = len(providers)\n",
    "\n",
    "df_proPerDep = pd.DataFrame({\n",
    "    \"nom_dep\" : department,\n",
    "    \"Free Mobile\"   : [None],\n",
    "    \"SFR\"   : [None],\n",
    "    \"Orange\"   : [None],\n",
    "    \"Bouygues Telecom\"   : [None],\n",
    "    \"Total\"   : [None]\n",
    "})\n",
    "\n",
    "for pro in providers: # number of sites per provider\n",
    "    count = list(df_gard[\"nom_op\"]).count(pro)\n",
    "    df_proPerDep.loc[df_proPerDep[\"nom_dep\"]==department, pro] = count\n",
    "df_proPerDep.loc[df_proPerDep[\"nom_dep\"]==department, \"Total\"] = len(df_gard[\"num_site\"])"
   ]
  },
  {
   "cell_type": "code",
   "execution_count": null,
   "metadata": {},
   "outputs": [],
   "source": [
    "df_proPerDep"
   ]
  },
  {
   "cell_type": "markdown",
   "metadata": {},
   "source": [
    "### Delaunay triangulation on Free Mobile stations"
   ]
  },
  {
   "cell_type": "code",
   "execution_count": null,
   "metadata": {},
   "outputs": [],
   "source": [
    "# Selecting the provider : Free Mobile\n",
    "df_gard_free = df_gard.loc[df['nom_op'] == \"Free Mobile\"]\n",
    "df_gard_free = df_gard_free.drop(columns=['nom_op'])\n",
    "df_gard_free.head()"
   ]
  },
  {
   "cell_type": "code",
   "execution_count": null,
   "metadata": {},
   "outputs": [],
   "source": [
    "# Creation of points couples for Delaunay\n",
    "df_gard_free_points = np.array(df_gard_free[['longitude', 'latitude']])"
   ]
  },
  {
   "cell_type": "code",
   "execution_count": null,
   "metadata": {},
   "outputs": [],
   "source": [
    "delaunay_gard_free = Delaunay(df_gard_free_points)"
   ]
  },
  {
   "cell_type": "code",
   "execution_count": null,
   "metadata": {},
   "outputs": [],
   "source": [
    "plot_delaunay(delaunay_gard_free)"
   ]
  },
  {
   "cell_type": "markdown",
   "metadata": {},
   "source": [
    "### Creating a graph based on delaunay triangulation"
   ]
  },
  {
   "cell_type": "code",
   "execution_count": null,
   "metadata": {},
   "outputs": [],
   "source": [
    "G, pos = delaunay_to_graph(delaunay_gard_free)"
   ]
  },
  {
   "cell_type": "code",
   "execution_count": null,
   "metadata": {},
   "outputs": [],
   "source": [
    "plot_graph(G,pos)"
   ]
  },
  {
   "cell_type": "markdown",
   "metadata": {},
   "source": [
    "### Addition of criterias"
   ]
  },
  {
   "cell_type": "code",
   "execution_count": null,
   "metadata": {},
   "outputs": [],
   "source": [
    "G_dist, pos_dist = delaunay_to_graph(delaunay_gard_free)\n",
    "G_quad, pos_quad = delaunay_to_graph(delaunay_gard_free)"
   ]
  },
  {
   "cell_type": "code",
   "execution_count": null,
   "metadata": {},
   "outputs": [],
   "source": [
    "distance_criteria(G_dist,pos_dist)"
   ]
  },
  {
   "cell_type": "code",
   "execution_count": null,
   "metadata": {},
   "outputs": [],
   "source": [
    "quadrant_criteria(G_quad,pos_quad)"
   ]
  },
  {
   "cell_type": "code",
   "execution_count": null,
   "metadata": {},
   "outputs": [],
   "source": [
    "fig, axs = plt.subplots(ncols=2, figsize=(16,5))\n",
    "# plot_delaunay(delaunay_gard_free,ax=axs[0],show=False)\n",
    "plot_graph(G_quad,pos_quad,ax=axs[0],show=False, title='Quadrant criteria')\n",
    "plot_graph(G_dist,pos_dist,ax=axs[1],show=False, title='Distance criteria')\n",
    "fig.suptitle(\"Comparison of the Quadrant and Distance cirteria\", fontsize=18, va='center')\n",
    "plt.show()"
   ]
  },
  {
   "cell_type": "markdown",
   "metadata": {},
   "source": [
    "### Comparison of the results"
   ]
  },
  {
   "cell_type": "code",
   "execution_count": null,
   "metadata": {},
   "outputs": [],
   "source": [
    "distance_criteria(G,pos)"
   ]
  },
  {
   "cell_type": "code",
   "execution_count": null,
   "metadata": {},
   "outputs": [],
   "source": [
    "quadrant_criteria(G,pos)"
   ]
  },
  {
   "cell_type": "code",
   "execution_count": null,
   "metadata": {},
   "outputs": [],
   "source": [
    "fig, axs = plt.subplots(ncols=2, figsize=(16,5))\n",
    "plot_delaunay(delaunay_gard_free,ax=axs[0],show=False)\n",
    "plot_graph(G,pos,ax=axs[1],show=False,title=\"Delaunay after reduction\")\n",
    "fig.suptitle(\"Comparison of the Delaunay Triangulation and its reduction of edges\", fontsize=18, va='center')\n",
    "plt.show()"
   ]
  },
  {
   "cell_type": "markdown",
   "metadata": {},
   "source": [
    "## Big Delaunay on France\n",
    "Only Free Mobile"
   ]
  },
  {
   "cell_type": "code",
   "execution_count": null,
   "metadata": {},
   "outputs": [],
   "source": [
    "# Selecting the provider : Free Mobile\n",
    "df_free = df.loc[df['nom_op'] == \"Free Mobile\"]\n",
    "df_free = df_free.drop(columns=['nom_op'])\n",
    "df_free.head()"
   ]
  },
  {
   "cell_type": "code",
   "execution_count": null,
   "metadata": {},
   "outputs": [],
   "source": [
    "# Creation of points couples for Delaunay\n",
    "df_free_points = np.array(df_free[['longitude', 'latitude']])"
   ]
  },
  {
   "cell_type": "code",
   "execution_count": null,
   "metadata": {},
   "outputs": [],
   "source": [
    "delaunay_free = Delaunay(df_free_points)"
   ]
  },
  {
   "cell_type": "code",
   "execution_count": null,
   "metadata": {},
   "outputs": [],
   "source": [
    "plot_delaunay(delaunay_free)"
   ]
  },
  {
   "cell_type": "code",
   "execution_count": null,
   "metadata": {},
   "outputs": [],
   "source": [
    "G_france, pos_france = delaunay_to_graph(delaunay_free)"
   ]
  },
  {
   "cell_type": "code",
   "execution_count": null,
   "metadata": {},
   "outputs": [],
   "source": [
    "distance_criteria(G_france,pos_france)"
   ]
  },
  {
   "cell_type": "code",
   "execution_count": null,
   "metadata": {},
   "outputs": [],
   "source": [
    "quadrant_criteria(G_france,pos_france)"
   ]
  },
  {
   "cell_type": "code",
   "execution_count": null,
   "metadata": {},
   "outputs": [],
   "source": [
    "plot_graph(G_france,pos_france)"
   ]
  }
 ],
 "metadata": {
  "kernelspec": {
   "display_name": "Python 3",
   "language": "python",
   "name": "python3"
  },
  "language_info": {
   "codemirror_mode": {
    "name": "ipython",
    "version": 3
   },
   "file_extension": ".py",
   "mimetype": "text/x-python",
   "name": "python",
   "nbconvert_exporter": "python",
   "pygments_lexer": "ipython3",
   "version": "3.10.12"
  }
 },
 "nbformat": 4,
 "nbformat_minor": 2
}
